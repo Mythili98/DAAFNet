{
 "cells": [
  {
   "cell_type": "code",
   "execution_count": 1,
   "id": "752c1c5b",
   "metadata": {},
   "outputs": [],
   "source": [
    "import torch\n",
    "import torch.nn as nn\n",
    "import torch.optim as optim\n",
    "import numpy as np\n",
    "import matplotlib.pyplot as plt"
   ]
  },
  {
   "cell_type": "code",
   "execution_count": 2,
   "id": "a5bee704",
   "metadata": {},
   "outputs": [],
   "source": [
    "class ResidualBlock(nn.Module):\n",
    "    def __init__(self, in_channels, out_channels, kernel_size):\n",
    "        super(ResidualBlock, self).__init__()\n",
    "        self.bn1 = nn.BatchNorm2d(in_channels)\n",
    "        self.activation1 = nn.ReLU()\n",
    "        self.conv1 = nn.Conv2d(in_channels, out_channels, kernel_size, stride= 1, padding= 2)\n",
    "        self.bn2 = nn.BatchNorm2d(out_channels)\n",
    "        self.activation2 = nn.ReLU()\n",
    "        self.conv2 = nn.Conv2d(out_channels, out_channels, kernel_size, stride= 1, padding= 2)\n",
    "    \n",
    "    def forward(self,x):\n",
    "        residual  = torch.clone(x)\n",
    "        x = self.bn1(x)\n",
    "        x = self.activation1(x)\n",
    "        x = self.conv1(x)\n",
    "        x = self.conv2(self.activation2(self.bn2(x)))\n",
    "        residual = residual.unsqueeze(0)\n",
    "        residual = nn.functional.interpolate(residual, size = [x.shape[1], x.shape[2], x.shape[3]])\n",
    "        residual = residual.squeeze(0)\n",
    "        x += residual\n",
    "        return x\n",
    "     \n",
    "class ModelSubDep(nn.Module):\n",
    "\n",
    "    def __init__(self):\n",
    "        super(ModelSubDep, self).__init__()\n",
    "        self.conv1 = nn.Conv2d(in_channels = 5, out_channels = 62, kernel_size= 3, stride= 1, padding= 2)\n",
    "        self.resblock1 = ResidualBlock(62,62,5)\n",
    "        self.resblock2 = ResidualBlock(62,124,5)\n",
    "        self.resblock3 = ResidualBlock(124,248,5)\n",
    "        self.avgpool = nn.AdaptiveAvgPool2d((30,30))\n",
    "        self.linear1 = nn.Linear(30*30*248, 1024)\n",
    "        self.drop1 = nn.Dropout(0.2)\n",
    "        self.linear2 = nn.Linear(1024, 512)\n",
    "        self.drop2 = nn.Dropout(0.2)\n",
    "        self.linear3 = nn.Linear(512, 2)\n",
    "        self.softmax = nn.Softmax(dim = 1)\n",
    "\n",
    "    def forward(self, x):\n",
    "        x = self.conv1(x)\n",
    "        x = self.resblock1(x)\n",
    "        x = self.resblock2(x)\n",
    "        x = self.resblock3(x)\n",
    "        x = self.avgpool(x)\n",
    "        F = nn.Flatten()\n",
    "        x = F(x)\n",
    "        x = self.linear1(x)\n",
    "        x = self.drop1(x)\n",
    "        x = self.linear2(x)\n",
    "        x = self.drop2(x)\n",
    "        x = self.linear3(x)\n",
    "        x = self.softmax(x)\n",
    "        return x"
   ]
  },
  {
   "cell_type": "code",
   "execution_count": 3,
   "id": "e4768281",
   "metadata": {},
   "outputs": [],
   "source": [
    "import scipy\n",
    "from torch.utils.data import Dataset, DataLoader\n",
    "from tqdm import tqdm\n",
    "import pandas as pd\n",
    "from sklearn.model_selection import StratifiedKFold as skf\n",
    "\n",
    "class Dataset(Dataset):\n",
    "    def __init__(self, data, info):\n",
    "        #data loading\n",
    "        self.x = data\n",
    "        self.y = info\n",
    "        self.n_samples = data.shape[0]\n",
    "\n",
    "\n",
    "    def __getitem__(self,index):\n",
    "        t1 = self.x[index]\n",
    "        t2 = self.y[index]\n",
    "        t1 = torch.tensor(t1)\n",
    "        t1 = t1.permute((2,0,1))\n",
    "        t2 = torch.tensor(t2)\n",
    "        return (t1,t2)\n",
    "    \n",
    "    def __len__(self):\n",
    "        return self.n_samples\n",
    "    \n",
    "data = scipy.io.loadmat('/home/desktop/Desktop/22104412_Docs/EEG-COGMusic/DA-AFNet/datasets/SEED/SEED_5_3.mat')"
   ]
  },
  {
   "cell_type": "code",
   "execution_count": 4,
   "id": "1c48acee",
   "metadata": {},
   "outputs": [
    {
     "data": {
      "text/plain": [
       "dict_keys(['__header__', '__version__', '__globals__', 'coh', 'pli', 'psd', 'labels_kfold', 'valence', 'EEGNet', 'ni'])"
      ]
     },
     "execution_count": 4,
     "metadata": {},
     "output_type": "execute_result"
    }
   ],
   "source": [
    "data.keys()"
   ]
  },
  {
   "cell_type": "code",
   "execution_count": 5,
   "id": "57d85cd6",
   "metadata": {},
   "outputs": [],
   "source": [
    "x_c=data['coh']\n",
    "x_p = data['pli']\n",
    "x_d = data['psd']\n",
    "labels_skf = data['labels_kfold']\n",
    "labels_skf = labels_skf.transpose()\n",
    "labels = data['valence']\n",
    "ni = data['ni'][0]"
   ]
  },
  {
   "cell_type": "code",
   "execution_count": 6,
   "id": "008414df",
   "metadata": {},
   "outputs": [],
   "source": [
    "# dt = data['data']\n",
    "# labels_skf = data['labels_kfold']\n",
    "# labels = data['valence']"
   ]
  },
  {
   "cell_type": "code",
   "execution_count": 7,
   "id": "2d1a21a6",
   "metadata": {},
   "outputs": [
    {
     "data": {
      "text/plain": [
       "(15, 1)"
      ]
     },
     "execution_count": 7,
     "metadata": {},
     "output_type": "execute_result"
    }
   ],
   "source": [
    "labels_skf.shape"
   ]
  },
  {
   "cell_type": "code",
   "execution_count": 8,
   "id": "a7b68bd1",
   "metadata": {},
   "outputs": [
    {
     "data": {
      "text/plain": [
       "(15, 235, 62, 62, 5)"
      ]
     },
     "execution_count": 8,
     "metadata": {},
     "output_type": "execute_result"
    }
   ],
   "source": [
    "x_c.shape"
   ]
  },
  {
   "cell_type": "code",
   "execution_count": 9,
   "id": "698492bc",
   "metadata": {},
   "outputs": [
    {
     "name": "stdout",
     "output_type": "stream",
     "text": [
      "Completed trial 0\n",
      "Completed trial 1\n",
      "Completed trial 2\n",
      "Completed trial 3\n",
      "Completed trial 4\n",
      "Completed trial 5\n",
      "Completed trial 6\n",
      "Completed trial 7\n",
      "Completed trial 8\n",
      "Completed trial 9\n",
      "Completed trial 10\n",
      "Completed trial 11\n",
      "Completed trial 12\n",
      "Completed trial 13\n",
      "Completed trial 14\n",
      "Completed trial 0\n",
      "Completed trial 1\n",
      "Completed trial 2\n",
      "Completed trial 3\n",
      "Completed trial 4\n",
      "Completed trial 5\n",
      "Completed trial 6\n",
      "Completed trial 7\n",
      "Completed trial 8\n",
      "Completed trial 9\n",
      "Completed trial 10\n",
      "Completed trial 11\n",
      "Completed trial 12\n",
      "Completed trial 13\n",
      "Completed trial 14\n"
     ]
    }
   ],
   "source": [
    "x_n = np.zeros((15, 235, 62, 62, 5))\n",
    "for trial in range(x_n.shape[0]):\n",
    "    for sample in range(x_n.shape[1]):\n",
    "        x_n[trial,sample,:,:,0] = x_c[trial,sample,:,:,0]+np.transpose(x_c[trial,sample,:,:,0])\n",
    "        x_n[trial,sample,:,:,1] = x_c[trial,sample,:,:,1]+np.transpose(x_c[trial,sample,:,:,1])\n",
    "        x_n[trial,sample,:,:,2] = x_c[trial,sample,:,:,2]+np.transpose(x_c[trial,sample,:,:,2])\n",
    "        x_n[trial,sample,:,:,3] = x_c[trial,sample,:,:,3]+np.transpose(x_c[trial,sample,:,:,3])\n",
    "        x_n[trial,sample,:,:,4] = x_c[trial,sample,:,:,4]+np.transpose(x_c[trial,sample,:,:,4])\n",
    "    print(f'Completed trial {trial}')\n",
    "\n",
    "for trial in range(x_n.shape[0]):\n",
    "    for sample in range(x_n.shape[1]):\n",
    "        for i in range(62):\n",
    "            x_n[trial,sample,i,i,:] = x_d[trial,sample,i,:]\n",
    "    print(f'Completed trial {trial}')"
   ]
  },
  {
   "cell_type": "code",
   "execution_count": 10,
   "id": "2571d2e0",
   "metadata": {},
   "outputs": [
    {
     "data": {
      "text/plain": [
       "(10, 1)"
      ]
     },
     "execution_count": 10,
     "metadata": {},
     "output_type": "execute_result"
    }
   ],
   "source": [
    "labels_skf = labels_skf[ni]\n",
    "labels_skf.shape"
   ]
  },
  {
   "cell_type": "code",
   "execution_count": 11,
   "id": "24bb9881",
   "metadata": {},
   "outputs": [
    {
     "data": {
      "text/plain": [
       "array([[ 1],\n",
       "       [-1],\n",
       "       [-1],\n",
       "       [ 1],\n",
       "       [-1],\n",
       "       [ 1],\n",
       "       [ 1],\n",
       "       [-1],\n",
       "       [ 1],\n",
       "       [-1]], dtype=int16)"
      ]
     },
     "execution_count": 11,
     "metadata": {},
     "output_type": "execute_result"
    }
   ],
   "source": [
    "labels_skf"
   ]
  },
  {
   "cell_type": "code",
   "execution_count": 12,
   "id": "04799948",
   "metadata": {},
   "outputs": [],
   "source": [
    "v = labels_skf[:,0]\n",
    "v[np.where(v == -1)[0]] = 0\n",
    "l_skf = v[:,np.newaxis]"
   ]
  },
  {
   "cell_type": "code",
   "execution_count": 13,
   "id": "855b8d56",
   "metadata": {},
   "outputs": [],
   "source": [
    "dt = x_n[ni]\n",
    "labels = labels[ni]\n",
    "trainLoss={}\n",
    "valLoss = {}\n",
    "trainAcc = {}\n",
    "valAcc = {}"
   ]
  },
  {
   "cell_type": "code",
   "execution_count": 14,
   "id": "08a64241",
   "metadata": {},
   "outputs": [
    {
     "data": {
      "text/plain": [
       "(10, 235, 62, 62, 5)"
      ]
     },
     "execution_count": 14,
     "metadata": {},
     "output_type": "execute_result"
    }
   ],
   "source": [
    "dt.shape"
   ]
  },
  {
   "cell_type": "code",
   "execution_count": 15,
   "id": "6e29da0c",
   "metadata": {},
   "outputs": [
    {
     "data": {
      "text/plain": [
       "(10, 235, 2)"
      ]
     },
     "execution_count": 15,
     "metadata": {},
     "output_type": "execute_result"
    }
   ],
   "source": [
    "labels.shape"
   ]
  },
  {
   "cell_type": "code",
   "execution_count": 16,
   "id": "9a5c0ca6",
   "metadata": {},
   "outputs": [
    {
     "data": {
      "text/plain": [
       "(10, 1)"
      ]
     },
     "execution_count": 16,
     "metadata": {},
     "output_type": "execute_result"
    }
   ],
   "source": [
    "labels_skf.shape"
   ]
  },
  {
   "cell_type": "code",
   "execution_count": 17,
   "id": "f4554808",
   "metadata": {},
   "outputs": [
    {
     "data": {
      "text/plain": [
       "(10, 1)"
      ]
     },
     "execution_count": 17,
     "metadata": {},
     "output_type": "execute_result"
    }
   ],
   "source": [
    "l_skf.shape"
   ]
  },
  {
   "cell_type": "code",
   "execution_count": 18,
   "id": "5d429832",
   "metadata": {},
   "outputs": [
    {
     "data": {
      "text/plain": [
       "(10, 235, 62, 62, 5)"
      ]
     },
     "execution_count": 18,
     "metadata": {},
     "output_type": "execute_result"
    }
   ],
   "source": [
    "dt.shape"
   ]
  },
  {
   "cell_type": "code",
   "execution_count": 19,
   "id": "5eaea6a7",
   "metadata": {},
   "outputs": [
    {
     "name": "stdout",
     "output_type": "stream",
     "text": [
      "[2 3 4 5 6 7 8 9] [0 1]\n",
      "[0 1 4 5 6 7 8 9] [2 3]\n",
      "[0 1 2 3 6 7 8 9] [4 5]\n",
      "[0 1 2 3 4 5 8 9] [6 7]\n",
      "[0 1 2 3 4 5 6 7] [8 9]\n"
     ]
    }
   ],
   "source": [
    "kf = skf(n_splits = 5)\n",
    "l = []\n",
    "ind = []\n",
    "for k,(train_index,test_index) in enumerate(kf.split(dt,l_skf[:,0])):\n",
    "    print(train_index,test_index)\n",
    "    labelsTr, labelsV = labels[train_index], labels[test_index]   \n",
    "    l.append({'train': labelsTr,\n",
    "            'valid': labelsV})\n",
    "    ind.append([train_index,test_index])"
   ]
  },
  {
   "cell_type": "code",
   "execution_count": 20,
   "id": "3e72d5ef",
   "metadata": {},
   "outputs": [
    {
     "name": "stdout",
     "output_type": "stream",
     "text": [
      "Fold 0 completed\n",
      "Fold 1 completed\n",
      "Fold 2 completed\n",
      "Fold 3 completed\n",
      "Fold 4 completed\n"
     ]
    }
   ],
   "source": [
    "counts = []\n",
    "for fold in range(len(l)):\n",
    "    count_hv_t = 0\n",
    "    count_lv_t = 0\n",
    "    count_hv_v = 0\n",
    "    count_lv_v = 0\n",
    "    l_fold = l[fold]\n",
    "    for label in l_fold['train']:\n",
    "        if (label == [0.,1.]).all():\n",
    "            count_hv_t += 1\n",
    "        else:\n",
    "            count_lv_t +=1\n",
    "    for label in l_fold['valid']:\n",
    "        if (label == [0.,1.]).all():\n",
    "            count_hv_v += 1\n",
    "        else:\n",
    "            count_lv_v +=1\n",
    "    counts.append([count_hv_t,count_lv_t,count_hv_v,count_lv_v])    \n",
    "    print(f'Fold {fold} completed')\n",
    "\n",
    "\n"
   ]
  },
  {
   "cell_type": "code",
   "execution_count": 21,
   "id": "3690c3e2",
   "metadata": {},
   "outputs": [],
   "source": [
    "df = pd.DataFrame(data=counts, columns= ['hv_t','lv_t','hv_v','lv_v'])"
   ]
  },
  {
   "cell_type": "code",
   "execution_count": 22,
   "id": "e5986ea1",
   "metadata": {},
   "outputs": [
    {
     "name": "stdout",
     "output_type": "stream",
     "text": [
      "   hv_t  lv_t  hv_v  lv_v\n",
      "0     4     4     1     1\n",
      "1     4     4     1     1\n",
      "2     4     4     1     1\n",
      "3     4     4     1     1\n",
      "4     4     4     1     1\n"
     ]
    }
   ],
   "source": [
    "print(df)"
   ]
  },
  {
   "cell_type": "code",
   "execution_count": 23,
   "id": "55325331",
   "metadata": {},
   "outputs": [
    {
     "data": {
      "text/plain": [
       "<Axes: >"
      ]
     },
     "execution_count": 23,
     "metadata": {},
     "output_type": "execute_result"
    },
    {
     "data": {
      "image/png": "[encoded data removed]",
      "text/plain": [
       "<Figure size 640x480 with 1 Axes>"
      ]
     },
     "metadata": {},
     "output_type": "display_data"
    }
   ],
   "source": [
    "df.plot.barh()"
   ]
  },
  {
   "cell_type": "code",
   "execution_count": 24,
   "id": "839a727f",
   "metadata": {},
   "outputs": [
    {
     "data": {
      "text/plain": [
       "array([[1],\n",
       "       [0],\n",
       "       [0],\n",
       "       [1],\n",
       "       [0],\n",
       "       [1],\n",
       "       [1],\n",
       "       [0],\n",
       "       [1],\n",
       "       [0]], dtype=int16)"
      ]
     },
     "execution_count": 24,
     "metadata": {},
     "output_type": "execute_result"
    }
   ],
   "source": [
    "l_skf"
   ]
  },
  {
   "cell_type": "code",
   "execution_count": 25,
   "id": "4dc3a82c",
   "metadata": {},
   "outputs": [
    {
     "data": {
      "text/plain": [
       "(10, 235, 62, 62, 5)"
      ]
     },
     "execution_count": 25,
     "metadata": {},
     "output_type": "execute_result"
    }
   ],
   "source": [
    "dt.shape"
   ]
  },
  {
   "cell_type": "code",
   "execution_count": 26,
   "id": "e2945609",
   "metadata": {},
   "outputs": [
    {
     "data": {
      "text/plain": [
       "(10, 235, 2)"
      ]
     },
     "execution_count": 26,
     "metadata": {},
     "output_type": "execute_result"
    }
   ],
   "source": [
    "labels.shape"
   ]
  },
  {
   "cell_type": "code",
   "execution_count": 27,
   "id": "ebb80921",
   "metadata": {},
   "outputs": [],
   "source": [
    "# import torch\n",
    "# import torch.nn as nn\n",
    "# import torch.nn.functional as F\n",
    "\n",
    "# class FocalLoss(nn.Module):\n",
    "#     def __init__(self, alpha, gamma):\n",
    "#         super(FocalLoss, self).__init__()\n",
    "#         self.alpha = alpha\n",
    "#         self.gamma = gamma\n",
    "\n",
    "#     def forward(self, inputs, targets):\n",
    "#         ce_loss = F.cross_entropy(inputs, targets, reduction='none')\n",
    "#         pt = torch.exp(-ce_loss)\n",
    "#         weights = [self.alpha[t] for t in targets]\n",
    "#         weights = torch.tensor(np.array(weights))\n",
    "#         weights = weights.to('cuda')\n",
    "#         loss = (weights* (1 - pt) ** self.gamma * ce_loss).mean()\n",
    "#         return loss"
   ]
  },
  {
   "cell_type": "code",
   "execution_count": 28,
   "id": "a1f1091f",
   "metadata": {},
   "outputs": [],
   "source": [
    "from focal_loss.focal_loss import FocalLoss"
   ]
  },
  {
   "cell_type": "code",
   "execution_count": 29,
   "id": "6ae27ca3",
   "metadata": {},
   "outputs": [
    {
     "name": "stdout",
     "output_type": "stream",
     "text": [
      "Fold 1 running\n"
     ]
    },
    {
     "name": "stderr",
     "output_type": "stream",
     "text": [
      "100%|██████████| 19/19 [00:15<00:00,  1.24batch/s, TrainAccuracy=59.1, loss=1.47, totalLoss=1.49] \n",
      "100%|██████████| 5/5 [00:01<00:00,  3.49batch/s, ValAccuracy=85.8, lossv=1.35, valLoss=1.35] \n"
     ]
    },
    {
     "name": "stdout",
     "output_type": "stream",
     "text": [
      "Epoch [0], Loss_t: 1.4944,Loss_v: 1.3498, train_acc:59.0658, val_acc:85.8000\n"
     ]
    },
    {
     "name": "stderr",
     "output_type": "stream",
     "text": [
      "100%|██████████| 19/19 [00:14<00:00,  1.31batch/s, TrainAccuracy=73.2, loss=1.36, totalLoss=1.39] \n",
      "100%|██████████| 5/5 [00:01<00:00,  3.65batch/s, ValAccuracy=91, lossv=1.18, valLoss=1.17]   \n"
     ]
    },
    {
     "name": "stdout",
     "output_type": "stream",
     "text": [
      "Epoch [1], Loss_t: 1.3928,Loss_v: 1.1681, train_acc:73.2368, val_acc:91.0000\n"
     ]
    },
    {
     "name": "stderr",
     "output_type": "stream",
     "text": [
      "100%|██████████| 19/19 [00:13<00:00,  1.40batch/s, TrainAccuracy=77.3, loss=1.27, totalLoss=1.32] \n",
      "100%|██████████| 5/5 [00:01<00:00,  3.64batch/s, ValAccuracy=96.7, lossv=0.987, valLoss=0.994]\n"
     ]
    },
    {
     "name": "stdout",
     "output_type": "stream",
     "text": [
      "Epoch [2], Loss_t: 1.3168,Loss_v: 0.9942, train_acc:77.2895, val_acc:96.7143\n"
     ]
    },
    {
     "name": "stderr",
     "output_type": "stream",
     "text": [
      "100%|██████████| 19/19 [00:13<00:00,  1.40batch/s, TrainAccuracy=78.3, loss=1.26, totalLoss=1.26] \n",
      "100%|██████████| 5/5 [00:01<00:00,  3.63batch/s, ValAccuracy=86.3, lossv=0.958, valLoss=0.975]\n"
     ]
    },
    {
     "name": "stdout",
     "output_type": "stream",
     "text": [
      "Epoch [3], Loss_t: 1.2590,Loss_v: 0.9751, train_acc:78.3421, val_acc:86.3143\n"
     ]
    },
    {
     "name": "stderr",
     "output_type": "stream",
     "text": [
      "100%|██████████| 19/19 [00:13<00:00,  1.40batch/s, TrainAccuracy=80.1, loss=1.23, totalLoss=1.22] \n",
      "100%|██████████| 5/5 [00:01<00:00,  3.68batch/s, ValAccuracy=94.3, lossv=0.91, valLoss=0.889] \n"
     ]
    },
    {
     "name": "stdout",
     "output_type": "stream",
     "text": [
      "Epoch [4], Loss_t: 1.2174,Loss_v: 0.8890, train_acc:80.0921, val_acc:94.2571\n"
     ]
    },
    {
     "name": "stderr",
     "output_type": "stream",
     "text": [
      "100%|██████████| 19/19 [00:13<00:00,  1.39batch/s, TrainAccuracy=81.1, loss=1.22, totalLoss=1.19] \n",
      "100%|██████████| 5/5 [00:01<00:00,  3.61batch/s, ValAccuracy=96.2, lossv=0.868, valLoss=0.852]\n"
     ]
    },
    {
     "name": "stdout",
     "output_type": "stream",
     "text": [
      "Epoch [5], Loss_t: 1.1861,Loss_v: 0.8521, train_acc:81.0789, val_acc:96.1714\n"
     ]
    },
    {
     "name": "stderr",
     "output_type": "stream",
     "text": [
      "100%|██████████| 19/19 [00:13<00:00,  1.39batch/s, TrainAccuracy=82.4, loss=1.14, totalLoss=1.15] \n",
      "100%|██████████| 5/5 [00:01<00:00,  3.60batch/s, ValAccuracy=93.3, lossv=0.854, valLoss=0.867]\n"
     ]
    },
    {
     "name": "stdout",
     "output_type": "stream",
     "text": [
      "Epoch [6], Loss_t: 1.1534,Loss_v: 0.8670, train_acc:82.4211, val_acc:93.2571\n"
     ]
    },
    {
     "name": "stderr",
     "output_type": "stream",
     "text": [
      "100%|██████████| 19/19 [00:13<00:00,  1.40batch/s, TrainAccuracy=83.1, loss=1.09, totalLoss=1.13] \n",
      "100%|██████████| 5/5 [00:01<00:00,  3.65batch/s, ValAccuracy=90.1, lossv=0.905, valLoss=0.878]\n"
     ]
    },
    {
     "name": "stdout",
     "output_type": "stream",
     "text": [
      "Epoch [7], Loss_t: 1.1320,Loss_v: 0.8779, train_acc:83.1447, val_acc:90.1143\n"
     ]
    },
    {
     "name": "stderr",
     "output_type": "stream",
     "text": [
      "100%|██████████| 19/19 [00:13<00:00,  1.40batch/s, TrainAccuracy=84, loss=1.11, totalLoss=1.12]   \n",
      "100%|██████████| 5/5 [00:01<00:00,  3.64batch/s, ValAccuracy=97.5, lossv=0.77, valLoss=0.791] \n"
     ]
    },
    {
     "name": "stdout",
     "output_type": "stream",
     "text": [
      "Epoch [8], Loss_t: 1.1203,Loss_v: 0.7912, train_acc:83.9868, val_acc:97.5143\n"
     ]
    },
    {
     "name": "stderr",
     "output_type": "stream",
     "text": [
      "100%|██████████| 19/19 [00:13<00:00,  1.40batch/s, TrainAccuracy=86.1, loss=1.1, totalLoss=1.09]  \n",
      "100%|██████████| 5/5 [00:01<00:00,  3.65batch/s, ValAccuracy=86.3, lossv=0.884, valLoss=0.907]\n"
     ]
    },
    {
     "name": "stdout",
     "output_type": "stream",
     "text": [
      "Epoch [9], Loss_t: 1.0898,Loss_v: 0.9065, train_acc:86.0789, val_acc:86.3143\n"
     ]
    },
    {
     "name": "stderr",
     "output_type": "stream",
     "text": [
      "100%|██████████| 19/19 [00:13<00:00,  1.41batch/s, TrainAccuracy=86.5, loss=1.07, totalLoss=1.07] \n",
      "100%|██████████| 5/5 [00:01<00:00,  3.66batch/s, ValAccuracy=97.3, lossv=0.788, valLoss=0.771]\n"
     ]
    },
    {
     "name": "stdout",
     "output_type": "stream",
     "text": [
      "Epoch [10], Loss_t: 1.0734,Loss_v: 0.7705, train_acc:86.5263, val_acc:97.3143\n"
     ]
    },
    {
     "name": "stderr",
     "output_type": "stream",
     "text": [
      "100%|██████████| 19/19 [00:13<00:00,  1.40batch/s, TrainAccuracy=87.4, loss=1.03, totalLoss=1.06] \n",
      "100%|██████████| 5/5 [00:01<00:00,  3.64batch/s, ValAccuracy=89.6, lossv=0.826, valLoss=0.867]\n"
     ]
    },
    {
     "name": "stdout",
     "output_type": "stream",
     "text": [
      "Epoch [11], Loss_t: 1.0599,Loss_v: 0.8670, train_acc:87.4342, val_acc:89.5714\n"
     ]
    },
    {
     "name": "stderr",
     "output_type": "stream",
     "text": [
      "100%|██████████| 19/19 [00:13<00:00,  1.38batch/s, TrainAccuracy=87.3, loss=1.11, totalLoss=1.05] \n",
      "100%|██████████| 5/5 [00:01<00:00,  3.63batch/s, ValAccuracy=88, lossv=0.882, valLoss=0.887]\n"
     ]
    },
    {
     "name": "stdout",
     "output_type": "stream",
     "text": [
      "Epoch [12], Loss_t: 1.0494,Loss_v: 0.8871, train_acc:87.3026, val_acc:88.0000\n"
     ]
    },
    {
     "name": "stderr",
     "output_type": "stream",
     "text": [
      "100%|██████████| 19/19 [00:14<00:00,  1.36batch/s, TrainAccuracy=88.9, loss=1.04, totalLoss=1.03]  \n",
      "100%|██████████| 5/5 [00:01<00:00,  3.52batch/s, ValAccuracy=97.5, lossv=0.745, valLoss=0.75] \n"
     ]
    },
    {
     "name": "stdout",
     "output_type": "stream",
     "text": [
      "Epoch [13], Loss_t: 1.0296,Loss_v: 0.7497, train_acc:88.8553, val_acc:97.5143\n"
     ]
    },
    {
     "name": "stderr",
     "output_type": "stream",
     "text": [
      "100%|██████████| 19/19 [00:14<00:00,  1.34batch/s, TrainAccuracy=88.9, loss=1.07, totalLoss=1.02]  \n",
      "100%|██████████| 5/5 [00:01<00:00,  3.61batch/s, ValAccuracy=92.5, lossv=0.874, valLoss=0.836]\n"
     ]
    },
    {
     "name": "stdout",
     "output_type": "stream",
     "text": [
      "Epoch [14], Loss_t: 1.0238,Loss_v: 0.8356, train_acc:88.8684, val_acc:92.5143\n"
     ]
    },
    {
     "name": "stderr",
     "output_type": "stream",
     "text": [
      "100%|██████████| 19/19 [00:13<00:00,  1.38batch/s, TrainAccuracy=90, loss=0.979, totalLoss=1]      \n",
      "100%|██████████| 5/5 [00:01<00:00,  3.57batch/s, ValAccuracy=92.6, lossv=0.831, valLoss=0.836]\n"
     ]
    },
    {
     "name": "stdout",
     "output_type": "stream",
     "text": [
      "Epoch [15], Loss_t: 1.0025,Loss_v: 0.8355, train_acc:90.0395, val_acc:92.5714\n"
     ]
    },
    {
     "name": "stderr",
     "output_type": "stream",
     "text": [
      "100%|██████████| 19/19 [00:13<00:00,  1.36batch/s, TrainAccuracy=90.2, loss=1.01, totalLoss=0.993] \n",
      "100%|██████████| 5/5 [00:01<00:00,  3.53batch/s, ValAccuracy=89.9, lossv=0.978, valLoss=0.864]\n"
     ]
    },
    {
     "name": "stdout",
     "output_type": "stream",
     "text": [
      "Epoch [16], Loss_t: 0.9930,Loss_v: 0.8636, train_acc:90.1842, val_acc:89.8857\n"
     ]
    },
    {
     "name": "stderr",
     "output_type": "stream",
     "text": [
      "100%|██████████| 19/19 [00:13<00:00,  1.36batch/s, TrainAccuracy=91.2, loss=0.986, totalLoss=0.983]\n",
      "100%|██████████| 5/5 [00:01<00:00,  3.54batch/s, ValAccuracy=91.8, lossv=0.795, valLoss=0.846]\n"
     ]
    },
    {
     "name": "stdout",
     "output_type": "stream",
     "text": [
      "Epoch [17], Loss_t: 0.9827,Loss_v: 0.8458, train_acc:91.1974, val_acc:91.8286\n"
     ]
    },
    {
     "name": "stderr",
     "output_type": "stream",
     "text": [
      "100%|██████████| 19/19 [00:13<00:00,  1.36batch/s, TrainAccuracy=91.4, loss=0.947, totalLoss=0.975]\n",
      "100%|██████████| 5/5 [00:01<00:00,  3.54batch/s, ValAccuracy=96.2, lossv=0.777, valLoss=0.76] \n"
     ]
    },
    {
     "name": "stdout",
     "output_type": "stream",
     "text": [
      "Epoch [18], Loss_t: 0.9748,Loss_v: 0.7604, train_acc:91.4079, val_acc:96.1714\n"
     ]
    },
    {
     "name": "stderr",
     "output_type": "stream",
     "text": [
      "100%|██████████| 19/19 [00:13<00:00,  1.37batch/s, TrainAccuracy=91.9, loss=0.924, totalLoss=0.965]\n",
      "100%|██████████| 5/5 [00:01<00:00,  3.59batch/s, ValAccuracy=91.3, lossv=0.927, valLoss=0.847]\n"
     ]
    },
    {
     "name": "stdout",
     "output_type": "stream",
     "text": [
      "Epoch [19], Loss_t: 0.9649,Loss_v: 0.8473, train_acc:91.9079, val_acc:91.2571\n"
     ]
    },
    {
     "name": "stderr",
     "output_type": "stream",
     "text": [
      "100%|██████████| 19/19 [00:13<00:00,  1.37batch/s, TrainAccuracy=92.2, loss=0.946, totalLoss=0.958]\n",
      "100%|██████████| 5/5 [00:01<00:00,  3.58batch/s, ValAccuracy=96.2, lossv=0.739, valLoss=0.754]\n"
     ]
    },
    {
     "name": "stdout",
     "output_type": "stream",
     "text": [
      "Epoch [20], Loss_t: 0.9580,Loss_v: 0.7537, train_acc:92.1842, val_acc:96.2286\n"
     ]
    },
    {
     "name": "stderr",
     "output_type": "stream",
     "text": [
      "100%|██████████| 19/19 [00:13<00:00,  1.37batch/s, TrainAccuracy=92.3, loss=1.04, totalLoss=0.95]  \n",
      "100%|██████████| 5/5 [00:01<00:00,  3.46batch/s, ValAccuracy=95, lossv=0.735, valLoss=0.774]  \n"
     ]
    },
    {
     "name": "stdout",
     "output_type": "stream",
     "text": [
      "Epoch [21], Loss_t: 0.9500,Loss_v: 0.7741, train_acc:92.2895, val_acc:95.0286\n"
     ]
    },
    {
     "name": "stderr",
     "output_type": "stream",
     "text": [
      "100%|██████████| 19/19 [00:13<00:00,  1.36batch/s, TrainAccuracy=92.8, loss=0.947, totalLoss=0.945]\n",
      "100%|██████████| 5/5 [00:01<00:00,  3.56batch/s, ValAccuracy=89.7, lossv=0.917, valLoss=0.859]\n"
     ]
    },
    {
     "name": "stdout",
     "output_type": "stream",
     "text": [
      "Epoch [22], Loss_t: 0.9446,Loss_v: 0.8595, train_acc:92.7632, val_acc:89.6571\n"
     ]
    },
    {
     "name": "stderr",
     "output_type": "stream",
     "text": [
      "100%|██████████| 19/19 [00:13<00:00,  1.38batch/s, TrainAccuracy=92.7, loss=0.968, totalLoss=0.939]\n",
      "100%|██████████| 5/5 [00:01<00:00,  3.67batch/s, ValAccuracy=97.4, lossv=0.716, valLoss=0.714]\n"
     ]
    },
    {
     "name": "stdout",
     "output_type": "stream",
     "text": [
      "Epoch [23], Loss_t: 0.9391,Loss_v: 0.7137, train_acc:92.7368, val_acc:97.4286\n"
     ]
    },
    {
     "name": "stderr",
     "output_type": "stream",
     "text": [
      "100%|██████████| 19/19 [00:13<00:00,  1.40batch/s, TrainAccuracy=93.4, loss=0.93, totalLoss=0.933] \n",
      "100%|██████████| 5/5 [00:01<00:00,  3.63batch/s, ValAccuracy=91.4, lossv=0.838, valLoss=0.834]\n"
     ]
    },
    {
     "name": "stdout",
     "output_type": "stream",
     "text": [
      "Epoch [24], Loss_t: 0.9328,Loss_v: 0.8343, train_acc:93.3553, val_acc:91.4000\n"
     ]
    },
    {
     "name": "stderr",
     "output_type": "stream",
     "text": [
      "100%|██████████| 19/19 [00:13<00:00,  1.39batch/s, TrainAccuracy=93.9, loss=0.917, totalLoss=0.921]\n",
      "100%|██████████| 5/5 [00:01<00:00,  3.61batch/s, ValAccuracy=93.3, lossv=0.802, valLoss=0.804]\n"
     ]
    },
    {
     "name": "stdout",
     "output_type": "stream",
     "text": [
      "Epoch [25], Loss_t: 0.9212,Loss_v: 0.8039, train_acc:93.8947, val_acc:93.2571\n"
     ]
    },
    {
     "name": "stderr",
     "output_type": "stream",
     "text": [
      "100%|██████████| 19/19 [00:13<00:00,  1.37batch/s, TrainAccuracy=94.5, loss=0.892, totalLoss=0.913]\n",
      "100%|██████████| 5/5 [00:01<00:00,  3.57batch/s, ValAccuracy=93.6, lossv=0.773, valLoss=0.786]\n"
     ]
    },
    {
     "name": "stdout",
     "output_type": "stream",
     "text": [
      "Epoch [26], Loss_t: 0.9131,Loss_v: 0.7857, train_acc:94.5263, val_acc:93.6286\n"
     ]
    },
    {
     "name": "stderr",
     "output_type": "stream",
     "text": [
      "100%|██████████| 19/19 [00:13<00:00,  1.37batch/s, TrainAccuracy=94.1, loss=0.923, totalLoss=0.913]\n",
      "100%|██████████| 5/5 [00:01<00:00,  3.57batch/s, ValAccuracy=95.2, lossv=0.834, valLoss=0.746]\n"
     ]
    },
    {
     "name": "stdout",
     "output_type": "stream",
     "text": [
      "Epoch [27], Loss_t: 0.9133,Loss_v: 0.7460, train_acc:94.1447, val_acc:95.2286\n"
     ]
    },
    {
     "name": "stderr",
     "output_type": "stream",
     "text": [
      "100%|██████████| 19/19 [00:13<00:00,  1.37batch/s, TrainAccuracy=95.3, loss=0.941, totalLoss=0.902]\n",
      "100%|██████████| 5/5 [00:01<00:00,  3.56batch/s, ValAccuracy=95.7, lossv=0.794, valLoss=0.744]\n"
     ]
    },
    {
     "name": "stdout",
     "output_type": "stream",
     "text": [
      "Epoch [28], Loss_t: 0.9022,Loss_v: 0.7436, train_acc:95.2895, val_acc:95.6571\n"
     ]
    },
    {
     "name": "stderr",
     "output_type": "stream",
     "text": [
      "100%|██████████| 19/19 [00:13<00:00,  1.37batch/s, TrainAccuracy=95.2, loss=0.862, totalLoss=0.896]\n",
      "100%|██████████| 5/5 [00:01<00:00,  3.55batch/s, ValAccuracy=94.8, lossv=0.727, valLoss=0.76] \n"
     ]
    },
    {
     "name": "stdout",
     "output_type": "stream",
     "text": [
      "Epoch [29], Loss_t: 0.8961,Loss_v: 0.7602, train_acc:95.1711, val_acc:94.8286\n"
     ]
    },
    {
     "name": "stderr",
     "output_type": "stream",
     "text": [
      "100%|██████████| 19/19 [00:13<00:00,  1.36batch/s, TrainAccuracy=95.4, loss=0.893, totalLoss=0.893]\n",
      "100%|██████████| 5/5 [00:01<00:00,  3.51batch/s, ValAccuracy=92.4, lossv=0.889, valLoss=0.808]\n"
     ]
    },
    {
     "name": "stdout",
     "output_type": "stream",
     "text": [
      "Epoch [30], Loss_t: 0.8931,Loss_v: 0.8084, train_acc:95.4342, val_acc:92.4286\n"
     ]
    },
    {
     "name": "stderr",
     "output_type": "stream",
     "text": [
      "100%|██████████| 19/19 [00:13<00:00,  1.36batch/s, TrainAccuracy=95, loss=0.933, totalLoss=0.893]  \n",
      "100%|██████████| 5/5 [00:01<00:00,  3.63batch/s, ValAccuracy=95.1, lossv=0.735, valLoss=0.745]\n"
     ]
    },
    {
     "name": "stdout",
     "output_type": "stream",
     "text": [
      "Epoch [31], Loss_t: 0.8930,Loss_v: 0.7455, train_acc:94.9737, val_acc:95.0571\n"
     ]
    },
    {
     "name": "stderr",
     "output_type": "stream",
     "text": [
      "100%|██████████| 19/19 [00:13<00:00,  1.38batch/s, TrainAccuracy=95.9, loss=0.853, totalLoss=0.881]\n",
      "100%|██████████| 5/5 [00:01<00:00,  3.45batch/s, ValAccuracy=92.9, lossv=0.803, valLoss=0.798]\n"
     ]
    },
    {
     "name": "stdout",
     "output_type": "stream",
     "text": [
      "Epoch [32], Loss_t: 0.8812,Loss_v: 0.7978, train_acc:95.8684, val_acc:92.8571\n"
     ]
    },
    {
     "name": "stderr",
     "output_type": "stream",
     "text": [
      "100%|██████████| 19/19 [00:14<00:00,  1.35batch/s, TrainAccuracy=96.4, loss=0.877, totalLoss=0.877]\n",
      "100%|██████████| 5/5 [00:01<00:00,  3.52batch/s, ValAccuracy=95.4, lossv=0.749, valLoss=0.75] \n"
     ]
    },
    {
     "name": "stdout",
     "output_type": "stream",
     "text": [
      "Epoch [33], Loss_t: 0.8773,Loss_v: 0.7505, train_acc:96.4474, val_acc:95.4286\n"
     ]
    },
    {
     "name": "stderr",
     "output_type": "stream",
     "text": [
      "100%|██████████| 19/19 [00:14<00:00,  1.34batch/s, TrainAccuracy=96.7, loss=0.843, totalLoss=0.871]\n",
      "100%|██████████| 5/5 [00:01<00:00,  3.46batch/s, ValAccuracy=93, lossv=0.806, valLoss=0.794]  \n"
     ]
    },
    {
     "name": "stdout",
     "output_type": "stream",
     "text": [
      "Epoch [34], Loss_t: 0.8711,Loss_v: 0.7935, train_acc:96.6711, val_acc:92.9714\n"
     ]
    },
    {
     "name": "stderr",
     "output_type": "stream",
     "text": [
      "100%|██████████| 19/19 [00:14<00:00,  1.34batch/s, TrainAccuracy=96.5, loss=0.906, totalLoss=0.867]\n",
      "100%|██████████| 5/5 [00:01<00:00,  3.50batch/s, ValAccuracy=95.4, lossv=0.771, valLoss=0.753]\n"
     ]
    },
    {
     "name": "stdout",
     "output_type": "stream",
     "text": [
      "Epoch [35], Loss_t: 0.8672,Loss_v: 0.7525, train_acc:96.4605, val_acc:95.3714\n"
     ]
    },
    {
     "name": "stderr",
     "output_type": "stream",
     "text": [
      "100%|██████████| 19/19 [00:13<00:00,  1.36batch/s, TrainAccuracy=96.7, loss=0.852, totalLoss=0.867]\n",
      "100%|██████████| 5/5 [00:01<00:00,  3.56batch/s, ValAccuracy=91.9, lossv=0.757, valLoss=0.804]\n"
     ]
    },
    {
     "name": "stdout",
     "output_type": "stream",
     "text": [
      "Epoch [36], Loss_t: 0.8666,Loss_v: 0.8042, train_acc:96.6579, val_acc:91.9429\n"
     ]
    },
    {
     "name": "stderr",
     "output_type": "stream",
     "text": [
      "100%|██████████| 19/19 [00:13<00:00,  1.37batch/s, TrainAccuracy=96.8, loss=0.911, totalLoss=0.863]\n",
      "100%|██████████| 5/5 [00:01<00:00,  3.55batch/s, ValAccuracy=95.8, lossv=0.823, valLoss=0.766]\n"
     ]
    },
    {
     "name": "stdout",
     "output_type": "stream",
     "text": [
      "Epoch [37], Loss_t: 0.8630,Loss_v: 0.7658, train_acc:96.7632, val_acc:95.7714\n"
     ]
    },
    {
     "name": "stderr",
     "output_type": "stream",
     "text": [
      "100%|██████████| 19/19 [00:13<00:00,  1.37batch/s, TrainAccuracy=97.2, loss=0.867, totalLoss=0.861]\n",
      "100%|██████████| 5/5 [00:01<00:00,  3.51batch/s, ValAccuracy=97.1, lossv=0.747, valLoss=0.717]\n"
     ]
    },
    {
     "name": "stdout",
     "output_type": "stream",
     "text": [
      "Epoch [38], Loss_t: 0.8607,Loss_v: 0.7171, train_acc:97.1842, val_acc:97.1429\n"
     ]
    },
    {
     "name": "stderr",
     "output_type": "stream",
     "text": [
      "100%|██████████| 19/19 [00:13<00:00,  1.37batch/s, TrainAccuracy=97.4, loss=0.871, totalLoss=0.853]\n",
      "100%|██████████| 5/5 [00:01<00:00,  3.64batch/s, ValAccuracy=91, lossv=0.795, valLoss=0.813]  \n"
     ]
    },
    {
     "name": "stdout",
     "output_type": "stream",
     "text": [
      "Epoch [39], Loss_t: 0.8535,Loss_v: 0.8129, train_acc:97.3947, val_acc:90.9714\n"
     ]
    },
    {
     "name": "stderr",
     "output_type": "stream",
     "text": [
      "100%|██████████| 19/19 [00:13<00:00,  1.39batch/s, TrainAccuracy=97.3, loss=0.865, totalLoss=0.848]\n",
      "100%|██████████| 5/5 [00:01<00:00,  3.63batch/s, ValAccuracy=90, lossv=0.811, valLoss=0.822]  \n"
     ]
    },
    {
     "name": "stdout",
     "output_type": "stream",
     "text": [
      "Epoch [40], Loss_t: 0.8477,Loss_v: 0.8220, train_acc:97.3289, val_acc:90.0000\n"
     ]
    },
    {
     "name": "stderr",
     "output_type": "stream",
     "text": [
      "100%|██████████| 19/19 [00:13<00:00,  1.39batch/s, TrainAccuracy=97.7, loss=0.898, totalLoss=0.842]\n",
      "100%|██████████| 5/5 [00:01<00:00,  3.62batch/s, ValAccuracy=93.3, lossv=0.829, valLoss=0.789]\n"
     ]
    },
    {
     "name": "stdout",
     "output_type": "stream",
     "text": [
      "Epoch [41], Loss_t: 0.8422,Loss_v: 0.7889, train_acc:97.6711, val_acc:93.3143\n"
     ]
    },
    {
     "name": "stderr",
     "output_type": "stream",
     "text": [
      "100%|██████████| 19/19 [00:13<00:00,  1.39batch/s, TrainAccuracy=97.7, loss=0.886, totalLoss=0.839]\n",
      "100%|██████████| 5/5 [00:01<00:00,  3.63batch/s, ValAccuracy=91.8, lossv=0.81, valLoss=0.803] \n"
     ]
    },
    {
     "name": "stdout",
     "output_type": "stream",
     "text": [
      "Epoch [42], Loss_t: 0.8385,Loss_v: 0.8032, train_acc:97.6579, val_acc:91.8000\n"
     ]
    },
    {
     "name": "stderr",
     "output_type": "stream",
     "text": [
      "100%|██████████| 19/19 [00:13<00:00,  1.40batch/s, TrainAccuracy=98.2, loss=0.813, totalLoss=0.833]\n",
      "100%|██████████| 5/5 [00:01<00:00,  3.69batch/s, ValAccuracy=95.9, lossv=0.739, valLoss=0.747]\n"
     ]
    },
    {
     "name": "stdout",
     "output_type": "stream",
     "text": [
      "Epoch [43], Loss_t: 0.8334,Loss_v: 0.7471, train_acc:98.1579, val_acc:95.9429\n"
     ]
    },
    {
     "name": "stderr",
     "output_type": "stream",
     "text": [
      "100%|██████████| 19/19 [00:13<00:00,  1.42batch/s, TrainAccuracy=98, loss=0.827, totalLoss=0.834]  \n",
      "100%|██████████| 5/5 [00:01<00:00,  3.60batch/s, ValAccuracy=94.1, lossv=0.707, valLoss=0.769]\n"
     ]
    },
    {
     "name": "stdout",
     "output_type": "stream",
     "text": [
      "Epoch [44], Loss_t: 0.8337,Loss_v: 0.7686, train_acc:97.9868, val_acc:94.1143\n"
     ]
    },
    {
     "name": "stderr",
     "output_type": "stream",
     "text": [
      "100%|██████████| 19/19 [00:14<00:00,  1.35batch/s, TrainAccuracy=98.3, loss=0.828, totalLoss=0.831]\n",
      "100%|██████████| 5/5 [00:01<00:00,  3.52batch/s, ValAccuracy=91.3, lossv=0.803, valLoss=0.803]\n"
     ]
    },
    {
     "name": "stdout",
     "output_type": "stream",
     "text": [
      "Epoch [45], Loss_t: 0.8311,Loss_v: 0.8029, train_acc:98.3026, val_acc:91.2857\n"
     ]
    },
    {
     "name": "stderr",
     "output_type": "stream",
     "text": [
      "100%|██████████| 19/19 [00:13<00:00,  1.38batch/s, TrainAccuracy=98.4, loss=0.816, totalLoss=0.827]\n",
      "100%|██████████| 5/5 [00:01<00:00,  3.53batch/s, ValAccuracy=91.8, lossv=0.795, valLoss=0.793]\n"
     ]
    },
    {
     "name": "stdout",
     "output_type": "stream",
     "text": [
      "Epoch [46], Loss_t: 0.8269,Loss_v: 0.7931, train_acc:98.3684, val_acc:91.8000\n"
     ]
    },
    {
     "name": "stderr",
     "output_type": "stream",
     "text": [
      "100%|██████████| 19/19 [00:14<00:00,  1.34batch/s, TrainAccuracy=98.5, loss=0.903, totalLoss=0.827]\n",
      "100%|██████████| 5/5 [00:01<00:00,  3.47batch/s, ValAccuracy=93.7, lossv=0.763, valLoss=0.777]\n"
     ]
    },
    {
     "name": "stdout",
     "output_type": "stream",
     "text": [
      "Epoch [47], Loss_t: 0.8267,Loss_v: 0.7773, train_acc:98.5263, val_acc:93.7429\n"
     ]
    },
    {
     "name": "stderr",
     "output_type": "stream",
     "text": [
      "100%|██████████| 19/19 [00:14<00:00,  1.35batch/s, TrainAccuracy=98.6, loss=0.834, totalLoss=0.822]\n",
      "100%|██████████| 5/5 [00:01<00:00,  3.52batch/s, ValAccuracy=90.9, lossv=0.766, valLoss=0.798]\n"
     ]
    },
    {
     "name": "stdout",
     "output_type": "stream",
     "text": [
      "Epoch [48], Loss_t: 0.8221,Loss_v: 0.7978, train_acc:98.6053, val_acc:90.8571\n"
     ]
    },
    {
     "name": "stderr",
     "output_type": "stream",
     "text": [
      "100%|██████████| 19/19 [00:13<00:00,  1.40batch/s, TrainAccuracy=98.6, loss=0.811, totalLoss=0.82] \n",
      "100%|██████████| 5/5 [00:01<00:00,  3.67batch/s, ValAccuracy=88.8, lossv=0.886, valLoss=0.825]\n"
     ]
    },
    {
     "name": "stdout",
     "output_type": "stream",
     "text": [
      "Epoch [49], Loss_t: 0.8204,Loss_v: 0.8248, train_acc:98.5658, val_acc:88.7714\n"
     ]
    },
    {
     "name": "stderr",
     "output_type": "stream",
     "text": [
      "100%|██████████| 5/5 [00:01<00:00,  4.36batch/s]\n"
     ]
    },
    {
     "name": "stdout",
     "output_type": "stream",
     "text": [
      "Fold 2 running\n"
     ]
    },
    {
     "name": "stderr",
     "output_type": "stream",
     "text": [
      "100%|██████████| 19/19 [00:15<00:00,  1.20batch/s, TrainAccuracy=56.7, loss=1.41, totalLoss=1.49] \n",
      "100%|██████████| 5/5 [00:01<00:00,  3.63batch/s, ValAccuracy=49.7, lossv=1.39, valLoss=1.38]\n"
     ]
    },
    {
     "name": "stdout",
     "output_type": "stream",
     "text": [
      "Epoch [0], Loss_t: 1.4891,Loss_v: 1.3842, train_acc:56.6974, val_acc:49.6571\n"
     ]
    },
    {
     "name": "stderr",
     "output_type": "stream",
     "text": [
      "100%|██████████| 19/19 [00:15<00:00,  1.19batch/s, TrainAccuracy=80.4, loss=1.29, totalLoss=1.34] \n",
      "100%|██████████| 5/5 [00:01<00:00,  3.59batch/s, ValAccuracy=46.9, lossv=1.37, valLoss=1.37] \n"
     ]
    },
    {
     "name": "stdout",
     "output_type": "stream",
     "text": [
      "Epoch [1], Loss_t: 1.3381,Loss_v: 1.3716, train_acc:80.4079, val_acc:46.8857\n"
     ]
    },
    {
     "name": "stderr",
     "output_type": "stream",
     "text": [
      "100%|██████████| 19/19 [00:16<00:00,  1.18batch/s, TrainAccuracy=84.4, loss=1.16, totalLoss=1.23] \n",
      "100%|██████████| 5/5 [00:01<00:00,  3.63batch/s, ValAccuracy=50.6, lossv=1.33, valLoss=1.36] \n"
     ]
    },
    {
     "name": "stdout",
     "output_type": "stream",
     "text": [
      "Epoch [2], Loss_t: 1.2264,Loss_v: 1.3634, train_acc:84.4474, val_acc:50.6286\n"
     ]
    },
    {
     "name": "stderr",
     "output_type": "stream",
     "text": [
      "100%|██████████| 19/19 [00:16<00:00,  1.19batch/s, TrainAccuracy=85.4, loss=1.14, totalLoss=1.16] \n",
      "100%|██████████| 5/5 [00:01<00:00,  3.68batch/s, ValAccuracy=51.8, lossv=1.5, valLoss=1.38]  \n"
     ]
    },
    {
     "name": "stdout",
     "output_type": "stream",
     "text": [
      "Epoch [3], Loss_t: 1.1563,Loss_v: 1.3760, train_acc:85.3816, val_acc:51.7714\n"
     ]
    },
    {
     "name": "stderr",
     "output_type": "stream",
     "text": [
      "100%|██████████| 19/19 [00:16<00:00,  1.14batch/s, TrainAccuracy=85.9, loss=1.14, totalLoss=1.12] \n",
      "100%|██████████| 5/5 [00:01<00:00,  3.47batch/s, ValAccuracy=53.7, lossv=1.35, valLoss=1.38] \n"
     ]
    },
    {
     "name": "stdout",
     "output_type": "stream",
     "text": [
      "Epoch [4], Loss_t: 1.1181,Loss_v: 1.3773, train_acc:85.8553, val_acc:53.7143\n"
     ]
    },
    {
     "name": "stderr",
     "output_type": "stream",
     "text": [
      "100%|██████████| 19/19 [00:16<00:00,  1.17batch/s, TrainAccuracy=86.2, loss=1.07, totalLoss=1.09] \n",
      "100%|██████████| 5/5 [00:01<00:00,  3.64batch/s, ValAccuracy=46.3, lossv=1.35, valLoss=1.43]\n"
     ]
    },
    {
     "name": "stdout",
     "output_type": "stream",
     "text": [
      "Epoch [5], Loss_t: 1.0897,Loss_v: 1.4255, train_acc:86.1711, val_acc:46.2857\n"
     ]
    },
    {
     "name": "stderr",
     "output_type": "stream",
     "text": [
      "100%|██████████| 19/19 [00:15<00:00,  1.19batch/s, TrainAccuracy=86.5, loss=1.07, totalLoss=1.07] \n",
      "100%|██████████| 5/5 [00:01<00:00,  3.65batch/s, ValAccuracy=48.4, lossv=1.36, valLoss=1.42] \n"
     ]
    },
    {
     "name": "stdout",
     "output_type": "stream",
     "text": [
      "Epoch [6], Loss_t: 1.0688,Loss_v: 1.4195, train_acc:86.5263, val_acc:48.3714\n"
     ]
    },
    {
     "name": "stderr",
     "output_type": "stream",
     "text": [
      "100%|██████████| 19/19 [00:15<00:00,  1.19batch/s, TrainAccuracy=87.5, loss=1.01, totalLoss=1.06] \n",
      "100%|██████████| 5/5 [00:01<00:00,  3.55batch/s, ValAccuracy=51.5, lossv=1.33, valLoss=1.41] \n"
     ]
    },
    {
     "name": "stdout",
     "output_type": "stream",
     "text": [
      "Epoch [7], Loss_t: 1.0565,Loss_v: 1.4117, train_acc:87.5132, val_acc:51.4571\n"
     ]
    },
    {
     "name": "stderr",
     "output_type": "stream",
     "text": [
      "100%|██████████| 19/19 [00:16<00:00,  1.18batch/s, TrainAccuracy=87.5, loss=1.04, totalLoss=1.04]  \n",
      "100%|██████████| 5/5 [00:01<00:00,  3.65batch/s, ValAccuracy=61, lossv=1.36, valLoss=1.36]   \n"
     ]
    },
    {
     "name": "stdout",
     "output_type": "stream",
     "text": [
      "Epoch [8], Loss_t: 1.0434,Loss_v: 1.3645, train_acc:87.5132, val_acc:61.0000\n"
     ]
    },
    {
     "name": "stderr",
     "output_type": "stream",
     "text": [
      "100%|██████████| 19/19 [00:16<00:00,  1.18batch/s, TrainAccuracy=88.5, loss=0.999, totalLoss=1.03] \n",
      "100%|██████████| 5/5 [00:01<00:00,  3.58batch/s, ValAccuracy=51.7, lossv=1.46, valLoss=1.42] \n"
     ]
    },
    {
     "name": "stdout",
     "output_type": "stream",
     "text": [
      "Epoch [9], Loss_t: 1.0316,Loss_v: 1.4239, train_acc:88.5263, val_acc:51.7143\n"
     ]
    },
    {
     "name": "stderr",
     "output_type": "stream",
     "text": [
      "100%|██████████| 19/19 [00:16<00:00,  1.19batch/s, TrainAccuracy=89.1, loss=0.964, totalLoss=1.01] \n",
      "100%|██████████| 5/5 [00:01<00:00,  3.59batch/s, ValAccuracy=47.6, lossv=1.46, valLoss=1.45] \n"
     ]
    },
    {
     "name": "stdout",
     "output_type": "stream",
     "text": [
      "Epoch [10], Loss_t: 1.0146,Loss_v: 1.4465, train_acc:89.1447, val_acc:47.5714\n"
     ]
    },
    {
     "name": "stderr",
     "output_type": "stream",
     "text": [
      "100%|██████████| 19/19 [00:16<00:00,  1.18batch/s, TrainAccuracy=89.7, loss=0.998, totalLoss=1]    \n",
      "100%|██████████| 5/5 [00:01<00:00,  3.52batch/s, ValAccuracy=51.8, lossv=1.47, valLoss=1.42] \n"
     ]
    },
    {
     "name": "stdout",
     "output_type": "stream",
     "text": [
      "Epoch [11], Loss_t: 1.0037,Loss_v: 1.4230, train_acc:89.6842, val_acc:51.8286\n"
     ]
    },
    {
     "name": "stderr",
     "output_type": "stream",
     "text": [
      "100%|██████████| 19/19 [00:16<00:00,  1.16batch/s, TrainAccuracy=90.1, loss=0.99, totalLoss=0.991] \n",
      "100%|██████████| 5/5 [00:01<00:00,  3.68batch/s, ValAccuracy=49.5, lossv=1.46, valLoss=1.43]\n"
     ]
    },
    {
     "name": "stdout",
     "output_type": "stream",
     "text": [
      "Epoch [12], Loss_t: 0.9909,Loss_v: 1.4341, train_acc:90.0658, val_acc:49.5143\n"
     ]
    },
    {
     "name": "stderr",
     "output_type": "stream",
     "text": [
      "100%|██████████| 19/19 [00:16<00:00,  1.18batch/s, TrainAccuracy=90.8, loss=0.937, totalLoss=0.979]\n",
      "100%|██████████| 5/5 [00:01<00:00,  3.63batch/s, ValAccuracy=49, lossv=1.42, valLoss=1.43]   \n"
     ]
    },
    {
     "name": "stdout",
     "output_type": "stream",
     "text": [
      "Epoch [13], Loss_t: 0.9790,Loss_v: 1.4313, train_acc:90.8158, val_acc:49.0286\n"
     ]
    },
    {
     "name": "stderr",
     "output_type": "stream",
     "text": [
      "100%|██████████| 19/19 [00:16<00:00,  1.16batch/s, TrainAccuracy=92.1, loss=0.972, totalLoss=0.968]\n",
      "100%|██████████| 5/5 [00:01<00:00,  3.53batch/s, ValAccuracy=53.2, lossv=1.27, valLoss=1.4]  \n"
     ]
    },
    {
     "name": "stdout",
     "output_type": "stream",
     "text": [
      "Epoch [14], Loss_t: 0.9678,Loss_v: 1.4014, train_acc:92.1184, val_acc:53.1714\n"
     ]
    },
    {
     "name": "stderr",
     "output_type": "stream",
     "text": [
      "100%|██████████| 19/19 [00:16<00:00,  1.16batch/s, TrainAccuracy=92.3, loss=0.97, totalLoss=0.958] \n",
      "100%|██████████| 5/5 [00:01<00:00,  3.54batch/s, ValAccuracy=58.6, lossv=1.45, valLoss=1.37] \n"
     ]
    },
    {
     "name": "stdout",
     "output_type": "stream",
     "text": [
      "Epoch [15], Loss_t: 0.9578,Loss_v: 1.3712, train_acc:92.3289, val_acc:58.5714\n"
     ]
    },
    {
     "name": "stderr",
     "output_type": "stream",
     "text": [
      "100%|██████████| 19/19 [00:16<00:00,  1.16batch/s, TrainAccuracy=93.2, loss=0.889, totalLoss=0.945]\n",
      "100%|██████████| 5/5 [00:01<00:00,  3.62batch/s, ValAccuracy=50.4, lossv=1.42, valLoss=1.41] \n"
     ]
    },
    {
     "name": "stdout",
     "output_type": "stream",
     "text": [
      "Epoch [16], Loss_t: 0.9447,Loss_v: 1.4137, train_acc:93.1842, val_acc:50.4000\n"
     ]
    },
    {
     "name": "stderr",
     "output_type": "stream",
     "text": [
      "100%|██████████| 19/19 [00:15<00:00,  1.19batch/s, TrainAccuracy=93.2, loss=0.895, totalLoss=0.936]\n",
      "100%|██████████| 5/5 [00:01<00:00,  3.63batch/s, ValAccuracy=61.1, lossv=1.3, valLoss=1.34]  \n"
     ]
    },
    {
     "name": "stdout",
     "output_type": "stream",
     "text": [
      "Epoch [17], Loss_t: 0.9363,Loss_v: 1.3405, train_acc:93.2500, val_acc:61.1429\n"
     ]
    },
    {
     "name": "stderr",
     "output_type": "stream",
     "text": [
      "100%|██████████| 19/19 [00:16<00:00,  1.14batch/s, TrainAccuracy=93.6, loss=0.909, totalLoss=0.932]\n",
      "100%|██████████| 5/5 [00:01<00:00,  3.47batch/s, ValAccuracy=55.1, lossv=1.4, valLoss=1.38]  \n"
     ]
    },
    {
     "name": "stdout",
     "output_type": "stream",
     "text": [
      "Epoch [18], Loss_t: 0.9323,Loss_v: 1.3781, train_acc:93.5789, val_acc:55.0857\n"
     ]
    },
    {
     "name": "stderr",
     "output_type": "stream",
     "text": [
      "100%|██████████| 19/19 [00:16<00:00,  1.16batch/s, TrainAccuracy=94, loss=0.908, totalLoss=0.919]  \n",
      "100%|██████████| 5/5 [00:01<00:00,  3.60batch/s, ValAccuracy=59.9, lossv=1.37, valLoss=1.34] \n"
     ]
    },
    {
     "name": "stdout",
     "output_type": "stream",
     "text": [
      "Epoch [19], Loss_t: 0.9194,Loss_v: 1.3379, train_acc:93.9868, val_acc:59.9429\n"
     ]
    },
    {
     "name": "stderr",
     "output_type": "stream",
     "text": [
      "100%|██████████| 19/19 [00:15<00:00,  1.19batch/s, TrainAccuracy=94.7, loss=0.938, totalLoss=0.911]\n",
      "100%|██████████| 5/5 [00:01<00:00,  3.52batch/s, ValAccuracy=61.4, lossv=1.39, valLoss=1.32] \n"
     ]
    },
    {
     "name": "stdout",
     "output_type": "stream",
     "text": [
      "Epoch [20], Loss_t: 0.9114,Loss_v: 1.3242, train_acc:94.6842, val_acc:61.4286\n"
     ]
    },
    {
     "name": "stderr",
     "output_type": "stream",
     "text": [
      "100%|██████████| 19/19 [00:16<00:00,  1.18batch/s, TrainAccuracy=94.9, loss=0.917, totalLoss=0.904]\n",
      "100%|██████████| 5/5 [00:01<00:00,  3.71batch/s, ValAccuracy=66.1, lossv=1.32, valLoss=1.29] \n"
     ]
    },
    {
     "name": "stdout",
     "output_type": "stream",
     "text": [
      "Epoch [21], Loss_t: 0.9038,Loss_v: 1.2893, train_acc:94.9211, val_acc:66.0571\n"
     ]
    },
    {
     "name": "stderr",
     "output_type": "stream",
     "text": [
      "100%|██████████| 19/19 [00:15<00:00,  1.20batch/s, TrainAccuracy=95.1, loss=0.885, totalLoss=0.898]\n",
      "100%|██████████| 5/5 [00:01<00:00,  3.67batch/s, ValAccuracy=60.7, lossv=1.29, valLoss=1.31] \n"
     ]
    },
    {
     "name": "stdout",
     "output_type": "stream",
     "text": [
      "Epoch [22], Loss_t: 0.8984,Loss_v: 1.3082, train_acc:95.0658, val_acc:60.7429\n"
     ]
    },
    {
     "name": "stderr",
     "output_type": "stream",
     "text": [
      "100%|██████████| 19/19 [00:15<00:00,  1.20batch/s, TrainAccuracy=95.7, loss=0.859, totalLoss=0.886]\n",
      "100%|██████████| 5/5 [00:01<00:00,  3.66batch/s, ValAccuracy=59.6, lossv=1.29, valLoss=1.31] \n"
     ]
    },
    {
     "name": "stdout",
     "output_type": "stream",
     "text": [
      "Epoch [23], Loss_t: 0.8864,Loss_v: 1.3091, train_acc:95.6711, val_acc:59.6000\n"
     ]
    },
    {
     "name": "stderr",
     "output_type": "stream",
     "text": [
      "100%|██████████| 19/19 [00:15<00:00,  1.20batch/s, TrainAccuracy=95.7, loss=0.861, totalLoss=0.885]\n",
      "100%|██████████| 5/5 [00:01<00:00,  3.62batch/s, ValAccuracy=66, lossv=1.23, valLoss=1.26]   \n"
     ]
    },
    {
     "name": "stdout",
     "output_type": "stream",
     "text": [
      "Epoch [24], Loss_t: 0.8852,Loss_v: 1.2639, train_acc:95.6579, val_acc:66.0000\n"
     ]
    },
    {
     "name": "stderr",
     "output_type": "stream",
     "text": [
      "100%|██████████| 19/19 [00:15<00:00,  1.20batch/s, TrainAccuracy=96.1, loss=0.931, totalLoss=0.877]\n",
      "100%|██████████| 5/5 [00:01<00:00,  3.64batch/s, ValAccuracy=66.7, lossv=1.25, valLoss=1.25] \n"
     ]
    },
    {
     "name": "stdout",
     "output_type": "stream",
     "text": [
      "Epoch [25], Loss_t: 0.8775,Loss_v: 1.2517, train_acc:96.1316, val_acc:66.7429\n"
     ]
    },
    {
     "name": "stderr",
     "output_type": "stream",
     "text": [
      "100%|██████████| 19/19 [00:15<00:00,  1.20batch/s, TrainAccuracy=96.4, loss=0.853, totalLoss=0.871]\n",
      "100%|██████████| 5/5 [00:01<00:00,  3.66batch/s, ValAccuracy=66.3, lossv=1.26, valLoss=1.25] \n"
     ]
    },
    {
     "name": "stdout",
     "output_type": "stream",
     "text": [
      "Epoch [26], Loss_t: 0.8710,Loss_v: 1.2502, train_acc:96.3947, val_acc:66.3143\n"
     ]
    },
    {
     "name": "stderr",
     "output_type": "stream",
     "text": [
      "100%|██████████| 19/19 [00:15<00:00,  1.19batch/s, TrainAccuracy=96.4, loss=0.901, totalLoss=0.866]\n",
      "100%|██████████| 5/5 [00:01<00:00,  3.67batch/s, ValAccuracy=67.3, lossv=1.19, valLoss=1.23] \n"
     ]
    },
    {
     "name": "stdout",
     "output_type": "stream",
     "text": [
      "Epoch [27], Loss_t: 0.8661,Loss_v: 1.2342, train_acc:96.4211, val_acc:67.3143\n"
     ]
    },
    {
     "name": "stderr",
     "output_type": "stream",
     "text": [
      "100%|██████████| 19/19 [00:15<00:00,  1.20batch/s, TrainAccuracy=96.9, loss=0.834, totalLoss=0.859]\n",
      "100%|██████████| 5/5 [00:01<00:00,  3.64batch/s, ValAccuracy=70, lossv=1.11, valLoss=1.22]   \n"
     ]
    },
    {
     "name": "stdout",
     "output_type": "stream",
     "text": [
      "Epoch [28], Loss_t: 0.8591,Loss_v: 1.2177, train_acc:96.8947, val_acc:70.0286\n"
     ]
    },
    {
     "name": "stderr",
     "output_type": "stream",
     "text": [
      "100%|██████████| 19/19 [00:16<00:00,  1.18batch/s, TrainAccuracy=97.1, loss=0.885, totalLoss=0.856]\n",
      "100%|██████████| 5/5 [00:01<00:00,  3.61batch/s, ValAccuracy=70.8, lossv=1.14, valLoss=1.21] \n"
     ]
    },
    {
     "name": "stdout",
     "output_type": "stream",
     "text": [
      "Epoch [29], Loss_t: 0.8564,Loss_v: 1.2111, train_acc:97.0526, val_acc:70.7714\n"
     ]
    },
    {
     "name": "stderr",
     "output_type": "stream",
     "text": [
      "100%|██████████| 19/19 [00:15<00:00,  1.19batch/s, TrainAccuracy=97.1, loss=0.837, totalLoss=0.854]\n",
      "100%|██████████| 5/5 [00:01<00:00,  3.68batch/s, ValAccuracy=67.5, lossv=1.24, valLoss=1.22] \n"
     ]
    },
    {
     "name": "stdout",
     "output_type": "stream",
     "text": [
      "Epoch [30], Loss_t: 0.8542,Loss_v: 1.2248, train_acc:97.1447, val_acc:67.5429\n"
     ]
    },
    {
     "name": "stderr",
     "output_type": "stream",
     "text": [
      "100%|██████████| 19/19 [00:15<00:00,  1.20batch/s, TrainAccuracy=97.2, loss=0.826, totalLoss=0.85] \n",
      "100%|██████████| 5/5 [00:01<00:00,  3.63batch/s, ValAccuracy=70.5, lossv=1.25, valLoss=1.21] \n"
     ]
    },
    {
     "name": "stdout",
     "output_type": "stream",
     "text": [
      "Epoch [31], Loss_t: 0.8499,Loss_v: 1.2092, train_acc:97.1842, val_acc:70.4571\n"
     ]
    },
    {
     "name": "stderr",
     "output_type": "stream",
     "text": [
      "100%|██████████| 19/19 [00:15<00:00,  1.19batch/s, TrainAccuracy=97.4, loss=0.859, totalLoss=0.847]\n",
      "100%|██████████| 5/5 [00:01<00:00,  3.68batch/s, ValAccuracy=70.9, lossv=1.24, valLoss=1.2]  \n"
     ]
    },
    {
     "name": "stdout",
     "output_type": "stream",
     "text": [
      "Epoch [32], Loss_t: 0.8473,Loss_v: 1.2008, train_acc:97.4474, val_acc:70.9143\n"
     ]
    },
    {
     "name": "stderr",
     "output_type": "stream",
     "text": [
      "100%|██████████| 19/19 [00:15<00:00,  1.20batch/s, TrainAccuracy=97.6, loss=0.834, totalLoss=0.843]\n",
      "100%|██████████| 5/5 [00:01<00:00,  3.69batch/s, ValAccuracy=68.5, lossv=1.29, valLoss=1.22] \n"
     ]
    },
    {
     "name": "stdout",
     "output_type": "stream",
     "text": [
      "Epoch [33], Loss_t: 0.8430,Loss_v: 1.2164, train_acc:97.5921, val_acc:68.5429\n"
     ]
    },
    {
     "name": "stderr",
     "output_type": "stream",
     "text": [
      "100%|██████████| 19/19 [00:15<00:00,  1.21batch/s, TrainAccuracy=97.4, loss=0.808, totalLoss=0.842]\n",
      "100%|██████████| 5/5 [00:01<00:00,  3.70batch/s, ValAccuracy=67.4, lossv=1.32, valLoss=1.22] \n"
     ]
    },
    {
     "name": "stdout",
     "output_type": "stream",
     "text": [
      "Epoch [34], Loss_t: 0.8417,Loss_v: 1.2231, train_acc:97.3553, val_acc:67.4286\n"
     ]
    },
    {
     "name": "stderr",
     "output_type": "stream",
     "text": [
      "100%|██████████| 19/19 [00:15<00:00,  1.21batch/s, TrainAccuracy=97.6, loss=0.824, totalLoss=0.838]\n",
      "100%|██████████| 5/5 [00:01<00:00,  3.69batch/s, ValAccuracy=71.9, lossv=1.11, valLoss=1.19] \n"
     ]
    },
    {
     "name": "stdout",
     "output_type": "stream",
     "text": [
      "Epoch [35], Loss_t: 0.8378,Loss_v: 1.1886, train_acc:97.6184, val_acc:71.8571\n"
     ]
    },
    {
     "name": "stderr",
     "output_type": "stream",
     "text": [
      "100%|██████████| 19/19 [00:15<00:00,  1.21batch/s, TrainAccuracy=97.6, loss=0.83, totalLoss=0.836] \n",
      "100%|██████████| 5/5 [00:01<00:00,  3.66batch/s, ValAccuracy=72.1, lossv=1.21, valLoss=1.18] \n"
     ]
    },
    {
     "name": "stdout",
     "output_type": "stream",
     "text": [
      "Epoch [36], Loss_t: 0.8361,Loss_v: 1.1825, train_acc:97.5526, val_acc:72.1143\n"
     ]
    },
    {
     "name": "stderr",
     "output_type": "stream",
     "text": [
      "100%|██████████| 19/19 [00:15<00:00,  1.19batch/s, TrainAccuracy=98.1, loss=0.849, totalLoss=0.832]\n",
      "100%|██████████| 5/5 [00:01<00:00,  3.61batch/s, ValAccuracy=72.5, lossv=1.1, valLoss=1.17]  \n"
     ]
    },
    {
     "name": "stdout",
     "output_type": "stream",
     "text": [
      "Epoch [37], Loss_t: 0.8318,Loss_v: 1.1745, train_acc:98.0789, val_acc:72.4571\n"
     ]
    },
    {
     "name": "stderr",
     "output_type": "stream",
     "text": [
      "100%|██████████| 19/19 [00:16<00:00,  1.18batch/s, TrainAccuracy=97.9, loss=0.804, totalLoss=0.828]\n",
      "100%|██████████| 5/5 [00:01<00:00,  3.57batch/s, ValAccuracy=71.4, lossv=1.21, valLoss=1.19] \n"
     ]
    },
    {
     "name": "stdout",
     "output_type": "stream",
     "text": [
      "Epoch [38], Loss_t: 0.8278,Loss_v: 1.1877, train_acc:97.9474, val_acc:71.4286\n"
     ]
    },
    {
     "name": "stderr",
     "output_type": "stream",
     "text": [
      "100%|██████████| 19/19 [00:16<00:00,  1.18batch/s, TrainAccuracy=98, loss=0.838, totalLoss=0.827]  \n",
      "100%|██████████| 5/5 [00:01<00:00,  3.61batch/s, ValAccuracy=72.6, lossv=1.09, valLoss=1.17] \n"
     ]
    },
    {
     "name": "stdout",
     "output_type": "stream",
     "text": [
      "Epoch [39], Loss_t: 0.8269,Loss_v: 1.1713, train_acc:97.9737, val_acc:72.6286\n"
     ]
    },
    {
     "name": "stderr",
     "output_type": "stream",
     "text": [
      "100%|██████████| 19/19 [00:16<00:00,  1.15batch/s, TrainAccuracy=98, loss=0.837, totalLoss=0.824]  \n",
      "100%|██████████| 5/5 [00:01<00:00,  3.53batch/s, ValAccuracy=72.7, lossv=1.18, valLoss=1.17] \n"
     ]
    },
    {
     "name": "stdout",
     "output_type": "stream",
     "text": [
      "Epoch [40], Loss_t: 0.8236,Loss_v: 1.1739, train_acc:98.0263, val_acc:72.6857\n"
     ]
    },
    {
     "name": "stderr",
     "output_type": "stream",
     "text": [
      "100%|██████████| 19/19 [00:16<00:00,  1.15batch/s, TrainAccuracy=98.1, loss=0.834, totalLoss=0.822]\n",
      "100%|██████████| 5/5 [00:01<00:00,  3.59batch/s, ValAccuracy=73.1, lossv=1.18, valLoss=1.17] \n"
     ]
    },
    {
     "name": "stdout",
     "output_type": "stream",
     "text": [
      "Epoch [41], Loss_t: 0.8221,Loss_v: 1.1665, train_acc:98.1316, val_acc:73.0857\n"
     ]
    },
    {
     "name": "stderr",
     "output_type": "stream",
     "text": [
      "100%|██████████| 19/19 [00:16<00:00,  1.19batch/s, TrainAccuracy=98.4, loss=0.787, totalLoss=0.82] \n",
      "100%|██████████| 5/5 [00:01<00:00,  3.59batch/s, ValAccuracy=73, lossv=1.17, valLoss=1.16]   \n"
     ]
    },
    {
     "name": "stdout",
     "output_type": "stream",
     "text": [
      "Epoch [42], Loss_t: 0.8198,Loss_v: 1.1616, train_acc:98.3684, val_acc:72.9714\n"
     ]
    },
    {
     "name": "stderr",
     "output_type": "stream",
     "text": [
      "100%|██████████| 19/19 [00:15<00:00,  1.20batch/s, TrainAccuracy=98.5, loss=0.818, totalLoss=0.816]\n",
      "100%|██████████| 5/5 [00:01<00:00,  3.70batch/s, ValAccuracy=73.1, lossv=1.22, valLoss=1.16] \n"
     ]
    },
    {
     "name": "stdout",
     "output_type": "stream",
     "text": [
      "Epoch [43], Loss_t: 0.8163,Loss_v: 1.1608, train_acc:98.5132, val_acc:73.1143\n"
     ]
    },
    {
     "name": "stderr",
     "output_type": "stream",
     "text": [
      "100%|██████████| 19/19 [00:15<00:00,  1.21batch/s, TrainAccuracy=98.6, loss=0.784, totalLoss=0.813]\n",
      "100%|██████████| 5/5 [00:01<00:00,  3.69batch/s, ValAccuracy=74, lossv=1.01, valLoss=1.15]   \n"
     ]
    },
    {
     "name": "stdout",
     "output_type": "stream",
     "text": [
      "Epoch [44], Loss_t: 0.8135,Loss_v: 1.1468, train_acc:98.5789, val_acc:73.9714\n"
     ]
    },
    {
     "name": "stderr",
     "output_type": "stream",
     "text": [
      "100%|██████████| 19/19 [00:15<00:00,  1.21batch/s, TrainAccuracy=98.7, loss=0.829, totalLoss=0.812]\n",
      "100%|██████████| 5/5 [00:01<00:00,  3.70batch/s, ValAccuracy=73.6, lossv=1.09, valLoss=1.15] \n"
     ]
    },
    {
     "name": "stdout",
     "output_type": "stream",
     "text": [
      "Epoch [45], Loss_t: 0.8123,Loss_v: 1.1494, train_acc:98.6579, val_acc:73.6286\n"
     ]
    },
    {
     "name": "stderr",
     "output_type": "stream",
     "text": [
      "100%|██████████| 19/19 [00:15<00:00,  1.21batch/s, TrainAccuracy=98.6, loss=0.795, totalLoss=0.81] \n",
      "100%|██████████| 5/5 [00:01<00:00,  3.70batch/s, ValAccuracy=73.8, lossv=1.09, valLoss=1.14] \n"
     ]
    },
    {
     "name": "stdout",
     "output_type": "stream",
     "text": [
      "Epoch [46], Loss_t: 0.8101,Loss_v: 1.1442, train_acc:98.5789, val_acc:73.8000\n"
     ]
    },
    {
     "name": "stderr",
     "output_type": "stream",
     "text": [
      "100%|██████████| 19/19 [00:15<00:00,  1.21batch/s, TrainAccuracy=98.9, loss=0.803, totalLoss=0.808]\n",
      "100%|██████████| 5/5 [00:01<00:00,  3.69batch/s, ValAccuracy=72.9, lossv=1.21, valLoss=1.16] \n"
     ]
    },
    {
     "name": "stdout",
     "output_type": "stream",
     "text": [
      "Epoch [47], Loss_t: 0.8076,Loss_v: 1.1562, train_acc:98.9342, val_acc:72.9143\n"
     ]
    },
    {
     "name": "stderr",
     "output_type": "stream",
     "text": [
      "100%|██████████| 19/19 [00:15<00:00,  1.21batch/s, TrainAccuracy=98.9, loss=0.829, totalLoss=0.807]\n",
      "100%|██████████| 5/5 [00:01<00:00,  3.67batch/s, ValAccuracy=73.7, lossv=1.11, valLoss=1.14] \n"
     ]
    },
    {
     "name": "stdout",
     "output_type": "stream",
     "text": [
      "Epoch [48], Loss_t: 0.8067,Loss_v: 1.1448, train_acc:98.8553, val_acc:73.7429\n"
     ]
    },
    {
     "name": "stderr",
     "output_type": "stream",
     "text": [
      "100%|██████████| 19/19 [00:15<00:00,  1.20batch/s, TrainAccuracy=98.8, loss=0.797, totalLoss=0.806]\n",
      "100%|██████████| 5/5 [00:01<00:00,  3.67batch/s, ValAccuracy=73.1, lossv=1.08, valLoss=1.14] \n"
     ]
    },
    {
     "name": "stdout",
     "output_type": "stream",
     "text": [
      "Epoch [49], Loss_t: 0.8062,Loss_v: 1.1382, train_acc:98.8421, val_acc:73.0571\n"
     ]
    },
    {
     "name": "stderr",
     "output_type": "stream",
     "text": [
      "100%|██████████| 5/5 [00:01<00:00,  4.39batch/s]\n"
     ]
    },
    {
     "name": "stdout",
     "output_type": "stream",
     "text": [
      "Fold 3 running\n"
     ]
    },
    {
     "name": "stderr",
     "output_type": "stream",
     "text": [
      "100%|██████████| 19/19 [00:15<00:00,  1.20batch/s, TrainAccuracy=61.2, loss=1.42, totalLoss=1.49] \n",
      "100%|██████████| 5/5 [00:01<00:00,  3.66batch/s, ValAccuracy=82.4, lossv=1.35, valLoss=1.36]\n"
     ]
    },
    {
     "name": "stdout",
     "output_type": "stream",
     "text": [
      "Epoch [0], Loss_t: 1.4884,Loss_v: 1.3573, train_acc:61.1579, val_acc:82.4286\n"
     ]
    },
    {
     "name": "stderr",
     "output_type": "stream",
     "text": [
      "100%|██████████| 19/19 [00:15<00:00,  1.20batch/s, TrainAccuracy=75.3, loss=1.35, totalLoss=1.37] \n",
      "100%|██████████| 5/5 [00:01<00:00,  3.65batch/s, ValAccuracy=84.7, lossv=1.2, valLoss=1.21]  \n"
     ]
    },
    {
     "name": "stdout",
     "output_type": "stream",
     "text": [
      "Epoch [1], Loss_t: 1.3733,Loss_v: 1.2147, train_acc:75.3421, val_acc:84.6571\n"
     ]
    },
    {
     "name": "stderr",
     "output_type": "stream",
     "text": [
      "100%|██████████| 19/19 [00:15<00:00,  1.19batch/s, TrainAccuracy=77.9, loss=1.28, totalLoss=1.28] \n",
      "100%|██████████| 5/5 [00:01<00:00,  3.64batch/s, ValAccuracy=83, lossv=1.09, valLoss=1.1]    \n"
     ]
    },
    {
     "name": "stdout",
     "output_type": "stream",
     "text": [
      "Epoch [2], Loss_t: 1.2802,Loss_v: 1.0975, train_acc:77.8947, val_acc:82.9714\n"
     ]
    },
    {
     "name": "stderr",
     "output_type": "stream",
     "text": [
      "100%|██████████| 19/19 [00:15<00:00,  1.19batch/s, TrainAccuracy=80.4, loss=1.15, totalLoss=1.22] \n",
      "100%|██████████| 5/5 [00:01<00:00,  3.63batch/s, ValAccuracy=92, lossv=0.993, valLoss=1]     \n"
     ]
    },
    {
     "name": "stdout",
     "output_type": "stream",
     "text": [
      "Epoch [3], Loss_t: 1.2177,Loss_v: 1.0049, train_acc:80.4211, val_acc:91.9714\n"
     ]
    },
    {
     "name": "stderr",
     "output_type": "stream",
     "text": [
      "100%|██████████| 19/19 [00:15<00:00,  1.19batch/s, TrainAccuracy=81.8, loss=1.12, totalLoss=1.18] \n",
      "100%|██████████| 5/5 [00:01<00:00,  3.67batch/s, ValAccuracy=88.7, lossv=1, valLoss=0.995]    \n"
     ]
    },
    {
     "name": "stdout",
     "output_type": "stream",
     "text": [
      "Epoch [4], Loss_t: 1.1754,Loss_v: 0.9948, train_acc:81.7632, val_acc:88.7429\n"
     ]
    },
    {
     "name": "stderr",
     "output_type": "stream",
     "text": [
      "100%|██████████| 19/19 [00:15<00:00,  1.20batch/s, TrainAccuracy=83.5, loss=1.06, totalLoss=1.14] \n",
      "100%|██████████| 5/5 [00:01<00:00,  3.67batch/s, ValAccuracy=79.9, lossv=1.03, valLoss=1.04] \n"
     ]
    },
    {
     "name": "stdout",
     "output_type": "stream",
     "text": [
      "Epoch [5], Loss_t: 1.1413,Loss_v: 1.0403, train_acc:83.4605, val_acc:79.8857\n"
     ]
    },
    {
     "name": "stderr",
     "output_type": "stream",
     "text": [
      "100%|██████████| 19/19 [00:15<00:00,  1.21batch/s, TrainAccuracy=84.6, loss=1.1, totalLoss=1.11]  \n",
      "100%|██████████| 5/5 [00:01<00:00,  3.66batch/s, ValAccuracy=93.3, lossv=0.955, valLoss=0.955]\n"
     ]
    },
    {
     "name": "stdout",
     "output_type": "stream",
     "text": [
      "Epoch [6], Loss_t: 1.1148,Loss_v: 0.9550, train_acc:84.6316, val_acc:93.2571\n"
     ]
    },
    {
     "name": "stderr",
     "output_type": "stream",
     "text": [
      "100%|██████████| 19/19 [00:15<00:00,  1.19batch/s, TrainAccuracy=86.1, loss=1.11, totalLoss=1.09] \n",
      "100%|██████████| 5/5 [00:01<00:00,  3.65batch/s, ValAccuracy=82.5, lossv=0.949, valLoss=1.01]\n"
     ]
    },
    {
     "name": "stdout",
     "output_type": "stream",
     "text": [
      "Epoch [7], Loss_t: 1.0872,Loss_v: 1.0063, train_acc:86.0789, val_acc:82.5143\n"
     ]
    },
    {
     "name": "stderr",
     "output_type": "stream",
     "text": [
      "100%|██████████| 19/19 [00:16<00:00,  1.16batch/s, TrainAccuracy=88.8, loss=1.01, totalLoss=1.06] \n",
      "100%|██████████| 5/5 [00:01<00:00,  3.64batch/s, ValAccuracy=84.9, lossv=0.974, valLoss=0.994]\n"
     ]
    },
    {
     "name": "stdout",
     "output_type": "stream",
     "text": [
      "Epoch [8], Loss_t: 1.0583,Loss_v: 0.9937, train_acc:88.8158, val_acc:84.9429\n"
     ]
    },
    {
     "name": "stderr",
     "output_type": "stream",
     "text": [
      "100%|██████████| 19/19 [00:15<00:00,  1.20batch/s, TrainAccuracy=90.1, loss=1.07, totalLoss=1.03]  \n",
      "100%|██████████| 5/5 [00:01<00:00,  3.63batch/s, ValAccuracy=81.9, lossv=0.986, valLoss=1.02] \n"
     ]
    },
    {
     "name": "stdout",
     "output_type": "stream",
     "text": [
      "Epoch [9], Loss_t: 1.0332,Loss_v: 1.0157, train_acc:90.0789, val_acc:81.9429\n"
     ]
    },
    {
     "name": "stderr",
     "output_type": "stream",
     "text": [
      "100%|██████████| 19/19 [00:16<00:00,  1.19batch/s, TrainAccuracy=91.6, loss=0.947, totalLoss=1.01] \n",
      "100%|██████████| 5/5 [00:01<00:00,  3.65batch/s, ValAccuracy=66.2, lossv=1.14, valLoss=1.17] \n"
     ]
    },
    {
     "name": "stdout",
     "output_type": "stream",
     "text": [
      "Epoch [10], Loss_t: 1.0071,Loss_v: 1.1683, train_acc:91.5921, val_acc:66.2286\n"
     ]
    },
    {
     "name": "stderr",
     "output_type": "stream",
     "text": [
      "100%|██████████| 19/19 [00:15<00:00,  1.20batch/s, TrainAccuracy=92.8, loss=0.923, totalLoss=0.982]\n",
      "100%|██████████| 5/5 [00:01<00:00,  3.66batch/s, ValAccuracy=77.4, lossv=1.03, valLoss=1.05] \n"
     ]
    },
    {
     "name": "stdout",
     "output_type": "stream",
     "text": [
      "Epoch [11], Loss_t: 0.9815,Loss_v: 1.0490, train_acc:92.7763, val_acc:77.4000\n"
     ]
    },
    {
     "name": "stderr",
     "output_type": "stream",
     "text": [
      "100%|██████████| 19/19 [00:15<00:00,  1.20batch/s, TrainAccuracy=94.3, loss=0.922, totalLoss=0.956]\n",
      "100%|██████████| 5/5 [00:01<00:00,  3.56batch/s, ValAccuracy=61.9, lossv=1.18, valLoss=1.23] \n"
     ]
    },
    {
     "name": "stdout",
     "output_type": "stream",
     "text": [
      "Epoch [12], Loss_t: 0.9557,Loss_v: 1.2261, train_acc:94.3158, val_acc:61.8571\n"
     ]
    },
    {
     "name": "stderr",
     "output_type": "stream",
     "text": [
      "100%|██████████| 19/19 [00:15<00:00,  1.19batch/s, TrainAccuracy=94.3, loss=0.924, totalLoss=0.944]\n",
      "100%|██████████| 5/5 [00:01<00:00,  3.62batch/s, ValAccuracy=74.7, lossv=1.02, valLoss=1.1]  \n"
     ]
    },
    {
     "name": "stdout",
     "output_type": "stream",
     "text": [
      "Epoch [13], Loss_t: 0.9444,Loss_v: 1.0968, train_acc:94.2632, val_acc:74.6571\n"
     ]
    },
    {
     "name": "stderr",
     "output_type": "stream",
     "text": [
      "100%|██████████| 19/19 [00:15<00:00,  1.20batch/s, TrainAccuracy=95.1, loss=0.947, totalLoss=0.925]\n",
      "100%|██████████| 5/5 [00:01<00:00,  3.57batch/s, ValAccuracy=63.6, lossv=1.23, valLoss=1.23] \n"
     ]
    },
    {
     "name": "stdout",
     "output_type": "stream",
     "text": [
      "Epoch [14], Loss_t: 0.9246,Loss_v: 1.2272, train_acc:95.1053, val_acc:63.5714\n"
     ]
    },
    {
     "name": "stderr",
     "output_type": "stream",
     "text": [
      "100%|██████████| 19/19 [00:15<00:00,  1.20batch/s, TrainAccuracy=95.7, loss=0.928, totalLoss=0.913]\n",
      "100%|██████████| 5/5 [00:01<00:00,  3.62batch/s, ValAccuracy=58.7, lossv=1.22, valLoss=1.29] \n"
     ]
    },
    {
     "name": "stdout",
     "output_type": "stream",
     "text": [
      "Epoch [15], Loss_t: 0.9130,Loss_v: 1.2880, train_acc:95.6711, val_acc:58.6571\n"
     ]
    },
    {
     "name": "stderr",
     "output_type": "stream",
     "text": [
      "100%|██████████| 19/19 [00:15<00:00,  1.20batch/s, TrainAccuracy=96, loss=0.888, totalLoss=0.901]  \n",
      "100%|██████████| 5/5 [00:01<00:00,  3.59batch/s, ValAccuracy=65.1, lossv=1.23, valLoss=1.22] \n"
     ]
    },
    {
     "name": "stdout",
     "output_type": "stream",
     "text": [
      "Epoch [16], Loss_t: 0.9013,Loss_v: 1.2189, train_acc:96.0000, val_acc:65.0857\n"
     ]
    },
    {
     "name": "stderr",
     "output_type": "stream",
     "text": [
      "100%|██████████| 19/19 [00:16<00:00,  1.18batch/s, TrainAccuracy=96.2, loss=0.863, totalLoss=0.891]\n",
      "100%|██████████| 5/5 [00:01<00:00,  3.57batch/s, ValAccuracy=57.4, lossv=1.4, valLoss=1.33]  \n"
     ]
    },
    {
     "name": "stdout",
     "output_type": "stream",
     "text": [
      "Epoch [17], Loss_t: 0.8913,Loss_v: 1.3279, train_acc:96.2500, val_acc:57.4286\n"
     ]
    },
    {
     "name": "stderr",
     "output_type": "stream",
     "text": [
      "100%|██████████| 19/19 [00:16<00:00,  1.18batch/s, TrainAccuracy=96.5, loss=0.852, totalLoss=0.879]\n",
      "100%|██████████| 5/5 [00:01<00:00,  3.59batch/s, ValAccuracy=57.5, lossv=1.25, valLoss=1.34] \n"
     ]
    },
    {
     "name": "stdout",
     "output_type": "stream",
     "text": [
      "Epoch [18], Loss_t: 0.8791,Loss_v: 1.3446, train_acc:96.4605, val_acc:57.4857\n"
     ]
    },
    {
     "name": "stderr",
     "output_type": "stream",
     "text": [
      "100%|██████████| 19/19 [00:16<00:00,  1.17batch/s, TrainAccuracy=96.8, loss=0.846, totalLoss=0.87] \n",
      "100%|██████████| 5/5 [00:01<00:00,  3.41batch/s, ValAccuracy=57.1, lossv=1.48, valLoss=1.35] \n"
     ]
    },
    {
     "name": "stdout",
     "output_type": "stream",
     "text": [
      "Epoch [19], Loss_t: 0.8704,Loss_v: 1.3455, train_acc:96.7763, val_acc:57.1143\n"
     ]
    },
    {
     "name": "stderr",
     "output_type": "stream",
     "text": [
      "100%|██████████| 19/19 [00:16<00:00,  1.14batch/s, TrainAccuracy=96.9, loss=0.925, totalLoss=0.866]\n",
      "100%|██████████| 5/5 [00:01<00:00,  3.47batch/s, ValAccuracy=57.4, lossv=1.45, valLoss=1.36]\n"
     ]
    },
    {
     "name": "stdout",
     "output_type": "stream",
     "text": [
      "Epoch [20], Loss_t: 0.8657,Loss_v: 1.3553, train_acc:96.9079, val_acc:57.3714\n"
     ]
    },
    {
     "name": "stderr",
     "output_type": "stream",
     "text": [
      "100%|██████████| 19/19 [00:16<00:00,  1.13batch/s, TrainAccuracy=97.4, loss=0.853, totalLoss=0.859]\n",
      "100%|██████████| 5/5 [00:01<00:00,  3.41batch/s, ValAccuracy=61.8, lossv=1.26, valLoss=1.28] \n"
     ]
    },
    {
     "name": "stdout",
     "output_type": "stream",
     "text": [
      "Epoch [21], Loss_t: 0.8590,Loss_v: 1.2773, train_acc:97.4342, val_acc:61.7714\n"
     ]
    },
    {
     "name": "stderr",
     "output_type": "stream",
     "text": [
      "100%|██████████| 19/19 [00:15<00:00,  1.20batch/s, TrainAccuracy=97.5, loss=0.878, totalLoss=0.852]\n",
      "100%|██████████| 5/5 [00:01<00:00,  3.80batch/s, ValAccuracy=61.4, lossv=1.34, valLoss=1.29] \n"
     ]
    },
    {
     "name": "stdout",
     "output_type": "stream",
     "text": [
      "Epoch [22], Loss_t: 0.8522,Loss_v: 1.2880, train_acc:97.4737, val_acc:61.4286\n"
     ]
    },
    {
     "name": "stderr",
     "output_type": "stream",
     "text": [
      "100%|██████████| 19/19 [00:15<00:00,  1.20batch/s, TrainAccuracy=97.6, loss=0.816, totalLoss=0.848]\n",
      "100%|██████████| 5/5 [00:01<00:00,  3.61batch/s, ValAccuracy=59.4, lossv=1.43, valLoss=1.33] \n"
     ]
    },
    {
     "name": "stdout",
     "output_type": "stream",
     "text": [
      "Epoch [23], Loss_t: 0.8478,Loss_v: 1.3277, train_acc:97.6184, val_acc:59.3714\n"
     ]
    },
    {
     "name": "stderr",
     "output_type": "stream",
     "text": [
      "100%|██████████| 19/19 [00:15<00:00,  1.22batch/s, TrainAccuracy=97.8, loss=0.844, totalLoss=0.843]\n",
      "100%|██████████| 5/5 [00:01<00:00,  3.75batch/s, ValAccuracy=60.2, lossv=1.18, valLoss=1.32] \n"
     ]
    },
    {
     "name": "stdout",
     "output_type": "stream",
     "text": [
      "Epoch [24], Loss_t: 0.8432,Loss_v: 1.3162, train_acc:97.8158, val_acc:60.2286\n"
     ]
    },
    {
     "name": "stderr",
     "output_type": "stream",
     "text": [
      "100%|██████████| 19/19 [00:15<00:00,  1.23batch/s, TrainAccuracy=97.9, loss=0.834, totalLoss=0.839]\n",
      "100%|██████████| 5/5 [00:01<00:00,  3.76batch/s, ValAccuracy=58.9, lossv=1.32, valLoss=1.33] \n"
     ]
    },
    {
     "name": "stdout",
     "output_type": "stream",
     "text": [
      "Epoch [25], Loss_t: 0.8386,Loss_v: 1.3335, train_acc:97.9342, val_acc:58.9143\n"
     ]
    },
    {
     "name": "stderr",
     "output_type": "stream",
     "text": [
      "100%|██████████| 19/19 [00:15<00:00,  1.23batch/s, TrainAccuracy=98.1, loss=0.875, totalLoss=0.834]\n",
      "100%|██████████| 5/5 [00:01<00:00,  3.76batch/s, ValAccuracy=58, lossv=1.33, valLoss=1.37]   \n"
     ]
    },
    {
     "name": "stdout",
     "output_type": "stream",
     "text": [
      "Epoch [26], Loss_t: 0.8344,Loss_v: 1.3662, train_acc:98.0526, val_acc:58.0000\n"
     ]
    },
    {
     "name": "stderr",
     "output_type": "stream",
     "text": [
      "100%|██████████| 19/19 [00:15<00:00,  1.23batch/s, TrainAccuracy=98.2, loss=0.834, totalLoss=0.831]\n",
      "100%|██████████| 5/5 [00:01<00:00,  3.75batch/s, ValAccuracy=56.1, lossv=1.42, valLoss=1.41] \n"
     ]
    },
    {
     "name": "stdout",
     "output_type": "stream",
     "text": [
      "Epoch [27], Loss_t: 0.8309,Loss_v: 1.4084, train_acc:98.2368, val_acc:56.1429\n"
     ]
    },
    {
     "name": "stderr",
     "output_type": "stream",
     "text": [
      "100%|██████████| 19/19 [00:15<00:00,  1.23batch/s, TrainAccuracy=98.2, loss=0.864, totalLoss=0.827]\n",
      "100%|██████████| 5/5 [00:01<00:00,  3.74batch/s, ValAccuracy=58.2, lossv=1.45, valLoss=1.36] \n"
     ]
    },
    {
     "name": "stdout",
     "output_type": "stream",
     "text": [
      "Epoch [28], Loss_t: 0.8272,Loss_v: 1.3615, train_acc:98.2368, val_acc:58.1714\n"
     ]
    },
    {
     "name": "stderr",
     "output_type": "stream",
     "text": [
      "100%|██████████| 19/19 [00:15<00:00,  1.23batch/s, TrainAccuracy=98.5, loss=0.833, totalLoss=0.824]\n",
      "100%|██████████| 5/5 [00:01<00:00,  3.73batch/s, ValAccuracy=59, lossv=1.32, valLoss=1.35]   \n"
     ]
    },
    {
     "name": "stdout",
     "output_type": "stream",
     "text": [
      "Epoch [29], Loss_t: 0.8238,Loss_v: 1.3499, train_acc:98.4605, val_acc:58.9714\n"
     ]
    },
    {
     "name": "stderr",
     "output_type": "stream",
     "text": [
      "100%|██████████| 19/19 [00:15<00:00,  1.23batch/s, TrainAccuracy=98.6, loss=0.805, totalLoss=0.821]\n",
      "100%|██████████| 5/5 [00:01<00:00,  3.74batch/s, ValAccuracy=58.5, lossv=1.25, valLoss=1.37] \n"
     ]
    },
    {
     "name": "stdout",
     "output_type": "stream",
     "text": [
      "Epoch [30], Loss_t: 0.8212,Loss_v: 1.3712, train_acc:98.6184, val_acc:58.5429\n"
     ]
    },
    {
     "name": "stderr",
     "output_type": "stream",
     "text": [
      "100%|██████████| 19/19 [00:15<00:00,  1.23batch/s, TrainAccuracy=98.7, loss=0.826, totalLoss=0.819]\n",
      "100%|██████████| 5/5 [00:01<00:00,  3.68batch/s, ValAccuracy=59.6, lossv=1.27, valLoss=1.33] \n"
     ]
    },
    {
     "name": "stdout",
     "output_type": "stream",
     "text": [
      "Epoch [31], Loss_t: 0.8193,Loss_v: 1.3330, train_acc:98.7105, val_acc:59.6000\n"
     ]
    },
    {
     "name": "stderr",
     "output_type": "stream",
     "text": [
      "100%|██████████| 19/19 [00:15<00:00,  1.23batch/s, TrainAccuracy=98.5, loss=0.788, totalLoss=0.819]\n",
      "100%|██████████| 5/5 [00:01<00:00,  3.74batch/s, ValAccuracy=55, lossv=1.44, valLoss=1.45]   \n"
     ]
    },
    {
     "name": "stdout",
     "output_type": "stream",
     "text": [
      "Epoch [32], Loss_t: 0.8190,Loss_v: 1.4537, train_acc:98.5263, val_acc:55.0286\n"
     ]
    },
    {
     "name": "stderr",
     "output_type": "stream",
     "text": [
      "100%|██████████| 19/19 [00:15<00:00,  1.23batch/s, TrainAccuracy=98.6, loss=0.812, totalLoss=0.815]\n",
      "100%|██████████| 5/5 [00:01<00:00,  3.74batch/s, ValAccuracy=57.6, lossv=1.48, valLoss=1.38] \n"
     ]
    },
    {
     "name": "stdout",
     "output_type": "stream",
     "text": [
      "Epoch [33], Loss_t: 0.8155,Loss_v: 1.3754, train_acc:98.6184, val_acc:57.6000\n"
     ]
    },
    {
     "name": "stderr",
     "output_type": "stream",
     "text": [
      "100%|██████████| 19/19 [00:15<00:00,  1.23batch/s, TrainAccuracy=98.9, loss=0.848, totalLoss=0.812]\n",
      "100%|██████████| 5/5 [00:01<00:00,  3.75batch/s, ValAccuracy=57.7, lossv=1.42, valLoss=1.39] \n"
     ]
    },
    {
     "name": "stdout",
     "output_type": "stream",
     "text": [
      "Epoch [34], Loss_t: 0.8118,Loss_v: 1.3860, train_acc:98.9079, val_acc:57.7429\n"
     ]
    },
    {
     "name": "stderr",
     "output_type": "stream",
     "text": [
      "100%|██████████| 19/19 [00:15<00:00,  1.23batch/s, TrainAccuracy=98.9, loss=0.825, totalLoss=0.811]\n",
      "100%|██████████| 5/5 [00:01<00:00,  3.76batch/s, ValAccuracy=59.1, lossv=1.49, valLoss=1.35] \n"
     ]
    },
    {
     "name": "stdout",
     "output_type": "stream",
     "text": [
      "Epoch [35], Loss_t: 0.8106,Loss_v: 1.3545, train_acc:98.9342, val_acc:59.1143\n"
     ]
    },
    {
     "name": "stderr",
     "output_type": "stream",
     "text": [
      "100%|██████████| 19/19 [00:15<00:00,  1.23batch/s, TrainAccuracy=99.2, loss=0.798, totalLoss=0.807]\n",
      "100%|██████████| 5/5 [00:01<00:00,  3.75batch/s, ValAccuracy=58.1, lossv=1.34, valLoss=1.37] \n"
     ]
    },
    {
     "name": "stdout",
     "output_type": "stream",
     "text": [
      "Epoch [36], Loss_t: 0.8068,Loss_v: 1.3731, train_acc:99.2105, val_acc:58.1143\n"
     ]
    },
    {
     "name": "stderr",
     "output_type": "stream",
     "text": [
      "100%|██████████| 19/19 [00:15<00:00,  1.23batch/s, TrainAccuracy=99.1, loss=0.783, totalLoss=0.806]\n",
      "100%|██████████| 5/5 [00:01<00:00,  3.75batch/s, ValAccuracy=58, lossv=1.33, valLoss=1.39]  \n"
     ]
    },
    {
     "name": "stdout",
     "output_type": "stream",
     "text": [
      "Epoch [37], Loss_t: 0.8057,Loss_v: 1.3859, train_acc:99.0526, val_acc:57.9714\n"
     ]
    },
    {
     "name": "stderr",
     "output_type": "stream",
     "text": [
      "100%|██████████| 19/19 [00:15<00:00,  1.23batch/s, TrainAccuracy=99.2, loss=0.792, totalLoss=0.803]\n",
      "100%|██████████| 5/5 [00:01<00:00,  3.75batch/s, ValAccuracy=57.9, lossv=1.31, valLoss=1.38] \n"
     ]
    },
    {
     "name": "stdout",
     "output_type": "stream",
     "text": [
      "Epoch [38], Loss_t: 0.8033,Loss_v: 1.3840, train_acc:99.2105, val_acc:57.8857\n"
     ]
    },
    {
     "name": "stderr",
     "output_type": "stream",
     "text": [
      "100%|██████████| 19/19 [00:15<00:00,  1.22batch/s, TrainAccuracy=99.3, loss=0.813, totalLoss=0.803]\n",
      "100%|██████████| 5/5 [00:01<00:00,  3.75batch/s, ValAccuracy=57.9, lossv=1.26, valLoss=1.39] \n"
     ]
    },
    {
     "name": "stdout",
     "output_type": "stream",
     "text": [
      "Epoch [39], Loss_t: 0.8026,Loss_v: 1.3900, train_acc:99.2500, val_acc:57.8571\n"
     ]
    },
    {
     "name": "stderr",
     "output_type": "stream",
     "text": [
      "100%|██████████| 19/19 [00:15<00:00,  1.23batch/s, TrainAccuracy=99.4, loss=0.806, totalLoss=0.801]\n",
      "100%|██████████| 5/5 [00:01<00:00,  3.75batch/s, ValAccuracy=59.7, lossv=1.27, valLoss=1.35] \n"
     ]
    },
    {
     "name": "stdout",
     "output_type": "stream",
     "text": [
      "Epoch [40], Loss_t: 0.8008,Loss_v: 1.3468, train_acc:99.3684, val_acc:59.6857\n"
     ]
    },
    {
     "name": "stderr",
     "output_type": "stream",
     "text": [
      "100%|██████████| 19/19 [00:15<00:00,  1.23batch/s, TrainAccuracy=99.2, loss=0.801, totalLoss=0.801]\n",
      "100%|██████████| 5/5 [00:01<00:00,  3.74batch/s, ValAccuracy=58.9, lossv=1.46, valLoss=1.37] \n"
     ]
    },
    {
     "name": "stdout",
     "output_type": "stream",
     "text": [
      "Epoch [41], Loss_t: 0.8011,Loss_v: 1.3664, train_acc:99.2105, val_acc:58.9429\n"
     ]
    },
    {
     "name": "stderr",
     "output_type": "stream",
     "text": [
      "100%|██████████| 19/19 [00:15<00:00,  1.23batch/s, TrainAccuracy=99.5, loss=0.786, totalLoss=0.798]\n",
      "100%|██████████| 5/5 [00:01<00:00,  3.73batch/s, ValAccuracy=56.9, lossv=1.29, valLoss=1.4]  \n"
     ]
    },
    {
     "name": "stdout",
     "output_type": "stream",
     "text": [
      "Epoch [42], Loss_t: 0.7981,Loss_v: 1.4040, train_acc:99.5263, val_acc:56.8857\n"
     ]
    },
    {
     "name": "stderr",
     "output_type": "stream",
     "text": [
      "100%|██████████| 19/19 [00:15<00:00,  1.23batch/s, TrainAccuracy=99.5, loss=0.782, totalLoss=0.797]\n",
      "100%|██████████| 5/5 [00:01<00:00,  3.74batch/s, ValAccuracy=56.7, lossv=1.29, valLoss=1.41] \n"
     ]
    },
    {
     "name": "stdout",
     "output_type": "stream",
     "text": [
      "Epoch [43], Loss_t: 0.7969,Loss_v: 1.4070, train_acc:99.4737, val_acc:56.6571\n"
     ]
    },
    {
     "name": "stderr",
     "output_type": "stream",
     "text": [
      "100%|██████████| 19/19 [00:15<00:00,  1.23batch/s, TrainAccuracy=99.6, loss=0.79, totalLoss=0.795] \n",
      "100%|██████████| 5/5 [00:01<00:00,  3.74batch/s, ValAccuracy=58.6, lossv=1.49, valLoss=1.38] \n"
     ]
    },
    {
     "name": "stdout",
     "output_type": "stream",
     "text": [
      "Epoch [44], Loss_t: 0.7953,Loss_v: 1.3829, train_acc:99.6316, val_acc:58.5714\n"
     ]
    },
    {
     "name": "stderr",
     "output_type": "stream",
     "text": [
      "100%|██████████| 19/19 [00:15<00:00,  1.23batch/s, TrainAccuracy=99.7, loss=0.779, totalLoss=0.795]\n",
      "100%|██████████| 5/5 [00:01<00:00,  3.73batch/s, ValAccuracy=58.4, lossv=1.36, valLoss=1.39] \n"
     ]
    },
    {
     "name": "stdout",
     "output_type": "stream",
     "text": [
      "Epoch [45], Loss_t: 0.7945,Loss_v: 1.3860, train_acc:99.6842, val_acc:58.4000\n"
     ]
    },
    {
     "name": "stderr",
     "output_type": "stream",
     "text": [
      "100%|██████████| 19/19 [00:15<00:00,  1.23batch/s, TrainAccuracy=99.7, loss=0.792, totalLoss=0.794]\n",
      "100%|██████████| 5/5 [00:01<00:00,  3.74batch/s, ValAccuracy=57.9, lossv=1.25, valLoss=1.39] \n"
     ]
    },
    {
     "name": "stdout",
     "output_type": "stream",
     "text": [
      "Epoch [46], Loss_t: 0.7943,Loss_v: 1.3877, train_acc:99.6842, val_acc:57.9429\n"
     ]
    },
    {
     "name": "stderr",
     "output_type": "stream",
     "text": [
      "100%|██████████| 19/19 [00:15<00:00,  1.22batch/s, TrainAccuracy=99.7, loss=0.786, totalLoss=0.792]\n",
      "100%|██████████| 5/5 [00:01<00:00,  3.77batch/s, ValAccuracy=56.7, lossv=1.49, valLoss=1.41] \n"
     ]
    },
    {
     "name": "stdout",
     "output_type": "stream",
     "text": [
      "Epoch [47], Loss_t: 0.7923,Loss_v: 1.4122, train_acc:99.7368, val_acc:56.6571\n"
     ]
    },
    {
     "name": "stderr",
     "output_type": "stream",
     "text": [
      "100%|██████████| 19/19 [00:15<00:00,  1.23batch/s, TrainAccuracy=99.8, loss=0.792, totalLoss=0.791]\n",
      "100%|██████████| 5/5 [00:01<00:00,  3.76batch/s, ValAccuracy=56.8, lossv=1.3, valLoss=1.41]  \n"
     ]
    },
    {
     "name": "stdout",
     "output_type": "stream",
     "text": [
      "Epoch [48], Loss_t: 0.7913,Loss_v: 1.4070, train_acc:99.7895, val_acc:56.7714\n"
     ]
    },
    {
     "name": "stderr",
     "output_type": "stream",
     "text": [
      "100%|██████████| 19/19 [00:15<00:00,  1.23batch/s, TrainAccuracy=99.8, loss=0.775, totalLoss=0.79] \n",
      "100%|██████████| 5/5 [00:01<00:00,  3.77batch/s, ValAccuracy=58.7, lossv=1.31, valLoss=1.38] \n"
     ]
    },
    {
     "name": "stdout",
     "output_type": "stream",
     "text": [
      "Epoch [49], Loss_t: 0.7902,Loss_v: 1.3781, train_acc:99.7895, val_acc:58.6857\n"
     ]
    },
    {
     "name": "stderr",
     "output_type": "stream",
     "text": [
      "100%|██████████| 5/5 [00:01<00:00,  4.52batch/s]\n"
     ]
    },
    {
     "name": "stdout",
     "output_type": "stream",
     "text": [
      "Fold 4 running\n"
     ]
    },
    {
     "name": "stderr",
     "output_type": "stream",
     "text": [
      "100%|██████████| 19/19 [00:15<00:00,  1.24batch/s, TrainAccuracy=58.3, loss=1.41, totalLoss=1.48] \n",
      "100%|██████████| 5/5 [00:01<00:00,  3.78batch/s, ValAccuracy=68.4, lossv=1.37, valLoss=1.37] \n"
     ]
    },
    {
     "name": "stdout",
     "output_type": "stream",
     "text": [
      "Epoch [0], Loss_t: 1.4832,Loss_v: 1.3698, train_acc:58.3026, val_acc:68.4286\n"
     ]
    },
    {
     "name": "stderr",
     "output_type": "stream",
     "text": [
      "100%|██████████| 19/19 [00:15<00:00,  1.24batch/s, TrainAccuracy=80.7, loss=1.28, totalLoss=1.33] \n",
      "100%|██████████| 5/5 [00:01<00:00,  3.79batch/s, ValAccuracy=57.8, lossv=1.34, valLoss=1.33] \n"
     ]
    },
    {
     "name": "stdout",
     "output_type": "stream",
     "text": [
      "Epoch [1], Loss_t: 1.3282,Loss_v: 1.3309, train_acc:80.6842, val_acc:57.8286\n"
     ]
    },
    {
     "name": "stderr",
     "output_type": "stream",
     "text": [
      "100%|██████████| 19/19 [00:15<00:00,  1.24batch/s, TrainAccuracy=83.5, loss=1.13, totalLoss=1.21] \n",
      "100%|██████████| 5/5 [00:01<00:00,  3.77batch/s, ValAccuracy=62.5, lossv=1.28, valLoss=1.28] \n"
     ]
    },
    {
     "name": "stdout",
     "output_type": "stream",
     "text": [
      "Epoch [2], Loss_t: 1.2129,Loss_v: 1.2819, train_acc:83.5395, val_acc:62.4857\n"
     ]
    },
    {
     "name": "stderr",
     "output_type": "stream",
     "text": [
      "100%|██████████| 19/19 [00:16<00:00,  1.18batch/s, TrainAccuracy=84.7, loss=1.12, totalLoss=1.15] \n",
      "100%|██████████| 5/5 [00:01<00:00,  3.66batch/s, ValAccuracy=62.9, lossv=1.27, valLoss=1.28] \n"
     ]
    },
    {
     "name": "stdout",
     "output_type": "stream",
     "text": [
      "Epoch [3], Loss_t: 1.1531,Loss_v: 1.2775, train_acc:84.6711, val_acc:62.8571\n"
     ]
    },
    {
     "name": "stderr",
     "output_type": "stream",
     "text": [
      "100%|██████████| 19/19 [00:16<00:00,  1.13batch/s, TrainAccuracy=86, loss=1.06, totalLoss=1.11]   \n",
      "100%|██████████| 5/5 [00:01<00:00,  3.60batch/s, ValAccuracy=60.1, lossv=1.39, valLoss=1.36] \n"
     ]
    },
    {
     "name": "stdout",
     "output_type": "stream",
     "text": [
      "Epoch [4], Loss_t: 1.1069,Loss_v: 1.3602, train_acc:85.9605, val_acc:60.1143\n"
     ]
    },
    {
     "name": "stderr",
     "output_type": "stream",
     "text": [
      "100%|██████████| 19/19 [00:15<00:00,  1.19batch/s, TrainAccuracy=86.2, loss=0.971, totalLoss=1.08]\n",
      "100%|██████████| 5/5 [00:01<00:00,  3.70batch/s, ValAccuracy=59.7, lossv=1.57, valLoss=1.37] \n"
     ]
    },
    {
     "name": "stdout",
     "output_type": "stream",
     "text": [
      "Epoch [5], Loss_t: 1.0808,Loss_v: 1.3705, train_acc:86.2105, val_acc:59.7143\n"
     ]
    },
    {
     "name": "stderr",
     "output_type": "stream",
     "text": [
      "100%|██████████| 19/19 [00:15<00:00,  1.20batch/s, TrainAccuracy=87.8, loss=1.01, totalLoss=1.05]  \n",
      "100%|██████████| 5/5 [00:01<00:00,  3.68batch/s, ValAccuracy=61.7, lossv=1.47, valLoss=1.33] \n"
     ]
    },
    {
     "name": "stdout",
     "output_type": "stream",
     "text": [
      "Epoch [6], Loss_t: 1.0542,Loss_v: 1.3336, train_acc:87.7763, val_acc:61.6571\n"
     ]
    },
    {
     "name": "stderr",
     "output_type": "stream",
     "text": [
      "100%|██████████| 19/19 [00:15<00:00,  1.19batch/s, TrainAccuracy=88, loss=1.05, totalLoss=1.04]    \n",
      "100%|██████████| 5/5 [00:01<00:00,  3.57batch/s, ValAccuracy=61.8, lossv=1.38, valLoss=1.32] \n"
     ]
    },
    {
     "name": "stdout",
     "output_type": "stream",
     "text": [
      "Epoch [7], Loss_t: 1.0412,Loss_v: 1.3182, train_acc:88.0395, val_acc:61.8286\n"
     ]
    },
    {
     "name": "stderr",
     "output_type": "stream",
     "text": [
      "100%|██████████| 19/19 [00:16<00:00,  1.15batch/s, TrainAccuracy=88.1, loss=1.02, totalLoss=1.03]  \n",
      "100%|██████████| 5/5 [00:01<00:00,  3.52batch/s, ValAccuracy=61.6, lossv=1.5, valLoss=1.35]  \n"
     ]
    },
    {
     "name": "stdout",
     "output_type": "stream",
     "text": [
      "Epoch [8], Loss_t: 1.0306,Loss_v: 1.3458, train_acc:88.1447, val_acc:61.5714\n"
     ]
    },
    {
     "name": "stderr",
     "output_type": "stream",
     "text": [
      "100%|██████████| 19/19 [00:16<00:00,  1.17batch/s, TrainAccuracy=88.3, loss=1.13, totalLoss=1.02]  \n",
      "100%|██████████| 5/5 [00:01<00:00,  3.75batch/s, ValAccuracy=62.1, lossv=1.31, valLoss=1.34] \n"
     ]
    },
    {
     "name": "stdout",
     "output_type": "stream",
     "text": [
      "Epoch [9], Loss_t: 1.0232,Loss_v: 1.3403, train_acc:88.2763, val_acc:62.1429\n"
     ]
    },
    {
     "name": "stderr",
     "output_type": "stream",
     "text": [
      "100%|██████████| 19/19 [00:16<00:00,  1.17batch/s, TrainAccuracy=88.2, loss=1.01, totalLoss=1.02]  \n",
      "100%|██████████| 5/5 [00:01<00:00,  3.61batch/s, ValAccuracy=62.5, lossv=1.28, valLoss=1.32] \n"
     ]
    },
    {
     "name": "stdout",
     "output_type": "stream",
     "text": [
      "Epoch [10], Loss_t: 1.0168,Loss_v: 1.3163, train_acc:88.2368, val_acc:62.5429\n"
     ]
    },
    {
     "name": "stderr",
     "output_type": "stream",
     "text": [
      "100%|██████████| 19/19 [00:15<00:00,  1.22batch/s, TrainAccuracy=88.4, loss=1.17, totalLoss=1.02]  \n",
      "100%|██████████| 5/5 [00:01<00:00,  3.71batch/s, ValAccuracy=63.3, lossv=1.37, valLoss=1.3]  \n"
     ]
    },
    {
     "name": "stdout",
     "output_type": "stream",
     "text": [
      "Epoch [11], Loss_t: 1.0159,Loss_v: 1.2952, train_acc:88.4079, val_acc:63.3143\n"
     ]
    },
    {
     "name": "stderr",
     "output_type": "stream",
     "text": [
      "100%|██████████| 19/19 [00:15<00:00,  1.21batch/s, TrainAccuracy=88.5, loss=0.958, totalLoss=1.01] \n",
      "100%|██████████| 5/5 [00:01<00:00,  3.68batch/s, ValAccuracy=62.8, lossv=1.25, valLoss=1.32] \n"
     ]
    },
    {
     "name": "stdout",
     "output_type": "stream",
     "text": [
      "Epoch [12], Loss_t: 1.0075,Loss_v: 1.3187, train_acc:88.4868, val_acc:62.8286\n"
     ]
    },
    {
     "name": "stderr",
     "output_type": "stream",
     "text": [
      "100%|██████████| 19/19 [00:15<00:00,  1.21batch/s, TrainAccuracy=88.8, loss=1.07, totalLoss=1]     \n",
      "100%|██████████| 5/5 [00:01<00:00,  3.54batch/s, ValAccuracy=62.4, lossv=1.31, valLoss=1.33] \n"
     ]
    },
    {
     "name": "stdout",
     "output_type": "stream",
     "text": [
      "Epoch [13], Loss_t: 1.0015,Loss_v: 1.3259, train_acc:88.8026, val_acc:62.3714\n"
     ]
    },
    {
     "name": "stderr",
     "output_type": "stream",
     "text": [
      "100%|██████████| 19/19 [00:16<00:00,  1.17batch/s, TrainAccuracy=88.9, loss=0.971, totalLoss=0.998]\n",
      "100%|██████████| 5/5 [00:01<00:00,  3.62batch/s, ValAccuracy=60.9, lossv=1.3, valLoss=1.37]  \n"
     ]
    },
    {
     "name": "stdout",
     "output_type": "stream",
     "text": [
      "Epoch [14], Loss_t: 0.9983,Loss_v: 1.3707, train_acc:88.9079, val_acc:60.9429\n"
     ]
    },
    {
     "name": "stderr",
     "output_type": "stream",
     "text": [
      "100%|██████████| 19/19 [00:15<00:00,  1.21batch/s, TrainAccuracy=88.7, loss=1.06, totalLoss=0.996] \n",
      "100%|██████████| 5/5 [00:01<00:00,  3.76batch/s, ValAccuracy=60.2, lossv=1.56, valLoss=1.38] \n"
     ]
    },
    {
     "name": "stdout",
     "output_type": "stream",
     "text": [
      "Epoch [15], Loss_t: 0.9961,Loss_v: 1.3837, train_acc:88.6711, val_acc:60.2000\n"
     ]
    },
    {
     "name": "stderr",
     "output_type": "stream",
     "text": [
      "100%|██████████| 19/19 [00:15<00:00,  1.21batch/s, TrainAccuracy=89, loss=0.995, totalLoss=0.992]  \n",
      "100%|██████████| 5/5 [00:01<00:00,  3.57batch/s, ValAccuracy=60.7, lossv=1.43, valLoss=1.37] \n"
     ]
    },
    {
     "name": "stdout",
     "output_type": "stream",
     "text": [
      "Epoch [16], Loss_t: 0.9923,Loss_v: 1.3745, train_acc:89.0395, val_acc:60.7143\n"
     ]
    },
    {
     "name": "stderr",
     "output_type": "stream",
     "text": [
      "100%|██████████| 19/19 [00:16<00:00,  1.18batch/s, TrainAccuracy=89.3, loss=1.01, totalLoss=0.989] \n",
      "100%|██████████| 5/5 [00:01<00:00,  3.49batch/s, ValAccuracy=62.8, lossv=1.32, valLoss=1.32] \n"
     ]
    },
    {
     "name": "stdout",
     "output_type": "stream",
     "text": [
      "Epoch [17], Loss_t: 0.9889,Loss_v: 1.3196, train_acc:89.3421, val_acc:62.7714\n"
     ]
    },
    {
     "name": "stderr",
     "output_type": "stream",
     "text": [
      "100%|██████████| 19/19 [00:15<00:00,  1.20batch/s, TrainAccuracy=89.6, loss=1.08, totalLoss=0.986] \n",
      "100%|██████████| 5/5 [00:01<00:00,  3.71batch/s, ValAccuracy=62.2, lossv=1.38, valLoss=1.33] \n"
     ]
    },
    {
     "name": "stdout",
     "output_type": "stream",
     "text": [
      "Epoch [18], Loss_t: 0.9860,Loss_v: 1.3347, train_acc:89.5658, val_acc:62.2000\n"
     ]
    },
    {
     "name": "stderr",
     "output_type": "stream",
     "text": [
      "100%|██████████| 19/19 [00:15<00:00,  1.21batch/s, TrainAccuracy=89.6, loss=0.926, totalLoss=0.981]\n",
      "100%|██████████| 5/5 [00:01<00:00,  3.72batch/s, ValAccuracy=61.5, lossv=1.42, valLoss=1.35] \n"
     ]
    },
    {
     "name": "stdout",
     "output_type": "stream",
     "text": [
      "Epoch [19], Loss_t: 0.9808,Loss_v: 1.3465, train_acc:89.6184, val_acc:61.5143\n"
     ]
    },
    {
     "name": "stderr",
     "output_type": "stream",
     "text": [
      "100%|██████████| 19/19 [00:15<00:00,  1.22batch/s, TrainAccuracy=89.6, loss=0.952, totalLoss=0.978]\n",
      "100%|██████████| 5/5 [00:01<00:00,  3.72batch/s, ValAccuracy=62.7, lossv=1.12, valLoss=1.32] \n"
     ]
    },
    {
     "name": "stdout",
     "output_type": "stream",
     "text": [
      "Epoch [20], Loss_t: 0.9782,Loss_v: 1.3229, train_acc:89.5526, val_acc:62.6857\n"
     ]
    },
    {
     "name": "stderr",
     "output_type": "stream",
     "text": [
      "100%|██████████| 19/19 [00:15<00:00,  1.21batch/s, TrainAccuracy=89.9, loss=0.943, totalLoss=0.977]\n",
      "100%|██████████| 5/5 [00:01<00:00,  3.71batch/s, ValAccuracy=60.5, lossv=1.4, valLoss=1.37]  \n"
     ]
    },
    {
     "name": "stdout",
     "output_type": "stream",
     "text": [
      "Epoch [21], Loss_t: 0.9766,Loss_v: 1.3698, train_acc:89.8816, val_acc:60.5143\n"
     ]
    },
    {
     "name": "stderr",
     "output_type": "stream",
     "text": [
      "100%|██████████| 19/19 [00:15<00:00,  1.22batch/s, TrainAccuracy=90.1, loss=1.01, totalLoss=0.974] \n",
      "100%|██████████| 5/5 [00:01<00:00,  3.69batch/s, ValAccuracy=63.5, lossv=1.18, valLoss=1.3]  \n"
     ]
    },
    {
     "name": "stdout",
     "output_type": "stream",
     "text": [
      "Epoch [22], Loss_t: 0.9737,Loss_v: 1.2952, train_acc:90.0921, val_acc:63.4857\n"
     ]
    },
    {
     "name": "stderr",
     "output_type": "stream",
     "text": [
      "100%|██████████| 19/19 [00:15<00:00,  1.22batch/s, TrainAccuracy=90.4, loss=0.93, totalLoss=0.969] \n",
      "100%|██████████| 5/5 [00:01<00:00,  3.76batch/s, ValAccuracy=62.8, lossv=1.32, valLoss=1.28] \n"
     ]
    },
    {
     "name": "stdout",
     "output_type": "stream",
     "text": [
      "Epoch [23], Loss_t: 0.9691,Loss_v: 1.2842, train_acc:90.4079, val_acc:62.8000\n"
     ]
    },
    {
     "name": "stderr",
     "output_type": "stream",
     "text": [
      "100%|██████████| 19/19 [00:15<00:00,  1.23batch/s, TrainAccuracy=90.5, loss=0.918, totalLoss=0.964]\n",
      "100%|██████████| 5/5 [00:01<00:00,  3.78batch/s, ValAccuracy=61.6, lossv=1.32, valLoss=1.34] \n"
     ]
    },
    {
     "name": "stdout",
     "output_type": "stream",
     "text": [
      "Epoch [24], Loss_t: 0.9644,Loss_v: 1.3429, train_acc:90.5263, val_acc:61.5714\n"
     ]
    },
    {
     "name": "stderr",
     "output_type": "stream",
     "text": [
      "100%|██████████| 19/19 [00:15<00:00,  1.24batch/s, TrainAccuracy=90.7, loss=0.978, totalLoss=0.962]\n",
      "100%|██████████| 5/5 [00:01<00:00,  3.79batch/s, ValAccuracy=62.4, lossv=1.43, valLoss=1.3]  \n"
     ]
    },
    {
     "name": "stdout",
     "output_type": "stream",
     "text": [
      "Epoch [25], Loss_t: 0.9616,Loss_v: 1.2984, train_acc:90.7368, val_acc:62.4286\n"
     ]
    },
    {
     "name": "stderr",
     "output_type": "stream",
     "text": [
      "100%|██████████| 19/19 [00:15<00:00,  1.24batch/s, TrainAccuracy=91.1, loss=0.899, totalLoss=0.955]\n",
      "100%|██████████| 5/5 [00:01<00:00,  3.77batch/s, ValAccuracy=63.1, lossv=1.35, valLoss=1.28] \n"
     ]
    },
    {
     "name": "stdout",
     "output_type": "stream",
     "text": [
      "Epoch [26], Loss_t: 0.9551,Loss_v: 1.2777, train_acc:91.0526, val_acc:63.1143\n"
     ]
    },
    {
     "name": "stderr",
     "output_type": "stream",
     "text": [
      "100%|██████████| 19/19 [00:15<00:00,  1.24batch/s, TrainAccuracy=91.4, loss=0.904, totalLoss=0.951]\n",
      "100%|██████████| 5/5 [00:01<00:00,  3.77batch/s, ValAccuracy=64, lossv=1.27, valLoss=1.26]   \n"
     ]
    },
    {
     "name": "stdout",
     "output_type": "stream",
     "text": [
      "Epoch [27], Loss_t: 0.9507,Loss_v: 1.2589, train_acc:91.3684, val_acc:63.9714\n"
     ]
    },
    {
     "name": "stderr",
     "output_type": "stream",
     "text": [
      "100%|██████████| 19/19 [00:15<00:00,  1.23batch/s, TrainAccuracy=92.1, loss=0.918, totalLoss=0.944]\n",
      "100%|██████████| 5/5 [00:01<00:00,  3.75batch/s, ValAccuracy=64.9, lossv=1.24, valLoss=1.23] \n"
     ]
    },
    {
     "name": "stdout",
     "output_type": "stream",
     "text": [
      "Epoch [28], Loss_t: 0.9436,Loss_v: 1.2324, train_acc:92.1316, val_acc:64.9429\n"
     ]
    },
    {
     "name": "stderr",
     "output_type": "stream",
     "text": [
      "100%|██████████| 19/19 [00:15<00:00,  1.23batch/s, TrainAccuracy=92.5, loss=0.979, totalLoss=0.94] \n",
      "100%|██████████| 5/5 [00:01<00:00,  3.76batch/s, ValAccuracy=64.7, lossv=1.38, valLoss=1.22] \n"
     ]
    },
    {
     "name": "stdout",
     "output_type": "stream",
     "text": [
      "Epoch [29], Loss_t: 0.9397,Loss_v: 1.2209, train_acc:92.5263, val_acc:64.7429\n"
     ]
    },
    {
     "name": "stderr",
     "output_type": "stream",
     "text": [
      "100%|██████████| 19/19 [00:15<00:00,  1.23batch/s, TrainAccuracy=93.1, loss=0.901, totalLoss=0.933]\n",
      "100%|██████████| 5/5 [00:01<00:00,  3.76batch/s, ValAccuracy=66.1, lossv=1.25, valLoss=1.2]  \n"
     ]
    },
    {
     "name": "stdout",
     "output_type": "stream",
     "text": [
      "Epoch [30], Loss_t: 0.9335,Loss_v: 1.1971, train_acc:93.0526, val_acc:66.0571\n"
     ]
    },
    {
     "name": "stderr",
     "output_type": "stream",
     "text": [
      "100%|██████████| 19/19 [00:15<00:00,  1.23batch/s, TrainAccuracy=92.9, loss=0.956, totalLoss=0.932]\n",
      "100%|██████████| 5/5 [00:01<00:00,  3.75batch/s, ValAccuracy=66.3, lossv=1.25, valLoss=1.19] \n"
     ]
    },
    {
     "name": "stdout",
     "output_type": "stream",
     "text": [
      "Epoch [31], Loss_t: 0.9316,Loss_v: 1.1903, train_acc:92.9474, val_acc:66.3429\n"
     ]
    },
    {
     "name": "stderr",
     "output_type": "stream",
     "text": [
      "100%|██████████| 19/19 [00:15<00:00,  1.23batch/s, TrainAccuracy=93, loss=0.919, totalLoss=0.926]  \n",
      "100%|██████████| 5/5 [00:01<00:00,  3.73batch/s, ValAccuracy=71.2, lossv=1.01, valLoss=1.12] \n"
     ]
    },
    {
     "name": "stdout",
     "output_type": "stream",
     "text": [
      "Epoch [32], Loss_t: 0.9255,Loss_v: 1.1213, train_acc:93.0000, val_acc:71.2000\n"
     ]
    },
    {
     "name": "stderr",
     "output_type": "stream",
     "text": [
      "100%|██████████| 19/19 [00:15<00:00,  1.23batch/s, TrainAccuracy=93.2, loss=0.875, totalLoss=0.922]\n",
      "100%|██████████| 5/5 [00:01<00:00,  3.62batch/s, ValAccuracy=70.5, lossv=1.1, valLoss=1.13]  \n"
     ]
    },
    {
     "name": "stdout",
     "output_type": "stream",
     "text": [
      "Epoch [33], Loss_t: 0.9225,Loss_v: 1.1267, train_acc:93.1579, val_acc:70.5429\n"
     ]
    },
    {
     "name": "stderr",
     "output_type": "stream",
     "text": [
      "100%|██████████| 19/19 [00:15<00:00,  1.22batch/s, TrainAccuracy=93.6, loss=0.862, totalLoss=0.916]\n",
      "100%|██████████| 5/5 [00:01<00:00,  3.77batch/s, ValAccuracy=67.6, lossv=1.08, valLoss=1.17] \n"
     ]
    },
    {
     "name": "stdout",
     "output_type": "stream",
     "text": [
      "Epoch [34], Loss_t: 0.9162,Loss_v: 1.1725, train_acc:93.5526, val_acc:67.5714\n"
     ]
    },
    {
     "name": "stderr",
     "output_type": "stream",
     "text": [
      "100%|██████████| 19/19 [00:15<00:00,  1.23batch/s, TrainAccuracy=94.1, loss=0.896, totalLoss=0.911]\n",
      "100%|██████████| 5/5 [00:01<00:00,  3.78batch/s, ValAccuracy=71.5, lossv=0.988, valLoss=1.11]\n"
     ]
    },
    {
     "name": "stdout",
     "output_type": "stream",
     "text": [
      "Epoch [35], Loss_t: 0.9109,Loss_v: 1.1069, train_acc:94.0526, val_acc:71.5143\n"
     ]
    },
    {
     "name": "stderr",
     "output_type": "stream",
     "text": [
      "100%|██████████| 19/19 [00:15<00:00,  1.23batch/s, TrainAccuracy=93.7, loss=0.893, totalLoss=0.907]\n",
      "100%|██████████| 5/5 [00:01<00:00,  3.77batch/s, ValAccuracy=67.6, lossv=1.18, valLoss=1.17] \n"
     ]
    },
    {
     "name": "stdout",
     "output_type": "stream",
     "text": [
      "Epoch [36], Loss_t: 0.9070,Loss_v: 1.1749, train_acc:93.7237, val_acc:67.6286\n"
     ]
    },
    {
     "name": "stderr",
     "output_type": "stream",
     "text": [
      "100%|██████████| 19/19 [00:15<00:00,  1.23batch/s, TrainAccuracy=94.3, loss=0.938, totalLoss=0.901]\n",
      "100%|██████████| 5/5 [00:01<00:00,  3.77batch/s, ValAccuracy=69.6, lossv=1.07, valLoss=1.14] \n"
     ]
    },
    {
     "name": "stdout",
     "output_type": "stream",
     "text": [
      "Epoch [37], Loss_t: 0.9011,Loss_v: 1.1371, train_acc:94.3289, val_acc:69.5714\n"
     ]
    },
    {
     "name": "stderr",
     "output_type": "stream",
     "text": [
      "100%|██████████| 19/19 [00:15<00:00,  1.22batch/s, TrainAccuracy=94.7, loss=0.962, totalLoss=0.898]\n",
      "100%|██████████| 5/5 [00:01<00:00,  3.57batch/s, ValAccuracy=71.4, lossv=1.1, valLoss=1.1]   \n"
     ]
    },
    {
     "name": "stdout",
     "output_type": "stream",
     "text": [
      "Epoch [38], Loss_t: 0.8978,Loss_v: 1.0997, train_acc:94.6842, val_acc:71.4000\n"
     ]
    },
    {
     "name": "stderr",
     "output_type": "stream",
     "text": [
      "100%|██████████| 19/19 [00:16<00:00,  1.15batch/s, TrainAccuracy=94.6, loss=0.896, totalLoss=0.896]\n",
      "100%|██████████| 5/5 [00:01<00:00,  3.46batch/s, ValAccuracy=78.5, lossv=0.957, valLoss=1]    \n"
     ]
    },
    {
     "name": "stdout",
     "output_type": "stream",
     "text": [
      "Epoch [39], Loss_t: 0.8959,Loss_v: 0.9999, train_acc:94.6184, val_acc:78.4857\n"
     ]
    },
    {
     "name": "stderr",
     "output_type": "stream",
     "text": [
      "100%|██████████| 19/19 [00:16<00:00,  1.14batch/s, TrainAccuracy=94.3, loss=0.86, totalLoss=0.897] \n",
      "100%|██████████| 5/5 [00:01<00:00,  3.44batch/s, ValAccuracy=71.1, lossv=1.08, valLoss=1.12] \n"
     ]
    },
    {
     "name": "stdout",
     "output_type": "stream",
     "text": [
      "Epoch [40], Loss_t: 0.8969,Loss_v: 1.1222, train_acc:94.2895, val_acc:71.0857\n"
     ]
    },
    {
     "name": "stderr",
     "output_type": "stream",
     "text": [
      "100%|██████████| 19/19 [00:16<00:00,  1.13batch/s, TrainAccuracy=95.3, loss=0.928, totalLoss=0.885]\n",
      "100%|██████████| 5/5 [00:01<00:00,  3.46batch/s, ValAccuracy=72.9, lossv=1.14, valLoss=1.07] \n"
     ]
    },
    {
     "name": "stdout",
     "output_type": "stream",
     "text": [
      "Epoch [41], Loss_t: 0.8847,Loss_v: 1.0712, train_acc:95.2632, val_acc:72.8571\n"
     ]
    },
    {
     "name": "stderr",
     "output_type": "stream",
     "text": [
      "100%|██████████| 19/19 [00:16<00:00,  1.13batch/s, TrainAccuracy=95.7, loss=0.907, totalLoss=0.88] \n",
      "100%|██████████| 5/5 [00:01<00:00,  3.42batch/s, ValAccuracy=66.8, lossv=1.1, valLoss=1.2]   \n"
     ]
    },
    {
     "name": "stdout",
     "output_type": "stream",
     "text": [
      "Epoch [42], Loss_t: 0.8802,Loss_v: 1.1972, train_acc:95.6711, val_acc:66.7714\n"
     ]
    },
    {
     "name": "stderr",
     "output_type": "stream",
     "text": [
      "100%|██████████| 19/19 [00:16<00:00,  1.18batch/s, TrainAccuracy=95.6, loss=0.916, totalLoss=0.878]\n",
      "100%|██████████| 5/5 [00:01<00:00,  3.69batch/s, ValAccuracy=70.4, lossv=1.15, valLoss=1.13] \n"
     ]
    },
    {
     "name": "stdout",
     "output_type": "stream",
     "text": [
      "Epoch [43], Loss_t: 0.8778,Loss_v: 1.1261, train_acc:95.6447, val_acc:70.4286\n"
     ]
    },
    {
     "name": "stderr",
     "output_type": "stream",
     "text": [
      "100%|██████████| 19/19 [00:15<00:00,  1.22batch/s, TrainAccuracy=96, loss=0.893, totalLoss=0.873]  \n",
      "100%|██████████| 5/5 [00:01<00:00,  3.75batch/s, ValAccuracy=69.2, lossv=1.24, valLoss=1.15] \n"
     ]
    },
    {
     "name": "stdout",
     "output_type": "stream",
     "text": [
      "Epoch [44], Loss_t: 0.8731,Loss_v: 1.1509, train_acc:96.0000, val_acc:69.1714\n"
     ]
    },
    {
     "name": "stderr",
     "output_type": "stream",
     "text": [
      "100%|██████████| 19/19 [00:15<00:00,  1.23batch/s, TrainAccuracy=96.5, loss=0.86, totalLoss=0.869] \n",
      "100%|██████████| 5/5 [00:01<00:00,  3.77batch/s, ValAccuracy=74.3, lossv=1.05, valLoss=1.07] \n"
     ]
    },
    {
     "name": "stdout",
     "output_type": "stream",
     "text": [
      "Epoch [45], Loss_t: 0.8686,Loss_v: 1.0744, train_acc:96.5000, val_acc:74.2571\n"
     ]
    },
    {
     "name": "stderr",
     "output_type": "stream",
     "text": [
      "100%|██████████| 19/19 [00:15<00:00,  1.22batch/s, TrainAccuracy=96.4, loss=0.843, totalLoss=0.865]\n",
      "100%|██████████| 5/5 [00:01<00:00,  3.75batch/s, ValAccuracy=72.4, lossv=1.02, valLoss=1.11] \n"
     ]
    },
    {
     "name": "stdout",
     "output_type": "stream",
     "text": [
      "Epoch [46], Loss_t: 0.8651,Loss_v: 1.1081, train_acc:96.3816, val_acc:72.4286\n"
     ]
    },
    {
     "name": "stderr",
     "output_type": "stream",
     "text": [
      "100%|██████████| 19/19 [00:15<00:00,  1.21batch/s, TrainAccuracy=96.8, loss=0.864, totalLoss=0.861]\n",
      "100%|██████████| 5/5 [00:01<00:00,  3.76batch/s, ValAccuracy=65.9, lossv=1.17, valLoss=1.22] \n"
     ]
    },
    {
     "name": "stdout",
     "output_type": "stream",
     "text": [
      "Epoch [47], Loss_t: 0.8609,Loss_v: 1.2158, train_acc:96.8026, val_acc:65.9143\n"
     ]
    },
    {
     "name": "stderr",
     "output_type": "stream",
     "text": [
      "100%|██████████| 19/19 [00:15<00:00,  1.23batch/s, TrainAccuracy=96.2, loss=0.797, totalLoss=0.863]\n",
      "100%|██████████| 5/5 [00:01<00:00,  3.79batch/s, ValAccuracy=67.2, lossv=1.1, valLoss=1.2]   \n"
     ]
    },
    {
     "name": "stdout",
     "output_type": "stream",
     "text": [
      "Epoch [48], Loss_t: 0.8634,Loss_v: 1.1978, train_acc:96.2500, val_acc:67.1714\n"
     ]
    },
    {
     "name": "stderr",
     "output_type": "stream",
     "text": [
      "100%|██████████| 19/19 [00:15<00:00,  1.23batch/s, TrainAccuracy=96.6, loss=0.842, totalLoss=0.856]\n",
      "100%|██████████| 5/5 [00:01<00:00,  3.64batch/s, ValAccuracy=75.9, lossv=0.976, valLoss=1.04]\n"
     ]
    },
    {
     "name": "stdout",
     "output_type": "stream",
     "text": [
      "Epoch [49], Loss_t: 0.8556,Loss_v: 1.0395, train_acc:96.6053, val_acc:75.8857\n"
     ]
    },
    {
     "name": "stderr",
     "output_type": "stream",
     "text": [
      "100%|██████████| 5/5 [00:01<00:00,  4.24batch/s]\n"
     ]
    },
    {
     "name": "stdout",
     "output_type": "stream",
     "text": [
      "Fold 5 running\n"
     ]
    },
    {
     "name": "stderr",
     "output_type": "stream",
     "text": [
      "100%|██████████| 19/19 [00:15<00:00,  1.24batch/s, TrainAccuracy=54.9, loss=1.51, totalLoss=1.5]  \n",
      "100%|██████████| 5/5 [00:01<00:00,  3.78batch/s, ValAccuracy=50.5, lossv=1.36, valLoss=1.37] \n"
     ]
    },
    {
     "name": "stdout",
     "output_type": "stream",
     "text": [
      "Epoch [0], Loss_t: 1.5049,Loss_v: 1.3701, train_acc:54.8816, val_acc:50.5143\n"
     ]
    },
    {
     "name": "stderr",
     "output_type": "stream",
     "text": [
      "100%|██████████| 19/19 [00:15<00:00,  1.24batch/s, TrainAccuracy=73.3, loss=1.28, totalLoss=1.37] \n",
      "100%|██████████| 5/5 [00:01<00:00,  3.78batch/s, ValAccuracy=73.2, lossv=1.22, valLoss=1.26] \n"
     ]
    },
    {
     "name": "stdout",
     "output_type": "stream",
     "text": [
      "Epoch [1], Loss_t: 1.3736,Loss_v: 1.2593, train_acc:73.3026, val_acc:73.2000\n"
     ]
    },
    {
     "name": "stderr",
     "output_type": "stream",
     "text": [
      "100%|██████████| 19/19 [00:15<00:00,  1.24batch/s, TrainAccuracy=83, loss=1.22, totalLoss=1.27]   \n",
      "100%|██████████| 5/5 [00:01<00:00,  3.76batch/s, ValAccuracy=68.4, lossv=1.2, valLoss=1.2] \n"
     ]
    },
    {
     "name": "stdout",
     "output_type": "stream",
     "text": [
      "Epoch [2], Loss_t: 1.2692,Loss_v: 1.1954, train_acc:82.9605, val_acc:68.4286\n"
     ]
    },
    {
     "name": "stderr",
     "output_type": "stream",
     "text": [
      "100%|██████████| 19/19 [00:15<00:00,  1.23batch/s, TrainAccuracy=83.5, loss=1.16, totalLoss=1.2]  \n",
      "100%|██████████| 5/5 [00:01<00:00,  3.75batch/s, ValAccuracy=75.6, lossv=1.08, valLoss=1.14] \n"
     ]
    },
    {
     "name": "stdout",
     "output_type": "stream",
     "text": [
      "Epoch [3], Loss_t: 1.1980,Loss_v: 1.1375, train_acc:83.5132, val_acc:75.6000\n"
     ]
    },
    {
     "name": "stderr",
     "output_type": "stream",
     "text": [
      "100%|██████████| 19/19 [00:15<00:00,  1.22batch/s, TrainAccuracy=85.8, loss=1.12, totalLoss=1.15] \n",
      "100%|██████████| 5/5 [00:01<00:00,  3.78batch/s, ValAccuracy=71.9, lossv=1.03, valLoss=1.14] \n"
     ]
    },
    {
     "name": "stdout",
     "output_type": "stream",
     "text": [
      "Epoch [4], Loss_t: 1.1466,Loss_v: 1.1448, train_acc:85.8026, val_acc:71.8857\n"
     ]
    },
    {
     "name": "stderr",
     "output_type": "stream",
     "text": [
      "100%|██████████| 19/19 [00:15<00:00,  1.20batch/s, TrainAccuracy=86.4, loss=1.04, totalLoss=1.11] \n",
      "100%|██████████| 5/5 [00:01<00:00,  3.68batch/s, ValAccuracy=71.8, lossv=1.07, valLoss=1.14] \n"
     ]
    },
    {
     "name": "stdout",
     "output_type": "stream",
     "text": [
      "Epoch [5], Loss_t: 1.1102,Loss_v: 1.1439, train_acc:86.4079, val_acc:71.8286\n"
     ]
    },
    {
     "name": "stderr",
     "output_type": "stream",
     "text": [
      "100%|██████████| 19/19 [00:15<00:00,  1.23batch/s, TrainAccuracy=86.7, loss=1.21, totalLoss=1.09] \n",
      "100%|██████████| 5/5 [00:01<00:00,  3.76batch/s, ValAccuracy=77.1, lossv=1.11, valLoss=1.11] \n"
     ]
    },
    {
     "name": "stdout",
     "output_type": "stream",
     "text": [
      "Epoch [6], Loss_t: 1.0897,Loss_v: 1.1083, train_acc:86.7237, val_acc:77.0571\n"
     ]
    },
    {
     "name": "stderr",
     "output_type": "stream",
     "text": [
      "100%|██████████| 19/19 [00:15<00:00,  1.23batch/s, TrainAccuracy=86.6, loss=1.1, totalLoss=1.07]  \n",
      "100%|██████████| 5/5 [00:01<00:00,  3.76batch/s, ValAccuracy=70.6, lossv=1.12, valLoss=1.15] \n"
     ]
    },
    {
     "name": "stdout",
     "output_type": "stream",
     "text": [
      "Epoch [7], Loss_t: 1.0722,Loss_v: 1.1513, train_acc:86.5658, val_acc:70.5714\n"
     ]
    },
    {
     "name": "stderr",
     "output_type": "stream",
     "text": [
      "100%|██████████| 19/19 [00:15<00:00,  1.21batch/s, TrainAccuracy=87.1, loss=1.03, totalLoss=1.06]  \n",
      "100%|██████████| 5/5 [00:01<00:00,  3.45batch/s, ValAccuracy=67.2, lossv=1.12, valLoss=1.17] \n"
     ]
    },
    {
     "name": "stdout",
     "output_type": "stream",
     "text": [
      "Epoch [8], Loss_t: 1.0564,Loss_v: 1.1741, train_acc:87.0921, val_acc:67.2286\n"
     ]
    },
    {
     "name": "stderr",
     "output_type": "stream",
     "text": [
      "100%|██████████| 19/19 [00:16<00:00,  1.18batch/s, TrainAccuracy=87.9, loss=1.03, totalLoss=1.05] \n",
      "100%|██████████| 5/5 [00:01<00:00,  3.63batch/s, ValAccuracy=75.3, lossv=1.09, valLoss=1.1]  \n"
     ]
    },
    {
     "name": "stdout",
     "output_type": "stream",
     "text": [
      "Epoch [9], Loss_t: 1.0469,Loss_v: 1.0998, train_acc:87.8684, val_acc:75.3429\n"
     ]
    },
    {
     "name": "stderr",
     "output_type": "stream",
     "text": [
      "100%|██████████| 19/19 [00:16<00:00,  1.15batch/s, TrainAccuracy=88.1, loss=0.972, totalLoss=1.03] \n",
      "100%|██████████| 5/5 [00:01<00:00,  3.65batch/s, ValAccuracy=73.9, lossv=1.07, valLoss=1.1]  \n"
     ]
    },
    {
     "name": "stdout",
     "output_type": "stream",
     "text": [
      "Epoch [10], Loss_t: 1.0270,Loss_v: 1.0998, train_acc:88.0921, val_acc:73.8571\n"
     ]
    },
    {
     "name": "stderr",
     "output_type": "stream",
     "text": [
      "100%|██████████| 19/19 [00:15<00:00,  1.24batch/s, TrainAccuracy=88.8, loss=1.03, totalLoss=1.02]  \n",
      "100%|██████████| 5/5 [00:01<00:00,  3.62batch/s, ValAccuracy=78.8, lossv=1.05, valLoss=1.06]  \n"
     ]
    },
    {
     "name": "stdout",
     "output_type": "stream",
     "text": [
      "Epoch [11], Loss_t: 1.0167,Loss_v: 1.0577, train_acc:88.8289, val_acc:78.7714\n"
     ]
    },
    {
     "name": "stderr",
     "output_type": "stream",
     "text": [
      "100%|██████████| 19/19 [00:15<00:00,  1.21batch/s, TrainAccuracy=89.4, loss=0.975, totalLoss=1]    \n",
      "100%|██████████| 5/5 [00:01<00:00,  3.52batch/s, ValAccuracy=76.6, lossv=1.03, valLoss=1.07] \n"
     ]
    },
    {
     "name": "stdout",
     "output_type": "stream",
     "text": [
      "Epoch [12], Loss_t: 1.0029,Loss_v: 1.0660, train_acc:89.4342, val_acc:76.6286\n"
     ]
    },
    {
     "name": "stderr",
     "output_type": "stream",
     "text": [
      "100%|██████████| 19/19 [00:16<00:00,  1.17batch/s, TrainAccuracy=90.2, loss=1.01, totalLoss=0.992] \n",
      "100%|██████████| 5/5 [00:01<00:00,  3.72batch/s, ValAccuracy=76.5, lossv=1.2, valLoss=1.06]   \n"
     ]
    },
    {
     "name": "stdout",
     "output_type": "stream",
     "text": [
      "Epoch [13], Loss_t: 0.9915,Loss_v: 1.0633, train_acc:90.2105, val_acc:76.4571\n"
     ]
    },
    {
     "name": "stderr",
     "output_type": "stream",
     "text": [
      "100%|██████████| 19/19 [00:15<00:00,  1.21batch/s, TrainAccuracy=90.2, loss=1.01, totalLoss=0.985] \n",
      "100%|██████████| 5/5 [00:01<00:00,  3.68batch/s, ValAccuracy=80.5, lossv=1.03, valLoss=1.02] \n"
     ]
    },
    {
     "name": "stdout",
     "output_type": "stream",
     "text": [
      "Epoch [14], Loss_t: 0.9852,Loss_v: 1.0179, train_acc:90.1842, val_acc:80.5143\n"
     ]
    },
    {
     "name": "stderr",
     "output_type": "stream",
     "text": [
      "100%|██████████| 19/19 [00:15<00:00,  1.22batch/s, TrainAccuracy=91.3, loss=0.934, totalLoss=0.971]\n",
      "100%|██████████| 5/5 [00:01<00:00,  3.57batch/s, ValAccuracy=76.6, lossv=1.11, valLoss=1.05]  \n"
     ]
    },
    {
     "name": "stdout",
     "output_type": "stream",
     "text": [
      "Epoch [15], Loss_t: 0.9714,Loss_v: 1.0479, train_acc:91.3026, val_acc:76.6000\n"
     ]
    },
    {
     "name": "stderr",
     "output_type": "stream",
     "text": [
      "100%|██████████| 19/19 [00:16<00:00,  1.19batch/s, TrainAccuracy=92, loss=0.974, totalLoss=0.964]  \n",
      "100%|██████████| 5/5 [00:01<00:00,  3.60batch/s, ValAccuracy=79.5, lossv=1.1, valLoss=1.03]   \n"
     ]
    },
    {
     "name": "stdout",
     "output_type": "stream",
     "text": [
      "Epoch [16], Loss_t: 0.9636,Loss_v: 1.0268, train_acc:91.9868, val_acc:79.4571\n"
     ]
    },
    {
     "name": "stderr",
     "output_type": "stream",
     "text": [
      "100%|██████████| 19/19 [00:15<00:00,  1.20batch/s, TrainAccuracy=92.2, loss=0.878, totalLoss=0.953]\n",
      "100%|██████████| 5/5 [00:01<00:00,  3.78batch/s, ValAccuracy=81.6, lossv=0.936, valLoss=0.983]\n"
     ]
    },
    {
     "name": "stdout",
     "output_type": "stream",
     "text": [
      "Epoch [17], Loss_t: 0.9535,Loss_v: 0.9834, train_acc:92.2368, val_acc:81.5714\n"
     ]
    },
    {
     "name": "stderr",
     "output_type": "stream",
     "text": [
      "100%|██████████| 19/19 [00:15<00:00,  1.23batch/s, TrainAccuracy=92.7, loss=0.986, totalLoss=0.947]\n",
      "100%|██████████| 5/5 [00:01<00:00,  3.80batch/s, ValAccuracy=82.7, lossv=0.879, valLoss=0.962]\n"
     ]
    },
    {
     "name": "stdout",
     "output_type": "stream",
     "text": [
      "Epoch [18], Loss_t: 0.9466,Loss_v: 0.9615, train_acc:92.7368, val_acc:82.7429\n"
     ]
    },
    {
     "name": "stderr",
     "output_type": "stream",
     "text": [
      "100%|██████████| 19/19 [00:15<00:00,  1.22batch/s, TrainAccuracy=93.2, loss=0.93, totalLoss=0.939] \n",
      "100%|██████████| 5/5 [00:01<00:00,  3.77batch/s, ValAccuracy=83.2, lossv=0.939, valLoss=0.972]\n"
     ]
    },
    {
     "name": "stdout",
     "output_type": "stream",
     "text": [
      "Epoch [19], Loss_t: 0.9387,Loss_v: 0.9722, train_acc:93.1974, val_acc:83.2286\n"
     ]
    },
    {
     "name": "stderr",
     "output_type": "stream",
     "text": [
      "100%|██████████| 19/19 [00:15<00:00,  1.22batch/s, TrainAccuracy=92.6, loss=0.975, totalLoss=0.938]\n",
      "100%|██████████| 5/5 [00:01<00:00,  3.79batch/s, ValAccuracy=83.2, lossv=1.01, valLoss=0.987]\n"
     ]
    },
    {
     "name": "stdout",
     "output_type": "stream",
     "text": [
      "Epoch [20], Loss_t: 0.9377,Loss_v: 0.9873, train_acc:92.5921, val_acc:83.1714\n"
     ]
    },
    {
     "name": "stderr",
     "output_type": "stream",
     "text": [
      "100%|██████████| 19/19 [00:15<00:00,  1.22batch/s, TrainAccuracy=93.2, loss=0.96, totalLoss=0.932] \n",
      "100%|██████████| 5/5 [00:01<00:00,  3.73batch/s, ValAccuracy=84.9, lossv=0.812, valLoss=0.954]\n"
     ]
    },
    {
     "name": "stdout",
     "output_type": "stream",
     "text": [
      "Epoch [21], Loss_t: 0.9317,Loss_v: 0.9538, train_acc:93.1711, val_acc:84.9429\n"
     ]
    },
    {
     "name": "stderr",
     "output_type": "stream",
     "text": [
      "100%|██████████| 19/19 [00:16<00:00,  1.18batch/s, TrainAccuracy=94.1, loss=0.916, totalLoss=0.919]\n",
      "100%|██████████| 5/5 [00:01<00:00,  3.43batch/s, ValAccuracy=83.7, lossv=0.976, valLoss=0.934]\n"
     ]
    },
    {
     "name": "stdout",
     "output_type": "stream",
     "text": [
      "Epoch [22], Loss_t: 0.9194,Loss_v: 0.9343, train_acc:94.0789, val_acc:83.6857\n"
     ]
    },
    {
     "name": "stderr",
     "output_type": "stream",
     "text": [
      "100%|██████████| 19/19 [00:15<00:00,  1.21batch/s, TrainAccuracy=94.6, loss=0.961, totalLoss=0.914]\n",
      "100%|██████████| 5/5 [00:01<00:00,  3.81batch/s, ValAccuracy=84.9, lossv=0.852, valLoss=0.921]\n"
     ]
    },
    {
     "name": "stdout",
     "output_type": "stream",
     "text": [
      "Epoch [23], Loss_t: 0.9137,Loss_v: 0.9209, train_acc:94.5658, val_acc:84.9143\n"
     ]
    },
    {
     "name": "stderr",
     "output_type": "stream",
     "text": [
      "100%|██████████| 19/19 [00:15<00:00,  1.22batch/s, TrainAccuracy=94.7, loss=0.888, totalLoss=0.909]\n",
      "100%|██████████| 5/5 [00:01<00:00,  3.74batch/s, ValAccuracy=85.1, lossv=0.989, valLoss=0.934]\n"
     ]
    },
    {
     "name": "stdout",
     "output_type": "stream",
     "text": [
      "Epoch [24], Loss_t: 0.9089,Loss_v: 0.9336, train_acc:94.6842, val_acc:85.0857\n"
     ]
    },
    {
     "name": "stderr",
     "output_type": "stream",
     "text": [
      "100%|██████████| 19/19 [00:15<00:00,  1.23batch/s, TrainAccuracy=94.8, loss=0.915, totalLoss=0.908]\n",
      "100%|██████████| 5/5 [00:01<00:00,  3.75batch/s, ValAccuracy=87, lossv=0.871, valLoss=0.91]   \n"
     ]
    },
    {
     "name": "stdout",
     "output_type": "stream",
     "text": [
      "Epoch [25], Loss_t: 0.9075,Loss_v: 0.9096, train_acc:94.8026, val_acc:87.0286\n"
     ]
    },
    {
     "name": "stderr",
     "output_type": "stream",
     "text": [
      "100%|██████████| 19/19 [00:15<00:00,  1.23batch/s, TrainAccuracy=95.1, loss=0.929, totalLoss=0.899]\n",
      "100%|██████████| 5/5 [00:01<00:00,  3.74batch/s, ValAccuracy=86.1, lossv=0.829, valLoss=0.904]\n"
     ]
    },
    {
     "name": "stdout",
     "output_type": "stream",
     "text": [
      "Epoch [26], Loss_t: 0.8992,Loss_v: 0.9043, train_acc:95.0526, val_acc:86.0571\n"
     ]
    },
    {
     "name": "stderr",
     "output_type": "stream",
     "text": [
      "100%|██████████| 19/19 [00:15<00:00,  1.23batch/s, TrainAccuracy=95.1, loss=0.869, totalLoss=0.895]\n",
      "100%|██████████| 5/5 [00:01<00:00,  3.74batch/s, ValAccuracy=83.9, lossv=0.95, valLoss=0.917] \n"
     ]
    },
    {
     "name": "stdout",
     "output_type": "stream",
     "text": [
      "Epoch [27], Loss_t: 0.8950,Loss_v: 0.9174, train_acc:95.1184, val_acc:83.8857\n"
     ]
    },
    {
     "name": "stderr",
     "output_type": "stream",
     "text": [
      "100%|██████████| 19/19 [00:15<00:00,  1.20batch/s, TrainAccuracy=95.2, loss=0.929, totalLoss=0.893]\n",
      "100%|██████████| 5/5 [00:01<00:00,  3.42batch/s, ValAccuracy=86.2, lossv=0.968, valLoss=0.903]\n"
     ]
    },
    {
     "name": "stdout",
     "output_type": "stream",
     "text": [
      "Epoch [28], Loss_t: 0.8929,Loss_v: 0.9034, train_acc:95.1842, val_acc:86.1714\n"
     ]
    },
    {
     "name": "stderr",
     "output_type": "stream",
     "text": [
      "100%|██████████| 19/19 [00:16<00:00,  1.14batch/s, TrainAccuracy=95.6, loss=0.924, totalLoss=0.886]\n",
      "100%|██████████| 5/5 [00:01<00:00,  3.41batch/s, ValAccuracy=86.5, lossv=0.887, valLoss=0.894]\n"
     ]
    },
    {
     "name": "stdout",
     "output_type": "stream",
     "text": [
      "Epoch [29], Loss_t: 0.8858,Loss_v: 0.8937, train_acc:95.5526, val_acc:86.5429\n"
     ]
    },
    {
     "name": "stderr",
     "output_type": "stream",
     "text": [
      "100%|██████████| 19/19 [00:16<00:00,  1.15batch/s, TrainAccuracy=96.1, loss=0.848, totalLoss=0.882]\n",
      "100%|██████████| 5/5 [00:01<00:00,  3.60batch/s, ValAccuracy=84.6, lossv=0.97, valLoss=0.905] \n"
     ]
    },
    {
     "name": "stdout",
     "output_type": "stream",
     "text": [
      "Epoch [30], Loss_t: 0.8815,Loss_v: 0.9048, train_acc:96.0658, val_acc:84.6286\n"
     ]
    },
    {
     "name": "stderr",
     "output_type": "stream",
     "text": [
      "100%|██████████| 19/19 [00:16<00:00,  1.17batch/s, TrainAccuracy=96.3, loss=0.845, totalLoss=0.878]\n",
      "100%|██████████| 5/5 [00:01<00:00,  3.61batch/s, ValAccuracy=85.9, lossv=0.869, valLoss=0.89] \n"
     ]
    },
    {
     "name": "stdout",
     "output_type": "stream",
     "text": [
      "Epoch [31], Loss_t: 0.8779,Loss_v: 0.8900, train_acc:96.2895, val_acc:85.9143\n"
     ]
    },
    {
     "name": "stderr",
     "output_type": "stream",
     "text": [
      "100%|██████████| 19/19 [00:16<00:00,  1.19batch/s, TrainAccuracy=96.4, loss=0.843, totalLoss=0.872]\n",
      "100%|██████████| 5/5 [00:01<00:00,  3.67batch/s, ValAccuracy=86.8, lossv=0.93, valLoss=0.889] \n"
     ]
    },
    {
     "name": "stdout",
     "output_type": "stream",
     "text": [
      "Epoch [32], Loss_t: 0.8724,Loss_v: 0.8895, train_acc:96.3553, val_acc:86.8286\n"
     ]
    },
    {
     "name": "stderr",
     "output_type": "stream",
     "text": [
      "100%|██████████| 19/19 [00:15<00:00,  1.19batch/s, TrainAccuracy=96.4, loss=0.852, totalLoss=0.869]\n",
      "100%|██████████| 5/5 [00:01<00:00,  3.61batch/s, ValAccuracy=88.4, lossv=0.843, valLoss=0.881]\n"
     ]
    },
    {
     "name": "stdout",
     "output_type": "stream",
     "text": [
      "Epoch [33], Loss_t: 0.8687,Loss_v: 0.8808, train_acc:96.4474, val_acc:88.4000\n"
     ]
    },
    {
     "name": "stderr",
     "output_type": "stream",
     "text": [
      "100%|██████████| 19/19 [00:15<00:00,  1.20batch/s, TrainAccuracy=96.6, loss=0.911, totalLoss=0.867]\n",
      "100%|██████████| 5/5 [00:01<00:00,  3.75batch/s, ValAccuracy=87.4, lossv=0.87, valLoss=0.879]\n"
     ]
    },
    {
     "name": "stdout",
     "output_type": "stream",
     "text": [
      "Epoch [34], Loss_t: 0.8667,Loss_v: 0.8789, train_acc:96.5658, val_acc:87.4286\n"
     ]
    },
    {
     "name": "stderr",
     "output_type": "stream",
     "text": [
      "100%|██████████| 19/19 [00:15<00:00,  1.23batch/s, TrainAccuracy=96.6, loss=0.89, totalLoss=0.863] \n",
      "100%|██████████| 5/5 [00:01<00:00,  3.76batch/s, ValAccuracy=86.7, lossv=0.911, valLoss=0.88] \n"
     ]
    },
    {
     "name": "stdout",
     "output_type": "stream",
     "text": [
      "Epoch [35], Loss_t: 0.8627,Loss_v: 0.8797, train_acc:96.6184, val_acc:86.7429\n"
     ]
    },
    {
     "name": "stderr",
     "output_type": "stream",
     "text": [
      "100%|██████████| 19/19 [00:15<00:00,  1.23batch/s, TrainAccuracy=97.1, loss=0.865, totalLoss=0.859]\n",
      "100%|██████████| 5/5 [00:01<00:00,  3.77batch/s, ValAccuracy=87.1, lossv=0.857, valLoss=0.875]\n"
     ]
    },
    {
     "name": "stdout",
     "output_type": "stream",
     "text": [
      "Epoch [36], Loss_t: 0.8590,Loss_v: 0.8745, train_acc:97.0658, val_acc:87.1143\n"
     ]
    },
    {
     "name": "stderr",
     "output_type": "stream",
     "text": [
      "100%|██████████| 19/19 [00:15<00:00,  1.23batch/s, TrainAccuracy=97.2, loss=0.844, totalLoss=0.856]\n",
      "100%|██████████| 5/5 [00:01<00:00,  3.75batch/s, ValAccuracy=88.6, lossv=0.86, valLoss=0.869] \n"
     ]
    },
    {
     "name": "stdout",
     "output_type": "stream",
     "text": [
      "Epoch [37], Loss_t: 0.8562,Loss_v: 0.8685, train_acc:97.1842, val_acc:88.6286\n"
     ]
    },
    {
     "name": "stderr",
     "output_type": "stream",
     "text": [
      "100%|██████████| 19/19 [00:15<00:00,  1.23batch/s, TrainAccuracy=97.1, loss=0.877, totalLoss=0.858]\n",
      "100%|██████████| 5/5 [00:01<00:00,  3.73batch/s, ValAccuracy=88.4, lossv=0.907, valLoss=0.872]\n"
     ]
    },
    {
     "name": "stdout",
     "output_type": "stream",
     "text": [
      "Epoch [38], Loss_t: 0.8583,Loss_v: 0.8717, train_acc:97.0658, val_acc:88.4286\n"
     ]
    },
    {
     "name": "stderr",
     "output_type": "stream",
     "text": [
      "100%|██████████| 19/19 [00:15<00:00,  1.23batch/s, TrainAccuracy=97.2, loss=0.815, totalLoss=0.849]\n",
      "100%|██████████| 5/5 [00:01<00:00,  3.75batch/s, ValAccuracy=87.6, lossv=0.861, valLoss=0.866]\n"
     ]
    },
    {
     "name": "stdout",
     "output_type": "stream",
     "text": [
      "Epoch [39], Loss_t: 0.8493,Loss_v: 0.8656, train_acc:97.1579, val_acc:87.6000\n"
     ]
    },
    {
     "name": "stderr",
     "output_type": "stream",
     "text": [
      "100%|██████████| 19/19 [00:15<00:00,  1.23batch/s, TrainAccuracy=97.2, loss=0.85, totalLoss=0.848] \n",
      "100%|██████████| 5/5 [00:01<00:00,  3.76batch/s, ValAccuracy=87.2, lossv=0.943, valLoss=0.868]\n"
     ]
    },
    {
     "name": "stdout",
     "output_type": "stream",
     "text": [
      "Epoch [40], Loss_t: 0.8484,Loss_v: 0.8685, train_acc:97.2368, val_acc:87.2000\n"
     ]
    },
    {
     "name": "stderr",
     "output_type": "stream",
     "text": [
      "100%|██████████| 19/19 [00:15<00:00,  1.23batch/s, TrainAccuracy=97.3, loss=0.9, totalLoss=0.848]  \n",
      "100%|██████████| 5/5 [00:01<00:00,  3.66batch/s, ValAccuracy=88, lossv=0.761, valLoss=0.861]  \n"
     ]
    },
    {
     "name": "stdout",
     "output_type": "stream",
     "text": [
      "Epoch [41], Loss_t: 0.8478,Loss_v: 0.8605, train_acc:97.3158, val_acc:87.9714\n"
     ]
    },
    {
     "name": "stderr",
     "output_type": "stream",
     "text": [
      "100%|██████████| 19/19 [00:15<00:00,  1.22batch/s, TrainAccuracy=97.6, loss=0.865, totalLoss=0.842]\n",
      "100%|██████████| 5/5 [00:01<00:00,  3.77batch/s, ValAccuracy=87.9, lossv=0.846, valLoss=0.86] \n"
     ]
    },
    {
     "name": "stdout",
     "output_type": "stream",
     "text": [
      "Epoch [42], Loss_t: 0.8425,Loss_v: 0.8602, train_acc:97.6053, val_acc:87.9143\n"
     ]
    },
    {
     "name": "stderr",
     "output_type": "stream",
     "text": [
      "100%|██████████| 19/19 [00:16<00:00,  1.16batch/s, TrainAccuracy=97.6, loss=0.839, totalLoss=0.841]\n",
      "100%|██████████| 5/5 [00:01<00:00,  3.73batch/s, ValAccuracy=88.2, lossv=0.863, valLoss=0.851]\n"
     ]
    },
    {
     "name": "stdout",
     "output_type": "stream",
     "text": [
      "Epoch [43], Loss_t: 0.8409,Loss_v: 0.8512, train_acc:97.6053, val_acc:88.2286\n"
     ]
    },
    {
     "name": "stderr",
     "output_type": "stream",
     "text": [
      "100%|██████████| 19/19 [00:16<00:00,  1.18batch/s, TrainAccuracy=98.2, loss=0.867, totalLoss=0.837]\n",
      "100%|██████████| 5/5 [00:01<00:00,  3.44batch/s, ValAccuracy=87.7, lossv=0.835, valLoss=0.86] \n"
     ]
    },
    {
     "name": "stdout",
     "output_type": "stream",
     "text": [
      "Epoch [44], Loss_t: 0.8370,Loss_v: 0.8600, train_acc:98.1711, val_acc:87.7143\n"
     ]
    },
    {
     "name": "stderr",
     "output_type": "stream",
     "text": [
      "100%|██████████| 19/19 [00:15<00:00,  1.22batch/s, TrainAccuracy=98, loss=0.882, totalLoss=0.835]  \n",
      "100%|██████████| 5/5 [00:01<00:00,  3.76batch/s, ValAccuracy=87.5, lossv=0.871, valLoss=0.854]\n"
     ]
    },
    {
     "name": "stdout",
     "output_type": "stream",
     "text": [
      "Epoch [45], Loss_t: 0.8354,Loss_v: 0.8544, train_acc:98.0000, val_acc:87.5429\n"
     ]
    },
    {
     "name": "stderr",
     "output_type": "stream",
     "text": [
      "100%|██████████| 19/19 [00:15<00:00,  1.23batch/s, TrainAccuracy=98.3, loss=0.792, totalLoss=0.833]\n",
      "100%|██████████| 5/5 [00:01<00:00,  3.68batch/s, ValAccuracy=87.7, lossv=0.828, valLoss=0.847]\n"
     ]
    },
    {
     "name": "stdout",
     "output_type": "stream",
     "text": [
      "Epoch [46], Loss_t: 0.8329,Loss_v: 0.8466, train_acc:98.2632, val_acc:87.7143\n"
     ]
    },
    {
     "name": "stderr",
     "output_type": "stream",
     "text": [
      "100%|██████████| 19/19 [00:16<00:00,  1.18batch/s, TrainAccuracy=98.4, loss=0.831, totalLoss=0.831]\n",
      "100%|██████████| 5/5 [00:01<00:00,  3.80batch/s, ValAccuracy=88.3, lossv=0.76, valLoss=0.854] \n"
     ]
    },
    {
     "name": "stdout",
     "output_type": "stream",
     "text": [
      "Epoch [47], Loss_t: 0.8308,Loss_v: 0.8539, train_acc:98.3553, val_acc:88.3429\n"
     ]
    },
    {
     "name": "stderr",
     "output_type": "stream",
     "text": [
      "100%|██████████| 19/19 [00:15<00:00,  1.19batch/s, TrainAccuracy=98.3, loss=0.816, totalLoss=0.829]\n",
      "100%|██████████| 5/5 [00:01<00:00,  3.67batch/s, ValAccuracy=87.6, lossv=0.836, valLoss=0.848]\n"
     ]
    },
    {
     "name": "stdout",
     "output_type": "stream",
     "text": [
      "Epoch [48], Loss_t: 0.8292,Loss_v: 0.8479, train_acc:98.3026, val_acc:87.6286\n"
     ]
    },
    {
     "name": "stderr",
     "output_type": "stream",
     "text": [
      "100%|██████████| 19/19 [00:15<00:00,  1.23batch/s, TrainAccuracy=98.4, loss=0.826, totalLoss=0.827]\n",
      "100%|██████████| 5/5 [00:01<00:00,  3.49batch/s, ValAccuracy=87.9, lossv=0.856, valLoss=0.853]\n"
     ]
    },
    {
     "name": "stdout",
     "output_type": "stream",
     "text": [
      "Epoch [49], Loss_t: 0.8270,Loss_v: 0.8533, train_acc:98.4079, val_acc:87.9143\n"
     ]
    },
    {
     "name": "stderr",
     "output_type": "stream",
     "text": [
      "100%|██████████| 5/5 [00:01<00:00,  4.54batch/s]\n"
     ]
    }
   ],
   "source": [
    "kf = skf(n_splits = 5)\n",
    "log_pred_dict = {}\n",
    "for k,(train_index,test_index) in enumerate(kf.split(dt, l_skf)):\n",
    "    device = torch.device('cuda') if torch.cuda.is_available() else torch.device('cpu')\n",
    "    print(f'Fold {k+1} running')\n",
    "    dataTr, dataV = np.concatenate(dt[train_index],0), np.concatenate(dt[test_index],0)\n",
    "    labelsTr, labelsV = np.concatenate(labels[train_index],0), np.concatenate(labels[test_index],0)\n",
    "    tL = []\n",
    "    vL = []\n",
    "    tAV = []\n",
    "    vAV = []\n",
    "    y_train = np.argmax(labelsTr, axis=1)\n",
    "    class_counts = np.bincount(y_train)\n",
    "    num_classes = len(class_counts)\n",
    "    total_samples = len(y_train)\n",
    "\n",
    "    class_weights = []\n",
    "    for count in class_counts:\n",
    "        weight = 1 / (count / total_samples)\n",
    "        class_weights.append(weight)\n",
    "    \n",
    "    weights = torch.tensor(np.array(class_weights))\n",
    "    weights = weights.to(device)\n",
    "    # testAC = []\n",
    "    model = ModelSubDep()\n",
    "    model = model.to(device)\n",
    "     # Define your weights as a tensor\n",
    "    criterion1 = nn.CrossEntropyLoss(weight=weights)\n",
    "    optimizer_ft = optim.SGD(model.parameters(), lr=0.0001, momentum= 0.9)\n",
    "    trainDS = Dataset(dataTr, labelsTr)\n",
    "    trainDL = DataLoader(dataset = trainDS, batch_size = 100, shuffle = True)\n",
    " \n",
    "    valDS = Dataset(dataV, labelsV)\n",
    "    valDL = DataLoader(dataset = valDS, batch_size = 100, shuffle = True)\n",
    "    \n",
    "    testDS = Dataset(dataV, labelsV)\n",
    "    testDL = DataLoader(dataset = testDS, batch_size = 100)\n",
    "    num_epochs = 50\n",
    "    batchsize = 100\n",
    "    l2_lambda = 0.001\n",
    "    best_acc = 0\n",
    "    for epoch in range(num_epochs):\n",
    "        trainAccuracy = 0\n",
    "        totalLoss = 0\n",
    "        with tqdm(trainDL, unit='batch') as tepoch:\n",
    "            model.train()\n",
    "            for imagest,lab in tepoch:\n",
    "                imagest = imagest.to(device)\n",
    "                lab = lab.to(device)\n",
    "                optimizer_ft.zero_grad()\n",
    "                outputs = (model(imagest.float()))\n",
    "                _,predindex = torch.max(outputs, dim = 1)\n",
    "                _,labindex = torch.max(lab, dim = 1)\n",
    "                loss = criterion1(outputs,lab.float())\n",
    "                l2_reg = 0.0\n",
    "                for param in model.parameters():\n",
    "                    l2_reg += torch.norm(param, p=2) # L2 norm of the parameter\n",
    "                loss += l2_lambda * l2_reg\n",
    "                loss.backward()\n",
    "                optimizer_ft.step()\n",
    "                totalLoss+=loss.item()\n",
    "                acc = (predindex==labindex).sum().item()\n",
    "                trainAccuracy += acc/(lab.shape[0]*len(trainDL))\n",
    "                tepoch.set_postfix(loss=loss.item(),totalLoss =totalLoss/len(trainDL), TrainAccuracy= 100.*trainAccuracy)      \n",
    "            model.eval()\n",
    "            with torch.no_grad():\n",
    "                with tqdm(valDL, unit='batch') as tepoch:\n",
    "                    total = 0\n",
    "                    valAccuracy = 0\n",
    "                    val_loss = 0\n",
    "                    for imagesv,labv in tepoch:\n",
    "                        imagesv = imagesv.to(device)\n",
    "                        labelsv = labv.to(device)\n",
    "                        outval = (model(imagesv.float()))\n",
    "                        _,predindexval = torch.max(outval,dim = 1)\n",
    "                        _,labvalindex = torch.max(labelsv,dim = 1)\n",
    "                        acc = (predindexval == labvalindex).sum().item()\n",
    "                        valAccuracy +=acc/(labv.shape[0]*len(valDL))\n",
    "                        lossv = criterion1(outval,labelsv.float())\n",
    "                        val_loss+= lossv.item()\n",
    "                        tepoch.set_postfix(lossv=lossv.item(),valLoss =val_loss/len(valDL), ValAccuracy= 100.*valAccuracy)\n",
    "        print('Epoch [{}], Loss_t: {:.4f},Loss_v: {:.4f}, train_acc:{:.4f}, val_acc:{:.4f}'.format(epoch, totalLoss/len(trainDL), val_loss/len(valDL),\n",
    "                                                                                                   100.*trainAccuracy,100.*valAccuracy))\n",
    "\n",
    "        path = \"./models_seed/model_best_\"+str(epoch)+\"_\"+str(k)+\"_\"+str(100.*valAccuracy) \n",
    "        if trainAccuracy>best_acc:\n",
    "            best_acc = trainAccuracy\n",
    "            model_to_save = model\n",
    "            path_to_save = path\n",
    "        \n",
    "        tL.append(totalLoss/len(trainDL))\n",
    "        vL.append(val_loss/len(valDL))\n",
    "        tAV.append(100.*trainAccuracy)\n",
    "        vAV.append( 100.*valAccuracy)\n",
    "    # torch.save(model_to_save.state_dict(), path_to_save)\n",
    "    trainLoss[str(k)] = tL\n",
    "    valLoss[str(k)] = vL\n",
    "    trainAcc[str(k)] = tAV\n",
    "    valAcc[str(k)] = vAV\n",
    "    model.eval()\n",
    "    pt = []\n",
    "    lt = []\n",
    "    with torch.no_grad():\n",
    "        with tqdm(testDL, unit='batch') as tepochtst:\n",
    "            for imagestst,labt in tepochtst:\n",
    "                imagestst = imagestst.to(device)\n",
    "                labelst = labt.to(device)\n",
    "                outt = (model(imagestst.float()))\n",
    "                _,predt = torch.max(outt,dim=1)\n",
    "                _,labti = torch.max(labelst,dim =1)\n",
    "                pt.append(predt)\n",
    "                lt.append(labti)\n",
    "    log_pred_dict[str(k)] = {'trails': test_index,\n",
    "                             'predicted': pt,\n",
    "                             'ground truth': lt}\n",
    "tL = np.array(list(trainLoss.values()))\n",
    "vL = np.array(list(valLoss.values()))\n",
    "tAV = np.array(list(trainAcc.values()))\n",
    "vAV = np.array(list(valAcc.values()))"
   ]
  },
  {
   "cell_type": "code",
   "execution_count": 30,
   "id": "f9842877",
   "metadata": {},
   "outputs": [
    {
     "name": "stdout",
     "output_type": "stream",
     "text": [
      "[97.51428571 73.97142857 93.25714286 78.48571429 88.62857143]\n"
     ]
    }
   ],
   "source": [
    "VA = np.max(vAV,1)\n",
    "print(VA)"
   ]
  },
  {
   "cell_type": "code",
   "execution_count": 31,
   "id": "c12f3600",
   "metadata": {},
   "outputs": [
    {
     "data": {
      "text/plain": [
       "86.37142857142857"
      ]
     },
     "execution_count": 31,
     "metadata": {},
     "output_type": "execute_result"
    }
   ],
   "source": [
    "np.mean(VA)"
   ]
  },
  {
   "cell_type": "code",
   "execution_count": 32,
   "id": "2fa71176",
   "metadata": {},
   "outputs": [
    {
     "data": {
      "image/png": "[encoded data removed]",
      "text/plain": [
       "<Figure size 1200x1200 with 5 Axes>"
      ]
     },
     "metadata": {},
     "output_type": "display_data"
    }
   ],
   "source": [
    "import matplotlib.pyplot as plt\n",
    "fig, axs = plt.subplots(5, 1, figsize=(12, 12))\n",
    "for i, ax in enumerate(axs.flatten()):\n",
    "    ax.plot(tL[i],'-r')\n",
    "    ax.plot(vL[i],'-g')\n",
    "    ax.legend(['train loss', 'validation loss'],loc =\"upper right\")\n",
    "    ax.set_title(f'Fold {i+1}', fontsize=16)\n",
    "    ax.set_xlabel('Epochs', fontsize=14)\n",
    "    ax.set_ylabel('Loss', fontsize=14)\n",
    "\n",
    "plt.tight_layout()\n",
    "plt.show()"
   ]
  },
  {
   "cell_type": "code",
   "execution_count": 33,
   "id": "1875291f",
   "metadata": {},
   "outputs": [
    {
     "data": {
      "image/png": "[encoded data removed]",
      "text/plain": [
       "<Figure size 1200x1200 with 5 Axes>"
      ]
     },
     "metadata": {},
     "output_type": "display_data"
    }
   ],
   "source": [
    "fig, axs = plt.subplots(5,1, figsize=(12, 12))\n",
    "\n",
    "for i, ax in enumerate(axs.flatten()):\n",
    "    ax.plot(tAV[i],'-r')\n",
    "    ax.plot(vAV[i],'-g')\n",
    "    ax.legend(['train acc.', 'validation acc.'],loc =\"lower right\")\n",
    "    ax.set_title(f'Fold {i+1}', fontsize=16)\n",
    "    ax.set_xlabel('Epochs', fontsize=14)\n",
    "    ax.set_ylabel('Accuracy', fontsize=14)\n",
    "\n",
    "plt.tight_layout()\n",
    "plt.show()"
   ]
  },
  {
   "cell_type": "code",
   "execution_count": 34,
   "id": "2dcb2b4d",
   "metadata": {},
   "outputs": [
    {
     "name": "stdout",
     "output_type": "stream",
     "text": [
      "(470,)\n",
      "(470,)\n",
      "(470,)\n",
      "(470,)\n",
      "(470,)\n",
      "(470,)\n",
      "(470,)\n",
      "(470,)\n",
      "(470,)\n",
      "(470,)\n"
     ]
    }
   ],
   "source": [
    "tr = []\n",
    "pred_gt_tuple = []\n",
    "for key,value in log_pred_dict.items():\n",
    "    tr.append(value['trails'])\n",
    "    pred = torch.cat((value['predicted']),0)\n",
    "    ground_truth = torch.cat((value['ground truth']),0)\n",
    "    p = pred.to('cpu').numpy()\n",
    "    g = ground_truth.to('cpu').numpy()\n",
    "    print(p.shape)\n",
    "    print(g.shape)\n",
    "    pred_gt_tuple.append([p,g])"
   ]
  },
  {
   "cell_type": "code",
   "execution_count": 35,
   "id": "be1b6911",
   "metadata": {},
   "outputs": [
    {
     "data": {
      "text/plain": [
       "torch.Size([470])"
      ]
     },
     "execution_count": 35,
     "metadata": {},
     "output_type": "execute_result"
    }
   ],
   "source": [
    "pred.shape"
   ]
  },
  {
   "cell_type": "code",
   "execution_count": 36,
   "id": "77180c6c",
   "metadata": {},
   "outputs": [],
   "source": [
    "log = {'trials': tr,\n",
    "       'pred_gt': pred_gt_tuple}"
   ]
  },
  {
   "cell_type": "code",
   "execution_count": 37,
   "id": "f34a0890",
   "metadata": {},
   "outputs": [],
   "source": [
    "scipy.io.savemat('./logs/Seed53.mat',log)"
   ]
  }
 ],
 "metadata": {
  "kernelspec": {
   "display_name": "cogmusic",
   "language": "python",
   "name": "python3"
  },
  "language_info": {
   "codemirror_mode": {
    "name": "ipython",
    "version": 3
   },
   "file_extension": ".py",
   "mimetype": "text/x-python",
   "name": "python",
   "nbconvert_exporter": "python",
   "pygments_lexer": "ipython3",
   "version": "3.11.9"
  }
 },
 "nbformat": 4,
 "nbformat_minor": 5
}
