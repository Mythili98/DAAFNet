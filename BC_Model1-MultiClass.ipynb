{
 "cells": [
  {
   "cell_type": "code",
   "execution_count": 1,
   "id": "752c1c5b",
   "metadata": {},
   "outputs": [],
   "source": [
    "import torch\n",
    "import torch.nn as nn\n",
    "import torch.optim as optim\n",
    "import numpy as np\n",
    "import matplotlib.pyplot as plt"
   ]
  },
  {
   "cell_type": "code",
   "execution_count": 2,
   "id": "17e20bc8",
   "metadata": {},
   "outputs": [],
   "source": [
    "import random\n",
    "random.seed(29)\n",
    "subjects = random.sample(range(1,32), 5)"
   ]
  },
  {
   "cell_type": "code",
   "execution_count": 3,
   "id": "a5bee704",
   "metadata": {},
   "outputs": [],
   "source": [
    "class ResidualBlock(nn.Module):\n",
    "    def __init__(self, in_channels, out_channels, kernel_size):\n",
    "        super(ResidualBlock, self).__init__()\n",
    "        self.bn1 = nn.BatchNorm2d(in_channels)\n",
    "        self.activation1 = nn.ReLU()\n",
    "        self.conv1 = nn.Conv2d(in_channels, out_channels, kernel_size, stride= 1, padding= 2)\n",
    "        self.bn2 = nn.BatchNorm2d(out_channels)\n",
    "        self.activation2 = nn.ReLU()\n",
    "        self.conv2 = nn.Conv2d(out_channels, out_channels, kernel_size, stride= 1, padding= 2)\n",
    "    \n",
    "    def forward(self,x):\n",
    "        residual  = torch.clone(x)\n",
    "        x = self.bn1(x)\n",
    "        x = self.activation1(x)\n",
    "        x = self.conv1(x)\n",
    "        x = self.conv2(self.activation2(self.bn2(x)))\n",
    "        residual = residual.unsqueeze(0)\n",
    "        residual = nn.functional.interpolate(residual, size = [x.shape[1], x.shape[2], x.shape[3]])\n",
    "        residual = residual.squeeze(0)\n",
    "        x += residual\n",
    "        return x\n",
    "     \n",
    "class ModelSubDep(nn.Module):\n",
    "\n",
    "    def __init__(self):\n",
    "        super(ModelSubDep, self).__init__()\n",
    "        self.conv1 = nn.Conv2d(in_channels = 5, out_channels = 32, kernel_size= 3, stride= 1, padding= 2)\n",
    "        self.resblock1 = ResidualBlock(32,32,5)\n",
    "        self.resblock2 = ResidualBlock(32,64,5)\n",
    "        self.resblock3 = ResidualBlock(64,128,5)\n",
    "        self.avgpool = nn.AdaptiveAvgPool2d((15,15))\n",
    "        self.linear1 = nn.Linear(15*15*128, 1024)\n",
    "        self.drop1 = nn.Dropout(0.2)\n",
    "        self.linear2 = nn.Linear(1024, 512)\n",
    "        self.drop2 = nn.Dropout(0.2)\n",
    "        self.linear3 = nn.Linear(512, 2)\n",
    "        self.softmax = nn.Softmax(dim = 1)\n",
    "\n",
    "    def forward(self, x):\n",
    "        x = self.conv1(x)\n",
    "        x = self.resblock1(x)\n",
    "        x = self.resblock2(x)\n",
    "        x = self.resblock3(x)\n",
    "        x = self.avgpool(x)\n",
    "        F = nn.Flatten()\n",
    "        x = F(x)\n",
    "        x = self.linear1(x)\n",
    "        x = self.drop1(x)\n",
    "        x = self.linear2(x)\n",
    "        x = self.drop2(x)\n",
    "        x = self.linear3(x)\n",
    "        x = self.softmax(x)\n",
    "        return x"
   ]
  },
  {
   "cell_type": "code",
   "execution_count": 4,
   "id": "e4768281",
   "metadata": {},
   "outputs": [],
   "source": [
    "import scipy\n",
    "from torch.utils.data import Dataset, DataLoader\n",
    "from tqdm import tqdm\n",
    "import pandas as pd\n",
    "from sklearn.model_selection import StratifiedKFold as skf\n",
    "\n",
    "class Dataset(Dataset):\n",
    "    def __init__(self, data, info):\n",
    "        #data loading\n",
    "        self.x = data\n",
    "        self.y = info\n",
    "        self.n_samples = data.shape[0]\n",
    "\n",
    "\n",
    "    def __getitem__(self,index):\n",
    "        t1 = self.x[index]\n",
    "        t2 = self.y[index]\n",
    "        t1 = torch.tensor(t1)\n",
    "        t1 = t1.permute((2,0,1))\n",
    "        t2 = torch.tensor(t2)\n",
    "        return (t1,t2)\n",
    "    \n",
    "    def __len__(self):\n",
    "        return self.n_samples\n",
    "    \n",
    "data = scipy.io.loadmat('/home/desktop/Desktop/22104412_Docs/EEG-COGMusic/Baseline/datasets/COH_PLI_PSD_s15.mat')"
   ]
  },
  {
   "cell_type": "code",
   "execution_count": 5,
   "id": "1c48acee",
   "metadata": {},
   "outputs": [
    {
     "data": {
      "text/plain": [
       "dict_keys(['__header__', '__version__', '__globals__', 'data', 'labels_kfold', 'valence', 'arousal', 'EEGNet'])"
      ]
     },
     "execution_count": 5,
     "metadata": {},
     "output_type": "execute_result"
    }
   ],
   "source": [
    "data.keys()"
   ]
  },
  {
   "cell_type": "code",
   "execution_count": 6,
   "id": "57d85cd6",
   "metadata": {},
   "outputs": [],
   "source": [
    "x = data['data']\n",
    "labels_skf = data['labels_kfold']\n",
    "labels = data['arousal']"
   ]
  },
  {
   "cell_type": "code",
   "execution_count": 7,
   "id": "2d1a21a6",
   "metadata": {},
   "outputs": [
    {
     "data": {
      "text/plain": [
       "(40, 115, 2)"
      ]
     },
     "execution_count": 7,
     "metadata": {},
     "output_type": "execute_result"
    }
   ],
   "source": [
    "labels.shape"
   ]
  },
  {
   "cell_type": "code",
   "execution_count": 8,
   "id": "2a57c471",
   "metadata": {},
   "outputs": [
    {
     "data": {
      "text/plain": [
       "(40, 115, 32, 32, 5)"
      ]
     },
     "execution_count": 8,
     "metadata": {},
     "output_type": "execute_result"
    }
   ],
   "source": [
    "x.shape"
   ]
  },
  {
   "cell_type": "code",
   "execution_count": null,
   "id": "90812c00",
   "metadata": {},
   "outputs": [],
   "source": [
    "indices = []"
   ]
  },
  {
   "cell_type": "code",
   "execution_count": 9,
   "id": "698492bc",
   "metadata": {},
   "outputs": [],
   "source": [
    "# x_n = np.zeros((40,115,32,32,3))\n",
    "# print(x_n.shape)\n",
    "# for trial in range(x_n.shape[0]):\n",
    "#     for sample in range(x_n.shape[1]):\n",
    "#         x_n[trial,sample,:,:,0] = x[trial,sample,:,:,0]+np.transpose(x[trial,sample,:,:,1])\n",
    "#         x_n[trial,sample,:,:,1] = x[trial,sample,:,:,2]+np.transpose(x[trial,sample,:,:,3])\n",
    "#         x_n[trial,sample,:,:,2] = x[trial,sample,:,:,4]+np.transpose(x[trial,sample,:,:,5])\n",
    "#     print(f'Completed trial {trial}')"
   ]
  },
  {
   "cell_type": "code",
   "execution_count": 10,
   "id": "557a8f27",
   "metadata": {},
   "outputs": [],
   "source": [
    "# x = x[:,:,0:128,:,np.newaxis]\n",
    "# x.shape"
   ]
  },
  {
   "cell_type": "code",
   "execution_count": 11,
   "id": "855b8d56",
   "metadata": {},
   "outputs": [],
   "source": [
    "dt = x\n",
    "labels = labels\n",
    "trainLoss={}\n",
    "valLoss = {}\n",
    "trainAcc = {}\n",
    "valAcc = {}"
   ]
  },
  {
   "cell_type": "code",
   "execution_count": 12,
   "id": "7458da7d",
   "metadata": {},
   "outputs": [
    {
     "data": {
      "text/plain": [
       "<matplotlib.image.AxesImage at 0x7b2e2f249190>"
      ]
     },
     "execution_count": 12,
     "metadata": {},
     "output_type": "execute_result"
    },
    {
     "data": {
      "image/png": "[encoded data removed]",
      "text/plain": [
       "<Figure size 640x480 with 1 Axes>"
      ]
     },
     "metadata": {},
     "output_type": "display_data"
    }
   ],
   "source": [
    "plt.imshow(dt[0,0,:,:,1])"
   ]
  },
  {
   "cell_type": "code",
   "execution_count": 13,
   "id": "9a5c0ca6",
   "metadata": {},
   "outputs": [
    {
     "data": {
      "text/plain": [
       "(40, 2)"
      ]
     },
     "execution_count": 13,
     "metadata": {},
     "output_type": "execute_result"
    }
   ],
   "source": [
    "labels_skf.shape"
   ]
  },
  {
   "cell_type": "code",
   "execution_count": 14,
   "id": "015a5e49",
   "metadata": {},
   "outputs": [],
   "source": [
    "l_skf = np.zeros([40,1])\n",
    "l_skf[np.where(labels_skf[:,0]>5)[0]] = 1"
   ]
  },
  {
   "cell_type": "code",
   "execution_count": 15,
   "id": "643aee57",
   "metadata": {},
   "outputs": [
    {
     "data": {
      "text/plain": [
       "array([[1.],\n",
       "       [1.],\n",
       "       [1.],\n",
       "       [1.],\n",
       "       [1.],\n",
       "       [1.],\n",
       "       [1.],\n",
       "       [1.],\n",
       "       [1.],\n",
       "       [0.],\n",
       "       [1.],\n",
       "       [1.],\n",
       "       [1.],\n",
       "       [1.],\n",
       "       [1.],\n",
       "       [0.],\n",
       "       [1.],\n",
       "       [1.],\n",
       "       [1.],\n",
       "       [1.],\n",
       "       [0.],\n",
       "       [0.],\n",
       "       [0.],\n",
       "       [0.],\n",
       "       [0.],\n",
       "       [0.],\n",
       "       [1.],\n",
       "       [0.],\n",
       "       [0.],\n",
       "       [0.],\n",
       "       [0.],\n",
       "       [0.],\n",
       "       [0.],\n",
       "       [0.],\n",
       "       [1.],\n",
       "       [0.],\n",
       "       [0.],\n",
       "       [0.],\n",
       "       [0.],\n",
       "       [0.]])"
      ]
     },
     "execution_count": 15,
     "metadata": {},
     "output_type": "execute_result"
    }
   ],
   "source": [
    "l_skf"
   ]
  },
  {
   "cell_type": "code",
   "execution_count": 16,
   "id": "5eaea6a7",
   "metadata": {},
   "outputs": [],
   "source": [
    "kf = skf(n_splits = 5)\n",
    "l = []\n",
    "ind = []\n",
    "for k,(train_index,test_index) in enumerate(kf.split(dt,l_skf)):\n",
    "    labelsTr, labelsV = labels[train_index], labels[test_index]   \n",
    "    l.append({'train': labelsTr,\n",
    "            'valid': labelsV})\n",
    "    ind.append([train_index,test_index])"
   ]
  },
  {
   "cell_type": "code",
   "execution_count": 17,
   "id": "3e72d5ef",
   "metadata": {},
   "outputs": [
    {
     "name": "stdout",
     "output_type": "stream",
     "text": [
      "Fold 0 completed\n",
      "Fold 1 completed\n",
      "Fold 2 completed\n",
      "Fold 3 completed\n",
      "Fold 4 completed\n"
     ]
    }
   ],
   "source": [
    "counts = []\n",
    "for fold in range(len(l)):\n",
    "    count_hv_t = 0\n",
    "    count_lv_t = 0\n",
    "    count_hv_v = 0\n",
    "    count_lv_v = 0\n",
    "    l_fold = l[fold]\n",
    "    for label in l_fold['train']:\n",
    "        if (label == [0.,1.]).all():\n",
    "            count_hv_t += 1\n",
    "        else:\n",
    "            count_lv_t +=1\n",
    "    for label in l_fold['valid']:\n",
    "        if (label == [0.,1.]).all():\n",
    "            count_hv_v += 1\n",
    "        else:\n",
    "            count_lv_v +=1\n",
    "    counts.append([count_hv_t,count_lv_t,count_hv_v,count_lv_v])    \n",
    "    print(f'Fold {fold} completed')\n",
    "\n",
    "\n"
   ]
  },
  {
   "cell_type": "code",
   "execution_count": 18,
   "id": "3690c3e2",
   "metadata": {},
   "outputs": [],
   "source": [
    "df = pd.DataFrame(data=counts, columns= ['hv_t','lv_t','hv_v','lv_v'])"
   ]
  },
  {
   "cell_type": "code",
   "execution_count": 19,
   "id": "e5986ea1",
   "metadata": {},
   "outputs": [
    {
     "name": "stdout",
     "output_type": "stream",
     "text": [
      "   hv_t  lv_t  hv_v  lv_v\n",
      "0    17    15     2     6\n",
      "1    14    18     5     3\n",
      "2    15    17     4     4\n",
      "3    17    15     2     6\n",
      "4    13    19     6     2\n"
     ]
    }
   ],
   "source": [
    "print(df)"
   ]
  },
  {
   "cell_type": "code",
   "execution_count": 20,
   "id": "55325331",
   "metadata": {},
   "outputs": [
    {
     "data": {
      "text/plain": [
       "<Axes: >"
      ]
     },
     "execution_count": 20,
     "metadata": {},
     "output_type": "execute_result"
    },
    {
     "data": {
      "image/png": "[encoded data removed]",
      "text/plain": [
       "<Figure size 640x480 with 1 Axes>"
      ]
     },
     "metadata": {},
     "output_type": "display_data"
    }
   ],
   "source": [
    "df.plot.barh()"
   ]
  },
  {
   "cell_type": "code",
   "execution_count": 21,
   "id": "839a727f",
   "metadata": {},
   "outputs": [
    {
     "data": {
      "text/plain": [
       "array([[1.],\n",
       "       [1.],\n",
       "       [1.],\n",
       "       [1.],\n",
       "       [1.],\n",
       "       [1.],\n",
       "       [1.],\n",
       "       [1.],\n",
       "       [1.],\n",
       "       [0.],\n",
       "       [1.],\n",
       "       [1.],\n",
       "       [1.],\n",
       "       [1.],\n",
       "       [1.],\n",
       "       [0.],\n",
       "       [1.],\n",
       "       [1.],\n",
       "       [1.],\n",
       "       [1.],\n",
       "       [0.],\n",
       "       [0.],\n",
       "       [0.],\n",
       "       [0.],\n",
       "       [0.],\n",
       "       [0.],\n",
       "       [1.],\n",
       "       [0.],\n",
       "       [0.],\n",
       "       [0.],\n",
       "       [0.],\n",
       "       [0.],\n",
       "       [0.],\n",
       "       [0.],\n",
       "       [1.],\n",
       "       [0.],\n",
       "       [0.],\n",
       "       [0.],\n",
       "       [0.],\n",
       "       [0.]])"
      ]
     },
     "execution_count": 21,
     "metadata": {},
     "output_type": "execute_result"
    }
   ],
   "source": [
    "l_skf"
   ]
  },
  {
   "cell_type": "code",
   "execution_count": 22,
   "id": "4dc3a82c",
   "metadata": {},
   "outputs": [
    {
     "data": {
      "text/plain": [
       "(40, 115, 32, 32, 5)"
      ]
     },
     "execution_count": 22,
     "metadata": {},
     "output_type": "execute_result"
    }
   ],
   "source": [
    "dt.shape"
   ]
  },
  {
   "cell_type": "code",
   "execution_count": 23,
   "id": "e2945609",
   "metadata": {},
   "outputs": [
    {
     "data": {
      "text/plain": [
       "(40, 115, 2)"
      ]
     },
     "execution_count": 23,
     "metadata": {},
     "output_type": "execute_result"
    }
   ],
   "source": [
    "labels.shape"
   ]
  },
  {
   "cell_type": "code",
   "execution_count": 24,
   "id": "6ae27ca3",
   "metadata": {},
   "outputs": [
    {
     "name": "stdout",
     "output_type": "stream",
     "text": [
      "Fold 1 running\n"
     ]
    },
    {
     "name": "stderr",
     "output_type": "stream",
     "text": [
      "100%|██████████| 37/37 [00:05<00:00,  7.27batch/s, TrainAccuracyPerBatch_valence=55.9, loss=0.768, totalLoss=0.788]\n",
      "100%|██████████| 10/10 [00:00<00:00, 34.03batch/s]\n"
     ]
    },
    {
     "name": "stdout",
     "output_type": "stream",
     "text": [
      "Epoch [0], Loss_t: 0.7876,Loss_v: 0.6921, train_acc_v:55.9459, val_acc_v:52.2826\n"
     ]
    },
    {
     "name": "stderr",
     "output_type": "stream",
     "text": [
      "100%|██████████| 37/37 [00:03<00:00, 10.38batch/s, TrainAccuracyPerBatch_valence=60.9, loss=0.791, totalLoss=0.759]\n",
      "100%|██████████| 10/10 [00:00<00:00, 34.48batch/s]\n"
     ]
    },
    {
     "name": "stdout",
     "output_type": "stream",
     "text": [
      "Epoch [1], Loss_t: 0.7592,Loss_v: 0.8321, train_acc_v:60.9459, val_acc_v:29.6739\n"
     ]
    },
    {
     "name": "stderr",
     "output_type": "stream",
     "text": [
      "100%|██████████| 37/37 [00:03<00:00, 10.44batch/s, TrainAccuracyPerBatch_valence=62.7, loss=0.756, totalLoss=0.747]\n",
      "100%|██████████| 10/10 [00:00<00:00, 34.36batch/s]\n"
     ]
    },
    {
     "name": "stdout",
     "output_type": "stream",
     "text": [
      "Epoch [2], Loss_t: 0.7467,Loss_v: 0.7209, train_acc_v:62.6757, val_acc_v:47.9348\n"
     ]
    },
    {
     "name": "stderr",
     "output_type": "stream",
     "text": [
      "100%|██████████| 37/37 [00:03<00:00, 10.51batch/s, TrainAccuracyPerBatch_valence=63.9, loss=0.703, totalLoss=0.739]\n",
      "100%|██████████| 10/10 [00:00<00:00, 34.99batch/s]\n"
     ]
    },
    {
     "name": "stdout",
     "output_type": "stream",
     "text": [
      "Epoch [3], Loss_t: 0.7393,Loss_v: 0.8043, train_acc_v:63.9459, val_acc_v:38.2609\n"
     ]
    },
    {
     "name": "stderr",
     "output_type": "stream",
     "text": [
      "100%|██████████| 37/37 [00:03<00:00, 10.56batch/s, TrainAccuracyPerBatch_valence=66.1, loss=0.745, totalLoss=0.728]\n",
      "100%|██████████| 10/10 [00:00<00:00, 34.33batch/s]\n"
     ]
    },
    {
     "name": "stdout",
     "output_type": "stream",
     "text": [
      "Epoch [4], Loss_t: 0.7276,Loss_v: 0.7743, train_acc_v:66.1081, val_acc_v:41.1957\n"
     ]
    },
    {
     "name": "stderr",
     "output_type": "stream",
     "text": [
      "100%|██████████| 37/37 [00:03<00:00, 10.45batch/s, TrainAccuracyPerBatch_valence=67, loss=0.76, totalLoss=0.723]   \n",
      "100%|██████████| 10/10 [00:00<00:00, 34.45batch/s]\n"
     ]
    },
    {
     "name": "stdout",
     "output_type": "stream",
     "text": [
      "Epoch [5], Loss_t: 0.7227,Loss_v: 0.8427, train_acc_v:67.0000, val_acc_v:34.3478\n"
     ]
    },
    {
     "name": "stderr",
     "output_type": "stream",
     "text": [
      "100%|██████████| 37/37 [00:03<00:00, 10.56batch/s, TrainAccuracyPerBatch_valence=67.9, loss=0.752, totalLoss=0.715]\n",
      "100%|██████████| 10/10 [00:00<00:00, 35.10batch/s]\n"
     ]
    },
    {
     "name": "stdout",
     "output_type": "stream",
     "text": [
      "Epoch [6], Loss_t: 0.7149,Loss_v: 0.6834, train_acc_v:67.8919, val_acc_v:57.8261\n"
     ]
    },
    {
     "name": "stderr",
     "output_type": "stream",
     "text": [
      "100%|██████████| 37/37 [00:03<00:00, 10.56batch/s, TrainAccuracyPerBatch_valence=69, loss=0.734, totalLoss=0.707]  \n",
      "100%|██████████| 10/10 [00:00<00:00, 34.71batch/s]\n"
     ]
    },
    {
     "name": "stdout",
     "output_type": "stream",
     "text": [
      "Epoch [7], Loss_t: 0.7072,Loss_v: 0.6836, train_acc_v:69.0270, val_acc_v:57.6087\n"
     ]
    },
    {
     "name": "stderr",
     "output_type": "stream",
     "text": [
      "100%|██████████| 37/37 [00:03<00:00, 10.62batch/s, TrainAccuracyPerBatch_valence=69.6, loss=0.665, totalLoss=0.701]\n",
      "100%|██████████| 10/10 [00:00<00:00, 34.81batch/s]\n"
     ]
    },
    {
     "name": "stdout",
     "output_type": "stream",
     "text": [
      "Epoch [8], Loss_t: 0.7011,Loss_v: 0.7012, train_acc_v:69.5676, val_acc_v:56.5217\n"
     ]
    },
    {
     "name": "stderr",
     "output_type": "stream",
     "text": [
      "100%|██████████| 37/37 [00:03<00:00, 10.65batch/s, TrainAccuracyPerBatch_valence=71.8, loss=0.701, totalLoss=0.686]\n",
      "100%|██████████| 10/10 [00:00<00:00, 35.08batch/s]\n"
     ]
    },
    {
     "name": "stdout",
     "output_type": "stream",
     "text": [
      "Epoch [9], Loss_t: 0.6862,Loss_v: 0.6887, train_acc_v:71.7838, val_acc_v:57.2826\n"
     ]
    },
    {
     "name": "stderr",
     "output_type": "stream",
     "text": [
      "100%|██████████| 37/37 [00:03<00:00, 10.62batch/s, TrainAccuracyPerBatch_valence=73.4, loss=0.687, totalLoss=0.676]\n",
      "100%|██████████| 10/10 [00:00<00:00, 35.34batch/s]\n"
     ]
    },
    {
     "name": "stdout",
     "output_type": "stream",
     "text": [
      "Epoch [10], Loss_t: 0.6759,Loss_v: 0.6564, train_acc_v:73.3784, val_acc_v:61.7391\n"
     ]
    },
    {
     "name": "stderr",
     "output_type": "stream",
     "text": [
      "100%|██████████| 37/37 [00:03<00:00, 10.65batch/s, TrainAccuracyPerBatch_valence=74.8, loss=0.686, totalLoss=0.669]\n",
      "100%|██████████| 10/10 [00:00<00:00, 34.79batch/s]\n"
     ]
    },
    {
     "name": "stdout",
     "output_type": "stream",
     "text": [
      "Epoch [11], Loss_t: 0.6692,Loss_v: 0.6882, train_acc_v:74.7838, val_acc_v:58.4783\n"
     ]
    },
    {
     "name": "stderr",
     "output_type": "stream",
     "text": [
      "100%|██████████| 37/37 [00:03<00:00, 10.64batch/s, TrainAccuracyPerBatch_valence=75.4, loss=0.631, totalLoss=0.659]\n",
      "100%|██████████| 10/10 [00:00<00:00, 34.93batch/s]\n"
     ]
    },
    {
     "name": "stdout",
     "output_type": "stream",
     "text": [
      "Epoch [12], Loss_t: 0.6586,Loss_v: 0.7386, train_acc_v:75.3784, val_acc_v:51.5217\n"
     ]
    },
    {
     "name": "stderr",
     "output_type": "stream",
     "text": [
      "100%|██████████| 37/37 [00:03<00:00, 10.64batch/s, TrainAccuracyPerBatch_valence=77.9, loss=0.628, totalLoss=0.643]\n",
      "100%|██████████| 10/10 [00:00<00:00, 35.36batch/s]\n"
     ]
    },
    {
     "name": "stdout",
     "output_type": "stream",
     "text": [
      "Epoch [13], Loss_t: 0.6426,Loss_v: 0.7509, train_acc_v:77.8649, val_acc_v:51.7391\n"
     ]
    },
    {
     "name": "stderr",
     "output_type": "stream",
     "text": [
      "100%|██████████| 37/37 [00:03<00:00, 10.63batch/s, TrainAccuracyPerBatch_valence=79.3, loss=0.593, totalLoss=0.63] \n",
      "100%|██████████| 10/10 [00:00<00:00, 35.09batch/s]\n"
     ]
    },
    {
     "name": "stdout",
     "output_type": "stream",
     "text": [
      "Epoch [14], Loss_t: 0.6301,Loss_v: 0.6781, train_acc_v:79.2973, val_acc_v:61.0870\n"
     ]
    },
    {
     "name": "stderr",
     "output_type": "stream",
     "text": [
      "100%|██████████| 37/37 [00:03<00:00, 10.60batch/s, TrainAccuracyPerBatch_valence=81.6, loss=0.629, totalLoss=0.615]\n",
      "100%|██████████| 10/10 [00:00<00:00, 35.55batch/s]\n"
     ]
    },
    {
     "name": "stdout",
     "output_type": "stream",
     "text": [
      "Epoch [15], Loss_t: 0.6150,Loss_v: 0.7453, train_acc_v:81.5676, val_acc_v:52.7174\n"
     ]
    },
    {
     "name": "stderr",
     "output_type": "stream",
     "text": [
      "100%|██████████| 37/37 [00:03<00:00, 10.60batch/s, TrainAccuracyPerBatch_valence=84.7, loss=0.599, totalLoss=0.595]\n",
      "100%|██████████| 10/10 [00:00<00:00, 34.75batch/s]\n"
     ]
    },
    {
     "name": "stdout",
     "output_type": "stream",
     "text": [
      "Epoch [16], Loss_t: 0.5948,Loss_v: 0.7309, train_acc_v:84.6757, val_acc_v:55.9783\n"
     ]
    },
    {
     "name": "stderr",
     "output_type": "stream",
     "text": [
      "100%|██████████| 37/37 [00:03<00:00, 10.57batch/s, TrainAccuracyPerBatch_valence=85.2, loss=0.552, totalLoss=0.583]\n",
      "100%|██████████| 10/10 [00:00<00:00, 34.68batch/s]\n"
     ]
    },
    {
     "name": "stdout",
     "output_type": "stream",
     "text": [
      "Epoch [17], Loss_t: 0.5830,Loss_v: 0.6771, train_acc_v:85.2432, val_acc_v:58.8043\n"
     ]
    },
    {
     "name": "stderr",
     "output_type": "stream",
     "text": [
      "100%|██████████| 37/37 [00:03<00:00, 10.48batch/s, TrainAccuracyPerBatch_valence=86.6, loss=0.617, totalLoss=0.57] \n",
      "100%|██████████| 10/10 [00:00<00:00, 34.63batch/s]\n"
     ]
    },
    {
     "name": "stdout",
     "output_type": "stream",
     "text": [
      "Epoch [18], Loss_t: 0.5697,Loss_v: 0.8031, train_acc_v:86.5676, val_acc_v:47.6087\n"
     ]
    },
    {
     "name": "stderr",
     "output_type": "stream",
     "text": [
      "100%|██████████| 37/37 [00:03<00:00, 10.89batch/s, TrainAccuracyPerBatch_valence=87.6, loss=0.548, totalLoss=0.556]\n",
      "100%|██████████| 10/10 [00:00<00:00, 35.78batch/s]\n"
     ]
    },
    {
     "name": "stdout",
     "output_type": "stream",
     "text": [
      "Epoch [19], Loss_t: 0.5561,Loss_v: 0.6918, train_acc_v:87.5676, val_acc_v:58.8043\n"
     ]
    },
    {
     "name": "stderr",
     "output_type": "stream",
     "text": [
      "100%|██████████| 37/37 [00:03<00:00, 10.61batch/s, TrainAccuracyPerBatch_valence=90.8, loss=0.576, totalLoss=0.532]\n",
      "100%|██████████| 10/10 [00:00<00:00, 35.40batch/s]\n"
     ]
    },
    {
     "name": "stdout",
     "output_type": "stream",
     "text": [
      "Epoch [20], Loss_t: 0.5319,Loss_v: 0.7817, train_acc_v:90.7838, val_acc_v:48.8043\n"
     ]
    },
    {
     "name": "stderr",
     "output_type": "stream",
     "text": [
      "100%|██████████| 37/37 [00:03<00:00, 10.71batch/s, TrainAccuracyPerBatch_valence=90.1, loss=0.513, totalLoss=0.529]\n",
      "100%|██████████| 10/10 [00:00<00:00, 35.57batch/s]\n"
     ]
    },
    {
     "name": "stdout",
     "output_type": "stream",
     "text": [
      "Epoch [21], Loss_t: 0.5292,Loss_v: 0.6348, train_acc_v:90.0811, val_acc_v:65.2174\n"
     ]
    },
    {
     "name": "stderr",
     "output_type": "stream",
     "text": [
      "100%|██████████| 37/37 [00:03<00:00, 10.69batch/s, TrainAccuracyPerBatch_valence=92.9, loss=0.511, totalLoss=0.507]\n",
      "100%|██████████| 10/10 [00:00<00:00, 35.07batch/s]\n"
     ]
    },
    {
     "name": "stdout",
     "output_type": "stream",
     "text": [
      "Epoch [22], Loss_t: 0.5074,Loss_v: 0.7324, train_acc_v:92.8649, val_acc_v:56.0870\n"
     ]
    },
    {
     "name": "stderr",
     "output_type": "stream",
     "text": [
      "100%|██████████| 37/37 [00:03<00:00, 10.69batch/s, TrainAccuracyPerBatch_valence=93.4, loss=0.501, totalLoss=0.501]\n",
      "100%|██████████| 10/10 [00:00<00:00, 35.45batch/s]\n"
     ]
    },
    {
     "name": "stdout",
     "output_type": "stream",
     "text": [
      "Epoch [23], Loss_t: 0.5006,Loss_v: 0.5737, train_acc_v:93.4054, val_acc_v:71.4130\n"
     ]
    },
    {
     "name": "stderr",
     "output_type": "stream",
     "text": [
      "100%|██████████| 37/37 [00:03<00:00, 10.70batch/s, TrainAccuracyPerBatch_valence=91.1, loss=0.532, totalLoss=0.516]\n",
      "100%|██████████| 10/10 [00:00<00:00, 35.28batch/s]\n"
     ]
    },
    {
     "name": "stdout",
     "output_type": "stream",
     "text": [
      "Epoch [24], Loss_t: 0.5160,Loss_v: 0.7428, train_acc_v:91.1081, val_acc_v:54.8913\n"
     ]
    },
    {
     "name": "stderr",
     "output_type": "stream",
     "text": [
      "100%|██████████| 37/37 [00:03<00:00, 10.70batch/s, TrainAccuracyPerBatch_valence=94.6, loss=0.484, totalLoss=0.487]\n",
      "100%|██████████| 10/10 [00:00<00:00, 35.24batch/s]\n"
     ]
    },
    {
     "name": "stdout",
     "output_type": "stream",
     "text": [
      "Epoch [25], Loss_t: 0.4873,Loss_v: 0.7586, train_acc_v:94.5676, val_acc_v:53.5870\n"
     ]
    },
    {
     "name": "stderr",
     "output_type": "stream",
     "text": [
      "100%|██████████| 37/37 [00:03<00:00, 10.72batch/s, TrainAccuracyPerBatch_valence=96.5, loss=0.457, totalLoss=0.466]\n",
      "100%|██████████| 10/10 [00:00<00:00, 35.89batch/s]\n"
     ]
    },
    {
     "name": "stdout",
     "output_type": "stream",
     "text": [
      "Epoch [26], Loss_t: 0.4661,Loss_v: 0.6517, train_acc_v:96.5135, val_acc_v:63.6957\n"
     ]
    },
    {
     "name": "stderr",
     "output_type": "stream",
     "text": [
      "100%|██████████| 37/37 [00:03<00:00, 10.71batch/s, TrainAccuracyPerBatch_valence=96.7, loss=0.46, totalLoss=0.464] \n",
      "100%|██████████| 10/10 [00:00<00:00, 35.28batch/s]\n"
     ]
    },
    {
     "name": "stdout",
     "output_type": "stream",
     "text": [
      "Epoch [27], Loss_t: 0.4638,Loss_v: 0.6327, train_acc_v:96.6757, val_acc_v:65.4348\n"
     ]
    },
    {
     "name": "stderr",
     "output_type": "stream",
     "text": [
      "100%|██████████| 37/37 [00:03<00:00, 10.72batch/s, TrainAccuracyPerBatch_valence=97.3, loss=0.474, totalLoss=0.455]\n",
      "100%|██████████| 10/10 [00:00<00:00, 35.53batch/s]\n"
     ]
    },
    {
     "name": "stdout",
     "output_type": "stream",
     "text": [
      "Epoch [28], Loss_t: 0.4547,Loss_v: 0.6893, train_acc_v:97.3243, val_acc_v:59.5652\n"
     ]
    },
    {
     "name": "stderr",
     "output_type": "stream",
     "text": [
      "100%|██████████| 37/37 [00:03<00:00, 10.69batch/s, TrainAccuracyPerBatch_valence=97.7, loss=0.449, totalLoss=0.451]\n",
      "100%|██████████| 10/10 [00:00<00:00, 35.79batch/s]\n"
     ]
    },
    {
     "name": "stdout",
     "output_type": "stream",
     "text": [
      "Epoch [29], Loss_t: 0.4510,Loss_v: 0.6919, train_acc_v:97.7297, val_acc_v:58.9130\n"
     ]
    },
    {
     "name": "stderr",
     "output_type": "stream",
     "text": [
      "100%|██████████| 37/37 [00:03<00:00, 10.70batch/s, TrainAccuracyPerBatch_valence=98.3, loss=0.437, totalLoss=0.442]\n",
      "100%|██████████| 10/10 [00:00<00:00, 35.52batch/s]\n"
     ]
    },
    {
     "name": "stdout",
     "output_type": "stream",
     "text": [
      "Epoch [30], Loss_t: 0.4423,Loss_v: 0.7256, train_acc_v:98.3243, val_acc_v:56.1957\n"
     ]
    },
    {
     "name": "stderr",
     "output_type": "stream",
     "text": [
      "100%|██████████| 37/37 [00:03<00:00, 10.69batch/s, TrainAccuracyPerBatch_valence=98.4, loss=0.443, totalLoss=0.443]\n",
      "100%|██████████| 10/10 [00:00<00:00, 35.94batch/s]\n"
     ]
    },
    {
     "name": "stdout",
     "output_type": "stream",
     "text": [
      "Epoch [31], Loss_t: 0.4428,Loss_v: 0.8667, train_acc_v:98.3784, val_acc_v:41.5217\n"
     ]
    },
    {
     "name": "stderr",
     "output_type": "stream",
     "text": [
      "100%|██████████| 37/37 [00:03<00:00, 10.73batch/s, TrainAccuracyPerBatch_valence=98.4, loss=0.43, totalLoss=0.441] \n",
      "100%|██████████| 10/10 [00:00<00:00, 35.05batch/s]\n"
     ]
    },
    {
     "name": "stdout",
     "output_type": "stream",
     "text": [
      "Epoch [32], Loss_t: 0.4408,Loss_v: 0.6927, train_acc_v:98.4054, val_acc_v:58.5870\n"
     ]
    },
    {
     "name": "stderr",
     "output_type": "stream",
     "text": [
      "100%|██████████| 37/37 [00:03<00:00, 10.70batch/s, TrainAccuracyPerBatch_valence=98.9, loss=0.431, totalLoss=0.435]\n",
      "100%|██████████| 10/10 [00:00<00:00, 35.65batch/s]\n"
     ]
    },
    {
     "name": "stdout",
     "output_type": "stream",
     "text": [
      "Epoch [33], Loss_t: 0.4346,Loss_v: 0.7813, train_acc_v:98.9459, val_acc_v:50.0000\n"
     ]
    },
    {
     "name": "stderr",
     "output_type": "stream",
     "text": [
      "100%|██████████| 37/37 [00:03<00:00, 10.66batch/s, TrainAccuracyPerBatch_valence=99.1, loss=0.428, totalLoss=0.431]\n",
      "100%|██████████| 10/10 [00:00<00:00, 36.47batch/s]\n"
     ]
    },
    {
     "name": "stdout",
     "output_type": "stream",
     "text": [
      "Epoch [34], Loss_t: 0.4307,Loss_v: 0.7691, train_acc_v:99.1351, val_acc_v:52.1739\n"
     ]
    },
    {
     "name": "stderr",
     "output_type": "stream",
     "text": [
      "100%|██████████| 37/37 [00:03<00:00, 10.57batch/s, TrainAccuracyPerBatch_valence=99.2, loss=0.426, totalLoss=0.428]\n",
      "100%|██████████| 10/10 [00:00<00:00, 32.76batch/s]\n"
     ]
    },
    {
     "name": "stdout",
     "output_type": "stream",
     "text": [
      "Epoch [35], Loss_t: 0.4280,Loss_v: 0.7440, train_acc_v:99.2432, val_acc_v:55.6522\n"
     ]
    },
    {
     "name": "stderr",
     "output_type": "stream",
     "text": [
      "100%|██████████| 37/37 [00:03<00:00, 10.55batch/s, TrainAccuracyPerBatch_valence=99.3, loss=0.426, totalLoss=0.427]\n",
      "100%|██████████| 10/10 [00:00<00:00, 35.31batch/s]\n"
     ]
    },
    {
     "name": "stdout",
     "output_type": "stream",
     "text": [
      "Epoch [36], Loss_t: 0.4273,Loss_v: 0.7136, train_acc_v:99.2703, val_acc_v:57.1739\n"
     ]
    },
    {
     "name": "stderr",
     "output_type": "stream",
     "text": [
      "100%|██████████| 37/37 [00:03<00:00, 10.68batch/s, TrainAccuracyPerBatch_valence=99.3, loss=0.425, totalLoss=0.427]\n",
      "100%|██████████| 10/10 [00:00<00:00, 35.15batch/s]\n"
     ]
    },
    {
     "name": "stdout",
     "output_type": "stream",
     "text": [
      "Epoch [37], Loss_t: 0.4269,Loss_v: 0.7329, train_acc_v:99.2703, val_acc_v:55.6522\n"
     ]
    },
    {
     "name": "stderr",
     "output_type": "stream",
     "text": [
      "100%|██████████| 37/37 [00:03<00:00, 10.70batch/s, TrainAccuracyPerBatch_valence=99.3, loss=0.426, totalLoss=0.427]\n",
      "100%|██████████| 10/10 [00:00<00:00, 35.40batch/s]\n"
     ]
    },
    {
     "name": "stdout",
     "output_type": "stream",
     "text": [
      "Epoch [38], Loss_t: 0.4265,Loss_v: 0.7045, train_acc_v:99.3243, val_acc_v:58.8043\n"
     ]
    },
    {
     "name": "stderr",
     "output_type": "stream",
     "text": [
      "100%|██████████| 37/37 [00:03<00:00, 10.68batch/s, TrainAccuracyPerBatch_valence=99.3, loss=0.425, totalLoss=0.426]\n",
      "100%|██████████| 10/10 [00:00<00:00, 35.12batch/s]\n"
     ]
    },
    {
     "name": "stdout",
     "output_type": "stream",
     "text": [
      "Epoch [39], Loss_t: 0.4263,Loss_v: 0.7090, train_acc_v:99.3243, val_acc_v:57.8261\n"
     ]
    },
    {
     "name": "stderr",
     "output_type": "stream",
     "text": [
      "100%|██████████| 37/37 [00:03<00:00, 10.66batch/s, TrainAccuracyPerBatch_valence=99.4, loss=0.426, totalLoss=0.426]\n",
      "100%|██████████| 10/10 [00:00<00:00, 35.25batch/s]\n"
     ]
    },
    {
     "name": "stdout",
     "output_type": "stream",
     "text": [
      "Epoch [40], Loss_t: 0.4260,Loss_v: 0.7408, train_acc_v:99.3514, val_acc_v:55.7609\n"
     ]
    },
    {
     "name": "stderr",
     "output_type": "stream",
     "text": [
      "100%|██████████| 37/37 [00:03<00:00, 10.68batch/s, TrainAccuracyPerBatch_valence=99.4, loss=0.425, totalLoss=0.426]\n",
      "100%|██████████| 10/10 [00:00<00:00, 35.42batch/s]\n"
     ]
    },
    {
     "name": "stdout",
     "output_type": "stream",
     "text": [
      "Epoch [41], Loss_t: 0.4258,Loss_v: 0.7303, train_acc_v:99.3514, val_acc_v:56.4130\n"
     ]
    },
    {
     "name": "stderr",
     "output_type": "stream",
     "text": [
      "100%|██████████| 37/37 [00:03<00:00, 10.68batch/s, TrainAccuracyPerBatch_valence=99.4, loss=0.424, totalLoss=0.426]\n",
      "100%|██████████| 10/10 [00:00<00:00, 35.20batch/s]\n"
     ]
    },
    {
     "name": "stdout",
     "output_type": "stream",
     "text": [
      "Epoch [42], Loss_t: 0.4257,Loss_v: 0.7200, train_acc_v:99.3514, val_acc_v:56.6304\n"
     ]
    },
    {
     "name": "stderr",
     "output_type": "stream",
     "text": [
      "100%|██████████| 37/37 [00:03<00:00, 10.68batch/s, TrainAccuracyPerBatch_valence=99.4, loss=0.425, totalLoss=0.426]\n",
      "100%|██████████| 10/10 [00:00<00:00, 35.17batch/s]\n"
     ]
    },
    {
     "name": "stdout",
     "output_type": "stream",
     "text": [
      "Epoch [43], Loss_t: 0.4257,Loss_v: 0.7141, train_acc_v:99.3514, val_acc_v:56.6304\n"
     ]
    },
    {
     "name": "stderr",
     "output_type": "stream",
     "text": [
      "100%|██████████| 37/37 [00:03<00:00, 10.66batch/s, TrainAccuracyPerBatch_valence=99.4, loss=0.424, totalLoss=0.426]\n",
      "100%|██████████| 10/10 [00:00<00:00, 35.18batch/s]\n"
     ]
    },
    {
     "name": "stdout",
     "output_type": "stream",
     "text": [
      "Epoch [44], Loss_t: 0.4256,Loss_v: 0.7197, train_acc_v:99.3514, val_acc_v:56.9565\n"
     ]
    },
    {
     "name": "stderr",
     "output_type": "stream",
     "text": [
      "100%|██████████| 37/37 [00:03<00:00, 10.67batch/s, TrainAccuracyPerBatch_valence=99.4, loss=0.425, totalLoss=0.425]\n",
      "100%|██████████| 10/10 [00:00<00:00, 35.45batch/s]\n"
     ]
    },
    {
     "name": "stdout",
     "output_type": "stream",
     "text": [
      "Epoch [45], Loss_t: 0.4255,Loss_v: 0.7289, train_acc_v:99.3514, val_acc_v:58.0435\n"
     ]
    },
    {
     "name": "stderr",
     "output_type": "stream",
     "text": [
      "100%|██████████| 37/37 [00:03<00:00, 10.70batch/s, TrainAccuracyPerBatch_valence=99.4, loss=0.425, totalLoss=0.425]\n",
      "100%|██████████| 10/10 [00:00<00:00, 35.65batch/s]\n"
     ]
    },
    {
     "name": "stdout",
     "output_type": "stream",
     "text": [
      "Epoch [46], Loss_t: 0.4254,Loss_v: 0.7229, train_acc_v:99.3784, val_acc_v:57.8261\n"
     ]
    },
    {
     "name": "stderr",
     "output_type": "stream",
     "text": [
      "100%|██████████| 37/37 [00:03<00:00, 10.24batch/s, TrainAccuracyPerBatch_valence=99.4, loss=0.424, totalLoss=0.425]\n",
      "100%|██████████| 10/10 [00:00<00:00, 34.57batch/s]\n"
     ]
    },
    {
     "name": "stdout",
     "output_type": "stream",
     "text": [
      "Epoch [47], Loss_t: 0.4252,Loss_v: 0.7019, train_acc_v:99.3784, val_acc_v:60.3261\n"
     ]
    },
    {
     "name": "stderr",
     "output_type": "stream",
     "text": [
      "100%|██████████| 37/37 [00:03<00:00, 10.50batch/s, TrainAccuracyPerBatch_valence=99.4, loss=0.424, totalLoss=0.425]\n",
      "100%|██████████| 10/10 [00:00<00:00, 34.57batch/s]\n"
     ]
    },
    {
     "name": "stdout",
     "output_type": "stream",
     "text": [
      "Epoch [48], Loss_t: 0.4251,Loss_v: 0.7193, train_acc_v:99.3784, val_acc_v:57.2826\n"
     ]
    },
    {
     "name": "stderr",
     "output_type": "stream",
     "text": [
      "100%|██████████| 37/37 [00:03<00:00, 10.55batch/s, TrainAccuracyPerBatch_valence=99.4, loss=0.424, totalLoss=0.425]\n",
      "100%|██████████| 10/10 [00:00<00:00, 34.83batch/s]\n"
     ]
    },
    {
     "name": "stdout",
     "output_type": "stream",
     "text": [
      "Epoch [49], Loss_t: 0.4251,Loss_v: 0.7087, train_acc_v:99.3784, val_acc_v:58.4783\n"
     ]
    },
    {
     "name": "stderr",
     "output_type": "stream",
     "text": [
      "100%|██████████| 37/37 [00:03<00:00, 10.55batch/s, TrainAccuracyPerBatch_valence=99.4, loss=0.424, totalLoss=0.425]\n",
      "100%|██████████| 10/10 [00:00<00:00, 34.74batch/s]\n"
     ]
    },
    {
     "name": "stdout",
     "output_type": "stream",
     "text": [
      "Epoch [50], Loss_t: 0.4251,Loss_v: 0.7178, train_acc_v:99.3784, val_acc_v:57.9348\n"
     ]
    },
    {
     "name": "stderr",
     "output_type": "stream",
     "text": [
      "100%|██████████| 37/37 [00:03<00:00, 10.55batch/s, TrainAccuracyPerBatch_valence=99.4, loss=0.424, totalLoss=0.425]\n",
      "100%|██████████| 10/10 [00:00<00:00, 35.06batch/s]\n"
     ]
    },
    {
     "name": "stdout",
     "output_type": "stream",
     "text": [
      "Epoch [51], Loss_t: 0.4250,Loss_v: 0.7258, train_acc_v:99.3784, val_acc_v:56.9565\n"
     ]
    },
    {
     "name": "stderr",
     "output_type": "stream",
     "text": [
      "100%|██████████| 37/37 [00:03<00:00, 10.54batch/s, TrainAccuracyPerBatch_valence=99.4, loss=0.424, totalLoss=0.425]\n",
      "100%|██████████| 10/10 [00:00<00:00, 34.85batch/s]\n"
     ]
    },
    {
     "name": "stdout",
     "output_type": "stream",
     "text": [
      "Epoch [52], Loss_t: 0.4250,Loss_v: 0.7254, train_acc_v:99.3784, val_acc_v:57.9348\n"
     ]
    },
    {
     "name": "stderr",
     "output_type": "stream",
     "text": [
      "100%|██████████| 37/37 [00:03<00:00, 10.57batch/s, TrainAccuracyPerBatch_valence=99.4, loss=0.424, totalLoss=0.425]\n",
      "100%|██████████| 10/10 [00:00<00:00, 34.22batch/s]\n"
     ]
    },
    {
     "name": "stdout",
     "output_type": "stream",
     "text": [
      "Epoch [53], Loss_t: 0.4250,Loss_v: 0.7070, train_acc_v:99.3784, val_acc_v:59.5652\n"
     ]
    },
    {
     "name": "stderr",
     "output_type": "stream",
     "text": [
      "100%|██████████| 37/37 [00:03<00:00, 10.25batch/s, TrainAccuracyPerBatch_valence=99.4, loss=0.424, totalLoss=0.425]\n",
      "100%|██████████| 10/10 [00:00<00:00, 34.10batch/s]\n"
     ]
    },
    {
     "name": "stdout",
     "output_type": "stream",
     "text": [
      "Epoch [54], Loss_t: 0.4250,Loss_v: 0.7098, train_acc_v:99.3784, val_acc_v:57.6087\n"
     ]
    },
    {
     "name": "stderr",
     "output_type": "stream",
     "text": [
      "100%|██████████| 37/37 [00:03<00:00, 10.23batch/s, TrainAccuracyPerBatch_valence=99.4, loss=0.424, totalLoss=0.425]\n",
      "100%|██████████| 10/10 [00:00<00:00, 33.89batch/s]\n"
     ]
    },
    {
     "name": "stdout",
     "output_type": "stream",
     "text": [
      "Epoch [55], Loss_t: 0.4250,Loss_v: 0.7173, train_acc_v:99.3784, val_acc_v:56.7391\n"
     ]
    },
    {
     "name": "stderr",
     "output_type": "stream",
     "text": [
      "100%|██████████| 37/37 [00:03<00:00, 10.22batch/s, TrainAccuracyPerBatch_valence=99.4, loss=0.424, totalLoss=0.425]\n",
      "100%|██████████| 10/10 [00:00<00:00, 33.85batch/s]\n"
     ]
    },
    {
     "name": "stdout",
     "output_type": "stream",
     "text": [
      "Epoch [56], Loss_t: 0.4249,Loss_v: 0.6990, train_acc_v:99.3784, val_acc_v:57.9348\n"
     ]
    },
    {
     "name": "stderr",
     "output_type": "stream",
     "text": [
      "100%|██████████| 37/37 [00:03<00:00, 10.22batch/s, TrainAccuracyPerBatch_valence=99.4, loss=0.424, totalLoss=0.425]\n",
      "100%|██████████| 10/10 [00:00<00:00, 33.38batch/s]\n"
     ]
    },
    {
     "name": "stdout",
     "output_type": "stream",
     "text": [
      "Epoch [57], Loss_t: 0.4249,Loss_v: 0.7116, train_acc_v:99.3784, val_acc_v:57.8261\n"
     ]
    },
    {
     "name": "stderr",
     "output_type": "stream",
     "text": [
      "100%|██████████| 37/37 [00:03<00:00, 10.28batch/s, TrainAccuracyPerBatch_valence=99.4, loss=0.424, totalLoss=0.425]\n",
      "100%|██████████| 10/10 [00:00<00:00, 34.49batch/s]\n"
     ]
    },
    {
     "name": "stdout",
     "output_type": "stream",
     "text": [
      "Epoch [58], Loss_t: 0.4249,Loss_v: 0.7243, train_acc_v:99.3784, val_acc_v:56.0870\n"
     ]
    },
    {
     "name": "stderr",
     "output_type": "stream",
     "text": [
      "100%|██████████| 37/37 [00:03<00:00, 10.28batch/s, TrainAccuracyPerBatch_valence=99.4, loss=0.424, totalLoss=0.425]\n",
      "100%|██████████| 10/10 [00:00<00:00, 34.59batch/s]\n"
     ]
    },
    {
     "name": "stdout",
     "output_type": "stream",
     "text": [
      "Epoch [59], Loss_t: 0.4249,Loss_v: 0.6975, train_acc_v:99.3784, val_acc_v:59.1304\n"
     ]
    },
    {
     "name": "stderr",
     "output_type": "stream",
     "text": [
      "100%|██████████| 37/37 [00:03<00:00, 10.53batch/s, TrainAccuracyPerBatch_valence=99.4, loss=0.424, totalLoss=0.425]\n",
      "100%|██████████| 10/10 [00:00<00:00, 34.46batch/s]\n"
     ]
    },
    {
     "name": "stdout",
     "output_type": "stream",
     "text": [
      "Epoch [60], Loss_t: 0.4249,Loss_v: 0.7280, train_acc_v:99.3784, val_acc_v:57.8261\n"
     ]
    },
    {
     "name": "stderr",
     "output_type": "stream",
     "text": [
      "100%|██████████| 37/37 [00:03<00:00, 10.55batch/s, TrainAccuracyPerBatch_valence=99.4, loss=0.424, totalLoss=0.425]\n",
      "100%|██████████| 10/10 [00:00<00:00, 34.88batch/s]\n"
     ]
    },
    {
     "name": "stdout",
     "output_type": "stream",
     "text": [
      "Epoch [61], Loss_t: 0.4248,Loss_v: 0.7286, train_acc_v:99.3784, val_acc_v:57.7174\n"
     ]
    },
    {
     "name": "stderr",
     "output_type": "stream",
     "text": [
      "100%|██████████| 37/37 [00:03<00:00, 10.46batch/s, TrainAccuracyPerBatch_valence=99.4, loss=0.424, totalLoss=0.425]\n",
      "100%|██████████| 10/10 [00:00<00:00, 34.78batch/s]\n"
     ]
    },
    {
     "name": "stdout",
     "output_type": "stream",
     "text": [
      "Epoch [62], Loss_t: 0.4248,Loss_v: 0.7149, train_acc_v:99.3784, val_acc_v:57.3913\n"
     ]
    },
    {
     "name": "stderr",
     "output_type": "stream",
     "text": [
      "100%|██████████| 37/37 [00:03<00:00, 10.62batch/s, TrainAccuracyPerBatch_valence=99.4, loss=0.424, totalLoss=0.425]\n",
      "100%|██████████| 10/10 [00:00<00:00, 35.55batch/s]\n"
     ]
    },
    {
     "name": "stdout",
     "output_type": "stream",
     "text": [
      "Epoch [63], Loss_t: 0.4248,Loss_v: 0.7337, train_acc_v:99.3784, val_acc_v:57.5000\n"
     ]
    },
    {
     "name": "stderr",
     "output_type": "stream",
     "text": [
      "100%|██████████| 37/37 [00:03<00:00, 10.68batch/s, TrainAccuracyPerBatch_valence=99.4, loss=0.436, totalLoss=0.425]\n",
      "100%|██████████| 10/10 [00:00<00:00, 35.59batch/s]\n"
     ]
    },
    {
     "name": "stdout",
     "output_type": "stream",
     "text": [
      "Epoch [64], Loss_t: 0.4249,Loss_v: 0.7244, train_acc_v:99.3784, val_acc_v:57.9348\n"
     ]
    },
    {
     "name": "stderr",
     "output_type": "stream",
     "text": [
      "100%|██████████| 37/37 [00:03<00:00, 10.66batch/s, TrainAccuracyPerBatch_valence=99.4, loss=0.437, totalLoss=0.425]\n",
      "100%|██████████| 10/10 [00:00<00:00, 34.94batch/s]\n"
     ]
    },
    {
     "name": "stdout",
     "output_type": "stream",
     "text": [
      "Epoch [65], Loss_t: 0.4248,Loss_v: 0.7102, train_acc_v:99.3784, val_acc_v:58.5870\n"
     ]
    },
    {
     "name": "stderr",
     "output_type": "stream",
     "text": [
      "100%|██████████| 37/37 [00:03<00:00, 10.65batch/s, TrainAccuracyPerBatch_valence=99.4, loss=0.424, totalLoss=0.425]\n",
      "100%|██████████| 10/10 [00:00<00:00, 35.28batch/s]\n"
     ]
    },
    {
     "name": "stdout",
     "output_type": "stream",
     "text": [
      "Epoch [66], Loss_t: 0.4247,Loss_v: 0.7166, train_acc_v:99.3784, val_acc_v:58.1522\n"
     ]
    },
    {
     "name": "stderr",
     "output_type": "stream",
     "text": [
      "100%|██████████| 37/37 [00:03<00:00, 10.66batch/s, TrainAccuracyPerBatch_valence=99.4, loss=0.424, totalLoss=0.425]\n",
      "100%|██████████| 10/10 [00:00<00:00, 35.30batch/s]\n"
     ]
    },
    {
     "name": "stdout",
     "output_type": "stream",
     "text": [
      "Epoch [67], Loss_t: 0.4247,Loss_v: 0.7247, train_acc_v:99.3784, val_acc_v:57.9348\n"
     ]
    },
    {
     "name": "stderr",
     "output_type": "stream",
     "text": [
      "100%|██████████| 37/37 [00:03<00:00, 10.65batch/s, TrainAccuracyPerBatch_valence=99.4, loss=0.424, totalLoss=0.425]\n",
      "100%|██████████| 10/10 [00:00<00:00, 35.34batch/s]\n"
     ]
    },
    {
     "name": "stdout",
     "output_type": "stream",
     "text": [
      "Epoch [68], Loss_t: 0.4247,Loss_v: 0.7033, train_acc_v:99.3784, val_acc_v:58.2609\n"
     ]
    },
    {
     "name": "stderr",
     "output_type": "stream",
     "text": [
      "100%|██████████| 37/37 [00:03<00:00, 10.64batch/s, TrainAccuracyPerBatch_valence=99.4, loss=0.424, totalLoss=0.425]\n",
      "100%|██████████| 10/10 [00:00<00:00, 35.76batch/s]\n"
     ]
    },
    {
     "name": "stdout",
     "output_type": "stream",
     "text": [
      "Epoch [69], Loss_t: 0.4247,Loss_v: 0.7199, train_acc_v:99.3784, val_acc_v:58.3696\n"
     ]
    },
    {
     "name": "stderr",
     "output_type": "stream",
     "text": [
      "100%|██████████| 37/37 [00:03<00:00, 10.66batch/s, TrainAccuracyPerBatch_valence=99.4, loss=0.424, totalLoss=0.425]\n",
      "100%|██████████| 10/10 [00:00<00:00, 35.07batch/s]\n"
     ]
    },
    {
     "name": "stdout",
     "output_type": "stream",
     "text": [
      "Epoch [70], Loss_t: 0.4247,Loss_v: 0.7199, train_acc_v:99.3784, val_acc_v:58.0435\n"
     ]
    },
    {
     "name": "stderr",
     "output_type": "stream",
     "text": [
      "100%|██████████| 37/37 [00:03<00:00, 10.65batch/s, TrainAccuracyPerBatch_valence=99.4, loss=0.424, totalLoss=0.425]\n",
      "100%|██████████| 10/10 [00:00<00:00, 34.99batch/s]\n"
     ]
    },
    {
     "name": "stdout",
     "output_type": "stream",
     "text": [
      "Epoch [71], Loss_t: 0.4247,Loss_v: 0.7070, train_acc_v:99.3784, val_acc_v:59.3478\n"
     ]
    },
    {
     "name": "stderr",
     "output_type": "stream",
     "text": [
      "100%|██████████| 37/37 [00:03<00:00, 10.65batch/s, TrainAccuracyPerBatch_valence=99.4, loss=0.424, totalLoss=0.425]\n",
      "100%|██████████| 10/10 [00:00<00:00, 35.42batch/s]\n"
     ]
    },
    {
     "name": "stdout",
     "output_type": "stream",
     "text": [
      "Epoch [72], Loss_t: 0.4247,Loss_v: 0.7220, train_acc_v:99.3784, val_acc_v:57.7174\n"
     ]
    },
    {
     "name": "stderr",
     "output_type": "stream",
     "text": [
      "100%|██████████| 37/37 [00:03<00:00, 10.66batch/s, TrainAccuracyPerBatch_valence=99.4, loss=0.424, totalLoss=0.425]\n",
      "100%|██████████| 10/10 [00:00<00:00, 35.40batch/s]\n"
     ]
    },
    {
     "name": "stdout",
     "output_type": "stream",
     "text": [
      "Epoch [73], Loss_t: 0.4246,Loss_v: 0.7321, train_acc_v:99.3784, val_acc_v:57.6087\n"
     ]
    },
    {
     "name": "stderr",
     "output_type": "stream",
     "text": [
      "100%|██████████| 37/37 [00:03<00:00, 10.67batch/s, TrainAccuracyPerBatch_valence=99.4, loss=0.436, totalLoss=0.425]\n",
      "100%|██████████| 10/10 [00:00<00:00, 35.17batch/s]\n"
     ]
    },
    {
     "name": "stdout",
     "output_type": "stream",
     "text": [
      "Epoch [74], Loss_t: 0.4247,Loss_v: 0.7137, train_acc_v:99.3784, val_acc_v:58.9130\n"
     ]
    },
    {
     "name": "stderr",
     "output_type": "stream",
     "text": [
      "100%|██████████| 37/37 [00:03<00:00, 10.58batch/s, TrainAccuracyPerBatch_valence=99.4, loss=0.424, totalLoss=0.425]\n",
      "100%|██████████| 10/10 [00:00<00:00, 34.89batch/s]\n"
     ]
    },
    {
     "name": "stdout",
     "output_type": "stream",
     "text": [
      "Epoch [75], Loss_t: 0.4246,Loss_v: 0.7126, train_acc_v:99.3784, val_acc_v:59.4565\n"
     ]
    },
    {
     "name": "stderr",
     "output_type": "stream",
     "text": [
      "100%|██████████| 37/37 [00:03<00:00, 10.42batch/s, TrainAccuracyPerBatch_valence=99.4, loss=0.424, totalLoss=0.425]\n",
      "100%|██████████| 10/10 [00:00<00:00, 33.68batch/s]\n"
     ]
    },
    {
     "name": "stdout",
     "output_type": "stream",
     "text": [
      "Epoch [76], Loss_t: 0.4246,Loss_v: 0.7398, train_acc_v:99.3784, val_acc_v:57.5000\n"
     ]
    },
    {
     "name": "stderr",
     "output_type": "stream",
     "text": [
      "100%|██████████| 37/37 [00:03<00:00, 10.28batch/s, TrainAccuracyPerBatch_valence=99.4, loss=0.424, totalLoss=0.425]\n",
      "100%|██████████| 10/10 [00:00<00:00, 34.36batch/s]\n"
     ]
    },
    {
     "name": "stdout",
     "output_type": "stream",
     "text": [
      "Epoch [77], Loss_t: 0.4246,Loss_v: 0.7185, train_acc_v:99.3784, val_acc_v:57.0652\n"
     ]
    },
    {
     "name": "stderr",
     "output_type": "stream",
     "text": [
      "100%|██████████| 37/37 [00:03<00:00, 10.32batch/s, TrainAccuracyPerBatch_valence=99.4, loss=0.424, totalLoss=0.425]\n",
      "100%|██████████| 10/10 [00:00<00:00, 33.52batch/s]\n"
     ]
    },
    {
     "name": "stdout",
     "output_type": "stream",
     "text": [
      "Epoch [78], Loss_t: 0.4246,Loss_v: 0.7464, train_acc_v:99.3784, val_acc_v:57.9348\n"
     ]
    },
    {
     "name": "stderr",
     "output_type": "stream",
     "text": [
      "100%|██████████| 37/37 [00:03<00:00, 10.27batch/s, TrainAccuracyPerBatch_valence=99.4, loss=0.424, totalLoss=0.425]\n",
      "100%|██████████| 10/10 [00:00<00:00, 34.55batch/s]\n"
     ]
    },
    {
     "name": "stdout",
     "output_type": "stream",
     "text": [
      "Epoch [79], Loss_t: 0.4246,Loss_v: 0.7439, train_acc_v:99.3784, val_acc_v:54.7826\n"
     ]
    },
    {
     "name": "stderr",
     "output_type": "stream",
     "text": [
      "100%|██████████| 37/37 [00:03<00:00, 10.31batch/s, TrainAccuracyPerBatch_valence=99.4, loss=0.424, totalLoss=0.425]\n",
      "100%|██████████| 10/10 [00:00<00:00, 34.04batch/s]\n"
     ]
    },
    {
     "name": "stdout",
     "output_type": "stream",
     "text": [
      "Epoch [80], Loss_t: 0.4246,Loss_v: 0.7255, train_acc_v:99.3784, val_acc_v:57.9348\n"
     ]
    },
    {
     "name": "stderr",
     "output_type": "stream",
     "text": [
      "100%|██████████| 37/37 [00:03<00:00, 10.34batch/s, TrainAccuracyPerBatch_valence=99.4, loss=0.424, totalLoss=0.425]\n",
      "100%|██████████| 10/10 [00:00<00:00, 34.00batch/s]\n"
     ]
    },
    {
     "name": "stdout",
     "output_type": "stream",
     "text": [
      "Epoch [81], Loss_t: 0.4246,Loss_v: 0.6933, train_acc_v:99.3784, val_acc_v:58.9130\n"
     ]
    },
    {
     "name": "stderr",
     "output_type": "stream",
     "text": [
      "100%|██████████| 37/37 [00:03<00:00, 10.32batch/s, TrainAccuracyPerBatch_valence=99.4, loss=0.424, totalLoss=0.425]\n",
      "100%|██████████| 10/10 [00:00<00:00, 34.40batch/s]\n"
     ]
    },
    {
     "name": "stdout",
     "output_type": "stream",
     "text": [
      "Epoch [82], Loss_t: 0.4245,Loss_v: 0.7077, train_acc_v:99.3784, val_acc_v:58.4783\n"
     ]
    },
    {
     "name": "stderr",
     "output_type": "stream",
     "text": [
      "100%|██████████| 37/37 [00:03<00:00, 10.34batch/s, TrainAccuracyPerBatch_valence=99.4, loss=0.424, totalLoss=0.425]\n",
      "100%|██████████| 10/10 [00:00<00:00, 34.35batch/s]\n"
     ]
    },
    {
     "name": "stdout",
     "output_type": "stream",
     "text": [
      "Epoch [83], Loss_t: 0.4245,Loss_v: 0.7298, train_acc_v:99.3784, val_acc_v:57.5000\n"
     ]
    },
    {
     "name": "stderr",
     "output_type": "stream",
     "text": [
      "100%|██████████| 37/37 [00:03<00:00, 10.32batch/s, TrainAccuracyPerBatch_valence=99.4, loss=0.424, totalLoss=0.425]\n",
      "100%|██████████| 10/10 [00:00<00:00, 33.73batch/s]\n"
     ]
    },
    {
     "name": "stdout",
     "output_type": "stream",
     "text": [
      "Epoch [84], Loss_t: 0.4245,Loss_v: 0.7054, train_acc_v:99.3784, val_acc_v:58.4783\n"
     ]
    },
    {
     "name": "stderr",
     "output_type": "stream",
     "text": [
      "100%|██████████| 37/37 [00:03<00:00, 10.31batch/s, TrainAccuracyPerBatch_valence=99.4, loss=0.424, totalLoss=0.425]\n",
      "100%|██████████| 10/10 [00:00<00:00, 32.71batch/s]\n"
     ]
    },
    {
     "name": "stdout",
     "output_type": "stream",
     "text": [
      "Epoch [85], Loss_t: 0.4245,Loss_v: 0.7165, train_acc_v:99.3784, val_acc_v:58.9130\n"
     ]
    },
    {
     "name": "stderr",
     "output_type": "stream",
     "text": [
      "100%|██████████| 37/37 [00:03<00:00, 10.34batch/s, TrainAccuracyPerBatch_valence=99.4, loss=0.424, totalLoss=0.425]\n",
      "100%|██████████| 10/10 [00:00<00:00, 35.15batch/s]\n"
     ]
    },
    {
     "name": "stdout",
     "output_type": "stream",
     "text": [
      "Epoch [86], Loss_t: 0.4245,Loss_v: 0.7197, train_acc_v:99.3784, val_acc_v:58.0435\n"
     ]
    },
    {
     "name": "stderr",
     "output_type": "stream",
     "text": [
      "100%|██████████| 37/37 [00:03<00:00, 10.53batch/s, TrainAccuracyPerBatch_valence=99.4, loss=0.424, totalLoss=0.424]\n",
      "100%|██████████| 10/10 [00:00<00:00, 34.23batch/s]\n"
     ]
    },
    {
     "name": "stdout",
     "output_type": "stream",
     "text": [
      "Epoch [87], Loss_t: 0.4245,Loss_v: 0.7368, train_acc_v:99.3784, val_acc_v:57.7174\n"
     ]
    },
    {
     "name": "stderr",
     "output_type": "stream",
     "text": [
      "100%|██████████| 37/37 [00:03<00:00, 10.43batch/s, TrainAccuracyPerBatch_valence=99.4, loss=0.424, totalLoss=0.424]\n",
      "100%|██████████| 10/10 [00:00<00:00, 35.40batch/s]\n"
     ]
    },
    {
     "name": "stdout",
     "output_type": "stream",
     "text": [
      "Epoch [88], Loss_t: 0.4245,Loss_v: 0.7149, train_acc_v:99.3784, val_acc_v:58.4783\n"
     ]
    },
    {
     "name": "stderr",
     "output_type": "stream",
     "text": [
      "100%|██████████| 37/37 [00:03<00:00, 10.59batch/s, TrainAccuracyPerBatch_valence=99.4, loss=0.424, totalLoss=0.424]\n",
      "100%|██████████| 10/10 [00:00<00:00, 34.50batch/s]\n"
     ]
    },
    {
     "name": "stdout",
     "output_type": "stream",
     "text": [
      "Epoch [89], Loss_t: 0.4245,Loss_v: 0.7286, train_acc_v:99.3784, val_acc_v:57.9348\n"
     ]
    },
    {
     "name": "stderr",
     "output_type": "stream",
     "text": [
      "100%|██████████| 37/37 [00:03<00:00, 10.24batch/s, TrainAccuracyPerBatch_valence=99.4, loss=0.424, totalLoss=0.424]\n",
      "100%|██████████| 10/10 [00:00<00:00, 34.23batch/s]\n"
     ]
    },
    {
     "name": "stdout",
     "output_type": "stream",
     "text": [
      "Epoch [90], Loss_t: 0.4245,Loss_v: 0.7273, train_acc_v:99.3784, val_acc_v:57.6087\n"
     ]
    },
    {
     "name": "stderr",
     "output_type": "stream",
     "text": [
      "100%|██████████| 37/37 [00:03<00:00, 10.50batch/s, TrainAccuracyPerBatch_valence=99.4, loss=0.424, totalLoss=0.424]\n",
      "100%|██████████| 10/10 [00:00<00:00, 34.26batch/s]\n"
     ]
    },
    {
     "name": "stdout",
     "output_type": "stream",
     "text": [
      "Epoch [91], Loss_t: 0.4244,Loss_v: 0.7079, train_acc_v:99.3784, val_acc_v:58.4783\n"
     ]
    },
    {
     "name": "stderr",
     "output_type": "stream",
     "text": [
      "100%|██████████| 37/37 [00:03<00:00, 10.76batch/s, TrainAccuracyPerBatch_valence=99.4, loss=0.424, totalLoss=0.424]\n",
      "100%|██████████| 10/10 [00:00<00:00, 35.46batch/s]\n"
     ]
    },
    {
     "name": "stdout",
     "output_type": "stream",
     "text": [
      "Epoch [92], Loss_t: 0.4244,Loss_v: 0.7274, train_acc_v:99.3784, val_acc_v:57.7174\n"
     ]
    },
    {
     "name": "stderr",
     "output_type": "stream",
     "text": [
      "100%|██████████| 37/37 [00:03<00:00, 10.69batch/s, TrainAccuracyPerBatch_valence=99.4, loss=0.424, totalLoss=0.424]\n",
      "100%|██████████| 10/10 [00:00<00:00, 34.01batch/s]\n"
     ]
    },
    {
     "name": "stdout",
     "output_type": "stream",
     "text": [
      "Epoch [93], Loss_t: 0.4244,Loss_v: 0.7146, train_acc_v:99.3784, val_acc_v:57.2826\n"
     ]
    },
    {
     "name": "stderr",
     "output_type": "stream",
     "text": [
      "100%|██████████| 37/37 [00:03<00:00, 10.21batch/s, TrainAccuracyPerBatch_valence=99.4, loss=0.436, totalLoss=0.424]\n",
      "100%|██████████| 10/10 [00:00<00:00, 34.80batch/s]\n"
     ]
    },
    {
     "name": "stdout",
     "output_type": "stream",
     "text": [
      "Epoch [94], Loss_t: 0.4245,Loss_v: 0.7241, train_acc_v:99.3784, val_acc_v:57.5000\n"
     ]
    },
    {
     "name": "stderr",
     "output_type": "stream",
     "text": [
      "100%|██████████| 37/37 [00:03<00:00, 10.22batch/s, TrainAccuracyPerBatch_valence=99.4, loss=0.424, totalLoss=0.424]\n",
      "100%|██████████| 10/10 [00:00<00:00, 34.73batch/s]\n"
     ]
    },
    {
     "name": "stdout",
     "output_type": "stream",
     "text": [
      "Epoch [95], Loss_t: 0.4244,Loss_v: 0.7280, train_acc_v:99.3784, val_acc_v:57.7174\n"
     ]
    },
    {
     "name": "stderr",
     "output_type": "stream",
     "text": [
      "100%|██████████| 37/37 [00:03<00:00, 10.33batch/s, TrainAccuracyPerBatch_valence=99.4, loss=0.424, totalLoss=0.424]\n",
      "100%|██████████| 10/10 [00:00<00:00, 34.35batch/s]\n"
     ]
    },
    {
     "name": "stdout",
     "output_type": "stream",
     "text": [
      "Epoch [96], Loss_t: 0.4244,Loss_v: 0.7182, train_acc_v:99.3784, val_acc_v:59.2391\n"
     ]
    },
    {
     "name": "stderr",
     "output_type": "stream",
     "text": [
      "100%|██████████| 37/37 [00:03<00:00, 10.34batch/s, TrainAccuracyPerBatch_valence=99.4, loss=0.424, totalLoss=0.424]\n",
      "100%|██████████| 10/10 [00:00<00:00, 34.35batch/s]\n"
     ]
    },
    {
     "name": "stdout",
     "output_type": "stream",
     "text": [
      "Epoch [97], Loss_t: 0.4244,Loss_v: 0.7150, train_acc_v:99.3784, val_acc_v:57.5000\n"
     ]
    },
    {
     "name": "stderr",
     "output_type": "stream",
     "text": [
      "100%|██████████| 37/37 [00:03<00:00, 10.50batch/s, TrainAccuracyPerBatch_valence=99.4, loss=0.424, totalLoss=0.424]\n",
      "100%|██████████| 10/10 [00:00<00:00, 34.79batch/s]\n"
     ]
    },
    {
     "name": "stdout",
     "output_type": "stream",
     "text": [
      "Epoch [98], Loss_t: 0.4244,Loss_v: 0.7356, train_acc_v:99.3784, val_acc_v:57.5000\n"
     ]
    },
    {
     "name": "stderr",
     "output_type": "stream",
     "text": [
      "100%|██████████| 37/37 [00:03<00:00, 10.50batch/s, TrainAccuracyPerBatch_valence=99.4, loss=0.424, totalLoss=0.424]\n",
      "100%|██████████| 10/10 [00:00<00:00, 34.39batch/s]\n"
     ]
    },
    {
     "name": "stdout",
     "output_type": "stream",
     "text": [
      "Epoch [99], Loss_t: 0.4244,Loss_v: 0.7277, train_acc_v:99.3784, val_acc_v:57.9348\n"
     ]
    },
    {
     "name": "stderr",
     "output_type": "stream",
     "text": [
      "100%|██████████| 10/10 [00:00<00:00, 40.57batch/s]\n"
     ]
    },
    {
     "name": "stdout",
     "output_type": "stream",
     "text": [
      "Fold 2 running\n"
     ]
    },
    {
     "name": "stderr",
     "output_type": "stream",
     "text": [
      "100%|██████████| 37/37 [00:03<00:00, 10.49batch/s, TrainAccuracyPerBatch_valence=59, loss=0.784, totalLoss=0.789]  \n",
      "100%|██████████| 10/10 [00:00<00:00, 34.78batch/s]\n"
     ]
    },
    {
     "name": "stdout",
     "output_type": "stream",
     "text": [
      "Epoch [0], Loss_t: 0.7890,Loss_v: 0.7313, train_acc_v:58.9730, val_acc_v:38.0435\n"
     ]
    },
    {
     "name": "stderr",
     "output_type": "stream",
     "text": [
      "100%|██████████| 37/37 [00:03<00:00, 10.54batch/s, TrainAccuracyPerBatch_valence=63.2, loss=0.723, totalLoss=0.758]\n",
      "100%|██████████| 10/10 [00:00<00:00, 35.11batch/s]\n"
     ]
    },
    {
     "name": "stdout",
     "output_type": "stream",
     "text": [
      "Epoch [1], Loss_t: 0.7582,Loss_v: 0.7805, train_acc_v:63.1892, val_acc_v:41.0870\n"
     ]
    },
    {
     "name": "stderr",
     "output_type": "stream",
     "text": [
      "100%|██████████| 37/37 [00:03<00:00, 10.45batch/s, TrainAccuracyPerBatch_valence=64.6, loss=0.704, totalLoss=0.744]\n",
      "100%|██████████| 10/10 [00:00<00:00, 34.41batch/s]\n"
     ]
    },
    {
     "name": "stdout",
     "output_type": "stream",
     "text": [
      "Epoch [2], Loss_t: 0.7444,Loss_v: 0.7450, train_acc_v:64.6486, val_acc_v:45.3261\n"
     ]
    },
    {
     "name": "stderr",
     "output_type": "stream",
     "text": [
      "100%|██████████| 37/37 [00:03<00:00, 10.26batch/s, TrainAccuracyPerBatch_valence=66.4, loss=0.721, totalLoss=0.732]\n",
      "100%|██████████| 10/10 [00:00<00:00, 35.28batch/s]\n"
     ]
    },
    {
     "name": "stdout",
     "output_type": "stream",
     "text": [
      "Epoch [3], Loss_t: 0.7318,Loss_v: 0.7740, train_acc_v:66.4324, val_acc_v:43.1522\n"
     ]
    },
    {
     "name": "stderr",
     "output_type": "stream",
     "text": [
      "100%|██████████| 37/37 [00:03<00:00, 10.39batch/s, TrainAccuracyPerBatch_valence=67.1, loss=0.758, totalLoss=0.725]\n",
      "100%|██████████| 10/10 [00:00<00:00, 34.35batch/s]\n"
     ]
    },
    {
     "name": "stdout",
     "output_type": "stream",
     "text": [
      "Epoch [4], Loss_t: 0.7252,Loss_v: 0.8147, train_acc_v:67.0811, val_acc_v:38.8043\n"
     ]
    },
    {
     "name": "stderr",
     "output_type": "stream",
     "text": [
      "100%|██████████| 37/37 [00:03<00:00, 10.44batch/s, TrainAccuracyPerBatch_valence=67.9, loss=0.704, totalLoss=0.719]\n",
      "100%|██████████| 10/10 [00:00<00:00, 34.73batch/s]\n"
     ]
    },
    {
     "name": "stdout",
     "output_type": "stream",
     "text": [
      "Epoch [5], Loss_t: 0.7194,Loss_v: 0.7807, train_acc_v:67.8649, val_acc_v:40.9783\n"
     ]
    },
    {
     "name": "stderr",
     "output_type": "stream",
     "text": [
      "100%|██████████| 37/37 [00:03<00:00, 10.52batch/s, TrainAccuracyPerBatch_valence=68.9, loss=0.662, totalLoss=0.71] \n",
      "100%|██████████| 10/10 [00:00<00:00, 35.09batch/s]\n"
     ]
    },
    {
     "name": "stdout",
     "output_type": "stream",
     "text": [
      "Epoch [6], Loss_t: 0.7101,Loss_v: 0.7857, train_acc_v:68.9189, val_acc_v:40.8696\n"
     ]
    },
    {
     "name": "stderr",
     "output_type": "stream",
     "text": [
      "100%|██████████| 37/37 [00:03<00:00, 10.47batch/s, TrainAccuracyPerBatch_valence=70.2, loss=0.697, totalLoss=0.701]\n",
      "100%|██████████| 10/10 [00:00<00:00, 34.05batch/s]\n"
     ]
    },
    {
     "name": "stdout",
     "output_type": "stream",
     "text": [
      "Epoch [7], Loss_t: 0.7010,Loss_v: 0.7233, train_acc_v:70.1622, val_acc_v:46.6304\n"
     ]
    },
    {
     "name": "stderr",
     "output_type": "stream",
     "text": [
      "100%|██████████| 37/37 [00:03<00:00, 10.56batch/s, TrainAccuracyPerBatch_valence=71.4, loss=0.7, totalLoss=0.689]  \n",
      "100%|██████████| 10/10 [00:00<00:00, 33.65batch/s]\n"
     ]
    },
    {
     "name": "stdout",
     "output_type": "stream",
     "text": [
      "Epoch [8], Loss_t: 0.6889,Loss_v: 0.8065, train_acc_v:71.3784, val_acc_v:36.9565\n"
     ]
    },
    {
     "name": "stderr",
     "output_type": "stream",
     "text": [
      "100%|██████████| 37/37 [00:03<00:00, 10.67batch/s, TrainAccuracyPerBatch_valence=73.3, loss=0.639, totalLoss=0.676]\n",
      "100%|██████████| 10/10 [00:00<00:00, 35.69batch/s]\n"
     ]
    },
    {
     "name": "stdout",
     "output_type": "stream",
     "text": [
      "Epoch [9], Loss_t: 0.6759,Loss_v: 0.7889, train_acc_v:73.2973, val_acc_v:41.8478\n"
     ]
    },
    {
     "name": "stderr",
     "output_type": "stream",
     "text": [
      "100%|██████████| 37/37 [00:03<00:00, 10.72batch/s, TrainAccuracyPerBatch_valence=73.4, loss=0.765, totalLoss=0.67] \n",
      "100%|██████████| 10/10 [00:00<00:00, 35.69batch/s]\n"
     ]
    },
    {
     "name": "stdout",
     "output_type": "stream",
     "text": [
      "Epoch [10], Loss_t: 0.6695,Loss_v: 0.7282, train_acc_v:73.3514, val_acc_v:52.8261\n"
     ]
    },
    {
     "name": "stderr",
     "output_type": "stream",
     "text": [
      "100%|██████████| 37/37 [00:03<00:00, 10.70batch/s, TrainAccuracyPerBatch_valence=75.8, loss=0.63, totalLoss=0.658] \n",
      "100%|██████████| 10/10 [00:00<00:00, 35.66batch/s]\n"
     ]
    },
    {
     "name": "stdout",
     "output_type": "stream",
     "text": [
      "Epoch [11], Loss_t: 0.6582,Loss_v: 0.7485, train_acc_v:75.7838, val_acc_v:47.2826\n"
     ]
    },
    {
     "name": "stderr",
     "output_type": "stream",
     "text": [
      "100%|██████████| 37/37 [00:03<00:00, 10.71batch/s, TrainAccuracyPerBatch_valence=78.3, loss=0.659, totalLoss=0.639]\n",
      "100%|██████████| 10/10 [00:00<00:00, 35.50batch/s]\n"
     ]
    },
    {
     "name": "stdout",
     "output_type": "stream",
     "text": [
      "Epoch [12], Loss_t: 0.6389,Loss_v: 0.7774, train_acc_v:78.2703, val_acc_v:43.0435\n"
     ]
    },
    {
     "name": "stderr",
     "output_type": "stream",
     "text": [
      "100%|██████████| 37/37 [00:03<00:00, 10.69batch/s, TrainAccuracyPerBatch_valence=79.5, loss=0.641, totalLoss=0.628]\n",
      "100%|██████████| 10/10 [00:00<00:00, 35.34batch/s]\n"
     ]
    },
    {
     "name": "stdout",
     "output_type": "stream",
     "text": [
      "Epoch [13], Loss_t: 0.6280,Loss_v: 0.7827, train_acc_v:79.4865, val_acc_v:44.7826\n"
     ]
    },
    {
     "name": "stderr",
     "output_type": "stream",
     "text": [
      "100%|██████████| 37/37 [00:03<00:00, 10.26batch/s, TrainAccuracyPerBatch_valence=76.5, loss=0.61, totalLoss=0.642] \n",
      "100%|██████████| 10/10 [00:00<00:00, 33.33batch/s]\n"
     ]
    },
    {
     "name": "stdout",
     "output_type": "stream",
     "text": [
      "Epoch [14], Loss_t: 0.6418,Loss_v: 0.7693, train_acc_v:76.5405, val_acc_v:47.8261\n"
     ]
    },
    {
     "name": "stderr",
     "output_type": "stream",
     "text": [
      "100%|██████████| 37/37 [00:03<00:00, 10.40batch/s, TrainAccuracyPerBatch_valence=82.1, loss=0.618, totalLoss=0.607]\n",
      "100%|██████████| 10/10 [00:00<00:00, 33.95batch/s]\n"
     ]
    },
    {
     "name": "stdout",
     "output_type": "stream",
     "text": [
      "Epoch [15], Loss_t: 0.6070,Loss_v: 0.8205, train_acc_v:82.1081, val_acc_v:41.0870\n"
     ]
    },
    {
     "name": "stderr",
     "output_type": "stream",
     "text": [
      "100%|██████████| 37/37 [00:03<00:00, 10.61batch/s, TrainAccuracyPerBatch_valence=84.4, loss=0.623, totalLoss=0.59] \n",
      "100%|██████████| 10/10 [00:00<00:00, 36.04batch/s]\n"
     ]
    },
    {
     "name": "stdout",
     "output_type": "stream",
     "text": [
      "Epoch [16], Loss_t: 0.5903,Loss_v: 0.7396, train_acc_v:84.4324, val_acc_v:49.5652\n"
     ]
    },
    {
     "name": "stderr",
     "output_type": "stream",
     "text": [
      "100%|██████████| 37/37 [00:03<00:00, 10.91batch/s, TrainAccuracyPerBatch_valence=85.9, loss=0.589, totalLoss=0.575]\n",
      "100%|██████████| 10/10 [00:00<00:00, 36.41batch/s]\n"
     ]
    },
    {
     "name": "stdout",
     "output_type": "stream",
     "text": [
      "Epoch [17], Loss_t: 0.5750,Loss_v: 0.7430, train_acc_v:85.8649, val_acc_v:50.3261\n"
     ]
    },
    {
     "name": "stderr",
     "output_type": "stream",
     "text": [
      "100%|██████████| 37/37 [00:03<00:00, 10.89batch/s, TrainAccuracyPerBatch_valence=86, loss=0.552, totalLoss=0.567]  \n",
      "100%|██████████| 10/10 [00:00<00:00, 36.62batch/s]\n"
     ]
    },
    {
     "name": "stdout",
     "output_type": "stream",
     "text": [
      "Epoch [18], Loss_t: 0.5669,Loss_v: 0.7198, train_acc_v:85.9730, val_acc_v:55.2174\n"
     ]
    },
    {
     "name": "stderr",
     "output_type": "stream",
     "text": [
      "100%|██████████| 37/37 [00:03<00:00, 10.68batch/s, TrainAccuracyPerBatch_valence=88.5, loss=0.555, totalLoss=0.547]\n",
      "100%|██████████| 10/10 [00:00<00:00, 35.37batch/s]\n"
     ]
    },
    {
     "name": "stdout",
     "output_type": "stream",
     "text": [
      "Epoch [19], Loss_t: 0.5470,Loss_v: 0.7857, train_acc_v:88.5405, val_acc_v:45.1087\n"
     ]
    },
    {
     "name": "stderr",
     "output_type": "stream",
     "text": [
      "100%|██████████| 37/37 [00:03<00:00, 10.58batch/s, TrainAccuracyPerBatch_valence=88.6, loss=0.551, totalLoss=0.545]\n",
      "100%|██████████| 10/10 [00:00<00:00, 35.19batch/s]\n"
     ]
    },
    {
     "name": "stdout",
     "output_type": "stream",
     "text": [
      "Epoch [20], Loss_t: 0.5455,Loss_v: 0.8033, train_acc_v:88.6486, val_acc_v:44.3478\n"
     ]
    },
    {
     "name": "stderr",
     "output_type": "stream",
     "text": [
      "100%|██████████| 37/37 [00:03<00:00, 10.60batch/s, TrainAccuracyPerBatch_valence=90.2, loss=0.539, totalLoss=0.531]\n",
      "100%|██████████| 10/10 [00:00<00:00, 35.46batch/s]\n"
     ]
    },
    {
     "name": "stdout",
     "output_type": "stream",
     "text": [
      "Epoch [21], Loss_t: 0.5310,Loss_v: 0.8612, train_acc_v:90.1622, val_acc_v:42.0652\n"
     ]
    },
    {
     "name": "stderr",
     "output_type": "stream",
     "text": [
      "100%|██████████| 37/37 [00:03<00:00, 10.61batch/s, TrainAccuracyPerBatch_valence=91, loss=0.465, totalLoss=0.52]   \n",
      "100%|██████████| 10/10 [00:00<00:00, 35.01batch/s]\n"
     ]
    },
    {
     "name": "stdout",
     "output_type": "stream",
     "text": [
      "Epoch [22], Loss_t: 0.5198,Loss_v: 0.8328, train_acc_v:91.0270, val_acc_v:43.9130\n"
     ]
    },
    {
     "name": "stderr",
     "output_type": "stream",
     "text": [
      "100%|██████████| 37/37 [00:03<00:00, 10.60batch/s, TrainAccuracyPerBatch_valence=93.1, loss=0.571, totalLoss=0.504]\n",
      "100%|██████████| 10/10 [00:00<00:00, 35.24batch/s]\n"
     ]
    },
    {
     "name": "stdout",
     "output_type": "stream",
     "text": [
      "Epoch [23], Loss_t: 0.5038,Loss_v: 0.8157, train_acc_v:93.0541, val_acc_v:48.4783\n"
     ]
    },
    {
     "name": "stderr",
     "output_type": "stream",
     "text": [
      "100%|██████████| 37/37 [00:03<00:00, 10.61batch/s, TrainAccuracyPerBatch_valence=93, loss=0.472, totalLoss=0.5]    \n",
      "100%|██████████| 10/10 [00:00<00:00, 34.83batch/s]\n"
     ]
    },
    {
     "name": "stdout",
     "output_type": "stream",
     "text": [
      "Epoch [24], Loss_t: 0.4999,Loss_v: 0.8164, train_acc_v:93.0270, val_acc_v:47.6087\n"
     ]
    },
    {
     "name": "stderr",
     "output_type": "stream",
     "text": [
      "100%|██████████| 37/37 [00:03<00:00, 10.54batch/s, TrainAccuracyPerBatch_valence=93.2, loss=0.476, totalLoss=0.495]\n",
      "100%|██████████| 10/10 [00:00<00:00, 35.44batch/s]\n"
     ]
    },
    {
     "name": "stdout",
     "output_type": "stream",
     "text": [
      "Epoch [25], Loss_t: 0.4946,Loss_v: 0.7183, train_acc_v:93.2162, val_acc_v:54.1304\n"
     ]
    },
    {
     "name": "stderr",
     "output_type": "stream",
     "text": [
      "100%|██████████| 37/37 [00:03<00:00, 10.57batch/s, TrainAccuracyPerBatch_valence=94.2, loss=0.48, totalLoss=0.486] \n",
      "100%|██████████| 10/10 [00:00<00:00, 34.37batch/s]\n"
     ]
    },
    {
     "name": "stdout",
     "output_type": "stream",
     "text": [
      "Epoch [26], Loss_t: 0.4863,Loss_v: 0.7925, train_acc_v:94.2162, val_acc_v:47.0652\n"
     ]
    },
    {
     "name": "stderr",
     "output_type": "stream",
     "text": [
      "100%|██████████| 37/37 [00:03<00:00, 10.26batch/s, TrainAccuracyPerBatch_valence=96.4, loss=0.45, totalLoss=0.466] \n",
      "100%|██████████| 10/10 [00:00<00:00, 34.89batch/s]\n"
     ]
    },
    {
     "name": "stdout",
     "output_type": "stream",
     "text": [
      "Epoch [27], Loss_t: 0.4659,Loss_v: 0.7540, train_acc_v:96.4324, val_acc_v:51.4130\n"
     ]
    },
    {
     "name": "stderr",
     "output_type": "stream",
     "text": [
      "100%|██████████| 37/37 [00:03<00:00, 10.26batch/s, TrainAccuracyPerBatch_valence=96.8, loss=0.441, totalLoss=0.46] \n",
      "100%|██████████| 10/10 [00:00<00:00, 35.16batch/s]\n"
     ]
    },
    {
     "name": "stdout",
     "output_type": "stream",
     "text": [
      "Epoch [28], Loss_t: 0.4602,Loss_v: 0.7355, train_acc_v:96.8108, val_acc_v:55.0000\n"
     ]
    },
    {
     "name": "stderr",
     "output_type": "stream",
     "text": [
      "100%|██████████| 37/37 [00:03<00:00, 10.50batch/s, TrainAccuracyPerBatch_valence=96.8, loss=0.467, totalLoss=0.458]\n",
      "100%|██████████| 10/10 [00:00<00:00, 35.10batch/s]\n"
     ]
    },
    {
     "name": "stdout",
     "output_type": "stream",
     "text": [
      "Epoch [29], Loss_t: 0.4582,Loss_v: 0.7413, train_acc_v:96.8378, val_acc_v:52.5000\n"
     ]
    },
    {
     "name": "stderr",
     "output_type": "stream",
     "text": [
      "100%|██████████| 37/37 [00:03<00:00, 10.39batch/s, TrainAccuracyPerBatch_valence=97.3, loss=0.453, totalLoss=0.452]\n",
      "100%|██████████| 10/10 [00:00<00:00, 35.33batch/s]\n"
     ]
    },
    {
     "name": "stdout",
     "output_type": "stream",
     "text": [
      "Epoch [30], Loss_t: 0.4519,Loss_v: 0.8250, train_acc_v:97.3243, val_acc_v:45.7609\n"
     ]
    },
    {
     "name": "stderr",
     "output_type": "stream",
     "text": [
      "100%|██████████| 37/37 [00:03<00:00, 10.63batch/s, TrainAccuracyPerBatch_valence=98.5, loss=0.442, totalLoss=0.442]\n",
      "100%|██████████| 10/10 [00:00<00:00, 35.33batch/s]\n"
     ]
    },
    {
     "name": "stdout",
     "output_type": "stream",
     "text": [
      "Epoch [31], Loss_t: 0.4417,Loss_v: 0.8214, train_acc_v:98.4865, val_acc_v:44.1304\n"
     ]
    },
    {
     "name": "stderr",
     "output_type": "stream",
     "text": [
      "100%|██████████| 37/37 [00:03<00:00, 10.62batch/s, TrainAccuracyPerBatch_valence=98.7, loss=0.449, totalLoss=0.438]\n",
      "100%|██████████| 10/10 [00:00<00:00, 35.39batch/s]\n"
     ]
    },
    {
     "name": "stdout",
     "output_type": "stream",
     "text": [
      "Epoch [32], Loss_t: 0.4381,Loss_v: 0.8615, train_acc_v:98.7027, val_acc_v:42.2826\n"
     ]
    },
    {
     "name": "stderr",
     "output_type": "stream",
     "text": [
      "100%|██████████| 37/37 [00:03<00:00, 10.62batch/s, TrainAccuracyPerBatch_valence=98.6, loss=0.428, totalLoss=0.437]\n",
      "100%|██████████| 10/10 [00:00<00:00, 35.29batch/s]\n"
     ]
    },
    {
     "name": "stdout",
     "output_type": "stream",
     "text": [
      "Epoch [33], Loss_t: 0.4373,Loss_v: 0.7961, train_acc_v:98.6216, val_acc_v:48.1522\n"
     ]
    },
    {
     "name": "stderr",
     "output_type": "stream",
     "text": [
      "100%|██████████| 37/37 [00:03<00:00, 10.21batch/s, TrainAccuracyPerBatch_valence=98.5, loss=0.432, totalLoss=0.439]\n",
      "100%|██████████| 10/10 [00:00<00:00, 33.18batch/s]\n"
     ]
    },
    {
     "name": "stdout",
     "output_type": "stream",
     "text": [
      "Epoch [34], Loss_t: 0.4386,Loss_v: 0.8762, train_acc_v:98.4865, val_acc_v:42.3913\n"
     ]
    },
    {
     "name": "stderr",
     "output_type": "stream",
     "text": [
      "100%|██████████| 37/37 [00:03<00:00, 10.59batch/s, TrainAccuracyPerBatch_valence=98.9, loss=0.431, totalLoss=0.434]\n",
      "100%|██████████| 10/10 [00:00<00:00, 35.51batch/s]\n"
     ]
    },
    {
     "name": "stdout",
     "output_type": "stream",
     "text": [
      "Epoch [35], Loss_t: 0.4335,Loss_v: 0.8400, train_acc_v:98.9189, val_acc_v:45.6522\n"
     ]
    },
    {
     "name": "stderr",
     "output_type": "stream",
     "text": [
      "100%|██████████| 37/37 [00:03<00:00, 10.62batch/s, TrainAccuracyPerBatch_valence=98.9, loss=0.433, totalLoss=0.433]\n",
      "100%|██████████| 10/10 [00:00<00:00, 35.19batch/s]\n"
     ]
    },
    {
     "name": "stdout",
     "output_type": "stream",
     "text": [
      "Epoch [36], Loss_t: 0.4331,Loss_v: 0.8019, train_acc_v:98.9189, val_acc_v:47.7174\n"
     ]
    },
    {
     "name": "stderr",
     "output_type": "stream",
     "text": [
      "100%|██████████| 37/37 [00:03<00:00, 10.62batch/s, TrainAccuracyPerBatch_valence=99, loss=0.439, totalLoss=0.431]  \n",
      "100%|██████████| 10/10 [00:00<00:00, 35.39batch/s]\n"
     ]
    },
    {
     "name": "stdout",
     "output_type": "stream",
     "text": [
      "Epoch [37], Loss_t: 0.4315,Loss_v: 0.8001, train_acc_v:98.9730, val_acc_v:47.7174\n"
     ]
    },
    {
     "name": "stderr",
     "output_type": "stream",
     "text": [
      "100%|██████████| 37/37 [00:03<00:00, 10.56batch/s, TrainAccuracyPerBatch_valence=99, loss=0.425, totalLoss=0.43]   \n",
      "100%|██████████| 10/10 [00:00<00:00, 35.33batch/s]\n"
     ]
    },
    {
     "name": "stdout",
     "output_type": "stream",
     "text": [
      "Epoch [38], Loss_t: 0.4301,Loss_v: 0.8330, train_acc_v:99.0000, val_acc_v:45.6522\n"
     ]
    },
    {
     "name": "stderr",
     "output_type": "stream",
     "text": [
      "100%|██████████| 37/37 [00:03<00:00, 10.52batch/s, TrainAccuracyPerBatch_valence=99.1, loss=0.441, totalLoss=0.429]\n",
      "100%|██████████| 10/10 [00:00<00:00, 33.63batch/s]\n"
     ]
    },
    {
     "name": "stdout",
     "output_type": "stream",
     "text": [
      "Epoch [39], Loss_t: 0.4294,Loss_v: 0.8066, train_acc_v:99.0541, val_acc_v:47.9348\n"
     ]
    },
    {
     "name": "stderr",
     "output_type": "stream",
     "text": [
      "100%|██████████| 37/37 [00:03<00:00, 10.59batch/s, TrainAccuracyPerBatch_valence=99.1, loss=0.425, totalLoss=0.429]\n",
      "100%|██████████| 10/10 [00:00<00:00, 35.58batch/s]\n"
     ]
    },
    {
     "name": "stdout",
     "output_type": "stream",
     "text": [
      "Epoch [40], Loss_t: 0.4291,Loss_v: 0.7922, train_acc_v:99.0811, val_acc_v:47.1739\n"
     ]
    },
    {
     "name": "stderr",
     "output_type": "stream",
     "text": [
      "100%|██████████| 37/37 [00:03<00:00, 10.53batch/s, TrainAccuracyPerBatch_valence=99.1, loss=0.425, totalLoss=0.429]\n",
      "100%|██████████| 10/10 [00:00<00:00, 33.85batch/s]\n"
     ]
    },
    {
     "name": "stdout",
     "output_type": "stream",
     "text": [
      "Epoch [41], Loss_t: 0.4286,Loss_v: 0.8169, train_acc_v:99.1081, val_acc_v:45.9783\n"
     ]
    },
    {
     "name": "stderr",
     "output_type": "stream",
     "text": [
      "100%|██████████| 37/37 [00:03<00:00, 10.20batch/s, TrainAccuracyPerBatch_valence=99.1, loss=0.437, totalLoss=0.428]\n",
      "100%|██████████| 10/10 [00:00<00:00, 33.16batch/s]\n"
     ]
    },
    {
     "name": "stdout",
     "output_type": "stream",
     "text": [
      "Epoch [42], Loss_t: 0.4285,Loss_v: 0.8136, train_acc_v:99.1081, val_acc_v:46.3043\n"
     ]
    },
    {
     "name": "stderr",
     "output_type": "stream",
     "text": [
      "100%|██████████| 37/37 [00:03<00:00, 10.56batch/s, TrainAccuracyPerBatch_valence=99.1, loss=0.425, totalLoss=0.428]\n",
      "100%|██████████| 10/10 [00:00<00:00, 33.85batch/s]\n"
     ]
    },
    {
     "name": "stdout",
     "output_type": "stream",
     "text": [
      "Epoch [43], Loss_t: 0.4282,Loss_v: 0.8223, train_acc_v:99.1081, val_acc_v:46.5217\n"
     ]
    },
    {
     "name": "stderr",
     "output_type": "stream",
     "text": [
      "100%|██████████| 37/37 [00:03<00:00, 10.36batch/s, TrainAccuracyPerBatch_valence=99.1, loss=0.425, totalLoss=0.428]\n",
      "100%|██████████| 10/10 [00:00<00:00, 34.51batch/s]\n"
     ]
    },
    {
     "name": "stdout",
     "output_type": "stream",
     "text": [
      "Epoch [44], Loss_t: 0.4282,Loss_v: 0.8197, train_acc_v:99.1081, val_acc_v:46.6304\n"
     ]
    },
    {
     "name": "stderr",
     "output_type": "stream",
     "text": [
      "100%|██████████| 37/37 [00:03<00:00, 10.44batch/s, TrainAccuracyPerBatch_valence=99.1, loss=0.424, totalLoss=0.428]\n",
      "100%|██████████| 10/10 [00:00<00:00, 33.41batch/s]\n"
     ]
    },
    {
     "name": "stdout",
     "output_type": "stream",
     "text": [
      "Epoch [45], Loss_t: 0.4282,Loss_v: 0.8111, train_acc_v:99.1081, val_acc_v:47.9348\n"
     ]
    },
    {
     "name": "stderr",
     "output_type": "stream",
     "text": [
      "100%|██████████| 37/37 [00:03<00:00, 10.26batch/s, TrainAccuracyPerBatch_valence=99.1, loss=0.424, totalLoss=0.428]\n",
      "100%|██████████| 10/10 [00:00<00:00, 35.37batch/s]\n"
     ]
    },
    {
     "name": "stdout",
     "output_type": "stream",
     "text": [
      "Epoch [46], Loss_t: 0.4280,Loss_v: 0.8174, train_acc_v:99.1081, val_acc_v:47.1739\n"
     ]
    },
    {
     "name": "stderr",
     "output_type": "stream",
     "text": [
      "100%|██████████| 37/37 [00:03<00:00, 10.39batch/s, TrainAccuracyPerBatch_valence=99.1, loss=0.429, totalLoss=0.428]\n",
      "100%|██████████| 10/10 [00:00<00:00, 33.67batch/s]\n"
     ]
    },
    {
     "name": "stdout",
     "output_type": "stream",
     "text": [
      "Epoch [47], Loss_t: 0.4279,Loss_v: 0.8037, train_acc_v:99.1351, val_acc_v:48.6957\n"
     ]
    },
    {
     "name": "stderr",
     "output_type": "stream",
     "text": [
      "100%|██████████| 37/37 [00:03<00:00, 10.56batch/s, TrainAccuracyPerBatch_valence=99.1, loss=0.424, totalLoss=0.428]\n",
      "100%|██████████| 10/10 [00:00<00:00, 35.10batch/s]\n"
     ]
    },
    {
     "name": "stdout",
     "output_type": "stream",
     "text": [
      "Epoch [48], Loss_t: 0.4280,Loss_v: 0.8253, train_acc_v:99.1351, val_acc_v:46.3043\n"
     ]
    },
    {
     "name": "stderr",
     "output_type": "stream",
     "text": [
      "100%|██████████| 37/37 [00:03<00:00, 10.31batch/s, TrainAccuracyPerBatch_valence=99.1, loss=0.425, totalLoss=0.428]\n",
      "100%|██████████| 10/10 [00:00<00:00, 34.12batch/s]\n"
     ]
    },
    {
     "name": "stdout",
     "output_type": "stream",
     "text": [
      "Epoch [49], Loss_t: 0.4278,Loss_v: 0.8247, train_acc_v:99.1351, val_acc_v:45.5435\n"
     ]
    },
    {
     "name": "stderr",
     "output_type": "stream",
     "text": [
      "100%|██████████| 37/37 [00:03<00:00, 10.54batch/s, TrainAccuracyPerBatch_valence=99.1, loss=0.424, totalLoss=0.428]\n",
      "100%|██████████| 10/10 [00:00<00:00, 34.96batch/s]\n"
     ]
    },
    {
     "name": "stdout",
     "output_type": "stream",
     "text": [
      "Epoch [50], Loss_t: 0.4277,Loss_v: 0.8221, train_acc_v:99.1351, val_acc_v:44.7826\n"
     ]
    },
    {
     "name": "stderr",
     "output_type": "stream",
     "text": [
      "100%|██████████| 37/37 [00:03<00:00, 10.52batch/s, TrainAccuracyPerBatch_valence=99.1, loss=0.424, totalLoss=0.428]\n",
      "100%|██████████| 10/10 [00:00<00:00, 34.41batch/s]\n"
     ]
    },
    {
     "name": "stdout",
     "output_type": "stream",
     "text": [
      "Epoch [51], Loss_t: 0.4276,Loss_v: 0.8567, train_acc_v:99.1351, val_acc_v:44.5652\n"
     ]
    },
    {
     "name": "stderr",
     "output_type": "stream",
     "text": [
      "100%|██████████| 37/37 [00:03<00:00, 10.51batch/s, TrainAccuracyPerBatch_valence=99.1, loss=0.424, totalLoss=0.428]\n",
      "100%|██████████| 10/10 [00:00<00:00, 34.37batch/s]\n"
     ]
    },
    {
     "name": "stdout",
     "output_type": "stream",
     "text": [
      "Epoch [52], Loss_t: 0.4276,Loss_v: 0.8228, train_acc_v:99.1351, val_acc_v:45.7609\n"
     ]
    },
    {
     "name": "stderr",
     "output_type": "stream",
     "text": [
      "100%|██████████| 37/37 [00:03<00:00, 10.53batch/s, TrainAccuracyPerBatch_valence=99.1, loss=0.437, totalLoss=0.428]\n",
      "100%|██████████| 10/10 [00:00<00:00, 34.79batch/s]\n"
     ]
    },
    {
     "name": "stdout",
     "output_type": "stream",
     "text": [
      "Epoch [53], Loss_t: 0.4276,Loss_v: 0.8293, train_acc_v:99.1351, val_acc_v:45.7609\n"
     ]
    },
    {
     "name": "stderr",
     "output_type": "stream",
     "text": [
      "100%|██████████| 37/37 [00:03<00:00, 10.50batch/s, TrainAccuracyPerBatch_valence=99.1, loss=0.437, totalLoss=0.428]\n",
      "100%|██████████| 10/10 [00:00<00:00, 35.01batch/s]\n"
     ]
    },
    {
     "name": "stdout",
     "output_type": "stream",
     "text": [
      "Epoch [54], Loss_t: 0.4276,Loss_v: 0.8385, train_acc_v:99.1351, val_acc_v:45.4348\n"
     ]
    },
    {
     "name": "stderr",
     "output_type": "stream",
     "text": [
      "100%|██████████| 37/37 [00:03<00:00, 10.53batch/s, TrainAccuracyPerBatch_valence=99.1, loss=0.424, totalLoss=0.427]\n",
      "100%|██████████| 10/10 [00:00<00:00, 34.78batch/s]\n"
     ]
    },
    {
     "name": "stdout",
     "output_type": "stream",
     "text": [
      "Epoch [55], Loss_t: 0.4275,Loss_v: 0.8464, train_acc_v:99.1351, val_acc_v:44.4565\n"
     ]
    },
    {
     "name": "stderr",
     "output_type": "stream",
     "text": [
      "100%|██████████| 37/37 [00:03<00:00, 10.54batch/s, TrainAccuracyPerBatch_valence=99.1, loss=0.424, totalLoss=0.427]\n",
      "100%|██████████| 10/10 [00:00<00:00, 35.09batch/s]\n"
     ]
    },
    {
     "name": "stdout",
     "output_type": "stream",
     "text": [
      "Epoch [56], Loss_t: 0.4275,Loss_v: 0.8326, train_acc_v:99.1351, val_acc_v:45.7609\n"
     ]
    },
    {
     "name": "stderr",
     "output_type": "stream",
     "text": [
      "100%|██████████| 37/37 [00:03<00:00, 10.54batch/s, TrainAccuracyPerBatch_valence=99.1, loss=0.437, totalLoss=0.428]\n",
      "100%|██████████| 10/10 [00:00<00:00, 34.56batch/s]\n"
     ]
    },
    {
     "name": "stdout",
     "output_type": "stream",
     "text": [
      "Epoch [57], Loss_t: 0.4275,Loss_v: 0.8366, train_acc_v:99.1351, val_acc_v:44.4565\n"
     ]
    },
    {
     "name": "stderr",
     "output_type": "stream",
     "text": [
      "100%|██████████| 37/37 [00:03<00:00, 10.54batch/s, TrainAccuracyPerBatch_valence=99.1, loss=0.424, totalLoss=0.427]\n",
      "100%|██████████| 10/10 [00:00<00:00, 34.62batch/s]\n"
     ]
    },
    {
     "name": "stdout",
     "output_type": "stream",
     "text": [
      "Epoch [58], Loss_t: 0.4274,Loss_v: 0.8267, train_acc_v:99.1351, val_acc_v:44.5652\n"
     ]
    },
    {
     "name": "stderr",
     "output_type": "stream",
     "text": [
      "100%|██████████| 37/37 [00:03<00:00, 10.52batch/s, TrainAccuracyPerBatch_valence=99.1, loss=0.424, totalLoss=0.427]\n",
      "100%|██████████| 10/10 [00:00<00:00, 35.34batch/s]\n"
     ]
    },
    {
     "name": "stdout",
     "output_type": "stream",
     "text": [
      "Epoch [59], Loss_t: 0.4274,Loss_v: 0.8334, train_acc_v:99.1351, val_acc_v:44.1304\n"
     ]
    },
    {
     "name": "stderr",
     "output_type": "stream",
     "text": [
      "100%|██████████| 37/37 [00:03<00:00, 10.52batch/s, TrainAccuracyPerBatch_valence=99.1, loss=0.424, totalLoss=0.427]\n",
      "100%|██████████| 10/10 [00:00<00:00, 35.27batch/s]\n"
     ]
    },
    {
     "name": "stdout",
     "output_type": "stream",
     "text": [
      "Epoch [60], Loss_t: 0.4274,Loss_v: 0.8249, train_acc_v:99.1351, val_acc_v:44.7826\n"
     ]
    },
    {
     "name": "stderr",
     "output_type": "stream",
     "text": [
      "100%|██████████| 37/37 [00:03<00:00, 10.48batch/s, TrainAccuracyPerBatch_valence=99.1, loss=0.437, totalLoss=0.427]\n",
      "100%|██████████| 10/10 [00:00<00:00, 34.88batch/s]\n"
     ]
    },
    {
     "name": "stdout",
     "output_type": "stream",
     "text": [
      "Epoch [61], Loss_t: 0.4274,Loss_v: 0.8343, train_acc_v:99.1351, val_acc_v:45.0000\n"
     ]
    },
    {
     "name": "stderr",
     "output_type": "stream",
     "text": [
      "100%|██████████| 37/37 [00:03<00:00, 10.46batch/s, TrainAccuracyPerBatch_valence=99.1, loss=0.436, totalLoss=0.427]\n",
      "100%|██████████| 10/10 [00:00<00:00, 34.59batch/s]\n"
     ]
    },
    {
     "name": "stdout",
     "output_type": "stream",
     "text": [
      "Epoch [62], Loss_t: 0.4274,Loss_v: 0.8327, train_acc_v:99.1351, val_acc_v:45.0000\n"
     ]
    },
    {
     "name": "stderr",
     "output_type": "stream",
     "text": [
      "100%|██████████| 37/37 [00:03<00:00, 10.48batch/s, TrainAccuracyPerBatch_valence=99.1, loss=0.436, totalLoss=0.427]\n",
      "100%|██████████| 10/10 [00:00<00:00, 34.84batch/s]\n"
     ]
    },
    {
     "name": "stdout",
     "output_type": "stream",
     "text": [
      "Epoch [63], Loss_t: 0.4274,Loss_v: 0.8205, train_acc_v:99.1351, val_acc_v:45.5435\n"
     ]
    },
    {
     "name": "stderr",
     "output_type": "stream",
     "text": [
      "100%|██████████| 37/37 [00:03<00:00, 10.46batch/s, TrainAccuracyPerBatch_valence=99.1, loss=0.424, totalLoss=0.427]\n",
      "100%|██████████| 10/10 [00:00<00:00, 34.79batch/s]\n"
     ]
    },
    {
     "name": "stdout",
     "output_type": "stream",
     "text": [
      "Epoch [64], Loss_t: 0.4273,Loss_v: 0.8188, train_acc_v:99.1351, val_acc_v:45.6522\n"
     ]
    },
    {
     "name": "stderr",
     "output_type": "stream",
     "text": [
      "100%|██████████| 37/37 [00:03<00:00, 10.42batch/s, TrainAccuracyPerBatch_valence=99.1, loss=0.437, totalLoss=0.427]\n",
      "100%|██████████| 10/10 [00:00<00:00, 35.09batch/s]\n"
     ]
    },
    {
     "name": "stdout",
     "output_type": "stream",
     "text": [
      "Epoch [65], Loss_t: 0.4273,Loss_v: 0.8375, train_acc_v:99.1351, val_acc_v:45.4348\n"
     ]
    },
    {
     "name": "stderr",
     "output_type": "stream",
     "text": [
      "100%|██████████| 37/37 [00:03<00:00, 10.45batch/s, TrainAccuracyPerBatch_valence=99.1, loss=0.424, totalLoss=0.427]\n",
      "100%|██████████| 10/10 [00:00<00:00, 34.31batch/s]\n"
     ]
    },
    {
     "name": "stdout",
     "output_type": "stream",
     "text": [
      "Epoch [66], Loss_t: 0.4273,Loss_v: 0.8334, train_acc_v:99.1351, val_acc_v:45.9783\n"
     ]
    },
    {
     "name": "stderr",
     "output_type": "stream",
     "text": [
      "100%|██████████| 37/37 [00:03<00:00, 10.43batch/s, TrainAccuracyPerBatch_valence=99.1, loss=0.424, totalLoss=0.427]\n",
      "100%|██████████| 10/10 [00:00<00:00, 34.81batch/s]\n"
     ]
    },
    {
     "name": "stdout",
     "output_type": "stream",
     "text": [
      "Epoch [67], Loss_t: 0.4273,Loss_v: 0.8302, train_acc_v:99.1351, val_acc_v:45.2174\n"
     ]
    },
    {
     "name": "stderr",
     "output_type": "stream",
     "text": [
      "100%|██████████| 37/37 [00:03<00:00, 10.45batch/s, TrainAccuracyPerBatch_valence=99.1, loss=0.424, totalLoss=0.427]\n",
      "100%|██████████| 10/10 [00:00<00:00, 34.61batch/s]\n"
     ]
    },
    {
     "name": "stdout",
     "output_type": "stream",
     "text": [
      "Epoch [68], Loss_t: 0.4272,Loss_v: 0.8216, train_acc_v:99.1351, val_acc_v:45.1087\n"
     ]
    },
    {
     "name": "stderr",
     "output_type": "stream",
     "text": [
      "100%|██████████| 37/37 [00:03<00:00, 10.45batch/s, TrainAccuracyPerBatch_valence=99.1, loss=0.424, totalLoss=0.427]\n",
      "100%|██████████| 10/10 [00:00<00:00, 34.58batch/s]\n"
     ]
    },
    {
     "name": "stdout",
     "output_type": "stream",
     "text": [
      "Epoch [69], Loss_t: 0.4272,Loss_v: 0.8199, train_acc_v:99.1351, val_acc_v:45.0000\n"
     ]
    },
    {
     "name": "stderr",
     "output_type": "stream",
     "text": [
      "100%|██████████| 37/37 [00:03<00:00, 10.43batch/s, TrainAccuracyPerBatch_valence=99.1, loss=0.424, totalLoss=0.427]\n",
      "100%|██████████| 10/10 [00:00<00:00, 34.69batch/s]\n"
     ]
    },
    {
     "name": "stdout",
     "output_type": "stream",
     "text": [
      "Epoch [70], Loss_t: 0.4272,Loss_v: 0.8236, train_acc_v:99.1351, val_acc_v:45.4348\n"
     ]
    },
    {
     "name": "stderr",
     "output_type": "stream",
     "text": [
      "100%|██████████| 37/37 [00:03<00:00, 10.42batch/s, TrainAccuracyPerBatch_valence=99.1, loss=0.424, totalLoss=0.427]\n",
      "100%|██████████| 10/10 [00:00<00:00, 34.66batch/s]\n"
     ]
    },
    {
     "name": "stdout",
     "output_type": "stream",
     "text": [
      "Epoch [71], Loss_t: 0.4272,Loss_v: 0.8323, train_acc_v:99.1351, val_acc_v:45.0000\n"
     ]
    },
    {
     "name": "stderr",
     "output_type": "stream",
     "text": [
      "100%|██████████| 37/37 [00:03<00:00, 10.40batch/s, TrainAccuracyPerBatch_valence=99.1, loss=0.436, totalLoss=0.427]\n",
      "100%|██████████| 10/10 [00:00<00:00, 34.45batch/s]\n"
     ]
    },
    {
     "name": "stdout",
     "output_type": "stream",
     "text": [
      "Epoch [72], Loss_t: 0.4272,Loss_v: 0.8397, train_acc_v:99.1351, val_acc_v:46.1957\n"
     ]
    },
    {
     "name": "stderr",
     "output_type": "stream",
     "text": [
      "100%|██████████| 37/37 [00:03<00:00, 10.42batch/s, TrainAccuracyPerBatch_valence=99.1, loss=0.424, totalLoss=0.427]\n",
      "100%|██████████| 10/10 [00:00<00:00, 34.26batch/s]\n"
     ]
    },
    {
     "name": "stdout",
     "output_type": "stream",
     "text": [
      "Epoch [73], Loss_t: 0.4272,Loss_v: 0.8165, train_acc_v:99.1351, val_acc_v:45.1087\n"
     ]
    },
    {
     "name": "stderr",
     "output_type": "stream",
     "text": [
      "100%|██████████| 37/37 [00:03<00:00, 10.38batch/s, TrainAccuracyPerBatch_valence=99.1, loss=0.424, totalLoss=0.427]\n",
      "100%|██████████| 10/10 [00:00<00:00, 34.64batch/s]\n"
     ]
    },
    {
     "name": "stdout",
     "output_type": "stream",
     "text": [
      "Epoch [74], Loss_t: 0.4272,Loss_v: 0.8290, train_acc_v:99.1351, val_acc_v:44.8913\n"
     ]
    },
    {
     "name": "stderr",
     "output_type": "stream",
     "text": [
      "100%|██████████| 37/37 [00:03<00:00, 10.39batch/s, TrainAccuracyPerBatch_valence=99.1, loss=0.424, totalLoss=0.427]\n",
      "100%|██████████| 10/10 [00:00<00:00, 34.24batch/s]\n"
     ]
    },
    {
     "name": "stdout",
     "output_type": "stream",
     "text": [
      "Epoch [75], Loss_t: 0.4271,Loss_v: 0.8260, train_acc_v:99.1351, val_acc_v:45.3261\n"
     ]
    },
    {
     "name": "stderr",
     "output_type": "stream",
     "text": [
      "100%|██████████| 37/37 [00:03<00:00, 10.39batch/s, TrainAccuracyPerBatch_valence=99.1, loss=0.424, totalLoss=0.427]\n",
      "100%|██████████| 10/10 [00:00<00:00, 34.47batch/s]\n"
     ]
    },
    {
     "name": "stdout",
     "output_type": "stream",
     "text": [
      "Epoch [76], Loss_t: 0.4271,Loss_v: 0.8050, train_acc_v:99.1351, val_acc_v:47.5000\n"
     ]
    },
    {
     "name": "stderr",
     "output_type": "stream",
     "text": [
      "100%|██████████| 37/37 [00:03<00:00, 10.37batch/s, TrainAccuracyPerBatch_valence=99.1, loss=0.424, totalLoss=0.427]\n",
      "100%|██████████| 10/10 [00:00<00:00, 34.78batch/s]\n"
     ]
    },
    {
     "name": "stdout",
     "output_type": "stream",
     "text": [
      "Epoch [77], Loss_t: 0.4272,Loss_v: 0.8025, train_acc_v:99.1351, val_acc_v:48.0435\n"
     ]
    },
    {
     "name": "stderr",
     "output_type": "stream",
     "text": [
      "100%|██████████| 37/37 [00:03<00:00, 10.37batch/s, TrainAccuracyPerBatch_valence=99.2, loss=0.436, totalLoss=0.427]\n",
      "100%|██████████| 10/10 [00:00<00:00, 34.52batch/s]\n"
     ]
    },
    {
     "name": "stdout",
     "output_type": "stream",
     "text": [
      "Epoch [78], Loss_t: 0.4269,Loss_v: 0.8023, train_acc_v:99.1622, val_acc_v:48.2609\n"
     ]
    },
    {
     "name": "stderr",
     "output_type": "stream",
     "text": [
      "100%|██████████| 37/37 [00:03<00:00, 10.38batch/s, TrainAccuracyPerBatch_valence=98.9, loss=0.427, totalLoss=0.432]\n",
      "100%|██████████| 10/10 [00:00<00:00, 34.70batch/s]\n"
     ]
    },
    {
     "name": "stdout",
     "output_type": "stream",
     "text": [
      "Epoch [79], Loss_t: 0.4317,Loss_v: 0.8211, train_acc_v:98.8649, val_acc_v:45.7609\n"
     ]
    },
    {
     "name": "stderr",
     "output_type": "stream",
     "text": [
      "100%|██████████| 37/37 [00:03<00:00, 10.37batch/s, TrainAccuracyPerBatch_valence=99, loss=0.438, totalLoss=0.43]   \n",
      "100%|██████████| 10/10 [00:00<00:00, 34.48batch/s]\n"
     ]
    },
    {
     "name": "stdout",
     "output_type": "stream",
     "text": [
      "Epoch [80], Loss_t: 0.4298,Loss_v: 0.7861, train_acc_v:99.0270, val_acc_v:49.7826\n"
     ]
    },
    {
     "name": "stderr",
     "output_type": "stream",
     "text": [
      "100%|██████████| 37/37 [00:03<00:00, 10.35batch/s, TrainAccuracyPerBatch_valence=98.7, loss=0.425, totalLoss=0.434]\n",
      "100%|██████████| 10/10 [00:00<00:00, 34.53batch/s]\n"
     ]
    },
    {
     "name": "stdout",
     "output_type": "stream",
     "text": [
      "Epoch [81], Loss_t: 0.4338,Loss_v: 0.8427, train_acc_v:98.6757, val_acc_v:44.3478\n"
     ]
    },
    {
     "name": "stderr",
     "output_type": "stream",
     "text": [
      "100%|██████████| 37/37 [00:03<00:00, 10.36batch/s, TrainAccuracyPerBatch_valence=99.2, loss=0.424, totalLoss=0.428]\n",
      "100%|██████████| 10/10 [00:00<00:00, 34.46batch/s]\n"
     ]
    },
    {
     "name": "stdout",
     "output_type": "stream",
     "text": [
      "Epoch [82], Loss_t: 0.4280,Loss_v: 0.8381, train_acc_v:99.2162, val_acc_v:46.3043\n"
     ]
    },
    {
     "name": "stderr",
     "output_type": "stream",
     "text": [
      "100%|██████████| 37/37 [00:03<00:00, 10.38batch/s, TrainAccuracyPerBatch_valence=99.3, loss=0.424, totalLoss=0.426]\n",
      "100%|██████████| 10/10 [00:00<00:00, 34.54batch/s]\n"
     ]
    },
    {
     "name": "stdout",
     "output_type": "stream",
     "text": [
      "Epoch [83], Loss_t: 0.4258,Loss_v: 0.8282, train_acc_v:99.2973, val_acc_v:45.7609\n"
     ]
    },
    {
     "name": "stderr",
     "output_type": "stream",
     "text": [
      "100%|██████████| 37/37 [00:03<00:00, 10.34batch/s, TrainAccuracyPerBatch_valence=99.3, loss=0.424, totalLoss=0.426]\n",
      "100%|██████████| 10/10 [00:00<00:00, 34.42batch/s]\n"
     ]
    },
    {
     "name": "stdout",
     "output_type": "stream",
     "text": [
      "Epoch [84], Loss_t: 0.4256,Loss_v: 0.8289, train_acc_v:99.2973, val_acc_v:46.7391\n"
     ]
    },
    {
     "name": "stderr",
     "output_type": "stream",
     "text": [
      "100%|██████████| 37/37 [00:03<00:00, 10.34batch/s, TrainAccuracyPerBatch_valence=99.3, loss=0.424, totalLoss=0.425]\n",
      "100%|██████████| 10/10 [00:00<00:00, 34.89batch/s]\n"
     ]
    },
    {
     "name": "stdout",
     "output_type": "stream",
     "text": [
      "Epoch [85], Loss_t: 0.4255,Loss_v: 0.8468, train_acc_v:99.2973, val_acc_v:46.0870\n"
     ]
    },
    {
     "name": "stderr",
     "output_type": "stream",
     "text": [
      "100%|██████████| 37/37 [00:03<00:00, 10.34batch/s, TrainAccuracyPerBatch_valence=99.3, loss=0.424, totalLoss=0.425]\n",
      "100%|██████████| 10/10 [00:00<00:00, 32.10batch/s]\n"
     ]
    },
    {
     "name": "stdout",
     "output_type": "stream",
     "text": [
      "Epoch [86], Loss_t: 0.4255,Loss_v: 0.8236, train_acc_v:99.2973, val_acc_v:46.3043\n"
     ]
    },
    {
     "name": "stderr",
     "output_type": "stream",
     "text": [
      "100%|██████████| 37/37 [00:03<00:00, 10.09batch/s, TrainAccuracyPerBatch_valence=99.3, loss=0.424, totalLoss=0.425]\n",
      "100%|██████████| 10/10 [00:00<00:00, 33.28batch/s]\n"
     ]
    },
    {
     "name": "stdout",
     "output_type": "stream",
     "text": [
      "Epoch [87], Loss_t: 0.4254,Loss_v: 0.8289, train_acc_v:99.2973, val_acc_v:46.9565\n"
     ]
    },
    {
     "name": "stderr",
     "output_type": "stream",
     "text": [
      "100%|██████████| 37/37 [00:03<00:00, 10.21batch/s, TrainAccuracyPerBatch_valence=99.3, loss=0.424, totalLoss=0.425]\n",
      "100%|██████████| 10/10 [00:00<00:00, 34.20batch/s]\n"
     ]
    },
    {
     "name": "stdout",
     "output_type": "stream",
     "text": [
      "Epoch [88], Loss_t: 0.4254,Loss_v: 0.8250, train_acc_v:99.2973, val_acc_v:46.7391\n"
     ]
    },
    {
     "name": "stderr",
     "output_type": "stream",
     "text": [
      "100%|██████████| 37/37 [00:03<00:00, 10.32batch/s, TrainAccuracyPerBatch_valence=99.3, loss=0.424, totalLoss=0.425]\n",
      "100%|██████████| 10/10 [00:00<00:00, 34.25batch/s]\n"
     ]
    },
    {
     "name": "stdout",
     "output_type": "stream",
     "text": [
      "Epoch [89], Loss_t: 0.4254,Loss_v: 0.8201, train_acc_v:99.2973, val_acc_v:47.0652\n"
     ]
    },
    {
     "name": "stderr",
     "output_type": "stream",
     "text": [
      "100%|██████████| 37/37 [00:03<00:00, 10.32batch/s, TrainAccuracyPerBatch_valence=99.3, loss=0.424, totalLoss=0.425]\n",
      "100%|██████████| 10/10 [00:00<00:00, 33.93batch/s]\n"
     ]
    },
    {
     "name": "stdout",
     "output_type": "stream",
     "text": [
      "Epoch [90], Loss_t: 0.4254,Loss_v: 0.8162, train_acc_v:99.2973, val_acc_v:46.8478\n"
     ]
    },
    {
     "name": "stderr",
     "output_type": "stream",
     "text": [
      "100%|██████████| 37/37 [00:03<00:00, 10.54batch/s, TrainAccuracyPerBatch_valence=99.3, loss=0.424, totalLoss=0.425]\n",
      "100%|██████████| 10/10 [00:00<00:00, 35.05batch/s]\n"
     ]
    },
    {
     "name": "stdout",
     "output_type": "stream",
     "text": [
      "Epoch [91], Loss_t: 0.4254,Loss_v: 0.8287, train_acc_v:99.2973, val_acc_v:46.8478\n"
     ]
    },
    {
     "name": "stderr",
     "output_type": "stream",
     "text": [
      "100%|██████████| 37/37 [00:03<00:00, 10.48batch/s, TrainAccuracyPerBatch_valence=99.3, loss=0.424, totalLoss=0.425]\n",
      "100%|██████████| 10/10 [00:00<00:00, 35.06batch/s]\n"
     ]
    },
    {
     "name": "stdout",
     "output_type": "stream",
     "text": [
      "Epoch [92], Loss_t: 0.4254,Loss_v: 0.8240, train_acc_v:99.2973, val_acc_v:46.8478\n"
     ]
    },
    {
     "name": "stderr",
     "output_type": "stream",
     "text": [
      "100%|██████████| 37/37 [00:03<00:00, 10.50batch/s, TrainAccuracyPerBatch_valence=99.3, loss=0.424, totalLoss=0.425]\n",
      "100%|██████████| 10/10 [00:00<00:00, 34.85batch/s]\n"
     ]
    },
    {
     "name": "stdout",
     "output_type": "stream",
     "text": [
      "Epoch [93], Loss_t: 0.4254,Loss_v: 0.8256, train_acc_v:99.2973, val_acc_v:47.1739\n"
     ]
    },
    {
     "name": "stderr",
     "output_type": "stream",
     "text": [
      "100%|██████████| 37/37 [00:03<00:00, 10.39batch/s, TrainAccuracyPerBatch_valence=99.3, loss=0.424, totalLoss=0.425]\n",
      "100%|██████████| 10/10 [00:00<00:00, 34.92batch/s]\n"
     ]
    },
    {
     "name": "stdout",
     "output_type": "stream",
     "text": [
      "Epoch [94], Loss_t: 0.4253,Loss_v: 0.8267, train_acc_v:99.2973, val_acc_v:46.7391\n"
     ]
    },
    {
     "name": "stderr",
     "output_type": "stream",
     "text": [
      "100%|██████████| 37/37 [00:03<00:00, 10.51batch/s, TrainAccuracyPerBatch_valence=99.3, loss=0.424, totalLoss=0.425]\n",
      "100%|██████████| 10/10 [00:00<00:00, 35.00batch/s]\n"
     ]
    },
    {
     "name": "stdout",
     "output_type": "stream",
     "text": [
      "Epoch [95], Loss_t: 0.4253,Loss_v: 0.8214, train_acc_v:99.2973, val_acc_v:46.6304\n"
     ]
    },
    {
     "name": "stderr",
     "output_type": "stream",
     "text": [
      "100%|██████████| 37/37 [00:03<00:00, 10.54batch/s, TrainAccuracyPerBatch_valence=99.3, loss=0.424, totalLoss=0.425]\n",
      "100%|██████████| 10/10 [00:00<00:00, 35.14batch/s]\n"
     ]
    },
    {
     "name": "stdout",
     "output_type": "stream",
     "text": [
      "Epoch [96], Loss_t: 0.4253,Loss_v: 0.8345, train_acc_v:99.2973, val_acc_v:46.4130\n"
     ]
    },
    {
     "name": "stderr",
     "output_type": "stream",
     "text": [
      "100%|██████████| 37/37 [00:03<00:00, 10.55batch/s, TrainAccuracyPerBatch_valence=99.3, loss=0.424, totalLoss=0.425]\n",
      "100%|██████████| 10/10 [00:00<00:00, 34.99batch/s]\n"
     ]
    },
    {
     "name": "stdout",
     "output_type": "stream",
     "text": [
      "Epoch [97], Loss_t: 0.4253,Loss_v: 0.8195, train_acc_v:99.2973, val_acc_v:46.7391\n"
     ]
    },
    {
     "name": "stderr",
     "output_type": "stream",
     "text": [
      "100%|██████████| 37/37 [00:03<00:00, 10.57batch/s, TrainAccuracyPerBatch_valence=99.3, loss=0.424, totalLoss=0.425]\n",
      "100%|██████████| 10/10 [00:00<00:00, 34.58batch/s]\n"
     ]
    },
    {
     "name": "stdout",
     "output_type": "stream",
     "text": [
      "Epoch [98], Loss_t: 0.4253,Loss_v: 0.8282, train_acc_v:99.2973, val_acc_v:46.7391\n"
     ]
    },
    {
     "name": "stderr",
     "output_type": "stream",
     "text": [
      "100%|██████████| 37/37 [00:03<00:00, 10.56batch/s, TrainAccuracyPerBatch_valence=99.3, loss=0.436, totalLoss=0.425]\n",
      "100%|██████████| 10/10 [00:00<00:00, 34.27batch/s]\n"
     ]
    },
    {
     "name": "stdout",
     "output_type": "stream",
     "text": [
      "Epoch [99], Loss_t: 0.4253,Loss_v: 0.8269, train_acc_v:99.2973, val_acc_v:46.8478\n"
     ]
    },
    {
     "name": "stderr",
     "output_type": "stream",
     "text": [
      "100%|██████████| 10/10 [00:00<00:00, 39.74batch/s]\n"
     ]
    },
    {
     "name": "stdout",
     "output_type": "stream",
     "text": [
      "Fold 3 running\n"
     ]
    },
    {
     "name": "stderr",
     "output_type": "stream",
     "text": [
      "100%|██████████| 37/37 [00:03<00:00, 10.61batch/s, TrainAccuracyPerBatch_valence=58.2, loss=0.765, totalLoss=0.788]\n",
      "100%|██████████| 10/10 [00:00<00:00, 35.28batch/s]\n"
     ]
    },
    {
     "name": "stdout",
     "output_type": "stream",
     "text": [
      "Epoch [0], Loss_t: 0.7879,Loss_v: 0.7030, train_acc_v:58.1622, val_acc_v:51.3043\n"
     ]
    },
    {
     "name": "stderr",
     "output_type": "stream",
     "text": [
      "100%|██████████| 37/37 [00:03<00:00, 10.55batch/s, TrainAccuracyPerBatch_valence=63.3, loss=0.734, totalLoss=0.752]\n",
      "100%|██████████| 10/10 [00:00<00:00, 34.28batch/s]\n"
     ]
    },
    {
     "name": "stdout",
     "output_type": "stream",
     "text": [
      "Epoch [1], Loss_t: 0.7524,Loss_v: 0.7207, train_acc_v:63.3243, val_acc_v:51.5217\n"
     ]
    },
    {
     "name": "stderr",
     "output_type": "stream",
     "text": [
      "100%|██████████| 37/37 [00:03<00:00, 10.59batch/s, TrainAccuracyPerBatch_valence=65.8, loss=0.716, totalLoss=0.734]\n",
      "100%|██████████| 10/10 [00:00<00:00, 34.84batch/s]\n"
     ]
    },
    {
     "name": "stdout",
     "output_type": "stream",
     "text": [
      "Epoch [2], Loss_t: 0.7344,Loss_v: 0.7253, train_acc_v:65.7568, val_acc_v:53.3696\n"
     ]
    },
    {
     "name": "stderr",
     "output_type": "stream",
     "text": [
      "100%|██████████| 37/37 [00:03<00:00, 10.57batch/s, TrainAccuracyPerBatch_valence=67.5, loss=0.701, totalLoss=0.721]\n",
      "100%|██████████| 10/10 [00:00<00:00, 34.89batch/s]\n"
     ]
    },
    {
     "name": "stdout",
     "output_type": "stream",
     "text": [
      "Epoch [3], Loss_t: 0.7211,Loss_v: 0.7278, train_acc_v:67.4595, val_acc_v:53.0435\n"
     ]
    },
    {
     "name": "stderr",
     "output_type": "stream",
     "text": [
      "100%|██████████| 37/37 [00:03<00:00, 10.58batch/s, TrainAccuracyPerBatch_valence=69.4, loss=0.731, totalLoss=0.707]\n",
      "100%|██████████| 10/10 [00:00<00:00, 35.16batch/s]\n"
     ]
    },
    {
     "name": "stdout",
     "output_type": "stream",
     "text": [
      "Epoch [4], Loss_t: 0.7071,Loss_v: 0.7476, train_acc_v:69.3784, val_acc_v:51.3043\n"
     ]
    },
    {
     "name": "stderr",
     "output_type": "stream",
     "text": [
      "100%|██████████| 37/37 [00:03<00:00, 10.58batch/s, TrainAccuracyPerBatch_valence=68.9, loss=0.727, totalLoss=0.703]\n",
      "100%|██████████| 10/10 [00:00<00:00, 34.89batch/s]\n"
     ]
    },
    {
     "name": "stdout",
     "output_type": "stream",
     "text": [
      "Epoch [5], Loss_t: 0.7030,Loss_v: 0.7624, train_acc_v:68.8649, val_acc_v:47.6087\n"
     ]
    },
    {
     "name": "stderr",
     "output_type": "stream",
     "text": [
      "100%|██████████| 37/37 [00:03<00:00, 10.60batch/s, TrainAccuracyPerBatch_valence=72, loss=0.646, totalLoss=0.685]  \n",
      "100%|██████████| 10/10 [00:00<00:00, 35.06batch/s]\n"
     ]
    },
    {
     "name": "stdout",
     "output_type": "stream",
     "text": [
      "Epoch [6], Loss_t: 0.6846,Loss_v: 0.7672, train_acc_v:71.9730, val_acc_v:48.0435\n"
     ]
    },
    {
     "name": "stderr",
     "output_type": "stream",
     "text": [
      "100%|██████████| 37/37 [00:03<00:00, 10.58batch/s, TrainAccuracyPerBatch_valence=72.9, loss=0.71, totalLoss=0.674] \n",
      "100%|██████████| 10/10 [00:00<00:00, 35.28batch/s]\n"
     ]
    },
    {
     "name": "stdout",
     "output_type": "stream",
     "text": [
      "Epoch [7], Loss_t: 0.6738,Loss_v: 0.7706, train_acc_v:72.8919, val_acc_v:47.8261\n"
     ]
    },
    {
     "name": "stderr",
     "output_type": "stream",
     "text": [
      "100%|██████████| 37/37 [00:03<00:00, 10.46batch/s, TrainAccuracyPerBatch_valence=73.1, loss=0.685, totalLoss=0.668]\n",
      "100%|██████████| 10/10 [00:00<00:00, 34.64batch/s]\n"
     ]
    },
    {
     "name": "stdout",
     "output_type": "stream",
     "text": [
      "Epoch [8], Loss_t: 0.6682,Loss_v: 0.7716, train_acc_v:73.0541, val_acc_v:47.7174\n"
     ]
    },
    {
     "name": "stderr",
     "output_type": "stream",
     "text": [
      "100%|██████████| 37/37 [00:03<00:00, 10.08batch/s, TrainAccuracyPerBatch_valence=76.2, loss=0.658, totalLoss=0.65] \n",
      "100%|██████████| 10/10 [00:00<00:00, 33.31batch/s]\n"
     ]
    },
    {
     "name": "stdout",
     "output_type": "stream",
     "text": [
      "Epoch [9], Loss_t: 0.6505,Loss_v: 0.7727, train_acc_v:76.2162, val_acc_v:48.3696\n"
     ]
    },
    {
     "name": "stderr",
     "output_type": "stream",
     "text": [
      "100%|██████████| 37/37 [00:03<00:00, 10.18batch/s, TrainAccuracyPerBatch_valence=78.6, loss=0.631, totalLoss=0.632]\n",
      "100%|██████████| 10/10 [00:00<00:00, 33.99batch/s]\n"
     ]
    },
    {
     "name": "stdout",
     "output_type": "stream",
     "text": [
      "Epoch [10], Loss_t: 0.6317,Loss_v: 0.7893, train_acc_v:78.6486, val_acc_v:48.0435\n"
     ]
    },
    {
     "name": "stderr",
     "output_type": "stream",
     "text": [
      "100%|██████████| 37/37 [00:03<00:00, 10.27batch/s, TrainAccuracyPerBatch_valence=80.8, loss=0.586, totalLoss=0.616]\n",
      "100%|██████████| 10/10 [00:00<00:00, 34.02batch/s]\n"
     ]
    },
    {
     "name": "stdout",
     "output_type": "stream",
     "text": [
      "Epoch [11], Loss_t: 0.6165,Loss_v: 0.7806, train_acc_v:80.8378, val_acc_v:46.6304\n"
     ]
    },
    {
     "name": "stderr",
     "output_type": "stream",
     "text": [
      "100%|██████████| 37/37 [00:03<00:00, 10.20batch/s, TrainAccuracyPerBatch_valence=81.4, loss=0.633, totalLoss=0.607]\n",
      "100%|██████████| 10/10 [00:00<00:00, 33.22batch/s]\n"
     ]
    },
    {
     "name": "stdout",
     "output_type": "stream",
     "text": [
      "Epoch [12], Loss_t: 0.6074,Loss_v: 0.7669, train_acc_v:81.4054, val_acc_v:49.5652\n"
     ]
    },
    {
     "name": "stderr",
     "output_type": "stream",
     "text": [
      "100%|██████████| 37/37 [00:03<00:00, 10.21batch/s, TrainAccuracyPerBatch_valence=82.2, loss=0.601, totalLoss=0.595]\n",
      "100%|██████████| 10/10 [00:00<00:00, 33.81batch/s]\n"
     ]
    },
    {
     "name": "stdout",
     "output_type": "stream",
     "text": [
      "Epoch [13], Loss_t: 0.5946,Loss_v: 0.8055, train_acc_v:82.1622, val_acc_v:44.7826\n"
     ]
    },
    {
     "name": "stderr",
     "output_type": "stream",
     "text": [
      "100%|██████████| 37/37 [00:03<00:00, 10.12batch/s, TrainAccuracyPerBatch_valence=85.1, loss=0.542, totalLoss=0.571]\n",
      "100%|██████████| 10/10 [00:00<00:00, 34.11batch/s]\n"
     ]
    },
    {
     "name": "stdout",
     "output_type": "stream",
     "text": [
      "Epoch [14], Loss_t: 0.5708,Loss_v: 0.7710, train_acc_v:85.1351, val_acc_v:47.1739\n"
     ]
    },
    {
     "name": "stderr",
     "output_type": "stream",
     "text": [
      "100%|██████████| 37/37 [00:03<00:00, 10.20batch/s, TrainAccuracyPerBatch_valence=86.2, loss=0.548, totalLoss=0.565]\n",
      "100%|██████████| 10/10 [00:00<00:00, 34.05batch/s]\n"
     ]
    },
    {
     "name": "stdout",
     "output_type": "stream",
     "text": [
      "Epoch [15], Loss_t: 0.5646,Loss_v: 0.7976, train_acc_v:86.1892, val_acc_v:45.9783\n"
     ]
    },
    {
     "name": "stderr",
     "output_type": "stream",
     "text": [
      "100%|██████████| 37/37 [00:03<00:00, 10.22batch/s, TrainAccuracyPerBatch_valence=88.5, loss=0.586, totalLoss=0.543]\n",
      "100%|██████████| 10/10 [00:00<00:00, 33.66batch/s]\n"
     ]
    },
    {
     "name": "stdout",
     "output_type": "stream",
     "text": [
      "Epoch [16], Loss_t: 0.5435,Loss_v: 0.8104, train_acc_v:88.4595, val_acc_v:44.3478\n"
     ]
    },
    {
     "name": "stderr",
     "output_type": "stream",
     "text": [
      "100%|██████████| 37/37 [00:03<00:00, 10.53batch/s, TrainAccuracyPerBatch_valence=89.5, loss=0.498, totalLoss=0.531]\n",
      "100%|██████████| 10/10 [00:00<00:00, 34.94batch/s]\n"
     ]
    },
    {
     "name": "stdout",
     "output_type": "stream",
     "text": [
      "Epoch [17], Loss_t: 0.5311,Loss_v: 0.7856, train_acc_v:89.4595, val_acc_v:47.8261\n"
     ]
    },
    {
     "name": "stderr",
     "output_type": "stream",
     "text": [
      "100%|██████████| 37/37 [00:03<00:00, 10.60batch/s, TrainAccuracyPerBatch_valence=89.9, loss=0.548, totalLoss=0.523]\n",
      "100%|██████████| 10/10 [00:00<00:00, 35.13batch/s]\n"
     ]
    },
    {
     "name": "stdout",
     "output_type": "stream",
     "text": [
      "Epoch [18], Loss_t: 0.5228,Loss_v: 0.8096, train_acc_v:89.8919, val_acc_v:47.7174\n"
     ]
    },
    {
     "name": "stderr",
     "output_type": "stream",
     "text": [
      "100%|██████████| 37/37 [00:03<00:00, 10.59batch/s, TrainAccuracyPerBatch_valence=92.5, loss=0.495, totalLoss=0.501]\n",
      "100%|██████████| 10/10 [00:00<00:00, 35.29batch/s]\n"
     ]
    },
    {
     "name": "stdout",
     "output_type": "stream",
     "text": [
      "Epoch [19], Loss_t: 0.5012,Loss_v: 0.8158, train_acc_v:92.4865, val_acc_v:46.5217\n"
     ]
    },
    {
     "name": "stderr",
     "output_type": "stream",
     "text": [
      "100%|██████████| 37/37 [00:03<00:00, 10.53batch/s, TrainAccuracyPerBatch_valence=93.2, loss=0.521, totalLoss=0.493]\n",
      "100%|██████████| 10/10 [00:00<00:00, 35.00batch/s]\n"
     ]
    },
    {
     "name": "stdout",
     "output_type": "stream",
     "text": [
      "Epoch [20], Loss_t: 0.4930,Loss_v: 0.8133, train_acc_v:93.2432, val_acc_v:47.2826\n"
     ]
    },
    {
     "name": "stderr",
     "output_type": "stream",
     "text": [
      "100%|██████████| 37/37 [00:03<00:00, 10.20batch/s, TrainAccuracyPerBatch_valence=93.9, loss=0.48, totalLoss=0.487] \n",
      "100%|██████████| 10/10 [00:00<00:00, 33.43batch/s]\n"
     ]
    },
    {
     "name": "stdout",
     "output_type": "stream",
     "text": [
      "Epoch [21], Loss_t: 0.4867,Loss_v: 0.8042, train_acc_v:93.8649, val_acc_v:46.6304\n"
     ]
    },
    {
     "name": "stderr",
     "output_type": "stream",
     "text": [
      "100%|██████████| 37/37 [00:03<00:00, 10.37batch/s, TrainAccuracyPerBatch_valence=95.4, loss=0.473, totalLoss=0.471]\n",
      "100%|██████████| 10/10 [00:00<00:00, 34.19batch/s]\n"
     ]
    },
    {
     "name": "stdout",
     "output_type": "stream",
     "text": [
      "Epoch [22], Loss_t: 0.4709,Loss_v: 0.7939, train_acc_v:95.4324, val_acc_v:49.3478\n"
     ]
    },
    {
     "name": "stderr",
     "output_type": "stream",
     "text": [
      "100%|██████████| 37/37 [00:03<00:00, 10.44batch/s, TrainAccuracyPerBatch_valence=93.9, loss=0.499, totalLoss=0.482]\n",
      "100%|██████████| 10/10 [00:00<00:00, 34.54batch/s]\n"
     ]
    },
    {
     "name": "stdout",
     "output_type": "stream",
     "text": [
      "Epoch [23], Loss_t: 0.4823,Loss_v: 0.7824, train_acc_v:93.8919, val_acc_v:50.6522\n"
     ]
    },
    {
     "name": "stderr",
     "output_type": "stream",
     "text": [
      "100%|██████████| 37/37 [00:03<00:00, 10.37batch/s, TrainAccuracyPerBatch_valence=95.2, loss=0.459, totalLoss=0.469]\n",
      "100%|██████████| 10/10 [00:00<00:00, 35.06batch/s]\n"
     ]
    },
    {
     "name": "stdout",
     "output_type": "stream",
     "text": [
      "Epoch [24], Loss_t: 0.4691,Loss_v: 0.8156, train_acc_v:95.2432, val_acc_v:46.5217\n"
     ]
    },
    {
     "name": "stderr",
     "output_type": "stream",
     "text": [
      "100%|██████████| 37/37 [00:03<00:00, 10.60batch/s, TrainAccuracyPerBatch_valence=97, loss=0.438, totalLoss=0.453]  \n",
      "100%|██████████| 10/10 [00:00<00:00, 35.17batch/s]\n"
     ]
    },
    {
     "name": "stdout",
     "output_type": "stream",
     "text": [
      "Epoch [25], Loss_t: 0.4527,Loss_v: 0.8007, train_acc_v:97.0270, val_acc_v:46.5217\n"
     ]
    },
    {
     "name": "stderr",
     "output_type": "stream",
     "text": [
      "100%|██████████| 37/37 [00:03<00:00, 10.60batch/s, TrainAccuracyPerBatch_valence=97.9, loss=0.436, totalLoss=0.444]\n",
      "100%|██████████| 10/10 [00:00<00:00, 35.24batch/s]\n"
     ]
    },
    {
     "name": "stdout",
     "output_type": "stream",
     "text": [
      "Epoch [26], Loss_t: 0.4436,Loss_v: 0.7910, train_acc_v:97.9459, val_acc_v:49.0217\n"
     ]
    },
    {
     "name": "stderr",
     "output_type": "stream",
     "text": [
      "100%|██████████| 37/37 [00:03<00:00, 10.61batch/s, TrainAccuracyPerBatch_valence=98.2, loss=0.449, totalLoss=0.44] \n",
      "100%|██████████| 10/10 [00:00<00:00, 34.12batch/s]\n"
     ]
    },
    {
     "name": "stdout",
     "output_type": "stream",
     "text": [
      "Epoch [27], Loss_t: 0.4401,Loss_v: 0.8229, train_acc_v:98.1622, val_acc_v:46.5217\n"
     ]
    },
    {
     "name": "stderr",
     "output_type": "stream",
     "text": [
      "100%|██████████| 37/37 [00:03<00:00, 10.29batch/s, TrainAccuracyPerBatch_valence=98.5, loss=0.426, totalLoss=0.436]\n",
      "100%|██████████| 10/10 [00:00<00:00, 34.21batch/s]\n"
     ]
    },
    {
     "name": "stdout",
     "output_type": "stream",
     "text": [
      "Epoch [28], Loss_t: 0.4362,Loss_v: 0.7954, train_acc_v:98.5405, val_acc_v:48.0435\n"
     ]
    },
    {
     "name": "stderr",
     "output_type": "stream",
     "text": [
      "100%|██████████| 37/37 [00:03<00:00, 10.41batch/s, TrainAccuracyPerBatch_valence=98.4, loss=0.427, totalLoss=0.438]\n",
      "100%|██████████| 10/10 [00:00<00:00, 33.22batch/s]\n"
     ]
    },
    {
     "name": "stdout",
     "output_type": "stream",
     "text": [
      "Epoch [29], Loss_t: 0.4385,Loss_v: 0.8032, train_acc_v:98.3784, val_acc_v:48.4783\n"
     ]
    },
    {
     "name": "stderr",
     "output_type": "stream",
     "text": [
      "100%|██████████| 37/37 [00:03<00:00, 10.21batch/s, TrainAccuracyPerBatch_valence=98.7, loss=0.427, totalLoss=0.433]\n",
      "100%|██████████| 10/10 [00:00<00:00, 34.89batch/s]\n"
     ]
    },
    {
     "name": "stdout",
     "output_type": "stream",
     "text": [
      "Epoch [30], Loss_t: 0.4333,Loss_v: 0.8307, train_acc_v:98.7027, val_acc_v:46.1957\n"
     ]
    },
    {
     "name": "stderr",
     "output_type": "stream",
     "text": [
      "100%|██████████| 37/37 [00:03<00:00, 10.55batch/s, TrainAccuracyPerBatch_valence=98.7, loss=0.438, totalLoss=0.434]\n",
      "100%|██████████| 10/10 [00:00<00:00, 35.42batch/s]\n"
     ]
    },
    {
     "name": "stdout",
     "output_type": "stream",
     "text": [
      "Epoch [31], Loss_t: 0.4336,Loss_v: 0.7757, train_acc_v:98.7297, val_acc_v:49.7826\n"
     ]
    },
    {
     "name": "stderr",
     "output_type": "stream",
     "text": [
      "100%|██████████| 37/37 [00:03<00:00, 10.62batch/s, TrainAccuracyPerBatch_valence=98.6, loss=0.427, totalLoss=0.434]\n",
      "100%|██████████| 10/10 [00:00<00:00, 35.25batch/s]\n"
     ]
    },
    {
     "name": "stdout",
     "output_type": "stream",
     "text": [
      "Epoch [32], Loss_t: 0.4340,Loss_v: 0.8405, train_acc_v:98.6486, val_acc_v:46.3043\n"
     ]
    },
    {
     "name": "stderr",
     "output_type": "stream",
     "text": [
      "100%|██████████| 37/37 [00:03<00:00, 10.63batch/s, TrainAccuracyPerBatch_valence=98.8, loss=0.426, totalLoss=0.433]\n",
      "100%|██████████| 10/10 [00:00<00:00, 35.32batch/s]\n"
     ]
    },
    {
     "name": "stdout",
     "output_type": "stream",
     "text": [
      "Epoch [33], Loss_t: 0.4329,Loss_v: 0.8100, train_acc_v:98.7838, val_acc_v:49.3478\n"
     ]
    },
    {
     "name": "stderr",
     "output_type": "stream",
     "text": [
      "100%|██████████| 37/37 [00:03<00:00, 10.64batch/s, TrainAccuracyPerBatch_valence=98.9, loss=0.43, totalLoss=0.433] \n",
      "100%|██████████| 10/10 [00:00<00:00, 35.51batch/s]\n"
     ]
    },
    {
     "name": "stdout",
     "output_type": "stream",
     "text": [
      "Epoch [34], Loss_t: 0.4327,Loss_v: 0.8049, train_acc_v:98.8649, val_acc_v:47.7174\n"
     ]
    },
    {
     "name": "stderr",
     "output_type": "stream",
     "text": [
      "100%|██████████| 37/37 [00:03<00:00, 10.64batch/s, TrainAccuracyPerBatch_valence=99, loss=0.424, totalLoss=0.43]   \n",
      "100%|██████████| 10/10 [00:00<00:00, 35.19batch/s]\n"
     ]
    },
    {
     "name": "stdout",
     "output_type": "stream",
     "text": [
      "Epoch [35], Loss_t: 0.4299,Loss_v: 0.8249, train_acc_v:99.0270, val_acc_v:47.5000\n"
     ]
    },
    {
     "name": "stderr",
     "output_type": "stream",
     "text": [
      "100%|██████████| 37/37 [00:03<00:00, 10.61batch/s, TrainAccuracyPerBatch_valence=99, loss=0.427, totalLoss=0.43]   \n",
      "100%|██████████| 10/10 [00:00<00:00, 35.48batch/s]\n"
     ]
    },
    {
     "name": "stdout",
     "output_type": "stream",
     "text": [
      "Epoch [36], Loss_t: 0.4298,Loss_v: 0.8133, train_acc_v:98.9730, val_acc_v:47.7174\n"
     ]
    },
    {
     "name": "stderr",
     "output_type": "stream",
     "text": [
      "100%|██████████| 37/37 [00:03<00:00, 10.64batch/s, TrainAccuracyPerBatch_valence=99.1, loss=0.424, totalLoss=0.428]\n",
      "100%|██████████| 10/10 [00:00<00:00, 35.31batch/s]\n"
     ]
    },
    {
     "name": "stdout",
     "output_type": "stream",
     "text": [
      "Epoch [37], Loss_t: 0.4281,Loss_v: 0.8104, train_acc_v:99.1081, val_acc_v:47.5000\n"
     ]
    },
    {
     "name": "stderr",
     "output_type": "stream",
     "text": [
      "100%|██████████| 37/37 [00:03<00:00, 10.64batch/s, TrainAccuracyPerBatch_valence=99.1, loss=0.424, totalLoss=0.428]\n",
      "100%|██████████| 10/10 [00:00<00:00, 35.54batch/s]\n"
     ]
    },
    {
     "name": "stdout",
     "output_type": "stream",
     "text": [
      "Epoch [38], Loss_t: 0.4276,Loss_v: 0.8101, train_acc_v:99.1081, val_acc_v:48.1522\n"
     ]
    },
    {
     "name": "stderr",
     "output_type": "stream",
     "text": [
      "100%|██████████| 37/37 [00:03<00:00, 10.42batch/s, TrainAccuracyPerBatch_valence=99.1, loss=0.424, totalLoss=0.427]\n",
      "100%|██████████| 10/10 [00:00<00:00, 35.37batch/s]\n"
     ]
    },
    {
     "name": "stdout",
     "output_type": "stream",
     "text": [
      "Epoch [39], Loss_t: 0.4275,Loss_v: 0.8241, train_acc_v:99.1081, val_acc_v:48.2609\n"
     ]
    },
    {
     "name": "stderr",
     "output_type": "stream",
     "text": [
      "100%|██████████| 37/37 [00:03<00:00, 10.65batch/s, TrainAccuracyPerBatch_valence=99.1, loss=0.437, totalLoss=0.428]\n",
      "100%|██████████| 10/10 [00:00<00:00, 35.66batch/s]\n"
     ]
    },
    {
     "name": "stdout",
     "output_type": "stream",
     "text": [
      "Epoch [40], Loss_t: 0.4275,Loss_v: 0.8096, train_acc_v:99.1081, val_acc_v:47.5000\n"
     ]
    },
    {
     "name": "stderr",
     "output_type": "stream",
     "text": [
      "100%|██████████| 37/37 [00:03<00:00, 10.60batch/s, TrainAccuracyPerBatch_valence=99.1, loss=0.424, totalLoss=0.427]\n",
      "100%|██████████| 10/10 [00:00<00:00, 33.81batch/s]\n"
     ]
    },
    {
     "name": "stdout",
     "output_type": "stream",
     "text": [
      "Epoch [41], Loss_t: 0.4275,Loss_v: 0.8119, train_acc_v:99.1081, val_acc_v:47.8261\n"
     ]
    },
    {
     "name": "stderr",
     "output_type": "stream",
     "text": [
      "100%|██████████| 37/37 [00:03<00:00, 10.38batch/s, TrainAccuracyPerBatch_valence=99.1, loss=0.424, totalLoss=0.427]\n",
      "100%|██████████| 10/10 [00:00<00:00, 33.12batch/s]\n"
     ]
    },
    {
     "name": "stdout",
     "output_type": "stream",
     "text": [
      "Epoch [42], Loss_t: 0.4272,Loss_v: 0.8094, train_acc_v:99.1351, val_acc_v:47.3913\n"
     ]
    },
    {
     "name": "stderr",
     "output_type": "stream",
     "text": [
      "100%|██████████| 37/37 [00:03<00:00, 10.42batch/s, TrainAccuracyPerBatch_valence=99.2, loss=0.424, totalLoss=0.427]\n",
      "100%|██████████| 10/10 [00:00<00:00, 34.92batch/s]\n"
     ]
    },
    {
     "name": "stdout",
     "output_type": "stream",
     "text": [
      "Epoch [43], Loss_t: 0.4270,Loss_v: 0.8121, train_acc_v:99.1622, val_acc_v:48.8043\n"
     ]
    },
    {
     "name": "stderr",
     "output_type": "stream",
     "text": [
      "100%|██████████| 37/37 [00:03<00:00, 10.50batch/s, TrainAccuracyPerBatch_valence=99.2, loss=0.424, totalLoss=0.427]\n",
      "100%|██████████| 10/10 [00:00<00:00, 32.98batch/s]\n"
     ]
    },
    {
     "name": "stdout",
     "output_type": "stream",
     "text": [
      "Epoch [44], Loss_t: 0.4266,Loss_v: 0.8118, train_acc_v:99.1892, val_acc_v:47.6087\n"
     ]
    },
    {
     "name": "stderr",
     "output_type": "stream",
     "text": [
      "100%|██████████| 37/37 [00:03<00:00, 10.37batch/s, TrainAccuracyPerBatch_valence=99.2, loss=0.424, totalLoss=0.427]\n",
      "100%|██████████| 10/10 [00:00<00:00, 34.86batch/s]\n"
     ]
    },
    {
     "name": "stdout",
     "output_type": "stream",
     "text": [
      "Epoch [45], Loss_t: 0.4266,Loss_v: 0.7978, train_acc_v:99.1892, val_acc_v:47.5000\n"
     ]
    },
    {
     "name": "stderr",
     "output_type": "stream",
     "text": [
      "100%|██████████| 37/37 [00:03<00:00, 10.43batch/s, TrainAccuracyPerBatch_valence=99.2, loss=0.424, totalLoss=0.427]\n",
      "100%|██████████| 10/10 [00:00<00:00, 34.82batch/s]\n"
     ]
    },
    {
     "name": "stdout",
     "output_type": "stream",
     "text": [
      "Epoch [46], Loss_t: 0.4266,Loss_v: 0.8033, train_acc_v:99.1892, val_acc_v:47.5000\n"
     ]
    },
    {
     "name": "stderr",
     "output_type": "stream",
     "text": [
      "100%|██████████| 37/37 [00:03<00:00, 10.44batch/s, TrainAccuracyPerBatch_valence=99.2, loss=0.424, totalLoss=0.427]\n",
      "100%|██████████| 10/10 [00:00<00:00, 34.57batch/s]\n"
     ]
    },
    {
     "name": "stdout",
     "output_type": "stream",
     "text": [
      "Epoch [47], Loss_t: 0.4266,Loss_v: 0.7957, train_acc_v:99.1892, val_acc_v:47.7174\n"
     ]
    },
    {
     "name": "stderr",
     "output_type": "stream",
     "text": [
      "100%|██████████| 37/37 [00:03<00:00, 10.49batch/s, TrainAccuracyPerBatch_valence=99.2, loss=0.436, totalLoss=0.427]\n",
      "100%|██████████| 10/10 [00:00<00:00, 35.19batch/s]\n"
     ]
    },
    {
     "name": "stdout",
     "output_type": "stream",
     "text": [
      "Epoch [48], Loss_t: 0.4266,Loss_v: 0.7978, train_acc_v:99.1892, val_acc_v:47.9348\n"
     ]
    },
    {
     "name": "stderr",
     "output_type": "stream",
     "text": [
      "100%|██████████| 37/37 [00:03<00:00, 10.35batch/s, TrainAccuracyPerBatch_valence=99.2, loss=0.424, totalLoss=0.427]\n",
      "100%|██████████| 10/10 [00:00<00:00, 34.50batch/s]\n"
     ]
    },
    {
     "name": "stdout",
     "output_type": "stream",
     "text": [
      "Epoch [49], Loss_t: 0.4265,Loss_v: 0.8073, train_acc_v:99.1892, val_acc_v:47.3913\n"
     ]
    },
    {
     "name": "stderr",
     "output_type": "stream",
     "text": [
      "100%|██████████| 37/37 [00:03<00:00, 10.26batch/s, TrainAccuracyPerBatch_valence=99.2, loss=0.424, totalLoss=0.427]\n",
      "100%|██████████| 10/10 [00:00<00:00, 34.94batch/s]\n"
     ]
    },
    {
     "name": "stdout",
     "output_type": "stream",
     "text": [
      "Epoch [50], Loss_t: 0.4265,Loss_v: 0.8189, train_acc_v:99.1892, val_acc_v:47.5000\n"
     ]
    },
    {
     "name": "stderr",
     "output_type": "stream",
     "text": [
      "100%|██████████| 37/37 [00:03<00:00, 10.38batch/s, TrainAccuracyPerBatch_valence=99.2, loss=0.424, totalLoss=0.427]\n",
      "100%|██████████| 10/10 [00:00<00:00, 34.94batch/s]\n"
     ]
    },
    {
     "name": "stdout",
     "output_type": "stream",
     "text": [
      "Epoch [51], Loss_t: 0.4265,Loss_v: 0.8168, train_acc_v:99.1892, val_acc_v:47.8261\n"
     ]
    },
    {
     "name": "stderr",
     "output_type": "stream",
     "text": [
      "100%|██████████| 37/37 [00:03<00:00, 10.60batch/s, TrainAccuracyPerBatch_valence=99.2, loss=0.424, totalLoss=0.426]\n",
      "100%|██████████| 10/10 [00:00<00:00, 35.33batch/s]\n"
     ]
    },
    {
     "name": "stdout",
     "output_type": "stream",
     "text": [
      "Epoch [52], Loss_t: 0.4265,Loss_v: 0.8017, train_acc_v:99.1892, val_acc_v:47.3913\n"
     ]
    },
    {
     "name": "stderr",
     "output_type": "stream",
     "text": [
      "100%|██████████| 37/37 [00:03<00:00, 10.48batch/s, TrainAccuracyPerBatch_valence=99.2, loss=0.424, totalLoss=0.426]\n",
      "100%|██████████| 10/10 [00:00<00:00, 34.06batch/s]\n"
     ]
    },
    {
     "name": "stdout",
     "output_type": "stream",
     "text": [
      "Epoch [53], Loss_t: 0.4265,Loss_v: 0.8265, train_acc_v:99.1892, val_acc_v:48.2609\n"
     ]
    },
    {
     "name": "stderr",
     "output_type": "stream",
     "text": [
      "100%|██████████| 37/37 [00:03<00:00, 10.32batch/s, TrainAccuracyPerBatch_valence=99.2, loss=0.424, totalLoss=0.426]\n",
      "100%|██████████| 10/10 [00:00<00:00, 34.44batch/s]\n"
     ]
    },
    {
     "name": "stdout",
     "output_type": "stream",
     "text": [
      "Epoch [54], Loss_t: 0.4265,Loss_v: 0.8327, train_acc_v:99.1892, val_acc_v:47.8261\n"
     ]
    },
    {
     "name": "stderr",
     "output_type": "stream",
     "text": [
      "100%|██████████| 37/37 [00:03<00:00, 10.51batch/s, TrainAccuracyPerBatch_valence=99.2, loss=0.424, totalLoss=0.426]\n",
      "100%|██████████| 10/10 [00:00<00:00, 35.12batch/s]\n"
     ]
    },
    {
     "name": "stdout",
     "output_type": "stream",
     "text": [
      "Epoch [55], Loss_t: 0.4265,Loss_v: 0.8210, train_acc_v:99.1892, val_acc_v:47.5000\n"
     ]
    },
    {
     "name": "stderr",
     "output_type": "stream",
     "text": [
      "100%|██████████| 37/37 [00:03<00:00, 10.65batch/s, TrainAccuracyPerBatch_valence=99.2, loss=0.424, totalLoss=0.426]\n",
      "100%|██████████| 10/10 [00:00<00:00, 34.69batch/s]\n"
     ]
    },
    {
     "name": "stdout",
     "output_type": "stream",
     "text": [
      "Epoch [56], Loss_t: 0.4264,Loss_v: 0.7998, train_acc_v:99.1892, val_acc_v:47.5000\n"
     ]
    },
    {
     "name": "stderr",
     "output_type": "stream",
     "text": [
      "100%|██████████| 37/37 [00:03<00:00, 10.56batch/s, TrainAccuracyPerBatch_valence=99.2, loss=0.424, totalLoss=0.426]\n",
      "100%|██████████| 10/10 [00:00<00:00, 35.69batch/s]\n"
     ]
    },
    {
     "name": "stdout",
     "output_type": "stream",
     "text": [
      "Epoch [57], Loss_t: 0.4264,Loss_v: 0.8031, train_acc_v:99.1892, val_acc_v:47.8261\n"
     ]
    },
    {
     "name": "stderr",
     "output_type": "stream",
     "text": [
      "100%|██████████| 37/37 [00:03<00:00, 10.69batch/s, TrainAccuracyPerBatch_valence=99.2, loss=0.424, totalLoss=0.426]\n",
      "100%|██████████| 10/10 [00:00<00:00, 35.42batch/s]\n"
     ]
    },
    {
     "name": "stdout",
     "output_type": "stream",
     "text": [
      "Epoch [58], Loss_t: 0.4264,Loss_v: 0.8055, train_acc_v:99.1892, val_acc_v:47.6087\n"
     ]
    },
    {
     "name": "stderr",
     "output_type": "stream",
     "text": [
      "100%|██████████| 37/37 [00:03<00:00, 10.69batch/s, TrainAccuracyPerBatch_valence=99.2, loss=0.424, totalLoss=0.426]\n",
      "100%|██████████| 10/10 [00:00<00:00, 35.68batch/s]\n"
     ]
    },
    {
     "name": "stdout",
     "output_type": "stream",
     "text": [
      "Epoch [59], Loss_t: 0.4264,Loss_v: 0.8205, train_acc_v:99.1892, val_acc_v:47.9348\n"
     ]
    },
    {
     "name": "stderr",
     "output_type": "stream",
     "text": [
      "100%|██████████| 37/37 [00:03<00:00, 10.63batch/s, TrainAccuracyPerBatch_valence=99.2, loss=0.436, totalLoss=0.426]\n",
      "100%|██████████| 10/10 [00:00<00:00, 35.53batch/s]\n"
     ]
    },
    {
     "name": "stdout",
     "output_type": "stream",
     "text": [
      "Epoch [60], Loss_t: 0.4265,Loss_v: 0.8165, train_acc_v:99.1892, val_acc_v:47.5000\n"
     ]
    },
    {
     "name": "stderr",
     "output_type": "stream",
     "text": [
      "100%|██████████| 37/37 [00:03<00:00, 10.66batch/s, TrainAccuracyPerBatch_valence=99.2, loss=0.424, totalLoss=0.426]\n",
      "100%|██████████| 10/10 [00:00<00:00, 35.55batch/s]\n"
     ]
    },
    {
     "name": "stdout",
     "output_type": "stream",
     "text": [
      "Epoch [61], Loss_t: 0.4264,Loss_v: 0.8225, train_acc_v:99.1892, val_acc_v:47.1739\n"
     ]
    },
    {
     "name": "stderr",
     "output_type": "stream",
     "text": [
      "100%|██████████| 37/37 [00:03<00:00, 10.66batch/s, TrainAccuracyPerBatch_valence=99.2, loss=0.424, totalLoss=0.426]\n",
      "100%|██████████| 10/10 [00:00<00:00, 35.35batch/s]\n"
     ]
    },
    {
     "name": "stdout",
     "output_type": "stream",
     "text": [
      "Epoch [62], Loss_t: 0.4264,Loss_v: 0.8039, train_acc_v:99.1892, val_acc_v:47.8261\n"
     ]
    },
    {
     "name": "stderr",
     "output_type": "stream",
     "text": [
      "100%|██████████| 37/37 [00:03<00:00, 10.52batch/s, TrainAccuracyPerBatch_valence=99.2, loss=0.424, totalLoss=0.426]\n",
      "100%|██████████| 10/10 [00:00<00:00, 35.08batch/s]\n"
     ]
    },
    {
     "name": "stdout",
     "output_type": "stream",
     "text": [
      "Epoch [63], Loss_t: 0.4264,Loss_v: 0.8244, train_acc_v:99.1892, val_acc_v:47.6087\n"
     ]
    },
    {
     "name": "stderr",
     "output_type": "stream",
     "text": [
      "100%|██████████| 37/37 [00:03<00:00, 10.63batch/s, TrainAccuracyPerBatch_valence=99.2, loss=0.436, totalLoss=0.426]\n",
      "100%|██████████| 10/10 [00:00<00:00, 35.16batch/s]\n"
     ]
    },
    {
     "name": "stdout",
     "output_type": "stream",
     "text": [
      "Epoch [64], Loss_t: 0.4264,Loss_v: 0.8108, train_acc_v:99.1892, val_acc_v:47.6087\n"
     ]
    },
    {
     "name": "stderr",
     "output_type": "stream",
     "text": [
      "100%|██████████| 37/37 [00:03<00:00, 10.62batch/s, TrainAccuracyPerBatch_valence=99.2, loss=0.424, totalLoss=0.426]\n",
      "100%|██████████| 10/10 [00:00<00:00, 35.49batch/s]\n"
     ]
    },
    {
     "name": "stdout",
     "output_type": "stream",
     "text": [
      "Epoch [65], Loss_t: 0.4263,Loss_v: 0.8099, train_acc_v:99.1892, val_acc_v:47.7174\n"
     ]
    },
    {
     "name": "stderr",
     "output_type": "stream",
     "text": [
      "100%|██████████| 37/37 [00:03<00:00, 10.52batch/s, TrainAccuracyPerBatch_valence=99.2, loss=0.424, totalLoss=0.426]\n",
      "100%|██████████| 10/10 [00:00<00:00, 34.95batch/s]\n"
     ]
    },
    {
     "name": "stdout",
     "output_type": "stream",
     "text": [
      "Epoch [66], Loss_t: 0.4263,Loss_v: 0.8093, train_acc_v:99.1892, val_acc_v:47.3913\n"
     ]
    },
    {
     "name": "stderr",
     "output_type": "stream",
     "text": [
      "100%|██████████| 37/37 [00:03<00:00, 10.44batch/s, TrainAccuracyPerBatch_valence=99.2, loss=0.424, totalLoss=0.426]\n",
      "100%|██████████| 10/10 [00:00<00:00, 32.70batch/s]\n"
     ]
    },
    {
     "name": "stdout",
     "output_type": "stream",
     "text": [
      "Epoch [67], Loss_t: 0.4263,Loss_v: 0.7954, train_acc_v:99.1892, val_acc_v:47.2826\n"
     ]
    },
    {
     "name": "stderr",
     "output_type": "stream",
     "text": [
      "100%|██████████| 37/37 [00:03<00:00, 10.26batch/s, TrainAccuracyPerBatch_valence=99.2, loss=0.424, totalLoss=0.426]\n",
      "100%|██████████| 10/10 [00:00<00:00, 34.32batch/s]\n"
     ]
    },
    {
     "name": "stdout",
     "output_type": "stream",
     "text": [
      "Epoch [68], Loss_t: 0.4263,Loss_v: 0.8156, train_acc_v:99.1892, val_acc_v:47.3913\n"
     ]
    },
    {
     "name": "stderr",
     "output_type": "stream",
     "text": [
      "100%|██████████| 37/37 [00:03<00:00, 10.33batch/s, TrainAccuracyPerBatch_valence=99.2, loss=0.424, totalLoss=0.426]\n",
      "100%|██████████| 10/10 [00:00<00:00, 34.05batch/s]\n"
     ]
    },
    {
     "name": "stdout",
     "output_type": "stream",
     "text": [
      "Epoch [69], Loss_t: 0.4263,Loss_v: 0.8212, train_acc_v:99.1892, val_acc_v:47.7174\n"
     ]
    },
    {
     "name": "stderr",
     "output_type": "stream",
     "text": [
      "100%|██████████| 37/37 [00:03<00:00, 10.30batch/s, TrainAccuracyPerBatch_valence=99.2, loss=0.436, totalLoss=0.426]\n",
      "100%|██████████| 10/10 [00:00<00:00, 34.43batch/s]\n"
     ]
    },
    {
     "name": "stdout",
     "output_type": "stream",
     "text": [
      "Epoch [70], Loss_t: 0.4264,Loss_v: 0.8299, train_acc_v:99.1892, val_acc_v:47.3913\n"
     ]
    },
    {
     "name": "stderr",
     "output_type": "stream",
     "text": [
      "100%|██████████| 37/37 [00:03<00:00, 10.34batch/s, TrainAccuracyPerBatch_valence=99.2, loss=0.424, totalLoss=0.426]\n",
      "100%|██████████| 10/10 [00:00<00:00, 34.22batch/s]\n"
     ]
    },
    {
     "name": "stdout",
     "output_type": "stream",
     "text": [
      "Epoch [71], Loss_t: 0.4263,Loss_v: 0.8276, train_acc_v:99.1892, val_acc_v:47.1739\n"
     ]
    },
    {
     "name": "stderr",
     "output_type": "stream",
     "text": [
      "100%|██████████| 37/37 [00:03<00:00, 10.18batch/s, TrainAccuracyPerBatch_valence=99.2, loss=0.424, totalLoss=0.426]\n",
      "100%|██████████| 10/10 [00:00<00:00, 33.06batch/s]\n"
     ]
    },
    {
     "name": "stdout",
     "output_type": "stream",
     "text": [
      "Epoch [72], Loss_t: 0.4263,Loss_v: 0.8172, train_acc_v:99.1892, val_acc_v:47.5000\n"
     ]
    },
    {
     "name": "stderr",
     "output_type": "stream",
     "text": [
      "100%|██████████| 37/37 [00:03<00:00, 10.12batch/s, TrainAccuracyPerBatch_valence=99.2, loss=0.424, totalLoss=0.426]\n",
      "100%|██████████| 10/10 [00:00<00:00, 31.98batch/s]\n"
     ]
    },
    {
     "name": "stdout",
     "output_type": "stream",
     "text": [
      "Epoch [73], Loss_t: 0.4263,Loss_v: 0.8190, train_acc_v:99.1892, val_acc_v:47.3913\n"
     ]
    },
    {
     "name": "stderr",
     "output_type": "stream",
     "text": [
      "100%|██████████| 37/37 [00:03<00:00, 10.49batch/s, TrainAccuracyPerBatch_valence=99.2, loss=0.424, totalLoss=0.426]\n",
      "100%|██████████| 10/10 [00:00<00:00, 35.46batch/s]\n"
     ]
    },
    {
     "name": "stdout",
     "output_type": "stream",
     "text": [
      "Epoch [74], Loss_t: 0.4262,Loss_v: 0.8235, train_acc_v:99.1892, val_acc_v:47.1739\n"
     ]
    },
    {
     "name": "stderr",
     "output_type": "stream",
     "text": [
      "100%|██████████| 37/37 [00:03<00:00, 10.62batch/s, TrainAccuracyPerBatch_valence=99.2, loss=0.424, totalLoss=0.426]\n",
      "100%|██████████| 10/10 [00:00<00:00, 35.01batch/s]\n"
     ]
    },
    {
     "name": "stdout",
     "output_type": "stream",
     "text": [
      "Epoch [75], Loss_t: 0.4262,Loss_v: 0.8295, train_acc_v:99.1892, val_acc_v:47.7174\n"
     ]
    },
    {
     "name": "stderr",
     "output_type": "stream",
     "text": [
      "100%|██████████| 37/37 [00:03<00:00, 10.61batch/s, TrainAccuracyPerBatch_valence=99.2, loss=0.424, totalLoss=0.426]\n",
      "100%|██████████| 10/10 [00:00<00:00, 35.29batch/s]\n"
     ]
    },
    {
     "name": "stdout",
     "output_type": "stream",
     "text": [
      "Epoch [76], Loss_t: 0.4262,Loss_v: 0.8111, train_acc_v:99.1892, val_acc_v:47.1739\n"
     ]
    },
    {
     "name": "stderr",
     "output_type": "stream",
     "text": [
      "100%|██████████| 37/37 [00:03<00:00, 10.36batch/s, TrainAccuracyPerBatch_valence=99.2, loss=0.423, totalLoss=0.426]\n",
      "100%|██████████| 10/10 [00:00<00:00, 34.71batch/s]\n"
     ]
    },
    {
     "name": "stdout",
     "output_type": "stream",
     "text": [
      "Epoch [77], Loss_t: 0.4262,Loss_v: 0.8265, train_acc_v:99.1892, val_acc_v:47.5000\n"
     ]
    },
    {
     "name": "stderr",
     "output_type": "stream",
     "text": [
      "100%|██████████| 37/37 [00:03<00:00, 10.51batch/s, TrainAccuracyPerBatch_valence=99.2, loss=0.424, totalLoss=0.426]\n",
      "100%|██████████| 10/10 [00:00<00:00, 34.89batch/s]\n"
     ]
    },
    {
     "name": "stdout",
     "output_type": "stream",
     "text": [
      "Epoch [78], Loss_t: 0.4262,Loss_v: 0.8069, train_acc_v:99.1892, val_acc_v:47.7174\n"
     ]
    },
    {
     "name": "stderr",
     "output_type": "stream",
     "text": [
      "100%|██████████| 37/37 [00:03<00:00, 10.37batch/s, TrainAccuracyPerBatch_valence=99.2, loss=0.424, totalLoss=0.426]\n",
      "100%|██████████| 10/10 [00:00<00:00, 33.34batch/s]\n"
     ]
    },
    {
     "name": "stdout",
     "output_type": "stream",
     "text": [
      "Epoch [79], Loss_t: 0.4262,Loss_v: 0.8351, train_acc_v:99.1892, val_acc_v:47.3913\n"
     ]
    },
    {
     "name": "stderr",
     "output_type": "stream",
     "text": [
      "100%|██████████| 37/37 [00:03<00:00, 10.28batch/s, TrainAccuracyPerBatch_valence=99.2, loss=0.436, totalLoss=0.426]\n",
      "100%|██████████| 10/10 [00:00<00:00, 34.68batch/s]\n"
     ]
    },
    {
     "name": "stdout",
     "output_type": "stream",
     "text": [
      "Epoch [80], Loss_t: 0.4263,Loss_v: 0.8181, train_acc_v:99.1892, val_acc_v:47.6087\n"
     ]
    },
    {
     "name": "stderr",
     "output_type": "stream",
     "text": [
      "100%|██████████| 37/37 [00:03<00:00, 10.54batch/s, TrainAccuracyPerBatch_valence=99.2, loss=0.423, totalLoss=0.426]\n",
      "100%|██████████| 10/10 [00:00<00:00, 34.71batch/s]\n"
     ]
    },
    {
     "name": "stdout",
     "output_type": "stream",
     "text": [
      "Epoch [81], Loss_t: 0.4262,Loss_v: 0.8285, train_acc_v:99.1892, val_acc_v:47.6087\n"
     ]
    },
    {
     "name": "stderr",
     "output_type": "stream",
     "text": [
      "100%|██████████| 37/37 [00:03<00:00, 10.27batch/s, TrainAccuracyPerBatch_valence=99.2, loss=0.423, totalLoss=0.426]\n",
      "100%|██████████| 10/10 [00:00<00:00, 33.96batch/s]\n"
     ]
    },
    {
     "name": "stdout",
     "output_type": "stream",
     "text": [
      "Epoch [82], Loss_t: 0.4262,Loss_v: 0.8113, train_acc_v:99.1892, val_acc_v:47.6087\n"
     ]
    },
    {
     "name": "stderr",
     "output_type": "stream",
     "text": [
      "100%|██████████| 37/37 [00:03<00:00, 10.13batch/s, TrainAccuracyPerBatch_valence=99.2, loss=0.423, totalLoss=0.426]\n",
      "100%|██████████| 10/10 [00:00<00:00, 33.42batch/s]\n"
     ]
    },
    {
     "name": "stdout",
     "output_type": "stream",
     "text": [
      "Epoch [83], Loss_t: 0.4262,Loss_v: 0.8060, train_acc_v:99.1892, val_acc_v:47.3913\n"
     ]
    },
    {
     "name": "stderr",
     "output_type": "stream",
     "text": [
      "100%|██████████| 37/37 [00:03<00:00, 10.25batch/s, TrainAccuracyPerBatch_valence=99.2, loss=0.423, totalLoss=0.426]\n",
      "100%|██████████| 10/10 [00:00<00:00, 34.29batch/s]\n"
     ]
    },
    {
     "name": "stdout",
     "output_type": "stream",
     "text": [
      "Epoch [84], Loss_t: 0.4261,Loss_v: 0.8116, train_acc_v:99.1892, val_acc_v:47.0652\n"
     ]
    },
    {
     "name": "stderr",
     "output_type": "stream",
     "text": [
      "100%|██████████| 37/37 [00:03<00:00, 10.30batch/s, TrainAccuracyPerBatch_valence=99.2, loss=0.436, totalLoss=0.426]\n",
      "100%|██████████| 10/10 [00:00<00:00, 34.20batch/s]\n"
     ]
    },
    {
     "name": "stdout",
     "output_type": "stream",
     "text": [
      "Epoch [85], Loss_t: 0.4262,Loss_v: 0.8163, train_acc_v:99.1892, val_acc_v:47.3913\n"
     ]
    },
    {
     "name": "stderr",
     "output_type": "stream",
     "text": [
      "100%|██████████| 37/37 [00:03<00:00, 10.27batch/s, TrainAccuracyPerBatch_valence=99.2, loss=0.423, totalLoss=0.426]\n",
      "100%|██████████| 10/10 [00:00<00:00, 34.06batch/s]\n"
     ]
    },
    {
     "name": "stdout",
     "output_type": "stream",
     "text": [
      "Epoch [86], Loss_t: 0.4261,Loss_v: 0.8234, train_acc_v:99.1892, val_acc_v:47.0652\n"
     ]
    },
    {
     "name": "stderr",
     "output_type": "stream",
     "text": [
      "100%|██████████| 37/37 [00:03<00:00, 10.26batch/s, TrainAccuracyPerBatch_valence=99.2, loss=0.423, totalLoss=0.426]\n",
      "100%|██████████| 10/10 [00:00<00:00, 33.80batch/s]\n"
     ]
    },
    {
     "name": "stdout",
     "output_type": "stream",
     "text": [
      "Epoch [87], Loss_t: 0.4261,Loss_v: 0.8160, train_acc_v:99.1892, val_acc_v:47.1739\n"
     ]
    },
    {
     "name": "stderr",
     "output_type": "stream",
     "text": [
      "100%|██████████| 37/37 [00:03<00:00, 10.21batch/s, TrainAccuracyPerBatch_valence=99.2, loss=0.423, totalLoss=0.426]\n",
      "100%|██████████| 10/10 [00:00<00:00, 33.74batch/s]\n"
     ]
    },
    {
     "name": "stdout",
     "output_type": "stream",
     "text": [
      "Epoch [88], Loss_t: 0.4261,Loss_v: 0.8083, train_acc_v:99.1892, val_acc_v:47.3913\n"
     ]
    },
    {
     "name": "stderr",
     "output_type": "stream",
     "text": [
      "100%|██████████| 37/37 [00:03<00:00, 10.20batch/s, TrainAccuracyPerBatch_valence=99.2, loss=0.423, totalLoss=0.426]\n",
      "100%|██████████| 10/10 [00:00<00:00, 32.57batch/s]\n"
     ]
    },
    {
     "name": "stdout",
     "output_type": "stream",
     "text": [
      "Epoch [89], Loss_t: 0.4261,Loss_v: 0.8132, train_acc_v:99.1892, val_acc_v:47.3913\n"
     ]
    },
    {
     "name": "stderr",
     "output_type": "stream",
     "text": [
      "100%|██████████| 37/37 [00:03<00:00, 10.14batch/s, TrainAccuracyPerBatch_valence=99.2, loss=0.423, totalLoss=0.426]\n",
      "100%|██████████| 10/10 [00:00<00:00, 34.76batch/s]\n"
     ]
    },
    {
     "name": "stdout",
     "output_type": "stream",
     "text": [
      "Epoch [90], Loss_t: 0.4261,Loss_v: 0.8188, train_acc_v:99.1892, val_acc_v:47.6087\n"
     ]
    },
    {
     "name": "stderr",
     "output_type": "stream",
     "text": [
      "100%|██████████| 37/37 [00:03<00:00, 10.15batch/s, TrainAccuracyPerBatch_valence=99.2, loss=0.423, totalLoss=0.426]\n",
      "100%|██████████| 10/10 [00:00<00:00, 32.83batch/s]\n"
     ]
    },
    {
     "name": "stdout",
     "output_type": "stream",
     "text": [
      "Epoch [91], Loss_t: 0.4261,Loss_v: 0.8118, train_acc_v:99.1892, val_acc_v:47.1739\n"
     ]
    },
    {
     "name": "stderr",
     "output_type": "stream",
     "text": [
      "100%|██████████| 37/37 [00:03<00:00, 10.09batch/s, TrainAccuracyPerBatch_valence=99.2, loss=0.423, totalLoss=0.426]\n",
      "100%|██████████| 10/10 [00:00<00:00, 34.32batch/s]\n"
     ]
    },
    {
     "name": "stdout",
     "output_type": "stream",
     "text": [
      "Epoch [92], Loss_t: 0.4261,Loss_v: 0.8203, train_acc_v:99.1892, val_acc_v:47.5000\n"
     ]
    },
    {
     "name": "stderr",
     "output_type": "stream",
     "text": [
      "100%|██████████| 37/37 [00:03<00:00, 10.52batch/s, TrainAccuracyPerBatch_valence=99.2, loss=0.423, totalLoss=0.426]\n",
      "100%|██████████| 10/10 [00:00<00:00, 36.09batch/s]\n"
     ]
    },
    {
     "name": "stdout",
     "output_type": "stream",
     "text": [
      "Epoch [93], Loss_t: 0.4261,Loss_v: 0.8196, train_acc_v:99.1892, val_acc_v:47.3913\n"
     ]
    },
    {
     "name": "stderr",
     "output_type": "stream",
     "text": [
      "100%|██████████| 37/37 [00:03<00:00, 10.93batch/s, TrainAccuracyPerBatch_valence=99.2, loss=0.423, totalLoss=0.426]\n",
      "100%|██████████| 10/10 [00:00<00:00, 36.06batch/s]\n"
     ]
    },
    {
     "name": "stdout",
     "output_type": "stream",
     "text": [
      "Epoch [94], Loss_t: 0.4260,Loss_v: 0.8193, train_acc_v:99.1892, val_acc_v:47.7174\n"
     ]
    },
    {
     "name": "stderr",
     "output_type": "stream",
     "text": [
      "100%|██████████| 37/37 [00:03<00:00, 10.94batch/s, TrainAccuracyPerBatch_valence=99.2, loss=0.423, totalLoss=0.426]\n",
      "100%|██████████| 10/10 [00:00<00:00, 36.35batch/s]\n"
     ]
    },
    {
     "name": "stdout",
     "output_type": "stream",
     "text": [
      "Epoch [95], Loss_t: 0.4260,Loss_v: 0.8116, train_acc_v:99.1892, val_acc_v:47.3913\n"
     ]
    },
    {
     "name": "stderr",
     "output_type": "stream",
     "text": [
      "100%|██████████| 37/37 [00:03<00:00, 10.94batch/s, TrainAccuracyPerBatch_valence=99.2, loss=0.423, totalLoss=0.426]\n",
      "100%|██████████| 10/10 [00:00<00:00, 36.34batch/s]\n"
     ]
    },
    {
     "name": "stdout",
     "output_type": "stream",
     "text": [
      "Epoch [96], Loss_t: 0.4260,Loss_v: 0.8187, train_acc_v:99.1892, val_acc_v:47.2826\n"
     ]
    },
    {
     "name": "stderr",
     "output_type": "stream",
     "text": [
      "100%|██████████| 37/37 [00:03<00:00, 10.94batch/s, TrainAccuracyPerBatch_valence=99.2, loss=0.423, totalLoss=0.426]\n",
      "100%|██████████| 10/10 [00:00<00:00, 36.34batch/s]\n"
     ]
    },
    {
     "name": "stdout",
     "output_type": "stream",
     "text": [
      "Epoch [97], Loss_t: 0.4260,Loss_v: 0.8056, train_acc_v:99.1892, val_acc_v:47.2826\n"
     ]
    },
    {
     "name": "stderr",
     "output_type": "stream",
     "text": [
      "100%|██████████| 37/37 [00:03<00:00, 10.94batch/s, TrainAccuracyPerBatch_valence=99.2, loss=0.436, totalLoss=0.426]\n",
      "100%|██████████| 10/10 [00:00<00:00, 36.15batch/s]\n"
     ]
    },
    {
     "name": "stdout",
     "output_type": "stream",
     "text": [
      "Epoch [98], Loss_t: 0.4261,Loss_v: 0.8072, train_acc_v:99.1892, val_acc_v:47.5000\n"
     ]
    },
    {
     "name": "stderr",
     "output_type": "stream",
     "text": [
      "100%|██████████| 37/37 [00:03<00:00, 10.95batch/s, TrainAccuracyPerBatch_valence=99.2, loss=0.423, totalLoss=0.426]\n",
      "100%|██████████| 10/10 [00:00<00:00, 36.46batch/s]\n"
     ]
    },
    {
     "name": "stdout",
     "output_type": "stream",
     "text": [
      "Epoch [99], Loss_t: 0.4260,Loss_v: 0.8135, train_acc_v:99.1892, val_acc_v:47.5000\n"
     ]
    },
    {
     "name": "stderr",
     "output_type": "stream",
     "text": [
      "100%|██████████| 10/10 [00:00<00:00, 42.67batch/s]\n"
     ]
    },
    {
     "name": "stdout",
     "output_type": "stream",
     "text": [
      "Fold 4 running\n"
     ]
    },
    {
     "name": "stderr",
     "output_type": "stream",
     "text": [
      "100%|██████████| 37/37 [00:03<00:00, 10.97batch/s, TrainAccuracyPerBatch_valence=52.9, loss=0.796, totalLoss=0.799]\n",
      "100%|██████████| 10/10 [00:00<00:00, 36.66batch/s]\n"
     ]
    },
    {
     "name": "stdout",
     "output_type": "stream",
     "text": [
      "Epoch [0], Loss_t: 0.7986,Loss_v: 0.6543, train_acc_v:52.9459, val_acc_v:93.1522\n"
     ]
    },
    {
     "name": "stderr",
     "output_type": "stream",
     "text": [
      "100%|██████████| 37/37 [00:03<00:00, 10.97batch/s, TrainAccuracyPerBatch_valence=56.8, loss=0.746, totalLoss=0.787]\n",
      "100%|██████████| 10/10 [00:00<00:00, 36.11batch/s]\n"
     ]
    },
    {
     "name": "stdout",
     "output_type": "stream",
     "text": [
      "Epoch [1], Loss_t: 0.7871,Loss_v: 0.6989, train_acc_v:56.7568, val_acc_v:35.1087\n"
     ]
    },
    {
     "name": "stderr",
     "output_type": "stream",
     "text": [
      "100%|██████████| 37/37 [00:03<00:00, 10.98batch/s, TrainAccuracyPerBatch_valence=61.8, loss=0.735, totalLoss=0.765]\n",
      "100%|██████████| 10/10 [00:00<00:00, 36.38batch/s]\n"
     ]
    },
    {
     "name": "stdout",
     "output_type": "stream",
     "text": [
      "Epoch [2], Loss_t: 0.7649,Loss_v: 0.7395, train_acc_v:61.8108, val_acc_v:36.0870\n"
     ]
    },
    {
     "name": "stderr",
     "output_type": "stream",
     "text": [
      "100%|██████████| 37/37 [00:03<00:00, 10.95batch/s, TrainAccuracyPerBatch_valence=65.3, loss=0.733, totalLoss=0.747]\n",
      "100%|██████████| 10/10 [00:00<00:00, 36.61batch/s]\n"
     ]
    },
    {
     "name": "stdout",
     "output_type": "stream",
     "text": [
      "Epoch [3], Loss_t: 0.7474,Loss_v: 0.7896, train_acc_v:65.2973, val_acc_v:34.5652\n"
     ]
    },
    {
     "name": "stderr",
     "output_type": "stream",
     "text": [
      "100%|██████████| 37/37 [00:03<00:00, 10.98batch/s, TrainAccuracyPerBatch_valence=68.4, loss=0.706, totalLoss=0.725]\n",
      "100%|██████████| 10/10 [00:00<00:00, 36.59batch/s]\n"
     ]
    },
    {
     "name": "stdout",
     "output_type": "stream",
     "text": [
      "Epoch [4], Loss_t: 0.7252,Loss_v: 0.6283, train_acc_v:68.3784, val_acc_v:66.5217\n"
     ]
    },
    {
     "name": "stderr",
     "output_type": "stream",
     "text": [
      "100%|██████████| 37/37 [00:03<00:00, 10.99batch/s, TrainAccuracyPerBatch_valence=71.3, loss=0.703, totalLoss=0.704]\n",
      "100%|██████████| 10/10 [00:00<00:00, 36.14batch/s]\n"
     ]
    },
    {
     "name": "stdout",
     "output_type": "stream",
     "text": [
      "Epoch [5], Loss_t: 0.7036,Loss_v: 0.7052, train_acc_v:71.2703, val_acc_v:55.2174\n"
     ]
    },
    {
     "name": "stderr",
     "output_type": "stream",
     "text": [
      "100%|██████████| 37/37 [00:03<00:00, 10.99batch/s, TrainAccuracyPerBatch_valence=75.3, loss=0.663, totalLoss=0.678]\n",
      "100%|██████████| 10/10 [00:00<00:00, 36.48batch/s]\n"
     ]
    },
    {
     "name": "stdout",
     "output_type": "stream",
     "text": [
      "Epoch [6], Loss_t: 0.6778,Loss_v: 0.8244, train_acc_v:75.3243, val_acc_v:40.1087\n"
     ]
    },
    {
     "name": "stderr",
     "output_type": "stream",
     "text": [
      "100%|██████████| 37/37 [00:03<00:00, 10.98batch/s, TrainAccuracyPerBatch_valence=77, loss=0.609, totalLoss=0.657]  \n",
      "100%|██████████| 10/10 [00:00<00:00, 36.37batch/s]\n"
     ]
    },
    {
     "name": "stdout",
     "output_type": "stream",
     "text": [
      "Epoch [7], Loss_t: 0.6570,Loss_v: 0.6597, train_acc_v:77.0000, val_acc_v:62.8261\n"
     ]
    },
    {
     "name": "stderr",
     "output_type": "stream",
     "text": [
      "100%|██████████| 37/37 [00:03<00:00, 10.92batch/s, TrainAccuracyPerBatch_valence=78.1, loss=0.673, totalLoss=0.638]\n",
      "100%|██████████| 10/10 [00:00<00:00, 35.18batch/s]\n"
     ]
    },
    {
     "name": "stdout",
     "output_type": "stream",
     "text": [
      "Epoch [8], Loss_t: 0.6384,Loss_v: 0.6801, train_acc_v:78.1351, val_acc_v:61.4130\n"
     ]
    },
    {
     "name": "stderr",
     "output_type": "stream",
     "text": [
      "100%|██████████| 37/37 [00:03<00:00, 10.62batch/s, TrainAccuracyPerBatch_valence=79.8, loss=0.623, totalLoss=0.625]\n",
      "100%|██████████| 10/10 [00:00<00:00, 35.65batch/s]\n"
     ]
    },
    {
     "name": "stdout",
     "output_type": "stream",
     "text": [
      "Epoch [9], Loss_t: 0.6253,Loss_v: 0.6774, train_acc_v:79.7838, val_acc_v:62.3913\n"
     ]
    },
    {
     "name": "stderr",
     "output_type": "stream",
     "text": [
      "100%|██████████| 37/37 [00:03<00:00, 10.76batch/s, TrainAccuracyPerBatch_valence=80.5, loss=0.528, totalLoss=0.616]\n",
      "100%|██████████| 10/10 [00:00<00:00, 35.86batch/s]\n"
     ]
    },
    {
     "name": "stdout",
     "output_type": "stream",
     "text": [
      "Epoch [10], Loss_t: 0.6162,Loss_v: 0.7349, train_acc_v:80.4595, val_acc_v:54.8913\n"
     ]
    },
    {
     "name": "stderr",
     "output_type": "stream",
     "text": [
      "100%|██████████| 37/37 [00:03<00:00, 10.76batch/s, TrainAccuracyPerBatch_valence=83.4, loss=0.565, totalLoss=0.594]\n",
      "100%|██████████| 10/10 [00:00<00:00, 35.82batch/s]\n"
     ]
    },
    {
     "name": "stdout",
     "output_type": "stream",
     "text": [
      "Epoch [11], Loss_t: 0.5937,Loss_v: 0.7279, train_acc_v:83.3514, val_acc_v:57.9348\n"
     ]
    },
    {
     "name": "stderr",
     "output_type": "stream",
     "text": [
      "100%|██████████| 37/37 [00:03<00:00, 10.65batch/s, TrainAccuracyPerBatch_valence=83.8, loss=0.553, totalLoss=0.585]\n",
      "100%|██████████| 10/10 [00:00<00:00, 34.75batch/s]\n"
     ]
    },
    {
     "name": "stdout",
     "output_type": "stream",
     "text": [
      "Epoch [12], Loss_t: 0.5849,Loss_v: 0.7863, train_acc_v:83.7568, val_acc_v:50.1087\n"
     ]
    },
    {
     "name": "stderr",
     "output_type": "stream",
     "text": [
      "100%|██████████| 37/37 [00:03<00:00, 10.63batch/s, TrainAccuracyPerBatch_valence=86.8, loss=0.626, totalLoss=0.564]\n",
      "100%|██████████| 10/10 [00:00<00:00, 35.48batch/s]\n"
     ]
    },
    {
     "name": "stdout",
     "output_type": "stream",
     "text": [
      "Epoch [13], Loss_t: 0.5636,Loss_v: 0.7639, train_acc_v:86.8108, val_acc_v:53.0435\n"
     ]
    },
    {
     "name": "stderr",
     "output_type": "stream",
     "text": [
      "100%|██████████| 37/37 [00:03<00:00, 10.66batch/s, TrainAccuracyPerBatch_valence=87.6, loss=0.557, totalLoss=0.552]\n",
      "100%|██████████| 10/10 [00:00<00:00, 35.18batch/s]\n"
     ]
    },
    {
     "name": "stdout",
     "output_type": "stream",
     "text": [
      "Epoch [14], Loss_t: 0.5523,Loss_v: 0.6891, train_acc_v:87.6486, val_acc_v:60.7609\n"
     ]
    },
    {
     "name": "stderr",
     "output_type": "stream",
     "text": [
      "100%|██████████| 37/37 [00:03<00:00, 10.69batch/s, TrainAccuracyPerBatch_valence=89.4, loss=0.57, totalLoss=0.537] \n",
      "100%|██████████| 10/10 [00:00<00:00, 36.45batch/s]\n"
     ]
    },
    {
     "name": "stdout",
     "output_type": "stream",
     "text": [
      "Epoch [15], Loss_t: 0.5368,Loss_v: 0.8675, train_acc_v:89.3514, val_acc_v:40.0000\n"
     ]
    },
    {
     "name": "stderr",
     "output_type": "stream",
     "text": [
      "100%|██████████| 37/37 [00:03<00:00, 10.53batch/s, TrainAccuracyPerBatch_valence=90.9, loss=0.559, totalLoss=0.52] \n",
      "100%|██████████| 10/10 [00:00<00:00, 35.10batch/s]\n"
     ]
    },
    {
     "name": "stdout",
     "output_type": "stream",
     "text": [
      "Epoch [16], Loss_t: 0.5201,Loss_v: 0.6971, train_acc_v:90.9459, val_acc_v:58.6957\n"
     ]
    },
    {
     "name": "stderr",
     "output_type": "stream",
     "text": [
      "100%|██████████| 37/37 [00:03<00:00, 10.57batch/s, TrainAccuracyPerBatch_valence=92.2, loss=0.486, totalLoss=0.507]\n",
      "100%|██████████| 10/10 [00:00<00:00, 35.12batch/s]\n"
     ]
    },
    {
     "name": "stdout",
     "output_type": "stream",
     "text": [
      "Epoch [17], Loss_t: 0.5068,Loss_v: 0.8262, train_acc_v:92.1622, val_acc_v:46.1957\n"
     ]
    },
    {
     "name": "stderr",
     "output_type": "stream",
     "text": [
      "100%|██████████| 37/37 [00:03<00:00, 10.61batch/s, TrainAccuracyPerBatch_valence=93.1, loss=0.489, totalLoss=0.499]\n",
      "100%|██████████| 10/10 [00:00<00:00, 35.30batch/s]\n"
     ]
    },
    {
     "name": "stdout",
     "output_type": "stream",
     "text": [
      "Epoch [18], Loss_t: 0.4990,Loss_v: 0.7631, train_acc_v:93.0811, val_acc_v:51.6304\n"
     ]
    },
    {
     "name": "stderr",
     "output_type": "stream",
     "text": [
      "100%|██████████| 37/37 [00:03<00:00, 10.67batch/s, TrainAccuracyPerBatch_valence=95.1, loss=0.459, totalLoss=0.48] \n",
      "100%|██████████| 10/10 [00:00<00:00, 35.46batch/s]\n"
     ]
    },
    {
     "name": "stdout",
     "output_type": "stream",
     "text": [
      "Epoch [19], Loss_t: 0.4801,Loss_v: 0.7369, train_acc_v:95.0811, val_acc_v:55.7609\n"
     ]
    },
    {
     "name": "stderr",
     "output_type": "stream",
     "text": [
      "100%|██████████| 37/37 [00:03<00:00, 10.65batch/s, TrainAccuracyPerBatch_valence=95.4, loss=0.447, totalLoss=0.475]\n",
      "100%|██████████| 10/10 [00:00<00:00, 35.65batch/s]\n"
     ]
    },
    {
     "name": "stdout",
     "output_type": "stream",
     "text": [
      "Epoch [20], Loss_t: 0.4746,Loss_v: 0.7089, train_acc_v:95.3784, val_acc_v:57.3913\n"
     ]
    },
    {
     "name": "stderr",
     "output_type": "stream",
     "text": [
      "100%|██████████| 37/37 [00:03<00:00, 10.52batch/s, TrainAccuracyPerBatch_valence=96.2, loss=0.469, totalLoss=0.464]\n",
      "100%|██████████| 10/10 [00:00<00:00, 36.17batch/s]\n"
     ]
    },
    {
     "name": "stdout",
     "output_type": "stream",
     "text": [
      "Epoch [21], Loss_t: 0.4635,Loss_v: 0.7906, train_acc_v:96.2432, val_acc_v:50.6522\n"
     ]
    },
    {
     "name": "stderr",
     "output_type": "stream",
     "text": [
      "100%|██████████| 37/37 [00:03<00:00, 10.91batch/s, TrainAccuracyPerBatch_valence=97.3, loss=0.452, totalLoss=0.453]\n",
      "100%|██████████| 10/10 [00:00<00:00, 36.10batch/s]\n"
     ]
    },
    {
     "name": "stdout",
     "output_type": "stream",
     "text": [
      "Epoch [22], Loss_t: 0.4528,Loss_v: 0.7686, train_acc_v:97.2973, val_acc_v:50.9783\n"
     ]
    },
    {
     "name": "stderr",
     "output_type": "stream",
     "text": [
      "100%|██████████| 37/37 [00:03<00:00, 10.93batch/s, TrainAccuracyPerBatch_valence=98.1, loss=0.462, totalLoss=0.445]\n",
      "100%|██████████| 10/10 [00:00<00:00, 35.42batch/s]\n"
     ]
    },
    {
     "name": "stdout",
     "output_type": "stream",
     "text": [
      "Epoch [23], Loss_t: 0.4451,Loss_v: 0.8073, train_acc_v:98.1351, val_acc_v:48.8043\n"
     ]
    },
    {
     "name": "stderr",
     "output_type": "stream",
     "text": [
      "100%|██████████| 37/37 [00:03<00:00, 10.64batch/s, TrainAccuracyPerBatch_valence=98.3, loss=0.446, totalLoss=0.441]\n",
      "100%|██████████| 10/10 [00:00<00:00, 35.00batch/s]\n"
     ]
    },
    {
     "name": "stdout",
     "output_type": "stream",
     "text": [
      "Epoch [24], Loss_t: 0.4407,Loss_v: 0.7831, train_acc_v:98.3243, val_acc_v:50.5435\n"
     ]
    },
    {
     "name": "stderr",
     "output_type": "stream",
     "text": [
      "100%|██████████| 37/37 [00:03<00:00, 10.63batch/s, TrainAccuracyPerBatch_valence=98.8, loss=0.426, totalLoss=0.436]\n",
      "100%|██████████| 10/10 [00:00<00:00, 34.20batch/s]\n"
     ]
    },
    {
     "name": "stdout",
     "output_type": "stream",
     "text": [
      "Epoch [25], Loss_t: 0.4359,Loss_v: 0.7836, train_acc_v:98.8378, val_acc_v:51.4130\n"
     ]
    },
    {
     "name": "stderr",
     "output_type": "stream",
     "text": [
      "100%|██████████| 37/37 [00:03<00:00, 10.55batch/s, TrainAccuracyPerBatch_valence=98.7, loss=0.428, totalLoss=0.436]\n",
      "100%|██████████| 10/10 [00:00<00:00, 34.89batch/s]\n"
     ]
    },
    {
     "name": "stdout",
     "output_type": "stream",
     "text": [
      "Epoch [26], Loss_t: 0.4362,Loss_v: 0.8241, train_acc_v:98.7297, val_acc_v:47.7174\n"
     ]
    },
    {
     "name": "stderr",
     "output_type": "stream",
     "text": [
      "100%|██████████| 37/37 [00:03<00:00, 10.55batch/s, TrainAccuracyPerBatch_valence=99, loss=0.428, totalLoss=0.431]  \n",
      "100%|██████████| 10/10 [00:00<00:00, 33.78batch/s]\n"
     ]
    },
    {
     "name": "stdout",
     "output_type": "stream",
     "text": [
      "Epoch [27], Loss_t: 0.4315,Loss_v: 0.8047, train_acc_v:99.0270, val_acc_v:50.0000\n"
     ]
    },
    {
     "name": "stderr",
     "output_type": "stream",
     "text": [
      "100%|██████████| 37/37 [00:03<00:00, 10.51batch/s, TrainAccuracyPerBatch_valence=99.1, loss=0.426, totalLoss=0.429]\n",
      "100%|██████████| 10/10 [00:00<00:00, 36.15batch/s]\n"
     ]
    },
    {
     "name": "stdout",
     "output_type": "stream",
     "text": [
      "Epoch [28], Loss_t: 0.4293,Loss_v: 0.8242, train_acc_v:99.1081, val_acc_v:47.3913\n"
     ]
    },
    {
     "name": "stderr",
     "output_type": "stream",
     "text": [
      "100%|██████████| 37/37 [00:03<00:00, 10.36batch/s, TrainAccuracyPerBatch_valence=99.1, loss=0.425, totalLoss=0.429]\n",
      "100%|██████████| 10/10 [00:00<00:00, 34.02batch/s]\n"
     ]
    },
    {
     "name": "stdout",
     "output_type": "stream",
     "text": [
      "Epoch [29], Loss_t: 0.4287,Loss_v: 0.8046, train_acc_v:99.1351, val_acc_v:48.3696\n"
     ]
    },
    {
     "name": "stderr",
     "output_type": "stream",
     "text": [
      "100%|██████████| 37/37 [00:03<00:00, 10.51batch/s, TrainAccuracyPerBatch_valence=99.2, loss=0.426, totalLoss=0.428]\n",
      "100%|██████████| 10/10 [00:00<00:00, 36.14batch/s]\n"
     ]
    },
    {
     "name": "stdout",
     "output_type": "stream",
     "text": [
      "Epoch [30], Loss_t: 0.4280,Loss_v: 0.7861, train_acc_v:99.1892, val_acc_v:50.8696\n"
     ]
    },
    {
     "name": "stderr",
     "output_type": "stream",
     "text": [
      "100%|██████████| 37/37 [00:03<00:00, 10.38batch/s, TrainAccuracyPerBatch_valence=99.2, loss=0.437, totalLoss=0.427]\n",
      "100%|██████████| 10/10 [00:00<00:00, 33.24batch/s]\n"
     ]
    },
    {
     "name": "stdout",
     "output_type": "stream",
     "text": [
      "Epoch [31], Loss_t: 0.4273,Loss_v: 0.7766, train_acc_v:99.2432, val_acc_v:52.0652\n"
     ]
    },
    {
     "name": "stderr",
     "output_type": "stream",
     "text": [
      "100%|██████████| 37/37 [00:03<00:00, 10.22batch/s, TrainAccuracyPerBatch_valence=99.2, loss=0.437, totalLoss=0.427]\n",
      "100%|██████████| 10/10 [00:00<00:00, 35.81batch/s]\n"
     ]
    },
    {
     "name": "stdout",
     "output_type": "stream",
     "text": [
      "Epoch [32], Loss_t: 0.4271,Loss_v: 0.8014, train_acc_v:99.2432, val_acc_v:49.0217\n"
     ]
    },
    {
     "name": "stderr",
     "output_type": "stream",
     "text": [
      "100%|██████████| 37/37 [00:03<00:00, 10.76batch/s, TrainAccuracyPerBatch_valence=99.2, loss=0.437, totalLoss=0.427]\n",
      "100%|██████████| 10/10 [00:00<00:00, 35.58batch/s]\n"
     ]
    },
    {
     "name": "stdout",
     "output_type": "stream",
     "text": [
      "Epoch [33], Loss_t: 0.4269,Loss_v: 0.7651, train_acc_v:99.2432, val_acc_v:52.8261\n"
     ]
    },
    {
     "name": "stderr",
     "output_type": "stream",
     "text": [
      "100%|██████████| 37/37 [00:03<00:00, 10.43batch/s, TrainAccuracyPerBatch_valence=99.2, loss=0.425, totalLoss=0.427]\n",
      "100%|██████████| 10/10 [00:00<00:00, 35.60batch/s]\n"
     ]
    },
    {
     "name": "stdout",
     "output_type": "stream",
     "text": [
      "Epoch [34], Loss_t: 0.4267,Loss_v: 0.7729, train_acc_v:99.2432, val_acc_v:51.7391\n"
     ]
    },
    {
     "name": "stderr",
     "output_type": "stream",
     "text": [
      "100%|██████████| 37/37 [00:03<00:00, 10.36batch/s, TrainAccuracyPerBatch_valence=99.2, loss=0.425, totalLoss=0.427]\n",
      "100%|██████████| 10/10 [00:00<00:00, 34.58batch/s]\n"
     ]
    },
    {
     "name": "stdout",
     "output_type": "stream",
     "text": [
      "Epoch [35], Loss_t: 0.4266,Loss_v: 0.7983, train_acc_v:99.2432, val_acc_v:50.2174\n"
     ]
    },
    {
     "name": "stderr",
     "output_type": "stream",
     "text": [
      "100%|██████████| 37/37 [00:03<00:00, 10.05batch/s, TrainAccuracyPerBatch_valence=99.2, loss=0.437, totalLoss=0.427]\n",
      "100%|██████████| 10/10 [00:00<00:00, 34.44batch/s]\n"
     ]
    },
    {
     "name": "stdout",
     "output_type": "stream",
     "text": [
      "Epoch [36], Loss_t: 0.4266,Loss_v: 0.7942, train_acc_v:99.2432, val_acc_v:51.1957\n"
     ]
    },
    {
     "name": "stderr",
     "output_type": "stream",
     "text": [
      "100%|██████████| 37/37 [00:03<00:00, 10.43batch/s, TrainAccuracyPerBatch_valence=99.2, loss=0.424, totalLoss=0.427]\n",
      "100%|██████████| 10/10 [00:00<00:00, 34.66batch/s]\n"
     ]
    },
    {
     "name": "stdout",
     "output_type": "stream",
     "text": [
      "Epoch [37], Loss_t: 0.4265,Loss_v: 0.7761, train_acc_v:99.2432, val_acc_v:52.0652\n"
     ]
    },
    {
     "name": "stderr",
     "output_type": "stream",
     "text": [
      "100%|██████████| 37/37 [00:03<00:00, 10.17batch/s, TrainAccuracyPerBatch_valence=99.2, loss=0.424, totalLoss=0.426]\n",
      "100%|██████████| 10/10 [00:00<00:00, 32.70batch/s]\n"
     ]
    },
    {
     "name": "stdout",
     "output_type": "stream",
     "text": [
      "Epoch [38], Loss_t: 0.4265,Loss_v: 0.7814, train_acc_v:99.2432, val_acc_v:50.1087\n"
     ]
    },
    {
     "name": "stderr",
     "output_type": "stream",
     "text": [
      "100%|██████████| 37/37 [00:03<00:00, 10.33batch/s, TrainAccuracyPerBatch_valence=99.2, loss=0.424, totalLoss=0.426]\n",
      "100%|██████████| 10/10 [00:00<00:00, 34.71batch/s]\n"
     ]
    },
    {
     "name": "stdout",
     "output_type": "stream",
     "text": [
      "Epoch [39], Loss_t: 0.4265,Loss_v: 0.7746, train_acc_v:99.2432, val_acc_v:51.9565\n"
     ]
    },
    {
     "name": "stderr",
     "output_type": "stream",
     "text": [
      "100%|██████████| 37/37 [00:03<00:00, 10.38batch/s, TrainAccuracyPerBatch_valence=99.2, loss=0.424, totalLoss=0.426]\n",
      "100%|██████████| 10/10 [00:00<00:00, 34.29batch/s]\n"
     ]
    },
    {
     "name": "stdout",
     "output_type": "stream",
     "text": [
      "Epoch [40], Loss_t: 0.4264,Loss_v: 0.7947, train_acc_v:99.2432, val_acc_v:50.2174\n"
     ]
    },
    {
     "name": "stderr",
     "output_type": "stream",
     "text": [
      "100%|██████████| 37/37 [00:03<00:00, 10.37batch/s, TrainAccuracyPerBatch_valence=99.2, loss=0.424, totalLoss=0.426]\n",
      "100%|██████████| 10/10 [00:00<00:00, 34.36batch/s]\n"
     ]
    },
    {
     "name": "stdout",
     "output_type": "stream",
     "text": [
      "Epoch [41], Loss_t: 0.4264,Loss_v: 0.7758, train_acc_v:99.2432, val_acc_v:50.4348\n"
     ]
    },
    {
     "name": "stderr",
     "output_type": "stream",
     "text": [
      "100%|██████████| 37/37 [00:03<00:00, 10.37batch/s, TrainAccuracyPerBatch_valence=99.2, loss=0.424, totalLoss=0.426]\n",
      "100%|██████████| 10/10 [00:00<00:00, 33.83batch/s]\n"
     ]
    },
    {
     "name": "stdout",
     "output_type": "stream",
     "text": [
      "Epoch [42], Loss_t: 0.4265,Loss_v: 0.7780, train_acc_v:99.2432, val_acc_v:53.4783\n"
     ]
    },
    {
     "name": "stderr",
     "output_type": "stream",
     "text": [
      "100%|██████████| 37/37 [00:03<00:00, 10.30batch/s, TrainAccuracyPerBatch_valence=99.2, loss=0.424, totalLoss=0.426]\n",
      "100%|██████████| 10/10 [00:00<00:00, 33.87batch/s]\n"
     ]
    },
    {
     "name": "stdout",
     "output_type": "stream",
     "text": [
      "Epoch [43], Loss_t: 0.4264,Loss_v: 0.7864, train_acc_v:99.2432, val_acc_v:50.5435\n"
     ]
    },
    {
     "name": "stderr",
     "output_type": "stream",
     "text": [
      "100%|██████████| 37/37 [00:03<00:00, 10.29batch/s, TrainAccuracyPerBatch_valence=99.2, loss=0.424, totalLoss=0.426]\n",
      "100%|██████████| 10/10 [00:00<00:00, 33.55batch/s]\n"
     ]
    },
    {
     "name": "stdout",
     "output_type": "stream",
     "text": [
      "Epoch [44], Loss_t: 0.4263,Loss_v: 0.7876, train_acc_v:99.2432, val_acc_v:49.8913\n"
     ]
    },
    {
     "name": "stderr",
     "output_type": "stream",
     "text": [
      "100%|██████████| 37/37 [00:03<00:00, 10.29batch/s, TrainAccuracyPerBatch_valence=99.2, loss=0.424, totalLoss=0.426]\n",
      "100%|██████████| 10/10 [00:00<00:00, 34.39batch/s]\n"
     ]
    },
    {
     "name": "stdout",
     "output_type": "stream",
     "text": [
      "Epoch [45], Loss_t: 0.4263,Loss_v: 0.7827, train_acc_v:99.2432, val_acc_v:51.3043\n"
     ]
    },
    {
     "name": "stderr",
     "output_type": "stream",
     "text": [
      "100%|██████████| 37/37 [00:03<00:00, 10.31batch/s, TrainAccuracyPerBatch_valence=99.2, loss=0.424, totalLoss=0.426]\n",
      "100%|██████████| 10/10 [00:00<00:00, 34.10batch/s]\n"
     ]
    },
    {
     "name": "stdout",
     "output_type": "stream",
     "text": [
      "Epoch [46], Loss_t: 0.4263,Loss_v: 0.7881, train_acc_v:99.2432, val_acc_v:51.0870\n"
     ]
    },
    {
     "name": "stderr",
     "output_type": "stream",
     "text": [
      "100%|██████████| 37/37 [00:03<00:00, 10.19batch/s, TrainAccuracyPerBatch_valence=99.2, loss=0.424, totalLoss=0.426]\n",
      "100%|██████████| 10/10 [00:00<00:00, 32.24batch/s]\n"
     ]
    },
    {
     "name": "stdout",
     "output_type": "stream",
     "text": [
      "Epoch [47], Loss_t: 0.4263,Loss_v: 0.7783, train_acc_v:99.2432, val_acc_v:51.9565\n"
     ]
    },
    {
     "name": "stderr",
     "output_type": "stream",
     "text": [
      "100%|██████████| 37/37 [00:03<00:00,  9.80batch/s, TrainAccuracyPerBatch_valence=99.2, loss=0.424, totalLoss=0.426]\n",
      "100%|██████████| 10/10 [00:00<00:00, 32.87batch/s]\n"
     ]
    },
    {
     "name": "stdout",
     "output_type": "stream",
     "text": [
      "Epoch [48], Loss_t: 0.4263,Loss_v: 0.7922, train_acc_v:99.2432, val_acc_v:50.8696\n"
     ]
    },
    {
     "name": "stderr",
     "output_type": "stream",
     "text": [
      "100%|██████████| 37/37 [00:03<00:00,  9.81batch/s, TrainAccuracyPerBatch_valence=99.2, loss=0.437, totalLoss=0.426]\n",
      "100%|██████████| 10/10 [00:00<00:00, 32.49batch/s]\n"
     ]
    },
    {
     "name": "stdout",
     "output_type": "stream",
     "text": [
      "Epoch [49], Loss_t: 0.4263,Loss_v: 0.7872, train_acc_v:99.2432, val_acc_v:50.6522\n"
     ]
    },
    {
     "name": "stderr",
     "output_type": "stream",
     "text": [
      "100%|██████████| 37/37 [00:03<00:00,  9.88batch/s, TrainAccuracyPerBatch_valence=99.2, loss=0.449, totalLoss=0.426]\n",
      "100%|██████████| 10/10 [00:00<00:00, 32.74batch/s]\n"
     ]
    },
    {
     "name": "stdout",
     "output_type": "stream",
     "text": [
      "Epoch [50], Loss_t: 0.4264,Loss_v: 0.7954, train_acc_v:99.2432, val_acc_v:50.6522\n"
     ]
    },
    {
     "name": "stderr",
     "output_type": "stream",
     "text": [
      "100%|██████████| 37/37 [00:03<00:00,  9.88batch/s, TrainAccuracyPerBatch_valence=99.2, loss=0.424, totalLoss=0.426]\n",
      "100%|██████████| 10/10 [00:00<00:00, 32.98batch/s]\n"
     ]
    },
    {
     "name": "stdout",
     "output_type": "stream",
     "text": [
      "Epoch [51], Loss_t: 0.4262,Loss_v: 0.7703, train_acc_v:99.2432, val_acc_v:51.3043\n"
     ]
    },
    {
     "name": "stderr",
     "output_type": "stream",
     "text": [
      "100%|██████████| 37/37 [00:03<00:00,  9.87batch/s, TrainAccuracyPerBatch_valence=99.2, loss=0.424, totalLoss=0.426]\n",
      "100%|██████████| 10/10 [00:00<00:00, 33.27batch/s]\n"
     ]
    },
    {
     "name": "stdout",
     "output_type": "stream",
     "text": [
      "Epoch [52], Loss_t: 0.4262,Loss_v: 0.7846, train_acc_v:99.2432, val_acc_v:50.9783\n"
     ]
    },
    {
     "name": "stderr",
     "output_type": "stream",
     "text": [
      "100%|██████████| 37/37 [00:03<00:00,  9.85batch/s, TrainAccuracyPerBatch_valence=99.2, loss=0.424, totalLoss=0.426]\n",
      "100%|██████████| 10/10 [00:00<00:00, 32.49batch/s]\n"
     ]
    },
    {
     "name": "stdout",
     "output_type": "stream",
     "text": [
      "Epoch [53], Loss_t: 0.4262,Loss_v: 0.8029, train_acc_v:99.2432, val_acc_v:51.0870\n"
     ]
    },
    {
     "name": "stderr",
     "output_type": "stream",
     "text": [
      "100%|██████████| 37/37 [00:03<00:00,  9.86batch/s, TrainAccuracyPerBatch_valence=99.2, loss=0.424, totalLoss=0.426]\n",
      "100%|██████████| 10/10 [00:00<00:00, 32.44batch/s]\n"
     ]
    },
    {
     "name": "stdout",
     "output_type": "stream",
     "text": [
      "Epoch [54], Loss_t: 0.4262,Loss_v: 0.7928, train_acc_v:99.2432, val_acc_v:50.3261\n"
     ]
    },
    {
     "name": "stderr",
     "output_type": "stream",
     "text": [
      "100%|██████████| 37/37 [00:03<00:00,  9.88batch/s, TrainAccuracyPerBatch_valence=99.2, loss=0.424, totalLoss=0.426]\n",
      "100%|██████████| 10/10 [00:00<00:00, 32.51batch/s]\n"
     ]
    },
    {
     "name": "stdout",
     "output_type": "stream",
     "text": [
      "Epoch [55], Loss_t: 0.4261,Loss_v: 0.7932, train_acc_v:99.2432, val_acc_v:50.7609\n"
     ]
    },
    {
     "name": "stderr",
     "output_type": "stream",
     "text": [
      "100%|██████████| 37/37 [00:03<00:00,  9.94batch/s, TrainAccuracyPerBatch_valence=99.2, loss=0.424, totalLoss=0.426]\n",
      "100%|██████████| 10/10 [00:00<00:00, 32.40batch/s]\n"
     ]
    },
    {
     "name": "stdout",
     "output_type": "stream",
     "text": [
      "Epoch [56], Loss_t: 0.4261,Loss_v: 0.7969, train_acc_v:99.2432, val_acc_v:50.4348\n"
     ]
    },
    {
     "name": "stderr",
     "output_type": "stream",
     "text": [
      "100%|██████████| 37/37 [00:03<00:00,  9.90batch/s, TrainAccuracyPerBatch_valence=99.2, loss=0.424, totalLoss=0.426]\n",
      "100%|██████████| 10/10 [00:00<00:00, 32.75batch/s]\n"
     ]
    },
    {
     "name": "stdout",
     "output_type": "stream",
     "text": [
      "Epoch [57], Loss_t: 0.4261,Loss_v: 0.8008, train_acc_v:99.2432, val_acc_v:51.8478\n"
     ]
    },
    {
     "name": "stderr",
     "output_type": "stream",
     "text": [
      "100%|██████████| 37/37 [00:03<00:00,  9.88batch/s, TrainAccuracyPerBatch_valence=99.2, loss=0.424, totalLoss=0.426]\n",
      "100%|██████████| 10/10 [00:00<00:00, 32.57batch/s]\n"
     ]
    },
    {
     "name": "stdout",
     "output_type": "stream",
     "text": [
      "Epoch [58], Loss_t: 0.4261,Loss_v: 0.8032, train_acc_v:99.2432, val_acc_v:50.2174\n"
     ]
    },
    {
     "name": "stderr",
     "output_type": "stream",
     "text": [
      "100%|██████████| 37/37 [00:03<00:00,  9.87batch/s, TrainAccuracyPerBatch_valence=99.2, loss=0.436, totalLoss=0.426]\n",
      "100%|██████████| 10/10 [00:00<00:00, 32.58batch/s]\n"
     ]
    },
    {
     "name": "stdout",
     "output_type": "stream",
     "text": [
      "Epoch [59], Loss_t: 0.4262,Loss_v: 0.7911, train_acc_v:99.2432, val_acc_v:50.7609\n"
     ]
    },
    {
     "name": "stderr",
     "output_type": "stream",
     "text": [
      "100%|██████████| 37/37 [00:03<00:00,  9.85batch/s, TrainAccuracyPerBatch_valence=99.2, loss=0.424, totalLoss=0.426]\n",
      "100%|██████████| 10/10 [00:00<00:00, 33.07batch/s]\n"
     ]
    },
    {
     "name": "stdout",
     "output_type": "stream",
     "text": [
      "Epoch [60], Loss_t: 0.4261,Loss_v: 0.7954, train_acc_v:99.2432, val_acc_v:50.6522\n"
     ]
    },
    {
     "name": "stderr",
     "output_type": "stream",
     "text": [
      "100%|██████████| 37/37 [00:03<00:00,  9.90batch/s, TrainAccuracyPerBatch_valence=99.2, loss=0.424, totalLoss=0.426]\n",
      "100%|██████████| 10/10 [00:00<00:00, 32.55batch/s]\n"
     ]
    },
    {
     "name": "stdout",
     "output_type": "stream",
     "text": [
      "Epoch [61], Loss_t: 0.4261,Loss_v: 0.7958, train_acc_v:99.2432, val_acc_v:50.5435\n"
     ]
    },
    {
     "name": "stderr",
     "output_type": "stream",
     "text": [
      "100%|██████████| 37/37 [00:03<00:00,  9.86batch/s, TrainAccuracyPerBatch_valence=99.2, loss=0.424, totalLoss=0.426]\n",
      "100%|██████████| 10/10 [00:00<00:00, 32.83batch/s]\n"
     ]
    },
    {
     "name": "stdout",
     "output_type": "stream",
     "text": [
      "Epoch [62], Loss_t: 0.4261,Loss_v: 0.7915, train_acc_v:99.2432, val_acc_v:50.5435\n"
     ]
    },
    {
     "name": "stderr",
     "output_type": "stream",
     "text": [
      "100%|██████████| 37/37 [00:03<00:00,  9.88batch/s, TrainAccuracyPerBatch_valence=99.2, loss=0.424, totalLoss=0.426]\n",
      "100%|██████████| 10/10 [00:00<00:00, 32.83batch/s]\n"
     ]
    },
    {
     "name": "stdout",
     "output_type": "stream",
     "text": [
      "Epoch [63], Loss_t: 0.4261,Loss_v: 0.7814, train_acc_v:99.2432, val_acc_v:51.7391\n"
     ]
    },
    {
     "name": "stderr",
     "output_type": "stream",
     "text": [
      "100%|██████████| 37/37 [00:03<00:00,  9.94batch/s, TrainAccuracyPerBatch_valence=99.2, loss=0.424, totalLoss=0.426]\n",
      "100%|██████████| 10/10 [00:00<00:00, 33.00batch/s]\n"
     ]
    },
    {
     "name": "stdout",
     "output_type": "stream",
     "text": [
      "Epoch [64], Loss_t: 0.4260,Loss_v: 0.7822, train_acc_v:99.2432, val_acc_v:51.5217\n"
     ]
    },
    {
     "name": "stderr",
     "output_type": "stream",
     "text": [
      "100%|██████████| 37/37 [00:03<00:00, 10.01batch/s, TrainAccuracyPerBatch_valence=99.2, loss=0.424, totalLoss=0.426]\n",
      "100%|██████████| 10/10 [00:00<00:00, 33.13batch/s]\n"
     ]
    },
    {
     "name": "stdout",
     "output_type": "stream",
     "text": [
      "Epoch [65], Loss_t: 0.4260,Loss_v: 0.7926, train_acc_v:99.2432, val_acc_v:50.9783\n"
     ]
    },
    {
     "name": "stderr",
     "output_type": "stream",
     "text": [
      "100%|██████████| 37/37 [00:03<00:00,  9.95batch/s, TrainAccuracyPerBatch_valence=99.2, loss=0.424, totalLoss=0.426]\n",
      "100%|██████████| 10/10 [00:00<00:00, 32.91batch/s]\n"
     ]
    },
    {
     "name": "stdout",
     "output_type": "stream",
     "text": [
      "Epoch [66], Loss_t: 0.4260,Loss_v: 0.7954, train_acc_v:99.2432, val_acc_v:50.3261\n"
     ]
    },
    {
     "name": "stderr",
     "output_type": "stream",
     "text": [
      "100%|██████████| 37/37 [00:03<00:00,  9.87batch/s, TrainAccuracyPerBatch_valence=99.2, loss=0.436, totalLoss=0.426]\n",
      "100%|██████████| 10/10 [00:00<00:00, 32.60batch/s]\n"
     ]
    },
    {
     "name": "stdout",
     "output_type": "stream",
     "text": [
      "Epoch [67], Loss_t: 0.4261,Loss_v: 0.7863, train_acc_v:99.2432, val_acc_v:51.4130\n"
     ]
    },
    {
     "name": "stderr",
     "output_type": "stream",
     "text": [
      "100%|██████████| 37/37 [00:03<00:00,  9.90batch/s, TrainAccuracyPerBatch_valence=99.2, loss=0.424, totalLoss=0.426]\n",
      "100%|██████████| 10/10 [00:00<00:00, 33.01batch/s]\n"
     ]
    },
    {
     "name": "stdout",
     "output_type": "stream",
     "text": [
      "Epoch [68], Loss_t: 0.4260,Loss_v: 0.7778, train_acc_v:99.2432, val_acc_v:51.1957\n"
     ]
    },
    {
     "name": "stderr",
     "output_type": "stream",
     "text": [
      "100%|██████████| 37/37 [00:03<00:00,  9.84batch/s, TrainAccuracyPerBatch_valence=99.2, loss=0.424, totalLoss=0.426]\n",
      "100%|██████████| 10/10 [00:00<00:00, 32.60batch/s]\n"
     ]
    },
    {
     "name": "stdout",
     "output_type": "stream",
     "text": [
      "Epoch [69], Loss_t: 0.4260,Loss_v: 0.7777, train_acc_v:99.2432, val_acc_v:51.3043\n"
     ]
    },
    {
     "name": "stderr",
     "output_type": "stream",
     "text": [
      "100%|██████████| 37/37 [00:03<00:00, 10.01batch/s, TrainAccuracyPerBatch_valence=99.2, loss=0.424, totalLoss=0.426]\n",
      "100%|██████████| 10/10 [00:00<00:00, 33.45batch/s]\n"
     ]
    },
    {
     "name": "stdout",
     "output_type": "stream",
     "text": [
      "Epoch [70], Loss_t: 0.4260,Loss_v: 0.7859, train_acc_v:99.2432, val_acc_v:51.0870\n"
     ]
    },
    {
     "name": "stderr",
     "output_type": "stream",
     "text": [
      "100%|██████████| 37/37 [00:03<00:00,  9.80batch/s, TrainAccuracyPerBatch_valence=99.2, loss=0.424, totalLoss=0.426]\n",
      "100%|██████████| 10/10 [00:00<00:00, 32.63batch/s]\n"
     ]
    },
    {
     "name": "stdout",
     "output_type": "stream",
     "text": [
      "Epoch [71], Loss_t: 0.4260,Loss_v: 0.7938, train_acc_v:99.2432, val_acc_v:50.6522\n"
     ]
    },
    {
     "name": "stderr",
     "output_type": "stream",
     "text": [
      "100%|██████████| 37/37 [00:03<00:00, 10.02batch/s, TrainAccuracyPerBatch_valence=99.2, loss=0.424, totalLoss=0.426]\n",
      "100%|██████████| 10/10 [00:00<00:00, 33.37batch/s]\n"
     ]
    },
    {
     "name": "stdout",
     "output_type": "stream",
     "text": [
      "Epoch [72], Loss_t: 0.4259,Loss_v: 0.7990, train_acc_v:99.2432, val_acc_v:50.8696\n"
     ]
    },
    {
     "name": "stderr",
     "output_type": "stream",
     "text": [
      "100%|██████████| 37/37 [00:03<00:00, 10.30batch/s, TrainAccuracyPerBatch_valence=99.2, loss=0.436, totalLoss=0.426]\n",
      "100%|██████████| 10/10 [00:00<00:00, 35.65batch/s]\n"
     ]
    },
    {
     "name": "stdout",
     "output_type": "stream",
     "text": [
      "Epoch [73], Loss_t: 0.4260,Loss_v: 0.7914, train_acc_v:99.2432, val_acc_v:51.7391\n"
     ]
    },
    {
     "name": "stderr",
     "output_type": "stream",
     "text": [
      "100%|██████████| 37/37 [00:03<00:00, 10.30batch/s, TrainAccuracyPerBatch_valence=99.2, loss=0.424, totalLoss=0.426]\n",
      "100%|██████████| 10/10 [00:00<00:00, 34.19batch/s]\n"
     ]
    },
    {
     "name": "stdout",
     "output_type": "stream",
     "text": [
      "Epoch [74], Loss_t: 0.4259,Loss_v: 0.7890, train_acc_v:99.2432, val_acc_v:51.1957\n"
     ]
    },
    {
     "name": "stderr",
     "output_type": "stream",
     "text": [
      "100%|██████████| 37/37 [00:03<00:00, 10.68batch/s, TrainAccuracyPerBatch_valence=99.2, loss=0.424, totalLoss=0.426]\n",
      "100%|██████████| 10/10 [00:00<00:00, 33.46batch/s]\n"
     ]
    },
    {
     "name": "stdout",
     "output_type": "stream",
     "text": [
      "Epoch [75], Loss_t: 0.4259,Loss_v: 0.7700, train_acc_v:99.2432, val_acc_v:51.6304\n"
     ]
    },
    {
     "name": "stderr",
     "output_type": "stream",
     "text": [
      "100%|██████████| 37/37 [00:03<00:00, 10.57batch/s, TrainAccuracyPerBatch_valence=99.2, loss=0.424, totalLoss=0.426]\n",
      "100%|██████████| 10/10 [00:00<00:00, 36.14batch/s]\n"
     ]
    },
    {
     "name": "stdout",
     "output_type": "stream",
     "text": [
      "Epoch [76], Loss_t: 0.4259,Loss_v: 0.7780, train_acc_v:99.2432, val_acc_v:51.6304\n"
     ]
    },
    {
     "name": "stderr",
     "output_type": "stream",
     "text": [
      "100%|██████████| 37/37 [00:03<00:00, 10.47batch/s, TrainAccuracyPerBatch_valence=99.2, loss=0.424, totalLoss=0.426]\n",
      "100%|██████████| 10/10 [00:00<00:00, 36.21batch/s]\n"
     ]
    },
    {
     "name": "stdout",
     "output_type": "stream",
     "text": [
      "Epoch [77], Loss_t: 0.4259,Loss_v: 0.7960, train_acc_v:99.2432, val_acc_v:51.7391\n"
     ]
    },
    {
     "name": "stderr",
     "output_type": "stream",
     "text": [
      "100%|██████████| 37/37 [00:03<00:00, 10.25batch/s, TrainAccuracyPerBatch_valence=99.2, loss=0.424, totalLoss=0.426]\n",
      "100%|██████████| 10/10 [00:00<00:00, 32.70batch/s]\n"
     ]
    },
    {
     "name": "stdout",
     "output_type": "stream",
     "text": [
      "Epoch [78], Loss_t: 0.4259,Loss_v: 0.7901, train_acc_v:99.2432, val_acc_v:51.5217\n"
     ]
    },
    {
     "name": "stderr",
     "output_type": "stream",
     "text": [
      "100%|██████████| 37/37 [00:03<00:00, 10.24batch/s, TrainAccuracyPerBatch_valence=99.2, loss=0.424, totalLoss=0.426]\n",
      "100%|██████████| 10/10 [00:00<00:00, 33.72batch/s]\n"
     ]
    },
    {
     "name": "stdout",
     "output_type": "stream",
     "text": [
      "Epoch [79], Loss_t: 0.4259,Loss_v: 0.7774, train_acc_v:99.2432, val_acc_v:51.1957\n"
     ]
    },
    {
     "name": "stderr",
     "output_type": "stream",
     "text": [
      "100%|██████████| 37/37 [00:03<00:00, 10.39batch/s, TrainAccuracyPerBatch_valence=99.2, loss=0.424, totalLoss=0.426]\n",
      "100%|██████████| 10/10 [00:00<00:00, 33.78batch/s]\n"
     ]
    },
    {
     "name": "stdout",
     "output_type": "stream",
     "text": [
      "Epoch [80], Loss_t: 0.4259,Loss_v: 0.7857, train_acc_v:99.2432, val_acc_v:51.6304\n"
     ]
    },
    {
     "name": "stderr",
     "output_type": "stream",
     "text": [
      "100%|██████████| 37/37 [00:03<00:00, 10.55batch/s, TrainAccuracyPerBatch_valence=99.2, loss=0.424, totalLoss=0.426]\n",
      "100%|██████████| 10/10 [00:00<00:00, 36.16batch/s]\n"
     ]
    },
    {
     "name": "stdout",
     "output_type": "stream",
     "text": [
      "Epoch [81], Loss_t: 0.4259,Loss_v: 0.7857, train_acc_v:99.2432, val_acc_v:51.0870\n"
     ]
    },
    {
     "name": "stderr",
     "output_type": "stream",
     "text": [
      "100%|██████████| 37/37 [00:03<00:00, 10.53batch/s, TrainAccuracyPerBatch_valence=99.2, loss=0.424, totalLoss=0.426]\n",
      "100%|██████████| 10/10 [00:00<00:00, 35.52batch/s]\n"
     ]
    },
    {
     "name": "stdout",
     "output_type": "stream",
     "text": [
      "Epoch [82], Loss_t: 0.4258,Loss_v: 0.7933, train_acc_v:99.2432, val_acc_v:51.3043\n"
     ]
    },
    {
     "name": "stderr",
     "output_type": "stream",
     "text": [
      "100%|██████████| 37/37 [00:03<00:00, 10.63batch/s, TrainAccuracyPerBatch_valence=99.2, loss=0.424, totalLoss=0.426]\n",
      "100%|██████████| 10/10 [00:00<00:00, 34.85batch/s]\n"
     ]
    },
    {
     "name": "stdout",
     "output_type": "stream",
     "text": [
      "Epoch [83], Loss_t: 0.4258,Loss_v: 0.7896, train_acc_v:99.2432, val_acc_v:50.9783\n"
     ]
    },
    {
     "name": "stderr",
     "output_type": "stream",
     "text": [
      "100%|██████████| 37/37 [00:03<00:00,  9.78batch/s, TrainAccuracyPerBatch_valence=99.2, loss=0.424, totalLoss=0.426]\n",
      "100%|██████████| 10/10 [00:00<00:00, 31.96batch/s]\n"
     ]
    },
    {
     "name": "stdout",
     "output_type": "stream",
     "text": [
      "Epoch [84], Loss_t: 0.4258,Loss_v: 0.7799, train_acc_v:99.2432, val_acc_v:50.7609\n"
     ]
    },
    {
     "name": "stderr",
     "output_type": "stream",
     "text": [
      "100%|██████████| 37/37 [00:03<00:00, 10.30batch/s, TrainAccuracyPerBatch_valence=99.2, loss=0.424, totalLoss=0.426]\n",
      "100%|██████████| 10/10 [00:00<00:00, 35.97batch/s]\n"
     ]
    },
    {
     "name": "stdout",
     "output_type": "stream",
     "text": [
      "Epoch [85], Loss_t: 0.4258,Loss_v: 0.7730, train_acc_v:99.2432, val_acc_v:51.0870\n"
     ]
    },
    {
     "name": "stderr",
     "output_type": "stream",
     "text": [
      "100%|██████████| 37/37 [00:03<00:00, 10.44batch/s, TrainAccuracyPerBatch_valence=99.2, loss=0.424, totalLoss=0.426]\n",
      "100%|██████████| 10/10 [00:00<00:00, 31.78batch/s]\n"
     ]
    },
    {
     "name": "stdout",
     "output_type": "stream",
     "text": [
      "Epoch [86], Loss_t: 0.4258,Loss_v: 0.7934, train_acc_v:99.2432, val_acc_v:51.5217\n"
     ]
    },
    {
     "name": "stderr",
     "output_type": "stream",
     "text": [
      "100%|██████████| 37/37 [00:03<00:00,  9.79batch/s, TrainAccuracyPerBatch_valence=99.2, loss=0.436, totalLoss=0.426]\n",
      "100%|██████████| 10/10 [00:00<00:00, 32.91batch/s]\n"
     ]
    },
    {
     "name": "stdout",
     "output_type": "stream",
     "text": [
      "Epoch [87], Loss_t: 0.4259,Loss_v: 0.7697, train_acc_v:99.2432, val_acc_v:52.0652\n"
     ]
    },
    {
     "name": "stderr",
     "output_type": "stream",
     "text": [
      "100%|██████████| 37/37 [00:03<00:00,  9.87batch/s, TrainAccuracyPerBatch_valence=99.2, loss=0.424, totalLoss=0.426]\n",
      "100%|██████████| 10/10 [00:00<00:00, 32.55batch/s]\n"
     ]
    },
    {
     "name": "stdout",
     "output_type": "stream",
     "text": [
      "Epoch [88], Loss_t: 0.4258,Loss_v: 0.7862, train_acc_v:99.2432, val_acc_v:51.5217\n"
     ]
    },
    {
     "name": "stderr",
     "output_type": "stream",
     "text": [
      "100%|██████████| 37/37 [00:03<00:00,  9.98batch/s, TrainAccuracyPerBatch_valence=99.2, loss=0.424, totalLoss=0.426]\n",
      "100%|██████████| 10/10 [00:00<00:00, 33.24batch/s]\n"
     ]
    },
    {
     "name": "stdout",
     "output_type": "stream",
     "text": [
      "Epoch [89], Loss_t: 0.4258,Loss_v: 0.7700, train_acc_v:99.2432, val_acc_v:51.6304\n"
     ]
    },
    {
     "name": "stderr",
     "output_type": "stream",
     "text": [
      "100%|██████████| 37/37 [00:03<00:00,  9.87batch/s, TrainAccuracyPerBatch_valence=99.2, loss=0.424, totalLoss=0.426]\n",
      "100%|██████████| 10/10 [00:00<00:00, 32.33batch/s]\n"
     ]
    },
    {
     "name": "stdout",
     "output_type": "stream",
     "text": [
      "Epoch [90], Loss_t: 0.4257,Loss_v: 0.7958, train_acc_v:99.2432, val_acc_v:51.5217\n"
     ]
    },
    {
     "name": "stderr",
     "output_type": "stream",
     "text": [
      "100%|██████████| 37/37 [00:03<00:00,  9.88batch/s, TrainAccuracyPerBatch_valence=99.2, loss=0.424, totalLoss=0.426]\n",
      "100%|██████████| 10/10 [00:00<00:00, 32.67batch/s]\n"
     ]
    },
    {
     "name": "stdout",
     "output_type": "stream",
     "text": [
      "Epoch [91], Loss_t: 0.4257,Loss_v: 0.8035, train_acc_v:99.2432, val_acc_v:51.1957\n"
     ]
    },
    {
     "name": "stderr",
     "output_type": "stream",
     "text": [
      "100%|██████████| 37/37 [00:03<00:00,  9.90batch/s, TrainAccuracyPerBatch_valence=99.2, loss=0.424, totalLoss=0.426]\n",
      "100%|██████████| 10/10 [00:00<00:00, 32.57batch/s]\n"
     ]
    },
    {
     "name": "stdout",
     "output_type": "stream",
     "text": [
      "Epoch [92], Loss_t: 0.4257,Loss_v: 0.7819, train_acc_v:99.2432, val_acc_v:51.5217\n"
     ]
    },
    {
     "name": "stderr",
     "output_type": "stream",
     "text": [
      "100%|██████████| 37/37 [00:03<00:00,  9.89batch/s, TrainAccuracyPerBatch_valence=99.2, loss=0.424, totalLoss=0.426]\n",
      "100%|██████████| 10/10 [00:00<00:00, 32.81batch/s]\n"
     ]
    },
    {
     "name": "stdout",
     "output_type": "stream",
     "text": [
      "Epoch [93], Loss_t: 0.4257,Loss_v: 0.7859, train_acc_v:99.2432, val_acc_v:51.3043\n"
     ]
    },
    {
     "name": "stderr",
     "output_type": "stream",
     "text": [
      "100%|██████████| 37/37 [00:03<00:00,  9.87batch/s, TrainAccuracyPerBatch_valence=99.2, loss=0.424, totalLoss=0.426]\n",
      "100%|██████████| 10/10 [00:00<00:00, 32.45batch/s]\n"
     ]
    },
    {
     "name": "stdout",
     "output_type": "stream",
     "text": [
      "Epoch [94], Loss_t: 0.4257,Loss_v: 0.7897, train_acc_v:99.2432, val_acc_v:51.3043\n"
     ]
    },
    {
     "name": "stderr",
     "output_type": "stream",
     "text": [
      "100%|██████████| 37/37 [00:03<00:00,  9.87batch/s, TrainAccuracyPerBatch_valence=99.2, loss=0.424, totalLoss=0.426]\n",
      "100%|██████████| 10/10 [00:00<00:00, 32.92batch/s]\n"
     ]
    },
    {
     "name": "stdout",
     "output_type": "stream",
     "text": [
      "Epoch [95], Loss_t: 0.4257,Loss_v: 0.7993, train_acc_v:99.2432, val_acc_v:51.4130\n"
     ]
    },
    {
     "name": "stderr",
     "output_type": "stream",
     "text": [
      "100%|██████████| 37/37 [00:03<00:00, 10.01batch/s, TrainAccuracyPerBatch_valence=99.2, loss=0.424, totalLoss=0.426]\n",
      "100%|██████████| 10/10 [00:00<00:00, 33.07batch/s]\n"
     ]
    },
    {
     "name": "stdout",
     "output_type": "stream",
     "text": [
      "Epoch [96], Loss_t: 0.4257,Loss_v: 0.7816, train_acc_v:99.2432, val_acc_v:51.1957\n"
     ]
    },
    {
     "name": "stderr",
     "output_type": "stream",
     "text": [
      "100%|██████████| 37/37 [00:03<00:00,  9.92batch/s, TrainAccuracyPerBatch_valence=99.2, loss=0.423, totalLoss=0.426]\n",
      "100%|██████████| 10/10 [00:00<00:00, 32.70batch/s]\n"
     ]
    },
    {
     "name": "stdout",
     "output_type": "stream",
     "text": [
      "Epoch [97], Loss_t: 0.4257,Loss_v: 0.7856, train_acc_v:99.2432, val_acc_v:51.3043\n"
     ]
    },
    {
     "name": "stderr",
     "output_type": "stream",
     "text": [
      "100%|██████████| 37/37 [00:03<00:00,  9.92batch/s, TrainAccuracyPerBatch_valence=99.2, loss=0.449, totalLoss=0.426]\n",
      "100%|██████████| 10/10 [00:00<00:00, 32.82batch/s]\n"
     ]
    },
    {
     "name": "stdout",
     "output_type": "stream",
     "text": [
      "Epoch [98], Loss_t: 0.4258,Loss_v: 0.7730, train_acc_v:99.2432, val_acc_v:51.3043\n"
     ]
    },
    {
     "name": "stderr",
     "output_type": "stream",
     "text": [
      "100%|██████████| 37/37 [00:03<00:00,  9.99batch/s, TrainAccuracyPerBatch_valence=99.2, loss=0.424, totalLoss=0.426]\n",
      "100%|██████████| 10/10 [00:00<00:00, 33.14batch/s]\n"
     ]
    },
    {
     "name": "stdout",
     "output_type": "stream",
     "text": [
      "Epoch [99], Loss_t: 0.4257,Loss_v: 0.7973, train_acc_v:99.2432, val_acc_v:51.1957\n"
     ]
    },
    {
     "name": "stderr",
     "output_type": "stream",
     "text": [
      "100%|██████████| 10/10 [00:00<00:00, 38.59batch/s]\n"
     ]
    },
    {
     "name": "stdout",
     "output_type": "stream",
     "text": [
      "Fold 5 running\n"
     ]
    },
    {
     "name": "stderr",
     "output_type": "stream",
     "text": [
      "100%|██████████| 37/37 [00:03<00:00, 10.04batch/s, TrainAccuracyPerBatch_valence=59.2, loss=0.74, totalLoss=0.783] \n",
      "100%|██████████| 10/10 [00:00<00:00, 32.75batch/s]\n"
     ]
    },
    {
     "name": "stdout",
     "output_type": "stream",
     "text": [
      "Epoch [0], Loss_t: 0.7833,Loss_v: 0.8025, train_acc_v:59.1622, val_acc_v:25.0000\n"
     ]
    },
    {
     "name": "stderr",
     "output_type": "stream",
     "text": [
      "100%|██████████| 37/37 [00:03<00:00,  9.99batch/s, TrainAccuracyPerBatch_valence=62.4, loss=0.767, totalLoss=0.767]\n",
      "100%|██████████| 10/10 [00:00<00:00, 32.43batch/s]\n"
     ]
    },
    {
     "name": "stdout",
     "output_type": "stream",
     "text": [
      "Epoch [1], Loss_t: 0.7667,Loss_v: 0.7545, train_acc_v:62.4054, val_acc_v:49.7826\n"
     ]
    },
    {
     "name": "stderr",
     "output_type": "stream",
     "text": [
      "100%|██████████| 37/37 [00:03<00:00, 10.00batch/s, TrainAccuracyPerBatch_valence=64.5, loss=0.769, totalLoss=0.748]\n",
      "100%|██████████| 10/10 [00:00<00:00, 33.02batch/s]\n"
     ]
    },
    {
     "name": "stdout",
     "output_type": "stream",
     "text": [
      "Epoch [2], Loss_t: 0.7481,Loss_v: 0.7427, train_acc_v:64.4595, val_acc_v:49.7826\n"
     ]
    },
    {
     "name": "stderr",
     "output_type": "stream",
     "text": [
      "100%|██████████| 37/37 [00:03<00:00, 10.02batch/s, TrainAccuracyPerBatch_valence=66.6, loss=0.73, totalLoss=0.735] \n",
      "100%|██████████| 10/10 [00:00<00:00, 32.87batch/s]\n"
     ]
    },
    {
     "name": "stdout",
     "output_type": "stream",
     "text": [
      "Epoch [3], Loss_t: 0.7350,Loss_v: 0.7044, train_acc_v:66.5946, val_acc_v:50.3261\n"
     ]
    },
    {
     "name": "stderr",
     "output_type": "stream",
     "text": [
      "100%|██████████| 37/37 [00:03<00:00, 10.02batch/s, TrainAccuracyPerBatch_valence=67.4, loss=0.723, totalLoss=0.727]\n",
      "100%|██████████| 10/10 [00:00<00:00, 32.92batch/s]\n"
     ]
    },
    {
     "name": "stdout",
     "output_type": "stream",
     "text": [
      "Epoch [4], Loss_t: 0.7269,Loss_v: 0.6818, train_acc_v:67.4054, val_acc_v:51.9565\n"
     ]
    },
    {
     "name": "stderr",
     "output_type": "stream",
     "text": [
      "100%|██████████| 37/37 [00:03<00:00, 10.00batch/s, TrainAccuracyPerBatch_valence=68, loss=0.691, totalLoss=0.722]  \n",
      "100%|██████████| 10/10 [00:00<00:00, 33.04batch/s]\n"
     ]
    },
    {
     "name": "stdout",
     "output_type": "stream",
     "text": [
      "Epoch [5], Loss_t: 0.7216,Loss_v: 0.7773, train_acc_v:67.9730, val_acc_v:47.3913\n"
     ]
    },
    {
     "name": "stderr",
     "output_type": "stream",
     "text": [
      "100%|██████████| 37/37 [00:03<00:00, 10.03batch/s, TrainAccuracyPerBatch_valence=68.7, loss=0.707, totalLoss=0.718]\n",
      "100%|██████████| 10/10 [00:00<00:00, 32.97batch/s]\n"
     ]
    },
    {
     "name": "stdout",
     "output_type": "stream",
     "text": [
      "Epoch [6], Loss_t: 0.7176,Loss_v: 0.8008, train_acc_v:68.6757, val_acc_v:45.0000\n"
     ]
    },
    {
     "name": "stderr",
     "output_type": "stream",
     "text": [
      "100%|██████████| 37/37 [00:03<00:00, 10.01batch/s, TrainAccuracyPerBatch_valence=69.9, loss=0.705, totalLoss=0.705]\n",
      "100%|██████████| 10/10 [00:00<00:00, 33.13batch/s]\n"
     ]
    },
    {
     "name": "stdout",
     "output_type": "stream",
     "text": [
      "Epoch [7], Loss_t: 0.7052,Loss_v: 0.7603, train_acc_v:69.9459, val_acc_v:47.1739\n"
     ]
    },
    {
     "name": "stderr",
     "output_type": "stream",
     "text": [
      "100%|██████████| 37/37 [00:03<00:00, 10.01batch/s, TrainAccuracyPerBatch_valence=71.3, loss=0.746, totalLoss=0.697]\n",
      "100%|██████████| 10/10 [00:00<00:00, 32.77batch/s]\n"
     ]
    },
    {
     "name": "stdout",
     "output_type": "stream",
     "text": [
      "Epoch [8], Loss_t: 0.6969,Loss_v: 0.6689, train_acc_v:71.2973, val_acc_v:55.1087\n"
     ]
    },
    {
     "name": "stderr",
     "output_type": "stream",
     "text": [
      "100%|██████████| 37/37 [00:03<00:00, 10.02batch/s, TrainAccuracyPerBatch_valence=71.7, loss=0.674, totalLoss=0.689]\n",
      "100%|██████████| 10/10 [00:00<00:00, 32.97batch/s]\n"
     ]
    },
    {
     "name": "stdout",
     "output_type": "stream",
     "text": [
      "Epoch [9], Loss_t: 0.6888,Loss_v: 0.8368, train_acc_v:71.6757, val_acc_v:42.0652\n"
     ]
    },
    {
     "name": "stderr",
     "output_type": "stream",
     "text": [
      "100%|██████████| 37/37 [00:03<00:00, 10.05batch/s, TrainAccuracyPerBatch_valence=73.6, loss=0.722, totalLoss=0.679]\n",
      "100%|██████████| 10/10 [00:00<00:00, 33.16batch/s]\n"
     ]
    },
    {
     "name": "stdout",
     "output_type": "stream",
     "text": [
      "Epoch [10], Loss_t: 0.6786,Loss_v: 0.7704, train_acc_v:73.5676, val_acc_v:44.2391\n"
     ]
    },
    {
     "name": "stderr",
     "output_type": "stream",
     "text": [
      "100%|██████████| 37/37 [00:03<00:00, 10.02batch/s, TrainAccuracyPerBatch_valence=75.1, loss=0.681, totalLoss=0.668]\n",
      "100%|██████████| 10/10 [00:00<00:00, 33.12batch/s]\n"
     ]
    },
    {
     "name": "stdout",
     "output_type": "stream",
     "text": [
      "Epoch [11], Loss_t: 0.6676,Loss_v: 0.7304, train_acc_v:75.0541, val_acc_v:51.9565\n"
     ]
    },
    {
     "name": "stderr",
     "output_type": "stream",
     "text": [
      "100%|██████████| 37/37 [00:03<00:00, 10.05batch/s, TrainAccuracyPerBatch_valence=76.3, loss=0.712, totalLoss=0.66] \n",
      "100%|██████████| 10/10 [00:00<00:00, 32.84batch/s]\n"
     ]
    },
    {
     "name": "stdout",
     "output_type": "stream",
     "text": [
      "Epoch [12], Loss_t: 0.6604,Loss_v: 0.6863, train_acc_v:76.2703, val_acc_v:53.6957\n"
     ]
    },
    {
     "name": "stderr",
     "output_type": "stream",
     "text": [
      "100%|██████████| 37/37 [00:03<00:00, 10.02batch/s, TrainAccuracyPerBatch_valence=77.3, loss=0.69, totalLoss=0.646] \n",
      "100%|██████████| 10/10 [00:00<00:00, 32.81batch/s]\n"
     ]
    },
    {
     "name": "stdout",
     "output_type": "stream",
     "text": [
      "Epoch [13], Loss_t: 0.6465,Loss_v: 0.7652, train_acc_v:77.2703, val_acc_v:44.4565\n"
     ]
    },
    {
     "name": "stderr",
     "output_type": "stream",
     "text": [
      "100%|██████████| 37/37 [00:03<00:00, 10.01batch/s, TrainAccuracyPerBatch_valence=79.7, loss=0.631, totalLoss=0.628]\n",
      "100%|██████████| 10/10 [00:00<00:00, 33.21batch/s]\n"
     ]
    },
    {
     "name": "stdout",
     "output_type": "stream",
     "text": [
      "Epoch [14], Loss_t: 0.6284,Loss_v: 0.7597, train_acc_v:79.7027, val_acc_v:47.0652\n"
     ]
    },
    {
     "name": "stderr",
     "output_type": "stream",
     "text": [
      "100%|██████████| 37/37 [00:03<00:00,  9.92batch/s, TrainAccuracyPerBatch_valence=80.9, loss=0.545, totalLoss=0.616]\n",
      "100%|██████████| 10/10 [00:00<00:00, 32.95batch/s]\n"
     ]
    },
    {
     "name": "stdout",
     "output_type": "stream",
     "text": [
      "Epoch [15], Loss_t: 0.6159,Loss_v: 0.6984, train_acc_v:80.9189, val_acc_v:53.9130\n"
     ]
    },
    {
     "name": "stderr",
     "output_type": "stream",
     "text": [
      "100%|██████████| 37/37 [00:03<00:00, 10.00batch/s, TrainAccuracyPerBatch_valence=82, loss=0.624, totalLoss=0.606]  \n",
      "100%|██████████| 10/10 [00:00<00:00, 32.99batch/s]\n"
     ]
    },
    {
     "name": "stdout",
     "output_type": "stream",
     "text": [
      "Epoch [16], Loss_t: 0.6057,Loss_v: 0.8269, train_acc_v:81.9730, val_acc_v:44.1304\n"
     ]
    },
    {
     "name": "stderr",
     "output_type": "stream",
     "text": [
      "100%|██████████| 37/37 [00:03<00:00,  9.98batch/s, TrainAccuracyPerBatch_valence=83.7, loss=0.642, totalLoss=0.59] \n",
      "100%|██████████| 10/10 [00:00<00:00, 33.50batch/s]\n"
     ]
    },
    {
     "name": "stdout",
     "output_type": "stream",
     "text": [
      "Epoch [17], Loss_t: 0.5904,Loss_v: 0.6762, train_acc_v:83.6757, val_acc_v:57.0652\n"
     ]
    },
    {
     "name": "stderr",
     "output_type": "stream",
     "text": [
      "100%|██████████| 37/37 [00:03<00:00,  9.98batch/s, TrainAccuracyPerBatch_valence=84.7, loss=0.569, totalLoss=0.581]\n",
      "100%|██████████| 10/10 [00:00<00:00, 32.55batch/s]\n"
     ]
    },
    {
     "name": "stdout",
     "output_type": "stream",
     "text": [
      "Epoch [18], Loss_t: 0.5809,Loss_v: 0.6894, train_acc_v:84.6757, val_acc_v:55.8696\n"
     ]
    },
    {
     "name": "stderr",
     "output_type": "stream",
     "text": [
      "100%|██████████| 37/37 [00:03<00:00,  9.97batch/s, TrainAccuracyPerBatch_valence=84.8, loss=0.6, totalLoss=0.578]  \n",
      "100%|██████████| 10/10 [00:00<00:00, 32.52batch/s]\n"
     ]
    },
    {
     "name": "stdout",
     "output_type": "stream",
     "text": [
      "Epoch [19], Loss_t: 0.5780,Loss_v: 0.8018, train_acc_v:84.7568, val_acc_v:46.5217\n"
     ]
    },
    {
     "name": "stderr",
     "output_type": "stream",
     "text": [
      "100%|██████████| 37/37 [00:03<00:00,  9.83batch/s, TrainAccuracyPerBatch_valence=87.6, loss=0.594, totalLoss=0.557]\n",
      "100%|██████████| 10/10 [00:00<00:00, 32.15batch/s]\n"
     ]
    },
    {
     "name": "stdout",
     "output_type": "stream",
     "text": [
      "Epoch [20], Loss_t: 0.5567,Loss_v: 0.7557, train_acc_v:87.6216, val_acc_v:48.8043\n"
     ]
    },
    {
     "name": "stderr",
     "output_type": "stream",
     "text": [
      "100%|██████████| 37/37 [00:03<00:00,  9.82batch/s, TrainAccuracyPerBatch_valence=89.5, loss=0.598, totalLoss=0.538]\n",
      "100%|██████████| 10/10 [00:00<00:00, 32.96batch/s]\n"
     ]
    },
    {
     "name": "stdout",
     "output_type": "stream",
     "text": [
      "Epoch [21], Loss_t: 0.5384,Loss_v: 0.7289, train_acc_v:89.5405, val_acc_v:53.1522\n"
     ]
    },
    {
     "name": "stderr",
     "output_type": "stream",
     "text": [
      "100%|██████████| 37/37 [00:03<00:00,  9.92batch/s, TrainAccuracyPerBatch_valence=89.2, loss=0.568, totalLoss=0.539]\n",
      "100%|██████████| 10/10 [00:00<00:00, 33.01batch/s]\n"
     ]
    },
    {
     "name": "stdout",
     "output_type": "stream",
     "text": [
      "Epoch [22], Loss_t: 0.5389,Loss_v: 0.6736, train_acc_v:89.1892, val_acc_v:59.2391\n"
     ]
    },
    {
     "name": "stderr",
     "output_type": "stream",
     "text": [
      "100%|██████████| 37/37 [00:03<00:00,  9.87batch/s, TrainAccuracyPerBatch_valence=91, loss=0.563, totalLoss=0.519]  \n",
      "100%|██████████| 10/10 [00:00<00:00, 33.18batch/s]\n"
     ]
    },
    {
     "name": "stdout",
     "output_type": "stream",
     "text": [
      "Epoch [23], Loss_t: 0.5194,Loss_v: 0.7873, train_acc_v:90.9730, val_acc_v:48.1522\n"
     ]
    },
    {
     "name": "stderr",
     "output_type": "stream",
     "text": [
      "100%|██████████| 37/37 [00:03<00:00,  9.89batch/s, TrainAccuracyPerBatch_valence=93, loss=0.501, totalLoss=0.504]  \n",
      "100%|██████████| 10/10 [00:00<00:00, 32.96batch/s]\n"
     ]
    },
    {
     "name": "stdout",
     "output_type": "stream",
     "text": [
      "Epoch [24], Loss_t: 0.5041,Loss_v: 0.7366, train_acc_v:92.9730, val_acc_v:54.3478\n"
     ]
    },
    {
     "name": "stderr",
     "output_type": "stream",
     "text": [
      "100%|██████████| 37/37 [00:03<00:00,  9.92batch/s, TrainAccuracyPerBatch_valence=94.4, loss=0.469, totalLoss=0.492]\n",
      "100%|██████████| 10/10 [00:00<00:00, 33.20batch/s]\n"
     ]
    },
    {
     "name": "stdout",
     "output_type": "stream",
     "text": [
      "Epoch [25], Loss_t: 0.4915,Loss_v: 0.6521, train_acc_v:94.3514, val_acc_v:62.2826\n"
     ]
    },
    {
     "name": "stderr",
     "output_type": "stream",
     "text": [
      "100%|██████████| 37/37 [00:03<00:00,  9.91batch/s, TrainAccuracyPerBatch_valence=94.1, loss=0.472, totalLoss=0.489]\n",
      "100%|██████████| 10/10 [00:00<00:00, 32.03batch/s]\n"
     ]
    },
    {
     "name": "stdout",
     "output_type": "stream",
     "text": [
      "Epoch [26], Loss_t: 0.4891,Loss_v: 0.6942, train_acc_v:94.0541, val_acc_v:57.6087\n"
     ]
    },
    {
     "name": "stderr",
     "output_type": "stream",
     "text": [
      "100%|██████████| 37/37 [00:03<00:00,  9.87batch/s, TrainAccuracyPerBatch_valence=95.5, loss=0.468, totalLoss=0.475]\n",
      "100%|██████████| 10/10 [00:00<00:00, 32.82batch/s]\n"
     ]
    },
    {
     "name": "stdout",
     "output_type": "stream",
     "text": [
      "Epoch [27], Loss_t: 0.4747,Loss_v: 0.6971, train_acc_v:95.4595, val_acc_v:59.1304\n"
     ]
    },
    {
     "name": "stderr",
     "output_type": "stream",
     "text": [
      "100%|██████████| 37/37 [00:03<00:00,  9.88batch/s, TrainAccuracyPerBatch_valence=96.1, loss=0.485, totalLoss=0.467]\n",
      "100%|██████████| 10/10 [00:00<00:00, 33.12batch/s]\n"
     ]
    },
    {
     "name": "stdout",
     "output_type": "stream",
     "text": [
      "Epoch [28], Loss_t: 0.4668,Loss_v: 0.6500, train_acc_v:96.1351, val_acc_v:63.6957\n"
     ]
    },
    {
     "name": "stderr",
     "output_type": "stream",
     "text": [
      "100%|██████████| 37/37 [00:03<00:00,  9.86batch/s, TrainAccuracyPerBatch_valence=96.4, loss=0.469, totalLoss=0.464]\n",
      "100%|██████████| 10/10 [00:00<00:00, 32.55batch/s]\n"
     ]
    },
    {
     "name": "stdout",
     "output_type": "stream",
     "text": [
      "Epoch [29], Loss_t: 0.4637,Loss_v: 0.6233, train_acc_v:96.3784, val_acc_v:65.3261\n"
     ]
    },
    {
     "name": "stderr",
     "output_type": "stream",
     "text": [
      "100%|██████████| 37/37 [00:03<00:00,  9.84batch/s, TrainAccuracyPerBatch_valence=97.2, loss=0.461, totalLoss=0.456]\n",
      "100%|██████████| 10/10 [00:00<00:00, 32.56batch/s]\n"
     ]
    },
    {
     "name": "stdout",
     "output_type": "stream",
     "text": [
      "Epoch [30], Loss_t: 0.4558,Loss_v: 0.6251, train_acc_v:97.2432, val_acc_v:65.8696\n"
     ]
    },
    {
     "name": "stderr",
     "output_type": "stream",
     "text": [
      "100%|██████████| 37/37 [00:03<00:00,  9.86batch/s, TrainAccuracyPerBatch_valence=98, loss=0.458, totalLoss=0.448]  \n",
      "100%|██████████| 10/10 [00:00<00:00, 32.50batch/s]\n"
     ]
    },
    {
     "name": "stdout",
     "output_type": "stream",
     "text": [
      "Epoch [31], Loss_t: 0.4478,Loss_v: 0.7386, train_acc_v:97.9730, val_acc_v:56.1957\n"
     ]
    },
    {
     "name": "stderr",
     "output_type": "stream",
     "text": [
      "100%|██████████| 37/37 [00:03<00:00,  9.87batch/s, TrainAccuracyPerBatch_valence=98.7, loss=0.449, totalLoss=0.438]\n",
      "100%|██████████| 10/10 [00:00<00:00, 32.64batch/s]\n"
     ]
    },
    {
     "name": "stdout",
     "output_type": "stream",
     "text": [
      "Epoch [32], Loss_t: 0.4382,Loss_v: 0.7222, train_acc_v:98.6757, val_acc_v:57.1739\n"
     ]
    },
    {
     "name": "stderr",
     "output_type": "stream",
     "text": [
      "100%|██████████| 37/37 [00:03<00:00,  9.77batch/s, TrainAccuracyPerBatch_valence=98.6, loss=0.434, totalLoss=0.437]\n",
      "100%|██████████| 10/10 [00:00<00:00, 32.81batch/s]\n"
     ]
    },
    {
     "name": "stdout",
     "output_type": "stream",
     "text": [
      "Epoch [33], Loss_t: 0.4369,Loss_v: 0.7736, train_acc_v:98.6486, val_acc_v:50.7609\n"
     ]
    },
    {
     "name": "stderr",
     "output_type": "stream",
     "text": [
      "100%|██████████| 37/37 [00:03<00:00,  9.77batch/s, TrainAccuracyPerBatch_valence=98.8, loss=0.435, totalLoss=0.437]\n",
      "100%|██████████| 10/10 [00:00<00:00, 32.05batch/s]\n"
     ]
    },
    {
     "name": "stdout",
     "output_type": "stream",
     "text": [
      "Epoch [34], Loss_t: 0.4367,Loss_v: 0.7350, train_acc_v:98.8378, val_acc_v:55.9783\n"
     ]
    },
    {
     "name": "stderr",
     "output_type": "stream",
     "text": [
      "100%|██████████| 37/37 [00:03<00:00,  9.84batch/s, TrainAccuracyPerBatch_valence=99, loss=0.438, totalLoss=0.433]  \n",
      "100%|██████████| 10/10 [00:00<00:00, 32.73batch/s]\n"
     ]
    },
    {
     "name": "stdout",
     "output_type": "stream",
     "text": [
      "Epoch [35], Loss_t: 0.4335,Loss_v: 0.7161, train_acc_v:98.9730, val_acc_v:57.1739\n"
     ]
    },
    {
     "name": "stderr",
     "output_type": "stream",
     "text": [
      "100%|██████████| 37/37 [00:03<00:00,  9.95batch/s, TrainAccuracyPerBatch_valence=99, loss=0.426, totalLoss=0.43]   \n",
      "100%|██████████| 10/10 [00:00<00:00, 32.32batch/s]\n"
     ]
    },
    {
     "name": "stdout",
     "output_type": "stream",
     "text": [
      "Epoch [36], Loss_t: 0.4304,Loss_v: 0.7086, train_acc_v:99.0270, val_acc_v:57.6087\n"
     ]
    },
    {
     "name": "stderr",
     "output_type": "stream",
     "text": [
      "100%|██████████| 37/37 [00:03<00:00,  9.84batch/s, TrainAccuracyPerBatch_valence=99.1, loss=0.425, totalLoss=0.429]\n",
      "100%|██████████| 10/10 [00:00<00:00, 32.38batch/s]\n"
     ]
    },
    {
     "name": "stdout",
     "output_type": "stream",
     "text": [
      "Epoch [37], Loss_t: 0.4293,Loss_v: 0.7292, train_acc_v:99.1351, val_acc_v:56.9565\n"
     ]
    },
    {
     "name": "stderr",
     "output_type": "stream",
     "text": [
      "100%|██████████| 37/37 [00:03<00:00,  9.86batch/s, TrainAccuracyPerBatch_valence=99.2, loss=0.428, totalLoss=0.429]\n",
      "100%|██████████| 10/10 [00:00<00:00, 32.29batch/s]\n"
     ]
    },
    {
     "name": "stdout",
     "output_type": "stream",
     "text": [
      "Epoch [38], Loss_t: 0.4289,Loss_v: 0.7136, train_acc_v:99.1892, val_acc_v:56.7391\n"
     ]
    },
    {
     "name": "stderr",
     "output_type": "stream",
     "text": [
      "100%|██████████| 37/37 [00:03<00:00,  9.96batch/s, TrainAccuracyPerBatch_valence=99.1, loss=0.437, totalLoss=0.429]\n",
      "100%|██████████| 10/10 [00:00<00:00, 33.01batch/s]\n"
     ]
    },
    {
     "name": "stdout",
     "output_type": "stream",
     "text": [
      "Epoch [39], Loss_t: 0.4292,Loss_v: 0.7328, train_acc_v:99.1351, val_acc_v:54.4565\n"
     ]
    },
    {
     "name": "stderr",
     "output_type": "stream",
     "text": [
      "100%|██████████| 37/37 [00:03<00:00,  9.88batch/s, TrainAccuracyPerBatch_valence=99.2, loss=0.428, totalLoss=0.43] \n",
      "100%|██████████| 10/10 [00:00<00:00, 32.73batch/s]\n"
     ]
    },
    {
     "name": "stdout",
     "output_type": "stream",
     "text": [
      "Epoch [40], Loss_t: 0.4297,Loss_v: 0.7547, train_acc_v:99.1622, val_acc_v:53.4783\n"
     ]
    },
    {
     "name": "stderr",
     "output_type": "stream",
     "text": [
      "100%|██████████| 37/37 [00:03<00:00,  9.86batch/s, TrainAccuracyPerBatch_valence=99.2, loss=0.426, totalLoss=0.428]\n",
      "100%|██████████| 10/10 [00:00<00:00, 32.34batch/s]\n"
     ]
    },
    {
     "name": "stdout",
     "output_type": "stream",
     "text": [
      "Epoch [41], Loss_t: 0.4278,Loss_v: 0.7935, train_acc_v:99.2162, val_acc_v:49.1304\n"
     ]
    },
    {
     "name": "stderr",
     "output_type": "stream",
     "text": [
      "100%|██████████| 37/37 [00:03<00:00,  9.73batch/s, TrainAccuracyPerBatch_valence=99.2, loss=0.425, totalLoss=0.427]\n",
      "100%|██████████| 10/10 [00:00<00:00, 31.84batch/s]\n"
     ]
    },
    {
     "name": "stdout",
     "output_type": "stream",
     "text": [
      "Epoch [42], Loss_t: 0.4273,Loss_v: 0.7158, train_acc_v:99.2162, val_acc_v:56.4130\n"
     ]
    },
    {
     "name": "stderr",
     "output_type": "stream",
     "text": [
      "100%|██████████| 37/37 [00:03<00:00,  9.64batch/s, TrainAccuracyPerBatch_valence=99.2, loss=0.425, totalLoss=0.427]\n",
      "100%|██████████| 10/10 [00:00<00:00, 32.25batch/s]\n"
     ]
    },
    {
     "name": "stdout",
     "output_type": "stream",
     "text": [
      "Epoch [43], Loss_t: 0.4271,Loss_v: 0.7269, train_acc_v:99.2162, val_acc_v:56.1957\n"
     ]
    },
    {
     "name": "stderr",
     "output_type": "stream",
     "text": [
      "100%|██████████| 37/37 [00:03<00:00,  9.81batch/s, TrainAccuracyPerBatch_valence=99.2, loss=0.437, totalLoss=0.427]\n",
      "100%|██████████| 10/10 [00:00<00:00, 33.83batch/s]\n"
     ]
    },
    {
     "name": "stdout",
     "output_type": "stream",
     "text": [
      "Epoch [44], Loss_t: 0.4270,Loss_v: 0.7426, train_acc_v:99.2162, val_acc_v:55.0000\n"
     ]
    },
    {
     "name": "stderr",
     "output_type": "stream",
     "text": [
      "100%|██████████| 37/37 [00:03<00:00, 10.20batch/s, TrainAccuracyPerBatch_valence=99.2, loss=0.424, totalLoss=0.427]\n",
      "100%|██████████| 10/10 [00:00<00:00, 34.17batch/s]\n"
     ]
    },
    {
     "name": "stdout",
     "output_type": "stream",
     "text": [
      "Epoch [45], Loss_t: 0.4269,Loss_v: 0.7432, train_acc_v:99.2162, val_acc_v:54.5652\n"
     ]
    },
    {
     "name": "stderr",
     "output_type": "stream",
     "text": [
      "100%|██████████| 37/37 [00:03<00:00, 10.23batch/s, TrainAccuracyPerBatch_valence=99.2, loss=0.424, totalLoss=0.427]\n",
      "100%|██████████| 10/10 [00:00<00:00, 34.31batch/s]\n"
     ]
    },
    {
     "name": "stdout",
     "output_type": "stream",
     "text": [
      "Epoch [46], Loss_t: 0.4269,Loss_v: 0.7472, train_acc_v:99.2162, val_acc_v:54.8913\n"
     ]
    },
    {
     "name": "stderr",
     "output_type": "stream",
     "text": [
      "100%|██████████| 37/37 [00:03<00:00, 10.11batch/s, TrainAccuracyPerBatch_valence=99.2, loss=0.425, totalLoss=0.427]\n",
      "100%|██████████| 10/10 [00:00<00:00, 34.85batch/s]\n"
     ]
    },
    {
     "name": "stdout",
     "output_type": "stream",
     "text": [
      "Epoch [47], Loss_t: 0.4268,Loss_v: 0.7393, train_acc_v:99.2162, val_acc_v:55.8696\n"
     ]
    },
    {
     "name": "stderr",
     "output_type": "stream",
     "text": [
      "100%|██████████| 37/37 [00:03<00:00, 10.27batch/s, TrainAccuracyPerBatch_valence=99.2, loss=0.425, totalLoss=0.427]\n",
      "100%|██████████| 10/10 [00:00<00:00, 34.08batch/s]\n"
     ]
    },
    {
     "name": "stdout",
     "output_type": "stream",
     "text": [
      "Epoch [48], Loss_t: 0.4268,Loss_v: 0.7453, train_acc_v:99.2162, val_acc_v:55.2174\n"
     ]
    },
    {
     "name": "stderr",
     "output_type": "stream",
     "text": [
      "100%|██████████| 37/37 [00:03<00:00, 10.32batch/s, TrainAccuracyPerBatch_valence=99.2, loss=0.424, totalLoss=0.427]\n",
      "100%|██████████| 10/10 [00:00<00:00, 35.07batch/s]\n"
     ]
    },
    {
     "name": "stdout",
     "output_type": "stream",
     "text": [
      "Epoch [49], Loss_t: 0.4267,Loss_v: 0.7386, train_acc_v:99.2162, val_acc_v:55.4348\n"
     ]
    },
    {
     "name": "stderr",
     "output_type": "stream",
     "text": [
      "100%|██████████| 37/37 [00:03<00:00, 10.54batch/s, TrainAccuracyPerBatch_valence=99.2, loss=0.437, totalLoss=0.427]\n",
      "100%|██████████| 10/10 [00:00<00:00, 34.98batch/s]\n"
     ]
    },
    {
     "name": "stdout",
     "output_type": "stream",
     "text": [
      "Epoch [50], Loss_t: 0.4268,Loss_v: 0.7439, train_acc_v:99.2162, val_acc_v:55.1087\n"
     ]
    },
    {
     "name": "stderr",
     "output_type": "stream",
     "text": [
      "100%|██████████| 37/37 [00:03<00:00, 10.31batch/s, TrainAccuracyPerBatch_valence=99.2, loss=0.424, totalLoss=0.427]\n",
      "100%|██████████| 10/10 [00:00<00:00, 32.58batch/s]\n"
     ]
    },
    {
     "name": "stdout",
     "output_type": "stream",
     "text": [
      "Epoch [51], Loss_t: 0.4267,Loss_v: 0.7565, train_acc_v:99.2162, val_acc_v:55.0000\n"
     ]
    },
    {
     "name": "stderr",
     "output_type": "stream",
     "text": [
      "100%|██████████| 37/37 [00:03<00:00,  9.95batch/s, TrainAccuracyPerBatch_valence=99.2, loss=0.449, totalLoss=0.427]\n",
      "100%|██████████| 10/10 [00:00<00:00, 32.69batch/s]\n"
     ]
    },
    {
     "name": "stdout",
     "output_type": "stream",
     "text": [
      "Epoch [52], Loss_t: 0.4268,Loss_v: 0.7320, train_acc_v:99.2162, val_acc_v:55.2174\n"
     ]
    },
    {
     "name": "stderr",
     "output_type": "stream",
     "text": [
      "100%|██████████| 37/37 [00:03<00:00,  9.82batch/s, TrainAccuracyPerBatch_valence=99.2, loss=0.424, totalLoss=0.427]\n",
      "100%|██████████| 10/10 [00:00<00:00, 32.72batch/s]\n"
     ]
    },
    {
     "name": "stdout",
     "output_type": "stream",
     "text": [
      "Epoch [53], Loss_t: 0.4266,Loss_v: 0.7329, train_acc_v:99.2162, val_acc_v:55.6522\n"
     ]
    },
    {
     "name": "stderr",
     "output_type": "stream",
     "text": [
      "100%|██████████| 37/37 [00:03<00:00,  9.90batch/s, TrainAccuracyPerBatch_valence=99.2, loss=0.424, totalLoss=0.427]\n",
      "100%|██████████| 10/10 [00:00<00:00, 32.57batch/s]\n"
     ]
    },
    {
     "name": "stdout",
     "output_type": "stream",
     "text": [
      "Epoch [54], Loss_t: 0.4266,Loss_v: 0.7558, train_acc_v:99.2162, val_acc_v:54.8913\n"
     ]
    },
    {
     "name": "stderr",
     "output_type": "stream",
     "text": [
      "100%|██████████| 37/37 [00:03<00:00,  9.90batch/s, TrainAccuracyPerBatch_valence=99.2, loss=0.437, totalLoss=0.427]\n",
      "100%|██████████| 10/10 [00:00<00:00, 32.71batch/s]\n"
     ]
    },
    {
     "name": "stdout",
     "output_type": "stream",
     "text": [
      "Epoch [55], Loss_t: 0.4266,Loss_v: 0.7274, train_acc_v:99.2162, val_acc_v:55.9783\n"
     ]
    },
    {
     "name": "stderr",
     "output_type": "stream",
     "text": [
      "100%|██████████| 37/37 [00:03<00:00,  9.80batch/s, TrainAccuracyPerBatch_valence=99.2, loss=0.424, totalLoss=0.427]\n",
      "100%|██████████| 10/10 [00:00<00:00, 32.73batch/s]\n"
     ]
    },
    {
     "name": "stdout",
     "output_type": "stream",
     "text": [
      "Epoch [56], Loss_t: 0.4265,Loss_v: 0.7399, train_acc_v:99.2162, val_acc_v:55.6522\n"
     ]
    },
    {
     "name": "stderr",
     "output_type": "stream",
     "text": [
      "100%|██████████| 37/37 [00:03<00:00,  9.88batch/s, TrainAccuracyPerBatch_valence=99.2, loss=0.424, totalLoss=0.427]\n",
      "100%|██████████| 10/10 [00:00<00:00, 32.57batch/s]\n"
     ]
    },
    {
     "name": "stdout",
     "output_type": "stream",
     "text": [
      "Epoch [57], Loss_t: 0.4265,Loss_v: 0.7426, train_acc_v:99.2162, val_acc_v:54.6739\n"
     ]
    },
    {
     "name": "stderr",
     "output_type": "stream",
     "text": [
      "100%|██████████| 37/37 [00:03<00:00,  9.90batch/s, TrainAccuracyPerBatch_valence=99.2, loss=0.424, totalLoss=0.427]\n",
      "100%|██████████| 10/10 [00:00<00:00, 32.50batch/s]\n"
     ]
    },
    {
     "name": "stdout",
     "output_type": "stream",
     "text": [
      "Epoch [58], Loss_t: 0.4265,Loss_v: 0.7251, train_acc_v:99.2162, val_acc_v:55.3261\n"
     ]
    },
    {
     "name": "stderr",
     "output_type": "stream",
     "text": [
      "100%|██████████| 37/37 [00:03<00:00,  9.95batch/s, TrainAccuracyPerBatch_valence=99.2, loss=0.424, totalLoss=0.426]\n",
      "100%|██████████| 10/10 [00:00<00:00, 32.61batch/s]\n"
     ]
    },
    {
     "name": "stdout",
     "output_type": "stream",
     "text": [
      "Epoch [59], Loss_t: 0.4265,Loss_v: 0.7372, train_acc_v:99.2162, val_acc_v:55.3261\n"
     ]
    },
    {
     "name": "stderr",
     "output_type": "stream",
     "text": [
      "100%|██████████| 37/37 [00:03<00:00, 10.05batch/s, TrainAccuracyPerBatch_valence=99.2, loss=0.437, totalLoss=0.427]\n",
      "100%|██████████| 10/10 [00:00<00:00, 32.91batch/s]\n"
     ]
    },
    {
     "name": "stdout",
     "output_type": "stream",
     "text": [
      "Epoch [60], Loss_t: 0.4265,Loss_v: 0.7498, train_acc_v:99.2162, val_acc_v:55.0000\n"
     ]
    },
    {
     "name": "stderr",
     "output_type": "stream",
     "text": [
      "100%|██████████| 37/37 [00:03<00:00, 10.02batch/s, TrainAccuracyPerBatch_valence=99.2, loss=0.424, totalLoss=0.426]\n",
      "100%|██████████| 10/10 [00:00<00:00, 33.05batch/s]\n"
     ]
    },
    {
     "name": "stdout",
     "output_type": "stream",
     "text": [
      "Epoch [61], Loss_t: 0.4265,Loss_v: 0.7520, train_acc_v:99.2162, val_acc_v:54.7826\n"
     ]
    },
    {
     "name": "stderr",
     "output_type": "stream",
     "text": [
      "100%|██████████| 37/37 [00:03<00:00, 10.01batch/s, TrainAccuracyPerBatch_valence=99.2, loss=0.424, totalLoss=0.426]\n",
      "100%|██████████| 10/10 [00:00<00:00, 32.78batch/s]\n"
     ]
    },
    {
     "name": "stdout",
     "output_type": "stream",
     "text": [
      "Epoch [62], Loss_t: 0.4264,Loss_v: 0.7422, train_acc_v:99.2162, val_acc_v:55.9783\n"
     ]
    },
    {
     "name": "stderr",
     "output_type": "stream",
     "text": [
      "100%|██████████| 37/37 [00:03<00:00,  9.96batch/s, TrainAccuracyPerBatch_valence=99.2, loss=0.424, totalLoss=0.426]\n",
      "100%|██████████| 10/10 [00:00<00:00, 32.39batch/s]\n"
     ]
    },
    {
     "name": "stdout",
     "output_type": "stream",
     "text": [
      "Epoch [63], Loss_t: 0.4264,Loss_v: 0.7388, train_acc_v:99.2162, val_acc_v:55.4348\n"
     ]
    },
    {
     "name": "stderr",
     "output_type": "stream",
     "text": [
      "100%|██████████| 37/37 [00:03<00:00,  9.97batch/s, TrainAccuracyPerBatch_valence=99.2, loss=0.424, totalLoss=0.426]\n",
      "100%|██████████| 10/10 [00:00<00:00, 32.55batch/s]\n"
     ]
    },
    {
     "name": "stdout",
     "output_type": "stream",
     "text": [
      "Epoch [64], Loss_t: 0.4264,Loss_v: 0.7388, train_acc_v:99.2162, val_acc_v:55.1087\n"
     ]
    },
    {
     "name": "stderr",
     "output_type": "stream",
     "text": [
      "100%|██████████| 37/37 [00:03<00:00,  9.95batch/s, TrainAccuracyPerBatch_valence=99.2, loss=0.424, totalLoss=0.426]\n",
      "100%|██████████| 10/10 [00:00<00:00, 33.42batch/s]\n"
     ]
    },
    {
     "name": "stdout",
     "output_type": "stream",
     "text": [
      "Epoch [65], Loss_t: 0.4264,Loss_v: 0.7416, train_acc_v:99.2162, val_acc_v:55.6522\n"
     ]
    },
    {
     "name": "stderr",
     "output_type": "stream",
     "text": [
      "100%|██████████| 37/37 [00:03<00:00,  9.97batch/s, TrainAccuracyPerBatch_valence=99.2, loss=0.424, totalLoss=0.426]\n",
      "100%|██████████| 10/10 [00:00<00:00, 33.04batch/s]\n"
     ]
    },
    {
     "name": "stdout",
     "output_type": "stream",
     "text": [
      "Epoch [66], Loss_t: 0.4264,Loss_v: 0.7431, train_acc_v:99.2162, val_acc_v:54.7826\n"
     ]
    },
    {
     "name": "stderr",
     "output_type": "stream",
     "text": [
      "100%|██████████| 37/37 [00:03<00:00, 10.05batch/s, TrainAccuracyPerBatch_valence=99.2, loss=0.424, totalLoss=0.426]\n",
      "100%|██████████| 10/10 [00:00<00:00, 33.40batch/s]\n"
     ]
    },
    {
     "name": "stdout",
     "output_type": "stream",
     "text": [
      "Epoch [67], Loss_t: 0.4263,Loss_v: 0.7368, train_acc_v:99.2162, val_acc_v:54.8913\n"
     ]
    },
    {
     "name": "stderr",
     "output_type": "stream",
     "text": [
      "100%|██████████| 37/37 [00:03<00:00,  9.97batch/s, TrainAccuracyPerBatch_valence=99.2, loss=0.424, totalLoss=0.426]\n",
      "100%|██████████| 10/10 [00:00<00:00, 33.15batch/s]\n"
     ]
    },
    {
     "name": "stdout",
     "output_type": "stream",
     "text": [
      "Epoch [68], Loss_t: 0.4263,Loss_v: 0.7473, train_acc_v:99.2162, val_acc_v:55.4348\n"
     ]
    },
    {
     "name": "stderr",
     "output_type": "stream",
     "text": [
      "100%|██████████| 37/37 [00:03<00:00,  9.97batch/s, TrainAccuracyPerBatch_valence=99.2, loss=0.424, totalLoss=0.426]\n",
      "100%|██████████| 10/10 [00:00<00:00, 32.72batch/s]\n"
     ]
    },
    {
     "name": "stdout",
     "output_type": "stream",
     "text": [
      "Epoch [69], Loss_t: 0.4263,Loss_v: 0.7389, train_acc_v:99.2162, val_acc_v:55.3261\n"
     ]
    },
    {
     "name": "stderr",
     "output_type": "stream",
     "text": [
      "100%|██████████| 37/37 [00:03<00:00, 10.02batch/s, TrainAccuracyPerBatch_valence=99.2, loss=0.424, totalLoss=0.426]\n",
      "100%|██████████| 10/10 [00:00<00:00, 32.91batch/s]\n"
     ]
    },
    {
     "name": "stdout",
     "output_type": "stream",
     "text": [
      "Epoch [70], Loss_t: 0.4263,Loss_v: 0.7373, train_acc_v:99.2162, val_acc_v:55.1087\n"
     ]
    },
    {
     "name": "stderr",
     "output_type": "stream",
     "text": [
      "100%|██████████| 37/37 [00:03<00:00, 10.00batch/s, TrainAccuracyPerBatch_valence=99.2, loss=0.424, totalLoss=0.426]\n",
      "100%|██████████| 10/10 [00:00<00:00, 33.14batch/s]\n"
     ]
    },
    {
     "name": "stdout",
     "output_type": "stream",
     "text": [
      "Epoch [71], Loss_t: 0.4263,Loss_v: 0.7601, train_acc_v:99.2162, val_acc_v:55.2174\n"
     ]
    },
    {
     "name": "stderr",
     "output_type": "stream",
     "text": [
      "100%|██████████| 37/37 [00:03<00:00, 10.02batch/s, TrainAccuracyPerBatch_valence=99.2, loss=0.424, totalLoss=0.426]\n",
      "100%|██████████| 10/10 [00:00<00:00, 34.50batch/s]\n"
     ]
    },
    {
     "name": "stdout",
     "output_type": "stream",
     "text": [
      "Epoch [72], Loss_t: 0.4263,Loss_v: 0.7524, train_acc_v:99.2162, val_acc_v:56.0870\n"
     ]
    },
    {
     "name": "stderr",
     "output_type": "stream",
     "text": [
      "100%|██████████| 37/37 [00:03<00:00,  9.88batch/s, TrainAccuracyPerBatch_valence=99.2, loss=0.424, totalLoss=0.426]\n",
      "100%|██████████| 10/10 [00:00<00:00, 32.68batch/s]\n"
     ]
    },
    {
     "name": "stdout",
     "output_type": "stream",
     "text": [
      "Epoch [73], Loss_t: 0.4263,Loss_v: 0.7502, train_acc_v:99.2162, val_acc_v:55.5435\n"
     ]
    },
    {
     "name": "stderr",
     "output_type": "stream",
     "text": [
      "100%|██████████| 37/37 [00:03<00:00, 10.04batch/s, TrainAccuracyPerBatch_valence=99.2, loss=0.424, totalLoss=0.426]\n",
      "100%|██████████| 10/10 [00:00<00:00, 32.85batch/s]\n"
     ]
    },
    {
     "name": "stdout",
     "output_type": "stream",
     "text": [
      "Epoch [74], Loss_t: 0.4263,Loss_v: 0.7577, train_acc_v:99.2162, val_acc_v:54.7826\n"
     ]
    },
    {
     "name": "stderr",
     "output_type": "stream",
     "text": [
      "100%|██████████| 37/37 [00:03<00:00, 10.01batch/s, TrainAccuracyPerBatch_valence=99.2, loss=0.424, totalLoss=0.426]\n",
      "100%|██████████| 10/10 [00:00<00:00, 32.90batch/s]\n"
     ]
    },
    {
     "name": "stdout",
     "output_type": "stream",
     "text": [
      "Epoch [75], Loss_t: 0.4262,Loss_v: 0.7384, train_acc_v:99.2162, val_acc_v:55.4348\n"
     ]
    },
    {
     "name": "stderr",
     "output_type": "stream",
     "text": [
      "100%|██████████| 37/37 [00:03<00:00,  9.94batch/s, TrainAccuracyPerBatch_valence=99.2, loss=0.424, totalLoss=0.426]\n",
      "100%|██████████| 10/10 [00:00<00:00, 32.72batch/s]\n"
     ]
    },
    {
     "name": "stdout",
     "output_type": "stream",
     "text": [
      "Epoch [76], Loss_t: 0.4262,Loss_v: 0.7368, train_acc_v:99.2162, val_acc_v:55.3261\n"
     ]
    },
    {
     "name": "stderr",
     "output_type": "stream",
     "text": [
      "100%|██████████| 37/37 [00:03<00:00,  9.93batch/s, TrainAccuracyPerBatch_valence=99.2, loss=0.424, totalLoss=0.426]\n",
      "100%|██████████| 10/10 [00:00<00:00, 32.50batch/s]\n"
     ]
    },
    {
     "name": "stdout",
     "output_type": "stream",
     "text": [
      "Epoch [77], Loss_t: 0.4262,Loss_v: 0.7287, train_acc_v:99.2162, val_acc_v:55.0000\n"
     ]
    },
    {
     "name": "stderr",
     "output_type": "stream",
     "text": [
      "100%|██████████| 37/37 [00:03<00:00,  9.95batch/s, TrainAccuracyPerBatch_valence=99.2, loss=0.424, totalLoss=0.426]\n",
      "100%|██████████| 10/10 [00:00<00:00, 32.50batch/s]\n"
     ]
    },
    {
     "name": "stdout",
     "output_type": "stream",
     "text": [
      "Epoch [78], Loss_t: 0.4263,Loss_v: 0.7455, train_acc_v:99.2162, val_acc_v:54.5652\n"
     ]
    },
    {
     "name": "stderr",
     "output_type": "stream",
     "text": [
      "100%|██████████| 37/37 [00:03<00:00, 10.05batch/s, TrainAccuracyPerBatch_valence=99.2, loss=0.424, totalLoss=0.426]\n",
      "100%|██████████| 10/10 [00:00<00:00, 33.04batch/s]\n"
     ]
    },
    {
     "name": "stdout",
     "output_type": "stream",
     "text": [
      "Epoch [79], Loss_t: 0.4262,Loss_v: 0.7426, train_acc_v:99.2162, val_acc_v:55.3261\n"
     ]
    },
    {
     "name": "stderr",
     "output_type": "stream",
     "text": [
      "100%|██████████| 37/37 [00:03<00:00, 10.01batch/s, TrainAccuracyPerBatch_valence=99.2, loss=0.424, totalLoss=0.426]\n",
      "100%|██████████| 10/10 [00:00<00:00, 32.66batch/s]\n"
     ]
    },
    {
     "name": "stdout",
     "output_type": "stream",
     "text": [
      "Epoch [80], Loss_t: 0.4262,Loss_v: 0.7404, train_acc_v:99.2162, val_acc_v:55.5435\n"
     ]
    },
    {
     "name": "stderr",
     "output_type": "stream",
     "text": [
      "100%|██████████| 37/37 [00:03<00:00, 10.02batch/s, TrainAccuracyPerBatch_valence=99.2, loss=0.424, totalLoss=0.426]\n",
      "100%|██████████| 10/10 [00:00<00:00, 33.19batch/s]\n"
     ]
    },
    {
     "name": "stdout",
     "output_type": "stream",
     "text": [
      "Epoch [81], Loss_t: 0.4262,Loss_v: 0.7489, train_acc_v:99.2162, val_acc_v:54.6739\n"
     ]
    },
    {
     "name": "stderr",
     "output_type": "stream",
     "text": [
      "100%|██████████| 37/37 [00:03<00:00, 10.01batch/s, TrainAccuracyPerBatch_valence=99.2, loss=0.424, totalLoss=0.426]\n",
      "100%|██████████| 10/10 [00:00<00:00, 32.96batch/s]\n"
     ]
    },
    {
     "name": "stdout",
     "output_type": "stream",
     "text": [
      "Epoch [82], Loss_t: 0.4262,Loss_v: 0.7500, train_acc_v:99.2162, val_acc_v:55.0000\n"
     ]
    },
    {
     "name": "stderr",
     "output_type": "stream",
     "text": [
      "100%|██████████| 37/37 [00:03<00:00,  9.90batch/s, TrainAccuracyPerBatch_valence=99.2, loss=0.424, totalLoss=0.426]\n",
      "100%|██████████| 10/10 [00:00<00:00, 32.65batch/s]\n"
     ]
    },
    {
     "name": "stdout",
     "output_type": "stream",
     "text": [
      "Epoch [83], Loss_t: 0.4261,Loss_v: 0.7584, train_acc_v:99.2162, val_acc_v:55.3261\n"
     ]
    },
    {
     "name": "stderr",
     "output_type": "stream",
     "text": [
      "100%|██████████| 37/37 [00:03<00:00,  9.90batch/s, TrainAccuracyPerBatch_valence=99.2, loss=0.424, totalLoss=0.426]\n",
      "100%|██████████| 10/10 [00:00<00:00, 33.07batch/s]\n"
     ]
    },
    {
     "name": "stdout",
     "output_type": "stream",
     "text": [
      "Epoch [84], Loss_t: 0.4261,Loss_v: 0.7375, train_acc_v:99.2162, val_acc_v:54.7826\n"
     ]
    },
    {
     "name": "stderr",
     "output_type": "stream",
     "text": [
      "100%|██████████| 37/37 [00:03<00:00,  9.82batch/s, TrainAccuracyPerBatch_valence=99.2, loss=0.424, totalLoss=0.426]\n",
      "100%|██████████| 10/10 [00:00<00:00, 32.32batch/s]\n"
     ]
    },
    {
     "name": "stdout",
     "output_type": "stream",
     "text": [
      "Epoch [85], Loss_t: 0.4261,Loss_v: 0.7519, train_acc_v:99.2162, val_acc_v:54.4565\n"
     ]
    },
    {
     "name": "stderr",
     "output_type": "stream",
     "text": [
      "100%|██████████| 37/37 [00:03<00:00,  9.84batch/s, TrainAccuracyPerBatch_valence=99.2, loss=0.436, totalLoss=0.426]\n",
      "100%|██████████| 10/10 [00:00<00:00, 32.56batch/s]\n"
     ]
    },
    {
     "name": "stdout",
     "output_type": "stream",
     "text": [
      "Epoch [86], Loss_t: 0.4262,Loss_v: 0.7179, train_acc_v:99.2162, val_acc_v:55.4348\n"
     ]
    },
    {
     "name": "stderr",
     "output_type": "stream",
     "text": [
      "100%|██████████| 37/37 [00:03<00:00,  9.86batch/s, TrainAccuracyPerBatch_valence=99.2, loss=0.424, totalLoss=0.426]\n",
      "100%|██████████| 10/10 [00:00<00:00, 32.11batch/s]\n"
     ]
    },
    {
     "name": "stdout",
     "output_type": "stream",
     "text": [
      "Epoch [87], Loss_t: 0.4261,Loss_v: 0.7399, train_acc_v:99.2162, val_acc_v:55.1087\n"
     ]
    },
    {
     "name": "stderr",
     "output_type": "stream",
     "text": [
      "100%|██████████| 37/37 [00:03<00:00,  9.76batch/s, TrainAccuracyPerBatch_valence=99.2, loss=0.424, totalLoss=0.426]\n",
      "100%|██████████| 10/10 [00:00<00:00, 32.21batch/s]\n"
     ]
    },
    {
     "name": "stdout",
     "output_type": "stream",
     "text": [
      "Epoch [88], Loss_t: 0.4261,Loss_v: 0.7375, train_acc_v:99.2162, val_acc_v:55.5435\n"
     ]
    },
    {
     "name": "stderr",
     "output_type": "stream",
     "text": [
      "100%|██████████| 37/37 [00:03<00:00,  9.79batch/s, TrainAccuracyPerBatch_valence=99.2, loss=0.424, totalLoss=0.426]\n",
      "100%|██████████| 10/10 [00:00<00:00, 32.45batch/s]\n"
     ]
    },
    {
     "name": "stdout",
     "output_type": "stream",
     "text": [
      "Epoch [89], Loss_t: 0.4261,Loss_v: 0.7388, train_acc_v:99.2162, val_acc_v:55.5435\n"
     ]
    },
    {
     "name": "stderr",
     "output_type": "stream",
     "text": [
      "100%|██████████| 37/37 [00:03<00:00,  9.88batch/s, TrainAccuracyPerBatch_valence=99.2, loss=0.424, totalLoss=0.426]\n",
      "100%|██████████| 10/10 [00:00<00:00, 32.14batch/s]\n"
     ]
    },
    {
     "name": "stdout",
     "output_type": "stream",
     "text": [
      "Epoch [90], Loss_t: 0.4261,Loss_v: 0.7509, train_acc_v:99.2162, val_acc_v:54.7826\n"
     ]
    },
    {
     "name": "stderr",
     "output_type": "stream",
     "text": [
      "100%|██████████| 37/37 [00:03<00:00,  9.88batch/s, TrainAccuracyPerBatch_valence=99.2, loss=0.424, totalLoss=0.426]\n",
      "100%|██████████| 10/10 [00:00<00:00, 32.76batch/s]\n"
     ]
    },
    {
     "name": "stdout",
     "output_type": "stream",
     "text": [
      "Epoch [91], Loss_t: 0.4261,Loss_v: 0.7454, train_acc_v:99.2162, val_acc_v:55.3261\n"
     ]
    },
    {
     "name": "stderr",
     "output_type": "stream",
     "text": [
      "100%|██████████| 37/37 [00:03<00:00,  9.82batch/s, TrainAccuracyPerBatch_valence=99.2, loss=0.424, totalLoss=0.426]\n",
      "100%|██████████| 10/10 [00:00<00:00, 31.95batch/s]\n"
     ]
    },
    {
     "name": "stdout",
     "output_type": "stream",
     "text": [
      "Epoch [92], Loss_t: 0.4260,Loss_v: 0.7427, train_acc_v:99.2162, val_acc_v:55.4348\n"
     ]
    },
    {
     "name": "stderr",
     "output_type": "stream",
     "text": [
      "100%|██████████| 37/37 [00:03<00:00,  9.81batch/s, TrainAccuracyPerBatch_valence=99.2, loss=0.436, totalLoss=0.426]\n",
      "100%|██████████| 10/10 [00:00<00:00, 32.45batch/s]\n"
     ]
    },
    {
     "name": "stdout",
     "output_type": "stream",
     "text": [
      "Epoch [93], Loss_t: 0.4261,Loss_v: 0.7408, train_acc_v:99.2162, val_acc_v:55.6522\n"
     ]
    },
    {
     "name": "stderr",
     "output_type": "stream",
     "text": [
      "100%|██████████| 37/37 [00:03<00:00,  9.97batch/s, TrainAccuracyPerBatch_valence=99.2, loss=0.424, totalLoss=0.426]\n",
      "100%|██████████| 10/10 [00:00<00:00, 32.88batch/s]\n"
     ]
    },
    {
     "name": "stdout",
     "output_type": "stream",
     "text": [
      "Epoch [94], Loss_t: 0.4260,Loss_v: 0.7585, train_acc_v:99.2162, val_acc_v:55.3261\n"
     ]
    },
    {
     "name": "stderr",
     "output_type": "stream",
     "text": [
      "100%|██████████| 37/37 [00:03<00:00,  9.89batch/s, TrainAccuracyPerBatch_valence=99.2, loss=0.424, totalLoss=0.426]\n",
      "100%|██████████| 10/10 [00:00<00:00, 33.14batch/s]\n"
     ]
    },
    {
     "name": "stdout",
     "output_type": "stream",
     "text": [
      "Epoch [95], Loss_t: 0.4260,Loss_v: 0.7314, train_acc_v:99.2162, val_acc_v:55.5435\n"
     ]
    },
    {
     "name": "stderr",
     "output_type": "stream",
     "text": [
      "100%|██████████| 37/37 [00:03<00:00,  9.95batch/s, TrainAccuracyPerBatch_valence=99.2, loss=0.436, totalLoss=0.426]\n",
      "100%|██████████| 10/10 [00:00<00:00, 32.99batch/s]\n"
     ]
    },
    {
     "name": "stdout",
     "output_type": "stream",
     "text": [
      "Epoch [96], Loss_t: 0.4261,Loss_v: 0.7512, train_acc_v:99.2162, val_acc_v:55.3261\n"
     ]
    },
    {
     "name": "stderr",
     "output_type": "stream",
     "text": [
      "100%|██████████| 37/37 [00:03<00:00, 10.02batch/s, TrainAccuracyPerBatch_valence=99.2, loss=0.436, totalLoss=0.426]\n",
      "100%|██████████| 10/10 [00:00<00:00, 33.12batch/s]\n"
     ]
    },
    {
     "name": "stdout",
     "output_type": "stream",
     "text": [
      "Epoch [97], Loss_t: 0.4261,Loss_v: 0.7547, train_acc_v:99.2162, val_acc_v:54.8913\n"
     ]
    },
    {
     "name": "stderr",
     "output_type": "stream",
     "text": [
      "100%|██████████| 37/37 [00:03<00:00,  9.91batch/s, TrainAccuracyPerBatch_valence=99.2, loss=0.436, totalLoss=0.426]\n",
      "100%|██████████| 10/10 [00:00<00:00, 32.28batch/s]\n"
     ]
    },
    {
     "name": "stdout",
     "output_type": "stream",
     "text": [
      "Epoch [98], Loss_t: 0.4260,Loss_v: 0.7459, train_acc_v:99.2162, val_acc_v:55.0000\n"
     ]
    },
    {
     "name": "stderr",
     "output_type": "stream",
     "text": [
      "100%|██████████| 37/37 [00:03<00:00,  9.96batch/s, TrainAccuracyPerBatch_valence=99.2, loss=0.436, totalLoss=0.426]\n",
      "100%|██████████| 10/10 [00:00<00:00, 32.81batch/s]\n"
     ]
    },
    {
     "name": "stdout",
     "output_type": "stream",
     "text": [
      "Epoch [99], Loss_t: 0.4260,Loss_v: 0.7583, train_acc_v:99.2162, val_acc_v:55.3261\n"
     ]
    },
    {
     "name": "stderr",
     "output_type": "stream",
     "text": [
      "100%|██████████| 10/10 [00:00<00:00, 38.07batch/s]\n"
     ]
    }
   ],
   "source": [
    "kf = skf(n_splits = 5)\n",
    "log_pred_dict = {}\n",
    "for k,(train_index,test_index) in enumerate(kf.split(dt, l_skf)):\n",
    "    print(f'Fold {k+1} running')\n",
    "    dataTr, dataV = np.concatenate(dt[train_index],0), np.concatenate(dt[test_index],0)\n",
    "    labelsTr, labelsV = np.concatenate(labels[train_index],0), np.concatenate(labels[test_index],0)\n",
    "    tL = []\n",
    "    vL = []\n",
    "    tAV = []\n",
    "    vAV = []\n",
    "    # testAC = []\n",
    "    device = torch.device('cuda') if torch.cuda.is_available() else torch.device('cpu')\n",
    "    model = ModelSubDep()\n",
    "    model = model.to(device)\n",
    "     # Define your weights as a tensor\n",
    "    criterion = nn.CrossEntropyLoss()\n",
    "    optimizer_ft = optim.SGD(model.parameters(), lr=0.001, momentum= 0.9)\n",
    "    trainDS = Dataset(dataTr, labelsTr)\n",
    "    trainDL = DataLoader(dataset = trainDS, batch_size = 100, shuffle = True)\n",
    " \n",
    "    valDS = Dataset(dataV, labelsV)\n",
    "    valDL = DataLoader(dataset = valDS, batch_size = 100, shuffle = True)\n",
    "    \n",
    "    testDS = Dataset(dataV, labelsV)\n",
    "    testDL = DataLoader(dataset = testDS, batch_size = 100)\n",
    "    # criterion2 = FocalLoss(gamma=0.1)\n",
    "    num_epochs = 100\n",
    "    batchsize = 100\n",
    "    l2_lambda = 0.001\n",
    "    best_va = 0\n",
    "    for epoch in range(num_epochs):\n",
    "        with tqdm(trainDL, unit='batch') as tepoch:\n",
    "            trainAccuracy_valence = 0\n",
    "            trainAccuracy_arousal = 0\n",
    "            totalLoss = 0\n",
    "            model.train()\n",
    "            for imagest,lab in tepoch:\n",
    "                imagest = imagest.to(device)\n",
    "                lab = lab.to(device)\n",
    "                optimizer_ft.zero_grad()\n",
    "                outputs = (model(imagest.float()))\n",
    "                _,predindex = torch.max(outputs, dim = 1)\n",
    "                _,labindex = torch.max(lab, dim = 1)\n",
    "                loss = criterion(outputs,lab.float())\n",
    "                if torch.isnan(loss):\n",
    "                    print('Dead!')\n",
    "                # loss2 = criterion2(outputs,labindex)\n",
    "                # loss = 0.5*loss2 + loss1\n",
    "                l2_reg = 0.0\n",
    "                for param in model.parameters():\n",
    "                    l2_reg += torch.norm(param, p=2)  # L2 norm of the parameter\n",
    "                loss += l2_lambda * l2_reg\n",
    "                loss.backward()\n",
    "                totalLoss+=loss.item()\n",
    "                optimizer_ft.step()\n",
    "                y_valence = (predindex==labindex).sum().item()\n",
    "                batchAccuracy_valence = y_valence/batchsize\n",
    "                trainAccuracy_valence += batchAccuracy_valence\n",
    "                totaltrainAccuracybatch_valence = trainAccuracy_valence/len(trainDL)\n",
    "                tepoch.set_postfix(loss=loss.item(),totalLoss =totalLoss/len(trainDL), TrainAccuracyPerBatch_valence= 100.*totaltrainAccuracybatch_valence)      \n",
    "            model.eval()\n",
    "            with torch.no_grad():\n",
    "                  with tqdm(valDL, unit='batch') as tepoch:\n",
    "                        total = 0\n",
    "                        correct_valence = 0\n",
    "                        correct_arousal = 0\n",
    "                        val_loss = 0\n",
    "                        for imagesv,lab in tepoch:\n",
    "                            imagesv = imagesv.to(device)\n",
    "                            labelsv = lab.to(device)\n",
    "                            outval = (model(imagesv.float()))\n",
    "                            _,predindexval = torch.max(outval,dim = 1)\n",
    "                            _,labvalindex = torch.max(labelsv,dim = 1)\n",
    "                            total += labelsv.size(0)\n",
    "                            correct_valence += (predindexval == labvalindex).sum().item()\n",
    "                            lossv = criterion(outval,labvalindex)\n",
    "                            val_loss+= lossv.item()\n",
    "        print('Epoch [{}], Loss_t: {:.4f},Loss_v: {:.4f}, train_acc_v:{:.4f}, val_acc_v:{:.4f}'.format(epoch, totalLoss/len(trainDL), val_loss/len(valDL), 100.*totaltrainAccuracybatch_valence,\n",
    "                                                                                                                      100.*correct_valence/total))\n",
    "        tL.append(totalLoss/len(trainDL))\n",
    "        vL.append(val_loss/len(valDL))\n",
    "        tAV.append(100.*totaltrainAccuracybatch_valence)\n",
    "        vAV.append( 100.*correct_valence/total)\n",
    "    trainLoss[str(k)] = tL\n",
    "    valLoss[str(k)] = vL\n",
    "    trainAcc[str(k)] = tAV\n",
    "    valAcc[str(k)] = vAV\n",
    "    model.eval()\n",
    "    pt = []\n",
    "    lt = []\n",
    "    with torch.no_grad():\n",
    "        with tqdm(testDL, unit='batch') as tepochtst:\n",
    "            for imagestst,labt in tepochtst:\n",
    "                imagestst = imagestst.to(device)\n",
    "                labelst = labt.to(device)\n",
    "                outt = (model(imagestst.float()))\n",
    "                _,predt = torch.max(outt,dim=1)\n",
    "                _,labti = torch.max(labelst,dim =1)\n",
    "                pt.append(predt)\n",
    "                lt.append(labti)\n",
    "    log_pred_dict[str(k)] = {'trails': test_index,\n",
    "                             'predicted': pt,\n",
    "                             'ground truth': lt}\n",
    "tL = np.array(list(trainLoss.values()))\n",
    "vL = np.array(list(valLoss.values()))\n",
    "tAV = np.array(list(trainAcc.values()))\n",
    "vAV = np.array(list(valAcc.values()))"
   ]
  },
  {
   "cell_type": "code",
   "execution_count": 25,
   "id": "f9842877",
   "metadata": {},
   "outputs": [
    {
     "name": "stdout",
     "output_type": "stream",
     "text": [
      "[71.41304348 55.2173913  53.36956522 93.15217391 65.86956522]\n"
     ]
    }
   ],
   "source": [
    "VA = np.max(vAV,1)\n",
    "print(VA)"
   ]
  },
  {
   "cell_type": "code",
   "execution_count": 26,
   "id": "c12f3600",
   "metadata": {},
   "outputs": [
    {
     "data": {
      "text/plain": [
       "67.80434782608697"
      ]
     },
     "execution_count": 26,
     "metadata": {},
     "output_type": "execute_result"
    }
   ],
   "source": [
    "np.mean(VA)"
   ]
  },
  {
   "cell_type": "code",
   "execution_count": 27,
   "id": "2fa71176",
   "metadata": {},
   "outputs": [
    {
     "data": {
      "image/png": "[encoded data removed]",
      "text/plain": [
       "<Figure size 1200x1200 with 5 Axes>"
      ]
     },
     "metadata": {},
     "output_type": "display_data"
    }
   ],
   "source": [
    "import matplotlib.pyplot as plt\n",
    "fig, axs = plt.subplots(5, 1, figsize=(12, 12))\n",
    "\n",
    "for i, ax in enumerate(axs.flatten()):\n",
    "    ax.plot(tL[i],'-r')\n",
    "    ax.plot(vL[i],'-g')\n",
    "    ax.legend(['train loss', 'validation loss'],loc =\"upper right\")\n",
    "    ax.set_title(f'Fold {i+1}', fontsize=16)\n",
    "    ax.set_xlabel('Epochs', fontsize=14)\n",
    "    ax.set_ylabel('Loss', fontsize=14)\n",
    "\n",
    "plt.tight_layout()\n",
    "plt.show()"
   ]
  },
  {
   "cell_type": "code",
   "execution_count": 28,
   "id": "1875291f",
   "metadata": {},
   "outputs": [
    {
     "data": {
      "image/png": "[encoded data removed]",
      "text/plain": [
       "<Figure size 1200x1200 with 5 Axes>"
      ]
     },
     "metadata": {},
     "output_type": "display_data"
    }
   ],
   "source": [
    "fig, axs = plt.subplots(5,1, figsize=(12, 12))\n",
    "\n",
    "for i, ax in enumerate(axs.flatten()):\n",
    "    ax.plot(tAV[i],'-r')\n",
    "    ax.plot(vAV[i],'-g')\n",
    "    ax.legend(['train acc.', 'validation acc.'],loc =\"lower right\")\n",
    "    ax.set_title(f'Fold {i+1}', fontsize=16)\n",
    "    ax.set_xlabel('Epochs', fontsize=14)\n",
    "    ax.set_ylabel('Accuracy', fontsize=14)\n",
    "\n",
    "plt.tight_layout()\n",
    "plt.show()"
   ]
  },
  {
   "cell_type": "code",
   "execution_count": 29,
   "id": "2dcb2b4d",
   "metadata": {},
   "outputs": [
    {
     "name": "stdout",
     "output_type": "stream",
     "text": [
      "(920,)\n",
      "(920,)\n",
      "(920,)\n",
      "(920,)\n",
      "(920,)\n",
      "(920,)\n",
      "(920,)\n",
      "(920,)\n",
      "(920,)\n",
      "(920,)\n"
     ]
    }
   ],
   "source": [
    "tr = []\n",
    "pred_gt_tuple = []\n",
    "for key,value in log_pred_dict.items():\n",
    "    tr.append(value['trails'])\n",
    "    pred = torch.cat((value['predicted']),0)\n",
    "    ground_truth = torch.cat((value['ground truth']),0)\n",
    "    p = pred.to('cpu').numpy()\n",
    "    g = ground_truth.to('cpu').numpy()\n",
    "    print(p.shape)\n",
    "    print(g.shape)\n",
    "    pred_gt_tuple.append([p,g])"
   ]
  },
  {
   "cell_type": "code",
   "execution_count": 30,
   "id": "be1b6911",
   "metadata": {},
   "outputs": [
    {
     "data": {
      "text/plain": [
       "torch.Size([920])"
      ]
     },
     "execution_count": 30,
     "metadata": {},
     "output_type": "execute_result"
    }
   ],
   "source": [
    "pred.shape"
   ]
  },
  {
   "cell_type": "code",
   "execution_count": 31,
   "id": "77180c6c",
   "metadata": {},
   "outputs": [],
   "source": [
    "log = {'trials': tr,\n",
    "       'pred_gt': pred_gt_tuple}"
   ]
  },
  {
   "cell_type": "code",
   "execution_count": 32,
   "id": "f34a0890",
   "metadata": {},
   "outputs": [],
   "source": [
    "scipy.io.savemat('./logs/COH_PLI_PSD_s15_a.mat',log)"
   ]
  }
 ],
 "metadata": {
  "kernelspec": {
   "display_name": "Python 3 (ipykernel)",
   "language": "python",
   "name": "python3"
  },
  "language_info": {
   "codemirror_mode": {
    "name": "ipython",
    "version": 3
   },
   "file_extension": ".py",
   "mimetype": "text/x-python",
   "name": "python",
   "nbconvert_exporter": "python",
   "pygments_lexer": "ipython3",
   "version": "3.11.7"
  }
 },
 "nbformat": 4,
 "nbformat_minor": 5
}
