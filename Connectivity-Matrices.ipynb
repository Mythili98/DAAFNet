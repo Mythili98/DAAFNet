{
 "cells": [
  {
   "cell_type": "code",
   "execution_count": 120,
   "id": "a8241298",
   "metadata": {},
   "outputs": [],
   "source": [
    "import numpy as np\n",
    "import scipy.io as sio\n",
    "from scipy.signal import hilbert, coherence, welch\n",
    "from scipy import signal\n",
    "import pandas as pd"
   ]
  },
  {
   "cell_type": "code",
   "execution_count": 121,
   "id": "1d52f530",
   "metadata": {},
   "outputs": [],
   "source": [
    "filepath = '/home/desktop/Desktop/22104412_Docs/EEG-COGMusic/EEG-Emotion/Datasets/deap/PREPROCESSED/data_preprocessed_matlab/s08.mat'\n",
    "mat = sio.loadmat(filepath)"
   ]
  },
  {
   "cell_type": "code",
   "execution_count": 122,
   "id": "e907b558",
   "metadata": {},
   "outputs": [],
   "source": [
    "data = mat['data']\n",
    "labels = mat['labels'][:,0:2]"
   ]
  },
  {
   "cell_type": "code",
   "execution_count": 123,
   "id": "f041c50e",
   "metadata": {},
   "outputs": [
    {
     "data": {
      "text/plain": [
       "((40, 40, 8064), (40, 2))"
      ]
     },
     "execution_count": 123,
     "metadata": {},
     "output_type": "execute_result"
    }
   ],
   "source": [
    "data.shape,labels.shape"
   ]
  },
  {
   "cell_type": "code",
   "execution_count": 124,
   "id": "a5535f48",
   "metadata": {},
   "outputs": [],
   "source": [
    "# data = data.transpose((2,0,1))\n",
    "# data.shape"
   ]
  },
  {
   "cell_type": "code",
   "execution_count": 125,
   "id": "96e182f4",
   "metadata": {},
   "outputs": [],
   "source": [
    "# df = pd.read_excel('./participant_ratings.xls')"
   ]
  },
  {
   "cell_type": "code",
   "execution_count": 126,
   "id": "03526b53",
   "metadata": {},
   "outputs": [],
   "source": [
    "# participant_id_value = 1\n",
    "# participant_df = df[df['Participant_id'] == participant_id_value]\n",
    "# participant_df"
   ]
  },
  {
   "cell_type": "code",
   "execution_count": 127,
   "id": "b2fe7180",
   "metadata": {},
   "outputs": [],
   "source": [
    "# valence = np.array(participant_df['Valence'])\n",
    "# arousal = np.array(participant_df['Arousal'])"
   ]
  },
  {
   "cell_type": "code",
   "execution_count": 128,
   "id": "d88ad874",
   "metadata": {},
   "outputs": [],
   "source": [
    "# labels = np.stack((valence,arousal),1)"
   ]
  },
  {
   "cell_type": "code",
   "execution_count": 129,
   "id": "1e900906",
   "metadata": {},
   "outputs": [],
   "source": [
    "# index_reordered = np.array([1,2,3,4,7,6,8,9,20,19,21,22,23,24,25,26,32,31,29,30,28,27,17,18,16,15,13,14,12,11,5,10])-1"
   ]
  },
  {
   "cell_type": "code",
   "execution_count": 130,
   "id": "9cd205ac",
   "metadata": {},
   "outputs": [],
   "source": [
    "data = data[:,0:32,:]"
   ]
  },
  {
   "cell_type": "code",
   "execution_count": 131,
   "id": "82340e0d",
   "metadata": {},
   "outputs": [
    {
     "data": {
      "text/plain": [
       "(40, 32, 8064)"
      ]
     },
     "execution_count": 131,
     "metadata": {},
     "output_type": "execute_result"
    }
   ],
   "source": [
    "data.shape"
   ]
  },
  {
   "cell_type": "code",
   "execution_count": 132,
   "id": "e36a1992",
   "metadata": {},
   "outputs": [],
   "source": [
    "sampling_rate = 128\n",
    "data_bl = data[:,:,0:3*sampling_rate]\n",
    "data = data[:,:,3*sampling_rate:]"
   ]
  },
  {
   "cell_type": "code",
   "execution_count": 133,
   "id": "411f4a01",
   "metadata": {},
   "outputs": [],
   "source": [
    "l_kfold = labels"
   ]
  },
  {
   "cell_type": "code",
   "execution_count": 134,
   "id": "36b0208a",
   "metadata": {},
   "outputs": [
    {
     "data": {
      "text/plain": [
       "array([[7.6 , 6.78],\n",
       "       [5.04, 6.51],\n",
       "       [8.15, 6.96],\n",
       "       [6.82, 8.23],\n",
       "       [4.41, 7.72],\n",
       "       [7.4 , 7.26],\n",
       "       [5.04, 5.04],\n",
       "       [8.82, 6.4 ],\n",
       "       [8.78, 7.24],\n",
       "       [4.97, 3.6 ],\n",
       "       [8.41, 5.  ],\n",
       "       [8.47, 6.54],\n",
       "       [7.9 , 5.09],\n",
       "       [6.88, 4.97],\n",
       "       [8.33, 5.04],\n",
       "       [4.21, 5.06],\n",
       "       [6.67, 4.77],\n",
       "       [7.21, 4.03],\n",
       "       [5.04, 6.28],\n",
       "       [6.74, 4.21],\n",
       "       [4.68, 6.41],\n",
       "       [4.23, 5.79],\n",
       "       [3.59, 3.68],\n",
       "       [4.15, 4.56],\n",
       "       [3.72, 3.9 ],\n",
       "       [4.99, 4.99],\n",
       "       [4.46, 4.59],\n",
       "       [5.04, 4.96],\n",
       "       [2.78, 2.99],\n",
       "       [1.4 , 3.13],\n",
       "       [1.45, 6.6 ],\n",
       "       [6.33, 8.23],\n",
       "       [4.44, 6.44],\n",
       "       [5.05, 6.83],\n",
       "       [3.62, 6.67],\n",
       "       [1.21, 7.94],\n",
       "       [5.06, 3.31],\n",
       "       [4.72, 4.69],\n",
       "       [5.05, 3.46],\n",
       "       [3.13, 5.03]])"
      ]
     },
     "execution_count": 134,
     "metadata": {},
     "output_type": "execute_result"
    }
   ],
   "source": [
    "l_kfold"
   ]
  },
  {
   "cell_type": "code",
   "execution_count": 135,
   "id": "e0a83b4e",
   "metadata": {},
   "outputs": [],
   "source": [
    "for i in range(data.shape[0]):\n",
    "    d = data[i,:,:]\n",
    "    md = data_bl[i,:,:]\n",
    "    m = np.mean(md,1)\n",
    "    m = m[:,np.newaxis]\n",
    "    data[i,:,:] = d-m"
   ]
  },
  {
   "cell_type": "code",
   "execution_count": 136,
   "id": "e096a55c",
   "metadata": {},
   "outputs": [
    {
     "data": {
      "text/plain": [
       "(40, 32, 7680)"
      ]
     },
     "execution_count": 136,
     "metadata": {},
     "output_type": "execute_result"
    }
   ],
   "source": [
    "data.shape"
   ]
  },
  {
   "cell_type": "code",
   "execution_count": 137,
   "id": "6d6f68ef",
   "metadata": {},
   "outputs": [
    {
     "data": {
      "text/plain": [
       "(40, 32, 7680)"
      ]
     },
     "execution_count": 137,
     "metadata": {},
     "output_type": "execute_result"
    }
   ],
   "source": [
    "## Z score normalization\n",
    "data = (data - np.mean(data,2)[:,:,np.newaxis])/np.std(data,2)[:,:,np.newaxis]\n",
    "data.shape"
   ]
  },
  {
   "cell_type": "code",
   "execution_count": 138,
   "id": "dd5cff29",
   "metadata": {},
   "outputs": [
    {
     "name": "stdout",
     "output_type": "stream",
     "text": [
      "Dict Key 0 processed\n",
      "Dict Key 1 processed\n",
      "Dict Key 2 processed\n",
      "Dict Key 3 processed\n",
      "Dict Key 4 processed\n",
      "Dict Key 5 processed\n",
      "Dict Key 6 processed\n",
      "Dict Key 7 processed\n",
      "Dict Key 8 processed\n",
      "Dict Key 9 processed\n",
      "Dict Key 10 processed\n",
      "Dict Key 11 processed\n",
      "Dict Key 12 processed\n",
      "Dict Key 13 processed\n",
      "Dict Key 14 processed\n",
      "Dict Key 15 processed\n",
      "Dict Key 16 processed\n",
      "Dict Key 17 processed\n",
      "Dict Key 18 processed\n",
      "Dict Key 19 processed\n",
      "Dict Key 20 processed\n",
      "Dict Key 21 processed\n",
      "Dict Key 22 processed\n",
      "Dict Key 23 processed\n",
      "Dict Key 24 processed\n",
      "Dict Key 25 processed\n",
      "Dict Key 26 processed\n",
      "Dict Key 27 processed\n",
      "Dict Key 28 processed\n",
      "Dict Key 29 processed\n",
      "Dict Key 30 processed\n",
      "Dict Key 31 processed\n",
      "Dict Key 32 processed\n",
      "Dict Key 33 processed\n",
      "Dict Key 34 processed\n",
      "Dict Key 35 processed\n",
      "Dict Key 36 processed\n",
      "Dict Key 37 processed\n",
      "Dict Key 38 processed\n",
      "Dict Key 39 processed\n"
     ]
    }
   ],
   "source": [
    "data_dict = {}\n",
    "labels_dict = {}\n",
    "for i in range(40):\n",
    "    data_dict[str(i)] = data[i*1:(i+1)*1,:,:]\n",
    "    labels_dict[str(i)] = labels[i*1:(i+1)*1,:]\n",
    "\n",
    "for key,dt in data_dict.items():\n",
    "    print(f'Dict Key {key} processed')\n",
    "    lb = labels_dict[key]\n",
    "    window_length = 3\n",
    "    window_stride = 0.5\n",
    "    segments = int((dt.shape[2]-window_length*sampling_rate)/(window_stride*sampling_rate) + 1)\n",
    "    segmented_data_per_channel = np.zeros((dt.shape[0],dt.shape[1],segments, window_length*sampling_rate))\n",
    "    for i in range(dt.shape[0]):\n",
    "        for j in range(dt.shape[1]):\n",
    "            for k in range(segments):\n",
    "                start = k*window_stride\n",
    "                stop = window_length+start\n",
    "                segmented_data_per_channel[i,j,k,:] = dt[i,j,int(start*sampling_rate):int(stop*sampling_rate)]\n",
    "    segmented_data_per_channel = np.transpose(segmented_data_per_channel,(0,2,1,3))\n",
    "    labels_segment = []\n",
    "    dom_segment = []\n",
    "    for i in range(segmented_data_per_channel.shape[0]):\n",
    "        for j in range(segmented_data_per_channel.shape[1]):\n",
    "            labels_segment.append(lb[i,:])\n",
    "    labels_segment = np.array(labels_segment)\n",
    "    labels_target = np.array(labels_segment>5, dtype=np.int8)\n",
    "    labels_dict[key] = labels_target\n",
    "    data_dict[key] = segmented_data_per_channel[0]\n",
    "\n",
    "data_dict = np.array(list(data_dict.values()))\n",
    "labels_dict = np.array(list(labels_dict.values()))"
   ]
  },
  {
   "cell_type": "code",
   "execution_count": 139,
   "id": "89c3ec2d",
   "metadata": {},
   "outputs": [
    {
     "data": {
      "text/plain": [
       "(40, 115, 32, 384)"
      ]
     },
     "execution_count": 139,
     "metadata": {},
     "output_type": "execute_result"
    }
   ],
   "source": [
    "data_dict.shape"
   ]
  },
  {
   "cell_type": "code",
   "execution_count": 140,
   "id": "289e8e39",
   "metadata": {},
   "outputs": [
    {
     "data": {
      "text/plain": [
       "(40, 115, 2)"
      ]
     },
     "execution_count": 140,
     "metadata": {},
     "output_type": "execute_result"
    }
   ],
   "source": [
    "labels_dict.shape"
   ]
  },
  {
   "cell_type": "code",
   "execution_count": 141,
   "id": "b3978ccf",
   "metadata": {},
   "outputs": [
    {
     "data": {
      "text/plain": [
       "(array([ 0,  0,  0, ..., 39, 39, 39]),\n",
       " array([  0,   1,   2, ..., 113, 114, 114]),\n",
       " array([1, 1, 1, ..., 1, 0, 1]))"
      ]
     },
     "execution_count": 141,
     "metadata": {},
     "output_type": "execute_result"
    }
   ],
   "source": [
    "np.where(labels_dict == [0,1])"
   ]
  },
  {
   "cell_type": "code",
   "execution_count": 142,
   "id": "7aa3d3f8",
   "metadata": {},
   "outputs": [],
   "source": [
    "dt = data_dict\n",
    "labels = labels_dict\n",
    "\n",
    "v = []\n",
    "a = []\n",
    "mc = []\n",
    "\n",
    "for fold in labels:\n",
    "    valence = []\n",
    "    arousal = []\n",
    "    multiclass = []\n",
    "    for sample in fold:\n",
    "        if (sample == [0,0]).all():\n",
    "            valence.append([1,0])\n",
    "            arousal.append([1,0])\n",
    "            multiclass.append([1,0,0,0])\n",
    "        if (sample == [0,1]).all():\n",
    "            valence.append([1,0])\n",
    "            arousal.append([0,1])\n",
    "            multiclass.append([0,1,0,0])\n",
    "        if (sample == [1,0]).all():\n",
    "            valence.append([0,1])\n",
    "            arousal.append([1,0])\n",
    "            multiclass.append([0,0,1,0])\n",
    "        if (sample == [1,1]).all():\n",
    "            valence.append([0,1])\n",
    "            arousal.append([0,1])\n",
    "            multiclass.append([0,0,0,1])\n",
    "    v.append(valence)\n",
    "    a.append(arousal)\n",
    "    mc.append(multiclass)"
   ]
  },
  {
   "cell_type": "code",
   "execution_count": 143,
   "id": "2067b248",
   "metadata": {},
   "outputs": [],
   "source": [
    "v = np.array(v)\n",
    "a = np.array(a)\n",
    "mc = np.array(mc)"
   ]
  },
  {
   "cell_type": "code",
   "execution_count": 144,
   "id": "bd56b32c",
   "metadata": {},
   "outputs": [],
   "source": [
    "freq_bands = [(4,8),(8,12),(12,24),(24,35),(35,45)]"
   ]
  },
  {
   "cell_type": "code",
   "execution_count": 145,
   "id": "e32ad81a",
   "metadata": {},
   "outputs": [],
   "source": [
    "##############################################################\n",
    "#Filter the signal\n",
    "def filtersignal(s,f):\n",
    "\n",
    "    # Define bandpass filter parameters\n",
    "    fs = 128  # Sampling frequency\n",
    "    lowcut = f[0]  # Lower cutoff frequency (Hz)\n",
    "    highcut = f[1]  # Upper cutoff frequency (Hz)\n",
    "    order = 4  # Filter order\n",
    "\n",
    "    # Design a bandpass Butterworth filter\n",
    "    b, a = signal.butter(order, [lowcut/(fs/2), highcut/(fs/2)], btype='band')\n",
    "\n",
    "    return signal.filtfilt(b, a, s)\n",
    "\n",
    "##############################################################\n",
    "#Phase Lag Index\n",
    "def phase_lag_index(signal1, signal2):\n",
    "    pli =  []\n",
    "    for f in freq_bands:\n",
    "        signal1 = filtersignal(signal1,f)\n",
    "        signal2 = filtersignal(signal2,f)\n",
    "        # Calculate the analytic signals\n",
    "        analytic_signal1 = hilbert(signal1)\n",
    "        analytic_signal2 = hilbert(signal2)\n",
    "        \n",
    "        # Compute the phases\n",
    "        phase1 = np.angle(analytic_signal1)\n",
    "        phase2 = np.angle(analytic_signal2)\n",
    "        \n",
    "        # Calculate the phase differences\n",
    "        phase_diff = phase1 - phase2\n",
    "        \n",
    "        # Compute the Phase Lag Index (PLI)\n",
    "        pli.append(np.abs(np.mean(np.sign(phase_diff))))\n",
    "    \n",
    "    return pli\n",
    "\n",
    "##################################################################\n",
    "#Phase Locking Value\n",
    "def phase_locking_value(signal1, signal2):\n",
    "    plv =  []\n",
    "    for f in freq_bands:\n",
    "        signal1 = filtersignal(signal1,f)\n",
    "        signal2 = filtersignal(signal2,f)\n",
    "    # Calculate the analytic signals\n",
    "        analytic_signal1 = hilbert(signal1)\n",
    "        analytic_signal2 = hilbert(signal2)\n",
    "        \n",
    "        # Compute the phases\n",
    "        phase1 = np.angle(analytic_signal1)\n",
    "        phase2 = np.angle(analytic_signal2)\n",
    "        \n",
    "        # Calculate the phase differences\n",
    "        phase_diff = np.exp(1j * (phase1 - phase2))\n",
    "        \n",
    "        # Compute the Phase Locking Value (PLV)\n",
    "        plv.append(np.abs(np.mean(phase_diff)))\n",
    "    \n",
    "    return plv\n",
    "\n",
    "###################################################################\n",
    "#Coherence\n",
    "def coherence_signals(x, y):\n",
    "    freqs, Cxy = coherence(x, y, fs=128, noverlap= 64,window='hann',nperseg=128)\n",
    "    Cxy_t = np.mean(Cxy[np.logical_and(freqs >= 4, freqs < 8)])\n",
    "    Cxy_a = np.mean(Cxy[np.logical_and(freqs >= 8, freqs < 12)])\n",
    "    Cxy_bl = np.mean(Cxy[np.logical_and(freqs >= 12, freqs < 24)])\n",
    "    Cxy_bh = np.mean(Cxy[np.logical_and(freqs >= 24, freqs < 35)])\n",
    "    Cxy_g = np.mean(Cxy[np.logical_and(freqs >= 35, freqs < 45)])\n",
    "    Cxy_f = [Cxy_t, Cxy_a, Cxy_bl, Cxy_bh, Cxy_g]\n",
    "    return Cxy_f\n",
    "\n",
    "#######################################################################\n",
    "#PSD\n",
    "def power_spectral_density(x):\n",
    "    freqs,Pxx = welch(x, fs=128, noverlap= 64, window='hann',nperseg=128)\n",
    "    Pxx_t = np.mean(Pxx[np.logical_and(freqs >= 4, freqs < 8)])/np.mean(Pxx[np.logical_and(freqs >= 4, freqs < 45)])\n",
    "    Pxx_a = np.mean(Pxx[np.logical_and(freqs >= 8, freqs < 12)])/np.mean(Pxx[np.logical_and(freqs >= 4, freqs < 45)])\n",
    "    Pxx_bl = np.mean(Pxx[np.logical_and(freqs >= 12, freqs < 24)])/np.mean(Pxx[np.logical_and(freqs >= 4, freqs < 45)])\n",
    "    Pxx_bh = np.mean(Pxx[np.logical_and(freqs >= 24, freqs < 35)])/np.mean(Pxx[np.logical_and(freqs >= 4, freqs < 45)])\n",
    "    Pxx_g = np.mean(Pxx[np.logical_and(freqs >= 35, freqs < 45)])/np.mean(Pxx[np.logical_and(freqs >= 4, freqs < 45)])\n",
    "    Pxx_f = [Pxx_t, Pxx_a, Pxx_bl, Pxx_bh, Pxx_g]\n",
    "    return Pxx_f"
   ]
  },
  {
   "cell_type": "code",
   "execution_count": 146,
   "id": "cc24c633",
   "metadata": {},
   "outputs": [
    {
     "data": {
      "text/plain": [
       "(40, 115, 32, 384)"
      ]
     },
     "execution_count": 146,
     "metadata": {},
     "output_type": "execute_result"
    }
   ],
   "source": [
    "dt.shape"
   ]
  },
  {
   "cell_type": "code",
   "execution_count": 147,
   "id": "2ee1980f",
   "metadata": {},
   "outputs": [
    {
     "name": "stdout",
     "output_type": "stream",
     "text": [
      "Processed 0 trial\n",
      "Processed 1 trial\n",
      "Processed 2 trial\n",
      "Processed 3 trial\n",
      "Processed 4 trial\n",
      "Processed 5 trial\n",
      "Processed 6 trial\n",
      "Processed 7 trial\n",
      "Processed 8 trial\n",
      "Processed 9 trial\n",
      "Processed 10 trial\n",
      "Processed 11 trial\n",
      "Processed 12 trial\n",
      "Processed 13 trial\n",
      "Processed 14 trial\n",
      "Processed 15 trial\n",
      "Processed 16 trial\n",
      "Processed 17 trial\n",
      "Processed 18 trial\n",
      "Processed 19 trial\n",
      "Processed 20 trial\n",
      "Processed 21 trial\n",
      "Processed 22 trial\n",
      "Processed 23 trial\n",
      "Processed 24 trial\n",
      "Processed 25 trial\n",
      "Processed 26 trial\n",
      "Processed 27 trial\n",
      "Processed 28 trial\n",
      "Processed 29 trial\n",
      "Processed 30 trial\n",
      "Processed 31 trial\n",
      "Processed 32 trial\n",
      "Processed 33 trial\n",
      "Processed 34 trial\n",
      "Processed 35 trial\n",
      "Processed 36 trial\n",
      "Processed 37 trial\n",
      "Processed 38 trial\n",
      "Processed 39 trial\n"
     ]
    }
   ],
   "source": [
    "feature_pli = np.zeros((40,115,32,32,5))\n",
    "feature_coh = np.zeros((40,115,32,32,5))\n",
    "feature_psd = np.zeros((40,115,32,5))\n",
    "for fold in range(dt.shape[0]):\n",
    "    sample = dt[fold]\n",
    "    for k in range(sample.shape[0]):\n",
    "        data = sample[k]\n",
    "        for i in range(data.shape[0]):\n",
    "            j = 0\n",
    "            while j<i:\n",
    "                feature_pli[fold,k,i,j,:] = coherence_signals(data[i],data[j])\n",
    "                feature_coh[fold,k,i,j,:] = phase_lag_index(data[i],data[j])\n",
    "                j+=1\n",
    "            feature_psd[fold,k,i,:] = power_spectral_density(data[i])\n",
    "    print(f'Processed {fold} trial')"
   ]
  },
  {
   "cell_type": "code",
   "execution_count": 148,
   "id": "6fa6499c",
   "metadata": {},
   "outputs": [],
   "source": [
    "# feature = np.zeros((40,115,32,32,3))\n",
    "# for fold in range(coh.shape[0]):\n",
    "#     c = coh[fold]\n",
    "#     for k in range(c.shape[0]):\n",
    "#         feature[fold,k,:,:,0] = coh[fold,k,:,:,0]+np.transpose(coh[fold,k,:,:,1])\n",
    "#         feature[fold,k,:,:,1] = coh[fold,k,:,:,2]+np.transpose(coh[fold,k,:,:,3])\n",
    "#         feature[fold,k,:,:,2] = coh[fold,k,:,:,4]+np.transpose(coh[fold,k,:,:,5])\n",
    "#     print(f'Sample {fold} processed.')"
   ]
  },
  {
   "cell_type": "code",
   "execution_count": 157,
   "id": "80f372f6",
   "metadata": {},
   "outputs": [],
   "source": [
    "# feature.shape"
   ]
  },
  {
   "cell_type": "code",
   "execution_count": 158,
   "id": "fa8ea0ac",
   "metadata": {},
   "outputs": [
    {
     "data": {
      "text/plain": [
       "(32, 384)"
      ]
     },
     "execution_count": 158,
     "metadata": {},
     "output_type": "execute_result"
    }
   ],
   "source": [
    "dt[0][0].shape"
   ]
  },
  {
   "cell_type": "code",
   "execution_count": 159,
   "id": "df09c8b7",
   "metadata": {},
   "outputs": [],
   "source": [
    "# for fold in range(dt.shape[0]):\n",
    "#     data = dt[fold]\n",
    "#     for i in range(data.shape[0]):\n",
    "#         signal_1 = data[i]\n",
    "#         for j in range(signal_1.shape[0]):\n",
    "#             sig = signal_1[j]\n",
    "#             (f,Px) = signal.welch(sig,128)\n",
    "#             Px = (Px - np.mean(Px))/np.std(Px)\n",
    "#             feature[fold,i,j,j,0] = np.mean(Px[np.logical_and(f >= 1, f < 4)])/np.mean(Px[np.logical_and(f >= 4, f < 8)])\n",
    "#             feature[fold,i,j,j,1] =  np.mean(Px[np.logical_and(f >= 8, f < 12)])/np.mean(Px[np.logical_and(f >= 12, f < 24)])\n",
    "#             feature[fold,i,j,j,2] = np.mean(Px[np.logical_and(f >= 24, f < 35)])/np.mean(Px[np.logical_and(f >= 35, f < 45)])\n",
    "#     print(f'Processed {fold} sample')"
   ]
  },
  {
   "cell_type": "code",
   "execution_count": 160,
   "id": "32ade02d",
   "metadata": {},
   "outputs": [
    {
     "data": {
      "text/plain": [
       "(40, 2)"
      ]
     },
     "execution_count": 160,
     "metadata": {},
     "output_type": "execute_result"
    }
   ],
   "source": [
    "l_kfold.shape"
   ]
  },
  {
   "cell_type": "code",
   "execution_count": 161,
   "id": "c8ea4844",
   "metadata": {},
   "outputs": [
    {
     "data": {
      "text/plain": [
       "array([[7.6 , 6.78],\n",
       "       [5.04, 6.51],\n",
       "       [8.15, 6.96],\n",
       "       [6.82, 8.23],\n",
       "       [4.41, 7.72],\n",
       "       [7.4 , 7.26],\n",
       "       [5.04, 5.04],\n",
       "       [8.82, 6.4 ],\n",
       "       [8.78, 7.24],\n",
       "       [4.97, 3.6 ],\n",
       "       [8.41, 5.  ],\n",
       "       [8.47, 6.54],\n",
       "       [7.9 , 5.09],\n",
       "       [6.88, 4.97],\n",
       "       [8.33, 5.04],\n",
       "       [4.21, 5.06],\n",
       "       [6.67, 4.77],\n",
       "       [7.21, 4.03],\n",
       "       [5.04, 6.28],\n",
       "       [6.74, 4.21],\n",
       "       [4.68, 6.41],\n",
       "       [4.23, 5.79],\n",
       "       [3.59, 3.68],\n",
       "       [4.15, 4.56],\n",
       "       [3.72, 3.9 ],\n",
       "       [4.99, 4.99],\n",
       "       [4.46, 4.59],\n",
       "       [5.04, 4.96],\n",
       "       [2.78, 2.99],\n",
       "       [1.4 , 3.13],\n",
       "       [1.45, 6.6 ],\n",
       "       [6.33, 8.23],\n",
       "       [4.44, 6.44],\n",
       "       [5.05, 6.83],\n",
       "       [3.62, 6.67],\n",
       "       [1.21, 7.94],\n",
       "       [5.06, 3.31],\n",
       "       [4.72, 4.69],\n",
       "       [5.05, 3.46],\n",
       "       [3.13, 5.03]])"
      ]
     },
     "execution_count": 161,
     "metadata": {},
     "output_type": "execute_result"
    }
   ],
   "source": [
    "l_kfold"
   ]
  },
  {
   "cell_type": "code",
   "execution_count": 162,
   "id": "9e4d1ff0",
   "metadata": {},
   "outputs": [],
   "source": [
    "feature_coh_clipped = feature_coh[:,40:,:,:,:]\n",
    "feature_pli_clipped = feature_pli[:,40:,:,:,:]\n",
    "feature_psd_clipped = feature_psd[:,40:,:,:]\n",
    "dt_clipped = dt[:,40:,:,:]\n",
    "v_clipped = v[:,40:,:]\n",
    "a_clipped = a[:,40:,:]\n",
    "mc_clipped = mc[:,40:,:]"
   ]
  },
  {
   "cell_type": "code",
   "execution_count": 163,
   "id": "9885c9ad",
   "metadata": {},
   "outputs": [
    {
     "data": {
      "text/plain": [
       "((40, 75, 32, 32, 5),\n",
       " (40, 75, 32, 32, 5),\n",
       " (40, 75, 32, 5),\n",
       " (40, 75, 32, 384),\n",
       " (40, 75, 2),\n",
       " (40, 75, 2),\n",
       " (40, 75, 4))"
      ]
     },
     "execution_count": 163,
     "metadata": {},
     "output_type": "execute_result"
    }
   ],
   "source": [
    "\n",
    "feature_coh_clipped.shape, feature_pli_clipped.shape, feature_psd_clipped.shape, dt_clipped.shape,v_clipped.shape, a_clipped.shape,mc_clipped.shape"
   ]
  },
  {
   "cell_type": "code",
   "execution_count": 164,
   "id": "1e3102a6",
   "metadata": {},
   "outputs": [],
   "source": [
    "sio.savemat('./datasets/s08_datasets_Zscore_clipped.mat',{'coh' : feature_coh_clipped,\n",
    "                                           'pli' : feature_pli_clipped,\n",
    "                                           'psd' : feature_psd_clipped,\n",
    "                                           'labels_kfold': l_kfold,\n",
    "                                           'valence': v_clipped,\n",
    "                                           'arousal' : a_clipped,\n",
    "                                           'multiclass' : mc_clipped,\n",
    "                                           'EEGNet': dt_clipped})"
   ]
  }
 ],
 "metadata": {
  "kernelspec": {
   "display_name": "Python 3 (ipykernel)",
   "language": "python",
   "name": "python3"
  },
  "language_info": {
   "codemirror_mode": {
    "name": "ipython",
    "version": 3
   },
   "file_extension": ".py",
   "mimetype": "text/x-python",
   "name": "python",
   "nbconvert_exporter": "python",
   "pygments_lexer": "ipython3",
   "version": "3.11.7"
  }
 },
 "nbformat": 4,
 "nbformat_minor": 5
}
